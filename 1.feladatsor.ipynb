{
 "cells": [
  {
   "cell_type": "markdown",
   "id": "40071d4c-8345-4195-a2c7-f99bb6bc8a6a",
   "metadata": {},
   "source": [
    "## 1. Feladatsor (interpoláció: Lagrange, Newton, Horner)"
   ]
  },
  {
   "cell_type": "markdown",
   "id": "d460f9cd-0a1b-4a8a-999b-4ed8798f19e1",
   "metadata": {},
   "source": [
    "Miért szeretjük a polinomokat? A kurzus keretében többek között azért, mert jól lehet velük függvényeket közelíteni és könnyű őket integrálni, deriválni."
   ]
  },
  {
   "cell_type": "markdown",
   "id": "458da162-e933-47cc-8755-02a28b767904",
   "metadata": {},
   "source": [
    "#### 1. Feladat\n",
    "\n",
    "Tegyük fel, hogy egy függvény grafikonjának, mint halmaznak része a $\\{(-1, 1), (0,0), (1, 1) \\}$ halmaz, azaz a megfelelő pontokban a megfelelő értékeket veszi fel.\n",
    "\n",
    "Ezen adatok ismeretében adjunk nullad-, első-, másod-, és harmadfokú polinom alakú közelítését ennek a függvénynek! Keressük a megfelelő polinomokat $x \\mapsto \\sum\\limits_{k=0}^{\\ldots} c_k x^k$ alakban. Adott fokszám mellett próbáljuk meghatározni a \"legjobb\" közelítést, ha van ilyen."
   ]
  },
  {
   "cell_type": "code",
   "execution_count": null,
   "id": "a4c6da14-f302-4aee-8bfa-ac32a4e703ea",
   "metadata": {},
   "outputs": [],
   "source": []
  },
  {
   "cell_type": "markdown",
   "id": "68517ec3-51ee-4f54-936c-7e0b0afcbb06",
   "metadata": {},
   "source": [
    "#### 2. Feladat\n",
    "Írjunk programot, ami adott $x$ és $y$ -pontokat és az ott felveendő értékeket tartalmazó- vektorok és $n$ fokszám esetén meghatározza egy, ezekre -lehetőleg a legjobban- illeszkedő polinom együtthatóit."
   ]
  },
  {
   "cell_type": "code",
   "execution_count": 2,
   "id": "a3f9bf91-a3a4-4830-96ed-b0fc4e4dcc4e",
   "metadata": {},
   "outputs": [
    {
     "data": {
      "text/plain": [
       "poly_fit (generic function with 1 method)"
      ]
     },
     "execution_count": 2,
     "metadata": {},
     "output_type": "execute_result"
    }
   ],
   "source": [
    "function poly_fit(n, xs, ys)\n",
    "    # xs: alappontok, m hosszú vektor\n",
    "    # ys: alappontokba óhajtott értékek, m hosszú vektor\n",
    "    # n: fokszám, nemnegatív egész\n",
    "\n",
    "    # TODO: implement\n",
    "end"
   ]
  },
  {
   "cell_type": "markdown",
   "id": "9df6a12e-7fed-4c88-a422-c255d1abbe27",
   "metadata": {},
   "source": [
    "### Interpolációs-polinom\n",
    "Láttuk, hogy bizonyos esetekben találhatunk pontosan egy olyan polinomot, ami az adott (alap)pontokban pontosan az elvárt értékeket veszi fel. Ekkor ezt az (egyértelmű) polinomot interpolációs-polinomnak nevezzük, mely elnevezés magában hordozza azt is, hogy a kapott polinomot az alappontok konvex burkán tekintjük."
   ]
  },
  {
   "cell_type": "markdown",
   "id": "cdd41276-a653-4d01-9905-beb8b8491618",
   "metadata": {},
   "source": [
    "#### Az alappontokról"
   ]
  },
  {
   "cell_type": "markdown",
   "id": "c2b5c772-f6f8-4d25-916c-a21ab70501b1",
   "metadata": {},
   "source": [
    "A **Weierstrass-tétel** szerint minden $[-1, 1] \\to \\mathbb{R}$ folytonos függvény egyenletesen, tetszőleges pontossággal megközelíthető polinomokkal.\n",
    "\n",
    "Gondolhatnánk, hogy ennek bizonyítása lehetne az, hogy adott $n>0$ egész esetén veszünk egy $n+1$ pontból álló, egyenletes rácsot a $[-1, 1]$ intervallumon, majd ezekre $n$-edfokú polinomot illesztünk és készen vagyunk, de sajnos ez nincs így."
   ]
  },
  {
   "cell_type": "markdown",
   "id": "95e9a572-916e-4606-ad9d-347b00caffba",
   "metadata": {},
   "source": [
    "#### 3. Feladat\n",
    "Tekintsük az $$f(x) = \\frac{1}{1 + 25x^2}$$ függvényt a $[-1, 1]$ intervallumon. Írjunk programot, ami adott $n$ esetén  az intervallum egy $n+1$ elemű, egyenletes rácsán felvett értékek alapján (a kedvenc programnyelvünk beépített parancsával) $n$-edfokú polinomot illeszt erre a függvényre. \n",
    "\n",
    "Ábrázoljuk a kapott polinomokat $n=2,4,8,10$ esetén. Mit tapasztalunk?"
   ]
  },
  {
   "cell_type": "code",
   "execution_count": null,
   "id": "6755c332-bf60-403e-9395-a0eba14f9fc2",
   "metadata": {},
   "outputs": [],
   "source": []
  },
  {
   "cell_type": "markdown",
   "id": "8fe1472b-17f3-4f44-acd6-228d64066627",
   "metadata": {},
   "source": [
    "Nézzük meg, hogy tudjuk-e reprodukálni a problémát akkor, ha a fenti képletben elhagyjuk a $25$-öt."
   ]
  },
  {
   "cell_type": "code",
   "execution_count": null,
   "id": "d6847a15-c6fd-4f5e-ab4c-8e28e5888860",
   "metadata": {},
   "outputs": [],
   "source": []
  },
  {
   "cell_type": "markdown",
   "id": "e37a150b-1087-48d9-a98a-ec86fc66e540",
   "metadata": {},
   "source": [
    "A probléma az alappontok szerencsésebb megválasztásával orvosolható; például a Чебышёв-pontok jók.\n",
    "#### 4. Feladat\n",
    "Ismételjük meg a 3. feladatot, ezúttal egyenletes rács helyett Чебышёв-pontokkal, melyeknek a definíciója a következő:\n",
    "$$ x_j = \\cos\\left(\\frac{j\\pi}{n}\\right). \\quad j=0,1,...,n.$$"
   ]
  },
  {
   "cell_type": "code",
   "execution_count": null,
   "id": "b08aafbe-61a5-4ac2-b260-0e63690035b0",
   "metadata": {},
   "outputs": [],
   "source": []
  },
  {
   "cell_type": "markdown",
   "id": "dc1a1e44-924b-4c9b-9732-a49062c16af0",
   "metadata": {},
   "source": [
    "Bár a(z $x^k$ alakú) monomok természetes bázisát alkotják a polinomoknak, az interpolációs-polinomok esetén találhatunk ennél \"jobb\" bázisokat is.\n",
    "\n",
    "Legyenek az alappontjaink $x_0, \\ldots, x_n$; az interpolálandó értékek pedig legyenek $y_0, \\ldots, y_{n}$. Az interpolációs polinomot jelölje $p_n$.\n",
    "\n",
    "#### Az interpolációs polinom Lagrange-féle alakja\n",
    "Az első ötlet, hogy keressünk olyan $n$-edfokú polinomokat, melyek pontosan egy alappontban vesznek fel nem nulla értéket (mégpedig egyet); legyen a $j$. ilyen polinom $l_j$. Az interpolációs polinom ekkor persze\n",
    "\n",
    "$$p_n(x) = \\sum\\limits_{j=1}^{n+1} y_j \\cdot l_j(x), $$\n",
    "\n",
    "azaz ebben a bázisban az $(y_0, \\ldots, y_{n})$ koordináták adják meg."
   ]
  },
  {
   "cell_type": "markdown",
   "id": "d73b9055-4963-4a54-b45a-b5671a2438a3",
   "metadata": {},
   "source": [
    "#### 5. Feladat\n",
    "Írjuk fel a $-1, 0, 1$ pontokhoz tartozó $l_j$ polinomokat. Írjuk fel az interpolációs polinomot, ha ezekben a pontokban a felvett értékek rendre $1, 0, 1$. Melyik polinomot kaptuk vissza, milyen bázisban?"
   ]
  },
  {
   "cell_type": "code",
   "execution_count": null,
   "id": "72308f15-af51-43a1-adeb-b8ca0dee6dfe",
   "metadata": {},
   "outputs": [],
   "source": []
  },
  {
   "cell_type": "markdown",
   "id": "bc990167-c11a-4341-a0d0-c5f60e3ec155",
   "metadata": {},
   "source": [
    "#### 6. Feladat\n",
    "Írjunk programot, ami adott $x$ és $y$ -pontokat és az ott felveendő értékeket tartalmazó- vektorokra interpolációs polinomot illeszt a Lagrange-alak használatával, majd egy további $z$ pontban kiértékeli azt."
   ]
  },
  {
   "cell_type": "code",
   "execution_count": 6,
   "id": "b3800d7a-1ff0-4ba5-b744-fd0eef498baf",
   "metadata": {},
   "outputs": [
    {
     "data": {
      "text/plain": [
       "poly_fit_lagrange (generic function with 1 method)"
      ]
     },
     "execution_count": 6,
     "metadata": {},
     "output_type": "execute_result"
    }
   ],
   "source": [
    "function poly_fit_lagrange(xs, ys, z)\n",
    "    # xs: alappontok, n+1 hosszú vektor\n",
    "    # ys: alappontokba óhajtott értékek, n+1 hosszú vektor\n",
    "    # z: a pont, ahol az interpolációs polinomot ki szeretnénk értékelni\n",
    "\n",
    "end"
   ]
  },
  {
   "cell_type": "markdown",
   "id": "26a8ca1d-3e2a-4c5c-9e8b-d91e19f8bdc9",
   "metadata": {},
   "source": [
    "#### 7. Feladat\n",
    "Gondoljuk meg, hogy mi történik akkor, ha a meglévő $(x_j, y_j)$ pontpárok mellett egy új pontpárt is szeretnénk figyelembe venni. Hogyan tudjuk a korábbi $l_j$ bázispolinomjainkat \"frissíteni\"?"
   ]
  },
  {
   "cell_type": "code",
   "execution_count": null,
   "id": "1fa4f95a-261e-4779-9986-99925f9ef678",
   "metadata": {},
   "outputs": [],
   "source": []
  },
  {
   "cell_type": "markdown",
   "id": "fb9f92ea-3ec3-4682-9706-49dac14b5812",
   "metadata": {},
   "source": [
    "#### Az interpolációs-polinom Newton-féle alakja\n",
    "\n",
    "Hogyan tudunk olyan bázist készíteni, melyet könnyen \"frissíthetünk\" akkor, ha új pontpárunk érkezik?\n",
    "\n",
    "Lássunk erre egy algoritmust.\n",
    "\n",
    "Egyetlen $(x_0, y_0)$ pontpár esetén az interpolációs polinom konstans $y_0$.\n",
    "\n",
    "Ha $p_n$ adott $n$-edfokú polinom, mely az $(x_0, \\ldots, x_n)$ alappontokban rendre $(y_0, \\ldots, y_n)$ értékeket vesz fel, akkor adjunk hozzá egy olyan eggyel magasabb fokú tagot, mely ezekben a pontokban $0$-t vesz fel, úgy, hogy az így keletkező polinom legyen az $x_{n+1}$ pontban $y_{n+1}$. Újra visszatérve tehát a gyöktényezős alak ötletéhez, legyen\n",
    "   $$ p_{n+1}(x) = p_n(x) + c_{n+1}\\cdot(x - x_0)(x-x_1)\\cdots(x-x_n).$$\n",
    "\n",
    "Ekkor $ p_{n+1}(x_j) = p_n(x_j) = y_j$ az utolsó kivételével minden $x_j$ pontban, ahol pedig\n",
    "$$ p_{n+1}(x_{n+1}) = p_n(x_{n+1}) + c_{n+1} \\cdot(x_{n+1} - x_0 ) \\cdots (x_{n+1} - x_n).$$\n",
    "Tehát amennyiben a\n",
    "$$ c_{n+1} = \\frac{y_{n+1} - p_n(x_{n+1})}{(x_{n+1} - x_0 ) \\cdots (x_{n+1} - x_n)}$$\n",
    "választással élünk, akkor meg is vagyunk.\n",
    "\n",
    "Ha $$q_{j+1}(x) = (x - x_0 ) (x - x_1) \\cdots (x - x_j),$$\n",
    "akkor észrevehetjük, hogy a rekurzió\n",
    "$$ p_{n+1} = p_n + c_{n+1} \\cdot q_{n+1}$$\n",
    "alakú, tehát a $p_n$ interpolációs polinomot ez esetben a $q_j$ báziselemek lineáris kombinációjaként fejezzük ki, mely bázis bővítése egyszerű."
   ]
  },
  {
   "cell_type": "markdown",
   "id": "9677d08e-6de0-4d4d-995e-0694406074d1",
   "metadata": {},
   "source": [
    "#### 8. Feladat\n",
    "Írjuk fel a $-1, 0, 1$ pontokhoz tartozó $q_j$ polinomokat. Írjuk fel az interpolációs polinomot, ha ezekben a pontokban a felvett értékek rendre $1, 0, 1$. Melyik polinomot kaptuk vissza, milyen bázisban?"
   ]
  },
  {
   "cell_type": "code",
   "execution_count": null,
   "id": "3449ff8b-d000-4415-9e4e-5d4ecaa00a58",
   "metadata": {},
   "outputs": [],
   "source": []
  },
  {
   "cell_type": "markdown",
   "id": "37e04aef-d74c-48f5-90e3-13cac66fd006",
   "metadata": {},
   "source": [
    "#### 9. Feladat\n",
    "Írjunk programot, ami adott $x$ és $y$ -pontokat és az ott felveendő értékeket tartalmazó- vektorokra interpolációs polinomot illeszt a Newton-alak használatával, majd egy további $z$ pontban kiértékeli azt."
   ]
  },
  {
   "cell_type": "code",
   "execution_count": 13,
   "id": "d5b9c083-162d-45e3-974b-4d95d328fcbd",
   "metadata": {},
   "outputs": [
    {
     "data": {
      "text/plain": [
       "poly_fit_newton (generic function with 1 method)"
      ]
     },
     "execution_count": 13,
     "metadata": {},
     "output_type": "execute_result"
    }
   ],
   "source": [
    "function poly_fit_newton(xs, ys, z)\n",
    "    # xs: alappontok, n+1 hosszú vektor\n",
    "    # ys: alappontokba óhajtott értékek, n+1 hosszú vektor\n",
    "    # z: a pont, ahol az interpolációs polinomot ki szeretnénk értékelni\n",
    "\n",
    "end"
   ]
  },
  {
   "cell_type": "markdown",
   "id": "d2b6c631-1352-4f6c-89e4-910f6aeb3925",
   "metadata": {},
   "source": [
    "#### 10. Feladat\n",
    "Írjunk programot, mely egy polinomot a Horner-séma szerint értékel ki.\n",
    "\n",
    "**Emlék:**\n",
    "$$ c_0 + c_1 x + c_2 x^2 + \\ldots \\qquad \\text{helyett} \\qquad c_0 + x \\left( c_1 + x \\left( c_2 + \\ldots \\right) \\right)$$\n",
    "\n",
    "Hogyan alakul a műveletigénye a két megközelítésnek?"
   ]
  },
  {
   "cell_type": "code",
   "execution_count": 14,
   "id": "b56fb0cf-88d5-4577-aea4-d6b8aa966c02",
   "metadata": {},
   "outputs": [
    {
     "data": {
      "text/plain": [
       "horner_sema (generic function with 1 method)"
      ]
     },
     "execution_count": 14,
     "metadata": {},
     "output_type": "execute_result"
    }
   ],
   "source": [
    "function horner_sema(cs, x)\n",
    "    # cs: a polinom együtthatói\n",
    "    # x: a pont ahol ki szeretnénk értékelni a polinomot\n",
    "end"
   ]
  },
  {
   "cell_type": "markdown",
   "id": "1a2376e6-326c-4c2f-be6d-e96ec84f2ef6",
   "metadata": {},
   "source": [
    "### Kiegészítés\n",
    "\n",
    "#### 11. Feladat\n",
    "Mutassuk meg, hogy $$l_j(x) = \\frac{q_{n+1}(x)}{x-x_j} \\cdot \\frac{1}{q_{n+1}'(x_j)}.$$"
   ]
  },
  {
   "cell_type": "code",
   "execution_count": null,
   "id": "dc770076-2f59-4e95-a2cb-89196a9225e0",
   "metadata": {},
   "outputs": [],
   "source": []
  },
  {
   "cell_type": "markdown",
   "id": "860b8d46-0e01-4cbf-92e7-6d81427bf61a",
   "metadata": {},
   "source": [
    "A Newton-féle,\n",
    "$$ p_{n+1}(x) = p_n(x) + c_{n+1}\\cdot(x - x_0)(x-x_1)\\cdots(x-x_n)$$\n",
    "\n",
    "alakban előkerülő $c_n$ együtthatót szokás az $n$. osztott differenciának is nevezni. Ennek értéke függ mind az $x_j$ pontoktól, mind pedig az $y_j$ értékektől. Jelöljük az $i_1, \\ldots i_k$ indexű pontpárokra épülő osztott differenciát $\\delta_{i_1, \\ldots, i_k}$-val; ha az indexek egymást követik, akkor használjuk a MATLAB-szerű $\\delta_{n:n+k}$ jelölést (ezzel pl. $c_{n+1} = \\delta_{0:n}$).\n"
   ]
  },
  {
   "cell_type": "markdown",
   "id": "a5a287bd-5d6c-43ad-8195-92c8f6a08616",
   "metadata": {},
   "source": [
    "\n",
    "#### 12. Feladat\n",
    "Mutassuk meg, hogy $$\\delta_{0:k+1} = \\frac{\\delta_{1:k+1} - \\delta_{0:k}}{x_{k+1} - x_0}.$$"
   ]
  },
  {
   "cell_type": "code",
   "execution_count": null,
   "id": "e151f376-54bc-47da-9254-eb495e7118ca",
   "metadata": {},
   "outputs": [],
   "source": []
  },
  {
   "cell_type": "markdown",
   "id": "68f609a6-f0ff-459c-b0e7-2a07072384a5",
   "metadata": {},
   "source": [
    "#### 13. Feladat\n",
    "\n",
    "Mutassuk meg, hogy ha $y_j = f(x_j)$ és $f$ elég szép, akkor\n",
    "\n",
    "$$(x_0, \\ldots, x_k) \\to (\\xi, \\ldots, \\xi) \\quad \\text{ esetén } \\qquad \\delta_{0:k} \\to \\frac{1}{k!}f^{(k)}(\\xi).$$"
   ]
  },
  {
   "cell_type": "code",
   "execution_count": null,
   "id": "85d29067-2276-46c2-a694-559df0fc111a",
   "metadata": {},
   "outputs": [],
   "source": []
  },
  {
   "cell_type": "markdown",
   "id": "61df92e0-974a-4178-b414-7ea402ff20f5",
   "metadata": {},
   "source": [
    "#### 14. Feladat\n",
    "Mutassuk meg, hogy az osztott differencia értéke nem függ az indexek sorrendjétől."
   ]
  },
  {
   "cell_type": "code",
   "execution_count": null,
   "id": "e0cae2fb-a621-4650-8ecd-eaa32455d7ea",
   "metadata": {},
   "outputs": [],
   "source": []
  }
 ],
 "metadata": {
  "kernelspec": {
   "display_name": "Julia 1.9.2",
   "language": "julia",
   "name": "julia-1.9"
  },
  "language_info": {
   "file_extension": ".jl",
   "mimetype": "application/julia",
   "name": "julia",
   "version": "1.9.3"
  }
 },
 "nbformat": 4,
 "nbformat_minor": 5
}
