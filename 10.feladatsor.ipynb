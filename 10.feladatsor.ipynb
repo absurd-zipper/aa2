{
 "cells": [
  {
   "cell_type": "markdown",
   "id": "ad74dd3e-d5e4-4b4d-933d-245737f20d5b",
   "metadata": {},
   "source": [
    "## 10. Feladatsor (advekció)"
   ]
  },
  {
   "cell_type": "markdown",
   "id": "40071d4c-8345-4195-a2c7-f99bb6bc8a6a",
   "metadata": {},
   "source": [
    "**Differenciálegyenlet**\n",
    "\n",
    "Tekintsük az\n",
    "$$\n",
    "\\partial_t u = - a \\partial_{x} u\n",
    "$$\n",
    "\n",
    "parciális differenciálegyenletet, ahol $a \\geq 0$ egy valós szám."
   ]
  },
  {
   "cell_type": "markdown",
   "id": "172cdf98-4d5b-47d6-a4fc-ba158beea620",
   "metadata": {},
   "source": [
    "### 1. Feladat\n",
    "\n",
    "Mutassuk meg, hogy az $u$ megoldás állandó az $x - at = c$ egyenletű egyenesek mentén - ahol $c$ mondja meg, hogy melyik egyenesen vagyunk."
   ]
  },
  {
   "cell_type": "code",
   "execution_count": null,
   "id": "f4eb2d86-6915-417c-819c-6ff1bb4fc8b1",
   "metadata": {},
   "outputs": [],
   "source": []
  },
  {
   "cell_type": "markdown",
   "id": "15104fb7-b38a-4df4-9546-213a644f62e4",
   "metadata": {},
   "source": [
    "### 2. Feladat\n",
    "Milyen formulával kapható meg az $u$ megoldás az $u(0, x) = u_0(x)$ kezdeti-feltételből?"
   ]
  },
  {
   "cell_type": "code",
   "execution_count": null,
   "id": "8578f1a7-24d7-4a6f-9266-301ab74df3ca",
   "metadata": {},
   "outputs": [],
   "source": []
  },
  {
   "cell_type": "markdown",
   "id": "9fcf0297-bdb6-4256-a3e7-fe558e13e5c7",
   "metadata": {},
   "source": [
    "### 3. Feladat\n",
    "\n",
    "Írjunk programot, ami adott $u_0$ kezdeti-feltétel alapján ábrázolja az $u$ megoldást az idő és a tér függvényében. Ha úgy egyszerűbb, legyen $a=-1, u_0(x) = \\sin(\\pi x)$."
   ]
  },
  {
   "cell_type": "code",
   "execution_count": null,
   "id": "d15711f4-afec-4a86-b93b-badd734339f4",
   "metadata": {},
   "outputs": [],
   "source": []
  },
  {
   "cell_type": "markdown",
   "id": "2da589bd-d2d4-4ebe-a64b-8124adc87bac",
   "metadata": {},
   "source": [
    "a) ábrázoljuk az $u(t, \\cdot)$ függvényt néhány $t$-re."
   ]
  },
  {
   "cell_type": "code",
   "execution_count": null,
   "id": "3adb18d2-03dc-453c-9a74-6dd77a372c56",
   "metadata": {},
   "outputs": [],
   "source": []
  },
  {
   "cell_type": "markdown",
   "id": "99f76abc-d8d4-4dd5-9f3b-780766cfa7b4",
   "metadata": {},
   "source": [
    "b) használjuk a contourf parancsot és ábrázoljuk $u$-t a $[0,1]\\times[0,1]$-en."
   ]
  },
  {
   "cell_type": "code",
   "execution_count": null,
   "id": "3066bc4f-5498-4f80-af99-8fa37d431879",
   "metadata": {},
   "outputs": [],
   "source": []
  },
  {
   "cell_type": "markdown",
   "id": "a574c25b-cc18-40f9-96da-a7593dd8fdcc",
   "metadata": {},
   "source": [
    "### 4. Feladat\n",
    "A kezdeti feltétel értékei közül melyik(ek)től függ az $u(t, x)$ érték?"
   ]
  },
  {
   "cell_type": "code",
   "execution_count": null,
   "id": "9151d9a2-9fbf-442e-85de-a0ed44b1a411",
   "metadata": {},
   "outputs": [],
   "source": []
  },
  {
   "cell_type": "markdown",
   "id": "d41767d8-a84e-40dc-a271-aabbecedff02",
   "metadata": {},
   "source": [
    "---\n",
    "**Diszkretizáció**"
   ]
  },
  {
   "cell_type": "markdown",
   "id": "b124cc94-878f-4b05-b466-cfbc37f95652",
   "metadata": {},
   "source": [
    "Első lépésként szemidiszkretizáljunk, azaz vezessük vissza a parciális differenciálegyenletünket egy közönséges differenciálegyenlet-rendszerre.\n",
    "Ehhez tehát az $x$ változó által indexelt végtelendimenziós teret kell egy végesdimenziósra cserélnünk, valamint ezzel együtt a $\\partial_{x}$ operátort egy olyanra, mely ezen a végesdimenziós téren hat."
   ]
  },
  {
   "cell_type": "markdown",
   "id": "170f3864-e713-490a-a7f2-ec7a738c66c0",
   "metadata": {},
   "source": [
    "Pontosítsuk az egyenletünket: az idő legyen pozitív, a teret pedig szűkítsük le a $[0,1]$ intervallumra, valamint vegyünk egy $u_0$ kezdeti feltételt, és egy homogén Dirichlet-peremfeltételt.\n",
    "\n",
    "$$\n",
    "\\begin{cases}\n",
    "    \\partial_t u &= -a \\partial_{x} u,  &(0, \\infty) \\times (0, 1)\\text{-en} \\\\\n",
    "    \\\\\n",
    "    u(0, x)  &= u_0(x), & 0 \\leq x \\leq 1 \\\\\n",
    "    \\\\\n",
    "    u(t, 0) &= 0, &0 < t \\\\\n",
    "    u(t, 1) &= 0. &0 < t    \n",
    "\\end{cases}\n",
    "$$"
   ]
  },
  {
   "cell_type": "markdown",
   "id": "eb1d91d9-2ad6-4eb1-84c8-3ddb32a4e4f1",
   "metadata": {},
   "source": [
    "### 5. Feladat\n",
    "\n",
    "Legyen $g$ egy kétszer folytonosan diff.ható valós-valós függvény, mely definiált a $0$ egy környezetén. Milyen formulát tudnánk adni a $g'(0)$ érték közelítésére?"
   ]
  },
  {
   "cell_type": "code",
   "execution_count": null,
   "id": "928daba5-ef04-4295-ba82-e0baf2512f52",
   "metadata": {},
   "outputs": [],
   "source": []
  },
  {
   "cell_type": "markdown",
   "id": "d4bbe3c3-658d-430b-b43c-5d8adfc46297",
   "metadata": {},
   "source": [
    "### 6. Feladat\n",
    "\n",
    "Vegyünk a $[0,1]$ intervallum egy egyenletes, $N+2$ pontból álló, $(x_j)_{j=0}^{N+1}$ rácsozását - magyarul legyen $x_j = j/(N+1)$.\n",
    "\n",
    "Ha $g: [0,1] \\mapsto \\mathbb{R}$, akkor legyen a $g$ függvény diszkretizáltja\n",
    "$$\n",
    "g^h = \\left( g(x_j) \\right)_{j=0}^{N+1},\n",
    "$$\n",
    "azaz egy $N+2$ hosszú vektor. \n",
    "\n",
    "A peremfeltétel miatt minket csak olyan függvények érdekelnek, melyek a végpontokban $0$ értéket vesznek fel. Ennek a diszkretizált megfelelője persze az, hogy $g^h_0 = g^h_{N+1} = 0$. A feltétel következtében teljesen megfelelő az is, ha a $g^h$ vektor csak a belső rácspontokban felvett értékeket tartalmazza, vagyis innentől feltehetjük, hogy $g^h$ hossza $N$.\n",
    "\n",
    "A $\\partial_{x}$ operáció lineáris. Szeretnénk ha a végesdimenziós megfelelő is lineáris lenne. Ha lineáris, akkor van mátrixa.  Milyen mátriok fogják létrehozni a $g^h$ vektorból azokat a vektorokat, melyeknek $j$. koordinátája a 3. feladatban szereplő formulák szerinti közelítése a $g'(x_j)$ értéknek minden $x_j$ belső rácspont esetén (tehát $j=1\\ldots n$)?"
   ]
  },
  {
   "cell_type": "code",
   "execution_count": null,
   "id": "e59397a0-180c-4d75-82ad-d1fb608c251c",
   "metadata": {},
   "outputs": [],
   "source": []
  },
  {
   "cell_type": "markdown",
   "id": "47c3364e-afa2-4804-8407-74aad78a5dd3",
   "metadata": {},
   "source": [
    "### 7. Feladat\n",
    "\n",
    "Írjunk kódot, ami létrehozza ezeket a mátrixokat adott $N$ esetén."
   ]
  },
  {
   "cell_type": "code",
   "execution_count": null,
   "id": "efe198b4-64ba-4398-9317-16d22d7df3a1",
   "metadata": {},
   "outputs": [],
   "source": []
  },
  {
   "cell_type": "markdown",
   "id": "de311872-b0b1-441d-9a69-68fdef67c11c",
   "metadata": {},
   "source": [
    "---\n",
    "Tekintsük tehát a szemidiszkretizált feladatot:\n",
    "$$\n",
    "\\begin{cases}\n",
    "    \\dot x &= -\\nabla_h x &(0, \\infty) \\text{-en} \\\\\n",
    "    \\\\\n",
    "    x_0  &= u_0^h, &\n",
    "\\end{cases}\n",
    "$$\n",
    "\n",
    "Itt a $h$ a diszkretizációra utal, $\\nabla_h$ valamelyik korábbi végesdifferenciás mátrixot jelöli.\n",
    "\n",
    "Itt a kezdeti feltétel lehet például\n",
    "$$\n",
    "u_0(x) = 1 - |x - 1/2|,\n",
    "$$\n",
    "$$\n",
    "u_0(x) = x^2(1-x)^5,\n",
    "$$\n",
    "vagy\n",
    "$$\n",
    "u_0(x) = \\sin(\\pi x).\n",
    "$$"
   ]
  },
  {
   "cell_type": "markdown",
   "id": "1c2cd6c8-7692-4386-98e9-df7b996c814d",
   "metadata": {},
   "source": [
    "### 10. Feladat\n",
    "\n",
    "Oldjuk meg a szemidiszkretizált feladatot az EE módszerrel a különböző $\\nabla_h$ operátorok esetén.\n",
    "\n",
    "Legyen a $dt = dx/2$ és tegyünk minden $\\nabla_h$ esetén  $21$ lépést. Ábrázoljuk a kapott megoldásokat - az $y$ tengelyt érdemes a $(-1, 1)$-re korlátozni. Mit tapasztalunk?\n"
   ]
  },
  {
   "cell_type": "code",
   "execution_count": null,
   "id": "a1760b22-59a4-4342-a11c-19dbdac6ad4c",
   "metadata": {},
   "outputs": [],
   "source": []
  },
  {
   "cell_type": "markdown",
   "id": "bcc345eb-d872-46f7-91af-c49445374dbb",
   "metadata": {},
   "source": [
    "### 11. Feladat\n",
    "\n",
    "Ismételjük meg a 10. feladatot az IE módszerrel. Láthatjuk, hogy sajnos az implicit módszerek sem oldanak meg mindent."
   ]
  },
  {
   "cell_type": "code",
   "execution_count": null,
   "id": "b7754f00-f511-4b83-876b-64f507c157d1",
   "metadata": {},
   "outputs": [],
   "source": []
  },
  {
   "cell_type": "markdown",
   "id": "36b0e2c4-c0f9-4a1a-8e05-ac2e247c1457",
   "metadata": {},
   "source": [
    "### 12. Feladat\n",
    "Ismételjük meg a korábbi két feladatot és próbáljunk kisebb lépéshosszal (viszont értelemszerűen többet) lépni."
   ]
  },
  {
   "cell_type": "code",
   "execution_count": null,
   "id": "f19f0c54-edd0-4d11-8807-9eaeebf5abb0",
   "metadata": {},
   "outputs": [],
   "source": []
  },
  {
   "cell_type": "markdown",
   "id": "d55cc389-6218-4468-a85c-f002a89537e3",
   "metadata": {},
   "source": [
    "---\n",
    "\n",
    "Tehát a három térbeli diszkretizáció közül kettő nem igazán jó annak ellenére, hogy ahogy azt a sorfejtés is mutatja, ugyanazt a deriváltat közelítik."
   ]
  },
  {
   "cell_type": "markdown",
   "id": "456ab54e-e94c-43c9-bc9a-e286a3e209f3",
   "metadata": {},
   "source": [
    "### 13. Feladat\n",
    "\n",
    "Az előző feladatok folytatásaként tegyünk 51 időlépést a \"jó\" $\\nabla_h$ választással."
   ]
  },
  {
   "cell_type": "code",
   "execution_count": null,
   "id": "a40e50f3-6642-436d-aba8-e05fb9f5a2a0",
   "metadata": {},
   "outputs": [],
   "source": []
  },
  {
   "cell_type": "markdown",
   "id": "7e4bcddb-c2f1-4f25-848f-2951cc266666",
   "metadata": {},
   "source": [
    "### 14. Feladat\n",
    "\n",
    "Vegyük most a \"jó\" $\\nabla_h$ választást és legyen $dt = 2dx$. Mit tapasztalunk ha (kb.) 5 lépést teszünk?"
   ]
  },
  {
   "cell_type": "code",
   "execution_count": null,
   "id": "52da78b5-2c22-49b1-8b7e-306db0701028",
   "metadata": {},
   "outputs": [],
   "source": []
  },
  {
   "cell_type": "markdown",
   "id": "84a5c73f-3670-409d-af97-7f1e507ef2cc",
   "metadata": {},
   "source": [
    "---\n",
    "Tehát egyrészt alkalmas térbei diszkretizációt kell használnunk, másrészt a lépéshosszunk sem lehet (általában) túl nagy."
   ]
  },
  {
   "cell_type": "markdown",
   "id": "02fae4ca-b066-497d-932c-14e97a1eb81a",
   "metadata": {},
   "source": [
    "Hogyan lehetne kvantifikálni amit látunk? Szemlátomást egyfajta oszcillációról van szó. Hogyan mérhetnénk meg ezen oszcilláció mértékét?\n",
    "\n",
    "Ha $f [a,b] \\to \\mathbb{C}$ egy függvény, akkor $f$ totális variációját definiálhatjuk a\n",
    "$$\n",
    "V_{a,b}(f) = \\sup\\limits_{ (x_j) \\in \\mathcal{P}} \\sum \\| f(x_{i}) - f(x_{i-1}) \\|,\n",
    "$$\n",
    "módon, ahol $$\\mathcal{P} = \\left\\{(x_j) : a \\leq x_i \\leq x_{i+1} \\leq b\\right\\},$$\n",
    "azaz egy egymást követő osztópontokból álló véges sorozatokat tartalmazó halmaz.\n",
    "\n",
    "Számunkra sokszor egyszerűbb a $2$-es normával dolgozni, ami szintén informat\u000eív tud lenni:\n",
    "$$\n",
    "\\| f\\|_2 = \\left( \\int_a^b |f|^2 \\right)^{1/2}.\n",
    "$$\n",
    "\n",
    "Az $u$ megoldás esetében ugye a homogén zérus peremfeltétel miatt ezek a mennyiségek monoton csökkenni fognak, ezek tehát a $t \\mapsto V_{0,1}(x \\mapsto u(t, x))$ és a $t \\mapsto \\|x \\mapsto u(t, x)\\|_2$ függvények. Mi szeretnénk olyan numerikus módszert gyártani, mely esetén a numerikus megoldás $u_h$ hasonlóan viselkedik majd. Hogy erre lesz-e idő az jó kérdés, de ehhez a fenti mennyiségek diszkrét megfelelőjét célszerű bevezetni. Az utóbbi megfelelője a $2$-es vektornorma lesz, az előbbié pedig a\n",
    "\n",
    "$$\n",
    "V(x) = \\sum | x_i -  x_{i-1} |\n",
    "$$\n",
    "kifejezés."
   ]
  },
  {
   "cell_type": "markdown",
   "id": "66455bee-155f-4774-951d-f0e989159fa7",
   "metadata": {},
   "source": [
    "### 15. Feladat\n",
    "\n",
    "Implementáljuk a $V$ függvényt."
   ]
  },
  {
   "cell_type": "code",
   "execution_count": null,
   "id": "94b734fe-0634-4fa0-bf26-034ec6e7efb2",
   "metadata": {},
   "outputs": [],
   "source": []
  },
  {
   "cell_type": "markdown",
   "id": "4129f36a-ca98-43c9-91aa-1ae9870deebc",
   "metadata": {},
   "source": [
    "### 16. Feladat\n",
    "Vegyük a 10. feladat kontextusát, majd ábrázoljuk a numerikus megoldásokat jellemző fenti mennyiségek időbeni alakulását. Tegyünk pl. $201$ lépést."
   ]
  },
  {
   "cell_type": "code",
   "execution_count": null,
   "id": "fa9a4260-19d6-4820-8e21-3ae6d5b364ac",
   "metadata": {},
   "outputs": [],
   "source": []
  },
  {
   "cell_type": "markdown",
   "id": "ace11d0e-3718-46fd-af38-2a3ea58e6be5",
   "metadata": {},
   "source": [
    "---\n",
    "Vegyünk most periodikus (Dirichlet-)peremfeltételt. Ekkor mind a kettes normának, mind a totális variációnak állandónak kellene maradnia."
   ]
  },
  {
   "cell_type": "markdown",
   "id": "ba2c2e32-4565-4157-b96f-ea4011597d2f",
   "metadata": {},
   "source": [
    "$$\n",
    "\\begin{cases}\n",
    "    \\partial_t u &= -\\partial_{x} u,  &(0, \\infty) \\times (0, 1)\\text{-en} \\\\\n",
    "    \\\\\n",
    "    u(0, x)  &= u_0(x), & 0 \\leq x \\leq 1 \\\\\n",
    "    \\\\\n",
    "    u(t, 0) &= u(t, 1). &0 < t \\\\\n",
    "\\end{cases}\n",
    "$$"
   ]
  },
  {
   "cell_type": "markdown",
   "id": "9fad85e1-1a13-4e00-9bf4-1dc8713dd551",
   "metadata": {},
   "source": [
    "### 17. Feladat\n",
    "\n",
    "Hogyan kell módosítani a térbeli diszkretizációt reprezentáló mátrixainkat?"
   ]
  },
  {
   "cell_type": "code",
   "execution_count": null,
   "id": "d9e067a5-79ab-422c-b668-5277b5e031fa",
   "metadata": {},
   "outputs": [],
   "source": []
  },
  {
   "cell_type": "markdown",
   "id": "1ceca86f-7a97-4b76-81ce-b4956bf4731d",
   "metadata": {},
   "source": [
    "### 18. Feladat\n",
    "\n",
    "A 10-es feladat feltételei  mellett oldjuk meg a feladatunkat a három térbeli diszkretizáció mellett az implicit középponti szabállyal (Butcher-tabló: $a_{11} = 1/2, b_1=1$). \n",
    "\n",
    "a) Tegyünk 201 lépést és ábrázoljuk a $V$, $\\|\\cdot\\|_2$ mennyiségek időbeni alakulását."
   ]
  },
  {
   "cell_type": "code",
   "execution_count": null,
   "id": "42615883-2be8-4540-a66d-7468520e018e",
   "metadata": {},
   "outputs": [],
   "source": []
  },
  {
   "cell_type": "markdown",
   "id": "fee0acc9-215e-4373-97ce-f7125fa0dc17",
   "metadata": {},
   "source": [
    " b) Tegyünk 205 lépést és hasonlítsuk össze a **normált** numerikus megoldásainkat egy ábrán. Normálás alatt sok mindent lehet érteni, például vonjuk ki a vektorból az elemeinek átlagát, majd osszunk le a vektor elemeinek szórásával, de leoszthatunke egyszerűen csak a legnagyobb abszolútértékű elemének abszolútértékével is."
   ]
  },
  {
   "cell_type": "code",
   "execution_count": null,
   "id": "5f2561cd-0db2-4870-ad31-12f664bfd85f",
   "metadata": {},
   "outputs": [],
   "source": []
  }
 ],
 "metadata": {
  "kernelspec": {
   "display_name": "Julia 1.9.2",
   "language": "julia",
   "name": "julia-1.9"
  },
  "language_info": {
   "file_extension": ".jl",
   "mimetype": "application/julia",
   "name": "julia",
   "version": "1.9.4"
  }
 },
 "nbformat": 4,
 "nbformat_minor": 5
}
