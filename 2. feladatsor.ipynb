{
 "cells": [
  {
   "cell_type": "markdown",
   "id": "40071d4c-8345-4195-a2c7-f99bb6bc8a6a",
   "metadata": {},
   "source": [
    "## 2. Feladatsor (interpoláció: Hermite, Spline)"
   ]
  },
  {
   "cell_type": "markdown",
   "id": "458da162-e933-47cc-8755-02a28b767904",
   "metadata": {},
   "source": [
    "#### 1. Feladat\n",
    "\n",
    "Legyen $f$ kellően sima függvény. Melyik a legjobb nulladfokú polinom közelítése a függvénynek egy pontban, mely benne van az értelmezési tartományában? A legjobb elsőfokú? A legjobb $k$-adfokú?"
   ]
  },
  {
   "cell_type": "code",
   "execution_count": null,
   "id": "8ba06a07-7171-44fb-ac41-b6a3f87b5263",
   "metadata": {},
   "outputs": [],
   "source": []
  },
  {
   "cell_type": "markdown",
   "id": "3a5eaffa-c91d-426f-aa8b-afa89b4af8e6",
   "metadata": {},
   "source": [
    "----------\n",
    "#### Hermite-interpoláció\n",
    "\n",
    "Tegyük fel, hogy $x_0, \\ldots, x_{n}$ alappontokonban rendelkezésünkre állnak $y_0, \\ldots, y_{n+1}$ függvényértékek és $y_0', \\ldots, y_{n+1}'$ deriváltértékek.\n",
    "\n",
    "Konstruáljunk olyan (legfeljebb) $(2(n+1) - 1)$-edfokú polinomot, mely, illetve melynek deriváltja az alappontokban a megfelelő értékeket veszi fel!\n",
    "\n",
    "**Ötlet:** csináljuk meg először egy ponttal.\n",
    "<details>\n",
    "<summary></summary>\n",
    "$$x \\mapsto y_0 + y_0'(x- x_0)$$\n",
    "</details>\n",
    "\n",
    "**Ötlet:** ha $x_0, \\ldots, x_{n-1}$-re már van egy megfelelő, $p_{2n-1}$ polinomunk, akkor keressük az új, $p_{2n+1}$ polinomot a következő alakban:\n",
    "\n",
    "$$p_{2n+1} = p_{2n-1} + q_{2n+1},$$\n",
    "\n",
    "ahol $q_{2n+1}$ egy olyan polinom, melynek 0. és 1. deriváltjai az első $n$ pontban mind nullák, és foka kettővel nagyobb.\n",
    "\n",
    "**Ötlet:** Hogyan tudnánk ilyen $q_{2n+1}$ polinomot konstruálni a $w_{n}(x) = (x- x_0)(x-x_1) \\cdots (x - x_{n-1})$ polinomból?\n",
    "\n",
    "<details>\n",
    "<summary></summary>\n",
    "    Legyen\n",
    "    $$ q_{2n+1}(x) = w_{n}^2(x)( b_{2n+1} + a_{2n+1}(x-x_{n})).$$\n",
    "</details>\n",
    "\n",
    "**Ötlet:** Az ismeretlen együtthatók meghatározhatók a két új adat behelyettesítésével.\n",
    "\n",
    "Először:\n",
    "$$ y_{n} = p_{2n-1}(x_{n}) + q_{2n+1}(x_{n}) $$\n",
    "<details>\n",
    "<summary></summary>\n",
    "    Innen: $$ b_{2n+1} = \\frac{y_n - p_{2n-1}(x_n)}{w_n^2(x_n)} $$\n",
    "</details>\n",
    "Másodszor:\n",
    "$$ y_{n}' = p_{2n-1}'(x_{n}) + q_{2n+1}'(x_{n}) $$\n",
    "<details>\n",
    "<summary></summary>\n",
    "    Deriválással látható, hogy \n",
    "$$ q_{2n+1}'(x) = 2w_{n}'(x)w_n(x)( b_{2n+1} + a_{2n+1}(x-x_{n})) + w_n^2(x)a_{2n+1},$$\n",
    "azaz\n",
    "$$ p_{2n+1}'(x_n) = p_{2n}'(x_n) + 2w_{n}'(x_n)w_n(x_n)b_{2n+1} + w_n^2(x_n)a_{2n+1},$$\n",
    "ahonnan\n",
    "$$\n",
    "a_{2n+1} = \\frac{y_n' - p_{2n}'(x_n) - 2w_{n}'(x_n)w_n(x_n)b_{2n+1} }{w_n^2(x_n)}.\n",
    "$$\n",
    "</details>"
   ]
  },
  {
   "cell_type": "markdown",
   "id": "d73b9055-4963-4a54-b45a-b5671a2438a3",
   "metadata": {},
   "source": [
    "#### 2. Feladat\n",
    "Írjuk fel Hermite-interpoláció ötletével azt a polinomot, amire az $x_0 = -1$ pontban $y_0 = 1$, $y_0' = -2$ és amire a $x_1 = 0$ pontban $y_1 = 0$. Hogyan változik a polinom, ha azt is tudjuk, hogy $y_1' = 0$?"
   ]
  },
  {
   "cell_type": "code",
   "execution_count": null,
   "id": "72308f15-af51-43a1-adeb-b8ca0dee6dfe",
   "metadata": {},
   "outputs": [],
   "source": []
  },
  {
   "cell_type": "markdown",
   "id": "bc990167-c11a-4341-a0d0-c5f60e3ec155",
   "metadata": {},
   "source": [
    "#### 3. Feladat\n",
    "Írjunk programot, ami adott $x$ és $y, y'$ -pontokat és az ott felveendő értékeket, illetve deriváltakat tartalmazó- vektorokra Hermite-féle interpolációs polinomot illeszt, majd egy további $z$ pontban kiértékeli azt."
   ]
  },
  {
   "cell_type": "code",
   "execution_count": 4,
   "id": "b3800d7a-1ff0-4ba5-b744-fd0eef498baf",
   "metadata": {},
   "outputs": [
    {
     "data": {
      "text/plain": [
       "poly_fit_hermite (generic function with 1 method)"
      ]
     },
     "execution_count": 4,
     "metadata": {},
     "output_type": "execute_result"
    }
   ],
   "source": [
    "function poly_fit_hermite(xs, ys, ys_, z)\n",
    "    # xs: alappontok, n+1 hosszú vektor\n",
    "    # ys: alappontokba óhajtott értékek, n+1 hosszú vektor\n",
    "    # ys_: alappontokba óhajtott deriváltértékek, n+1 hosszú vektor\n",
    "    # z: a pont, ahol az interpolációs polinomot ki szeretnénk értékelni\n",
    "\n",
    "end"
   ]
  },
  {
   "cell_type": "markdown",
   "id": "6a46374a-4f2a-418c-88b5-97ba210dcc38",
   "metadata": {},
   "source": [
    "-----"
   ]
  },
  {
   "cell_type": "markdown",
   "id": "008ab6ca-3d8d-43d5-bc2c-ff33b2c2390a",
   "metadata": {},
   "source": [
    "#### Spline\n",
    "\n",
    "Adott $[a,b]$ intervallumon szakaszonként $n$-edfokú polinomokból álló, $(n-1)$-szer folytonosan differenciálható függvényt spline-nak nevezünk. Az $(n=3)$ esetet köbös **spline**-nak.\n",
    "\n",
    "Paraméterezzünk egy ilyet. Legyenek $x_j$ rácspontok $(j=0 \\ldots n)$, ekkor olyan harmadfokú polinomot keresünk, ami a végpontokban adott értékeket vesz fel. Nézzük az $[x_j, x_{j+1}]$ intervallumot és használjuk az eddigi ötleteinket egy ilyen polinom paraméterezésére.\n",
    "$$\n",
    "    s_j(x) = y_j + \\frac{y_{j+1} - y_j}{x_{j+1} - x_j} (x - x_j) + (x-x_j)(x-x_{j+1})(a_j(x-x_j) + b_j) = l_j(x) + (x-x_j)(x-x_{j+1})e_j(x) = (l_j + w_j e_j)(x)\n",
    "$$\n",
    "Ahol $e_j, l_j$ lineáris, $w_j$ pedig kvadratikus polinom, és az utóbbi kettő együtthatóit az $y_j$ értékek, illetve az $x_j$ alappontok meghatározzák.\n",
    "\n",
    "<details>\n",
    "<summary>Csak sajat felelossegre</summary>\n",
    "\n",
    "Minden pontban, ami nem végpont ($x_j, j = 1 \\dots n-1$) adott két csatlakozási feltételünk. Ezek biztosításához szükségünk lesz a polinomok első két deriváltjára, melyek rendre\n",
    "$$s_j' = l_{j}' + w_j'e_j +w_j e_j'$$\n",
    "és\n",
    "$$s_j'' = l_j'' + w_j''e_j + 2w_j'e_j' + w_je_j''.$$\n",
    "\n",
    "Mivel a feltételeink azt mondják, hogy minden ilyen $j$ esetén\n",
    "$$s_j'(x_j) = s_{j-1}'(x_j) \\qquad \\text{és} \\qquad s_j''(x_j) = s_{j-1}''(x_j)$$\n",
    "teljesül, ezért\n",
    "először is\n",
    "$$ \\left(l_{j}' + w_j'e_j +w_j e_j'\\right)(x_j) = \\left(l_{j-1}' + w_{j-1}'e_{j-1} +w_{j-1} e_{j-1}'\\right)(x_{j}),$$\n",
    "amiből a tagok és tényezők fokszámát kihasználva, behelyettesítéssel kapjuk, hogy\n",
    "$$ \n",
    " \\frac{y_{j+1} - y_j}{x_{j+1} - x_j} + (x_j - x_{j+1})b_j + 0 =   \\frac{y_{j} - y_{j-1}}{x_{j} - x_{j-1}} + (x_j - x_{j-1})( a_{j-1}(x_j - x_{j-1}) + b_{j-1}) + 0;\n",
    "$$\n",
    "másodszor pedig, kihasználva, hogy \n",
    "$$s_j'' = l_j'' + w_j''e_j + 2w_j'e_j' + w_je_j'' = 2e_j + 2w_j'e_j',$$\n",
    "adódik az egyenletünk\n",
    "$$ (e_j + w_j'e_j')(x_j) = (e_{j-1} + w_{j-1}'e_{j-1}')(x_j)$$\n",
    "alakja, mely behelyettesítés után az\n",
    "$$\n",
    "    b_j + (x_j - x_{j+1})a_j = a_{j-1}(x_j - x_{j-1}) + b_{j-1} + (x_j - x_{j-1})a_{j-1}\n",
    "$$\n",
    "alakot ölti. Ha $\\nu_j = x_{j+1} - x_{j}$, és $\\delta_j = \\frac{y_{j+1} - y_{j}}{\\nu_j}$, akkor ezek az egyenletek rendre\n",
    "$$\n",
    " \\delta_{j} - \\nu_{j}b_j =   \\delta_{j-1} + a_{j-1}\\nu_{j-1}^2 + b_{j-1}\\nu_{j-1}\n",
    "$$\n",
    "és\n",
    "$$\n",
    " b_j - \\nu_{j} a_j = 2a_{j-1}\\nu_{j-1} + b_{j-1},\n",
    "$$\n",
    "alakúak, azaz lineárisak az $a_k, b_k$ vátozókban.\n",
    "\n",
    "Próbáljuk még egyszerűsíteni az életünket, legyen $\\gamma_{j-1} = \\frac{\\delta_j - \\delta_{j-1}}{\\nu_{j-1}}$, $c_j = \\nu_j a_j$.\n",
    "Ekkor\n",
    "$$\n",
    "  c_{j-1} = \\gamma_{j-1} - \\frac{\\nu_{j}}{\\nu_{j-1}}b_j - b_{j-1} \\qquad\\qquad (j=1..n-1)\n",
    "$$\n",
    "és\n",
    "$$\n",
    " b_j - b_{j-1} = c_j + 2c_{j-1}. \\qquad\\qquad (j=1..n-1)\n",
    "$$\n",
    "Tehát, egyrészt \n",
    "$$\n",
    " b_{n-1} - b_{n-2} = c_{n-1} + 2c_{n-2},\n",
    "$$\n",
    "másrészt\n",
    "$$\n",
    " b_j - b_{j-1} = \n",
    " \\left(\\gamma_{j} - \\frac{\\nu_{j+1}}{\\nu_{j}}b_{j+1} - b_{j}\\right)\n",
    " + 2\\left(\\gamma_{j-1} - \\frac{\\nu_{j}}{\\nu_{j-1}}b_j - b_{j-1}\\right), \\qquad\\qquad (j=1..n-2)\n",
    "$$\n",
    "azaz\n",
    "$$\n",
    " \\frac{\\nu_{j+1}}{\\nu_{j}}b_{j+1} + 2\\left(1 + \\frac{\\nu_{j}}{\\nu_{j-1}}\\right) b_{j} + b_{j-1} = \\gamma_j + 2\\gamma_{j-1}. \\qquad\\qquad (j=1..n-2)\n",
    "$$\n",
    "Vagyis ha ismerjük a $b_0, \\ldots, b_{n-1}$ értékeket, akkor azokból tudjuk a $c_0, \\ldots, c_{n-2}$ értékeket is, amikkel pedig már a $c_{n-1}$-et is. Tehát a $c_j$-k ilyenkor megvannak.\n",
    "\n",
    "Az $n$ darab $b_j$ meghatározására maradt $(n-2)$ egyenlet. Ha ezek mellett adott $b_0$ és $b_{n-1}$, akkor a többi $b_j$ is megkapható.\n",
    "</details>"
   ]
  },
  {
   "cell_type": "markdown",
   "id": "e12e3ed2-cca2-48df-8b26-30007f322ffb",
   "metadata": {},
   "source": [
    "----------"
   ]
  },
  {
   "cell_type": "markdown",
   "id": "67bf02af-9573-4738-b0cf-073619d8b4f6",
   "metadata": {},
   "source": [
    "#### Köbös, természetes spline $3$ egymást egységnyi távolságban követő alappontra\n",
    "\n",
    "Adott $x_0, x_1, x_2$ pontokra és $y_0, y_1, y_2$ értékekre kereshetjük a két részből álló spline formuláját az alábbi alakban:\n",
    "\n",
    "$$[x_0, x_1] \\ni x \\quad \\mapsto \\quad p_0(x) =  y_0 + \\delta_{0,1} (x-x_0) + (x-x_0)(x - x_1)(a(x-x_0) + b)$$\n",
    "és\n",
    "$$[x_1, x_2] \\ni x \\quad \\mapsto \\quad p_1(x) =  y_2 + \\delta_{2,1} (x-x_2) + (x-x_1)(x - x_2)(c(x-x_2) + d).$$\n",
    "\n",
    "Tehát ismeretlenek: $a,b,c,d$. A csatlakozási pont az $x_1$. Számoljuk ki az első két deriváltat mindkét polinomra:\n",
    "\n",
    "$$ p_0'(x) = \\delta_{0,1} + (x - x_0 + x - x_1)(a(x-x_0) + b) + (x-x_0)(x-x_1)a $$\n",
    "és\n",
    "$$ p_0''(x)  = 2(a(x-x_0) + b) + 2a(x-x_0 + x-x_1), $$\n",
    "illetve analóg módon\n",
    "$$ p_1'(x) = \\delta_{1,2} + (x - x_1 + x - x_2)(c(x-x_2) + d) + (x-x_1)(x-x_2)c $$\n",
    "és\n",
    "$$ p_1''(x)  = 2(c(x-x_2) + d) + 2c(x-x_1 + x-x_2). $$\n",
    "\n",
    "**Tegyük fel**, hogy $x_{j+1} - x_j = 1$ minden $j$-re. Behelyettesítve az $x_1$ értéket az első deriváltakba, adódik, hogy\n",
    "$$\\delta_{0,1} + (1 + 0)(a\\cdot 1 + b) + 1\\cdot 0 \\cdot a = \\delta_{1,2} + (0 - 1)(c(-1) + d) + 0,$$\n",
    "\n",
    "azaz $$a + b = \\delta_{1,2} - \\delta_{0,1} + c - d.$$\n",
    "Behelyettesítve az $x_1$ értéket a második deriváltakba, adódik, hogy \n",
    "$$ 2(a + b) + 2a(1 + 0) = 2(c(-1) + d) + 2c(-1), $$\n",
    "azaz\n",
    "$$ 4a + 2b = 2d - 4c. $$\n",
    "\n",
    "**Tegyük fel**, hogy $p_0''(x_0) = 0 = p_1''(x_2)$.\n",
    "Ekkor teljesül, hogy\n",
    "$$ 2b + 2a(-1) = 0 =  2d + 2c, $$\n",
    "azaz $b = a, c = -d$, amivel a deriváltak $x_1$-beli egyenlőségét leíró egyenletek alakja a következőkre egyszerűsödik:\n",
    "$$2a = \\delta_{1,2} - \\delta_{0,1} + 2c $$\n",
    "és\n",
    "$$ 6a = -6c.$$\n",
    "Amiből tehát adott $a$ esetén $b = a, c=-a, d=a$ és \n",
    "$$\n",
    "a = \\frac{\\delta_{1,2} - \\delta_{0,1}}{4}.\n",
    "$$"
   ]
  },
  {
   "cell_type": "markdown",
   "id": "26a8ca1d-3e2a-4c5c-9e8b-d91e19f8bdc9",
   "metadata": {},
   "source": [
    "#### 4. Feladat\n",
    "Írjuk fel az $(-1, 0, 1)$ pontokhoz és $(1, 0, 1)$ értékekhez tartozó köbös spline-okat definiáló egyenleteket. Majd számoljuk ki, hogy milyen polinomokat kapunk akkor, ha a végpontokban a második deriváltat $0$-nak írjuk elő."
   ]
  },
  {
   "cell_type": "code",
   "execution_count": null,
   "id": "b6e6518d-f66d-44b4-aaac-9cd49796ba56",
   "metadata": {},
   "outputs": [],
   "source": []
  },
  {
   "cell_type": "markdown",
   "id": "c98776d6-1ec8-4f1e-84c8-5911c287244e",
   "metadata": {},
   "source": [
    "#### 5. Feladat\n",
    "Írjunk programot, ami adott $x$ és $y$ -pontokat és az ott felveendő értékeket tartalmazó- **három hosszú** vektorokra köbös spline-t illeszt, a \"természetes\" (végpontokban eltűnő második derivált) peremfeltétellel. Feltehetjük, hogy a pontok egymást egyenlő távolságban követik, hogy könnyebb legyen leírni a megoldást."
   ]
  },
  {
   "cell_type": "code",
   "execution_count": null,
   "id": "5980c8bd-edd8-408d-b0c1-66f0b6ea66b9",
   "metadata": {},
   "outputs": [],
   "source": []
  },
  {
   "cell_type": "markdown",
   "id": "5e394848-c738-4323-a55f-31bd4f8e5a63",
   "metadata": {},
   "source": [
    "#### 6. Feladat*\n",
    "Írjunk programot, ami adott $x$ és $y$ -pontokat és az ott felveendő értékeket tartalmazó- vektorokra köbös spline-ot illeszt, a kedvenc peremfeltételünkkel."
   ]
  },
  {
   "cell_type": "code",
   "execution_count": null,
   "id": "69aa51b1-02b4-4ac2-9f9a-6df9b12927ac",
   "metadata": {},
   "outputs": [],
   "source": []
  }
 ],
 "metadata": {
  "kernelspec": {
   "display_name": "Julia 1.9.2",
   "language": "julia",
   "name": "julia-1.9"
  },
  "language_info": {
   "file_extension": ".jl",
   "mimetype": "application/julia",
   "name": "julia",
   "version": "1.9.3"
  }
 },
 "nbformat": 4,
 "nbformat_minor": 5
}
