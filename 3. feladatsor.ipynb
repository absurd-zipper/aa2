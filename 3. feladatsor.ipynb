{
 "cells": [
  {
   "cell_type": "markdown",
   "id": "40071d4c-8345-4195-a2c7-f99bb6bc8a6a",
   "metadata": {},
   "source": [
    "## 3. Feladatsor (numerikus deriválás & integrálás)"
   ]
  },
  {
   "cell_type": "markdown",
   "id": "8b96b30e-f3cc-4e3a-8bec-47407bd9e1eb",
   "metadata": {},
   "source": [
    "### Interpolációból származtatható formulák\n",
    "\n",
    "**Ötlet:** közelítsük az $f$ függvényt egy $p$ interpolációs polinommal. Ezt könnyű deriválni és integrálni. Közelítsük a keresett integrál és derivált értéket az $\\int p$ és $p'$ függvényekbe való helyettesítéssel."
   ]
  },
  {
   "cell_type": "markdown",
   "id": "06023a08-0189-45ec-976f-782eacaea862",
   "metadata": {},
   "source": [
    "**Példa:** Legyen a $0, h$ a két alappontunk, továbbá $y_0, y_h$ az ott felvett függvényértékünk. Ekkor az interpolációs polinom Newton-féle alakja\n",
    "$$p(x) = y_0 + \\frac{y_h - y_0}{h - 0}(x - 0),$$\n",
    "melyből\n",
    "$$ p'(x) = \\frac{y_h - y_0}{h} $$\n",
    "illetve\n",
    "$$\\int p(x) = y_0 x + \\frac{y_h - y_0}{2h}x^2,$$\n",
    "így\n",
    "\n",
    "$$ f'(0) \\approx p'(0) =  \\frac{y_h - y_0}{h} = \\frac{f(h) - f(0)}{h} $$\n",
    "és\n",
    "$$ \\int\\limits_0^h f \\approx \\int\\limits_0^h p = \\left( \\int p \\right)(h) - \\left( \\int p \\right)(0) = y_0 h + \\frac{y_h - y_0}{2}h - 0 = \\frac{y_0 + y_h}{2}h.$$"
   ]
  },
  {
   "cell_type": "markdown",
   "id": "458da162-e933-47cc-8755-02a28b767904",
   "metadata": {},
   "source": [
    "#### 1. Feladat\n",
    "\n",
    "Legyenek most az alappontok $-h, 0, h$. Írjuk fel az interpolációs polinom Newton-féle alakját és ennek segítségével adjunk közelítést a $f'(0)$ illetve az $\\int_{-h}^{h} f$ értékekre."
   ]
  },
  {
   "cell_type": "code",
   "execution_count": null,
   "id": "b641e923-5842-458c-9267-2edf7b83e4f2",
   "metadata": {},
   "outputs": [],
   "source": []
  },
  {
   "cell_type": "markdown",
   "id": "1e8356c1-2243-48d1-98d4-e9475880c941",
   "metadata": {},
   "source": [
    "**Megjegyzés**\n",
    "\n",
    "Az interpolációs-megközelítésből természetes módon adódik hibabecslés is az integrált, illetve a deriváltat közelítő formulákra."
   ]
  },
  {
   "cell_type": "markdown",
   "id": "d08865c9-dbae-4dda-aa28-2ca91ec3174b",
   "metadata": {},
   "source": [
    "------------"
   ]
  },
  {
   "cell_type": "markdown",
   "id": "cc539c79-cef5-45ad-b7c1-b385fb8e10ab",
   "metadata": {},
   "source": [
    "### Kvadratúrák\n",
    "\n",
    "**Ötlet:**\n",
    "Adott $f: [0,1] \\to \\mathbb{R}$ függvény, $0 \\leq c_j \\leq 1$ alappontok és $b_j \\in \\mathbb{R}$ súlyok mellett tekintsük az alábbi közelítést: $$\\int_0^1 f \\approx \\sum\\limits_{j=1}^s b_j f(c_j). $$\n",
    "\n",
    "**Rend:** Egy ilyen kvadratúrát $p$-edrendűnek nevezünk, ha pontosan integrálja a legfeljebb $(p-1)$-edfokú polinomokat, de a $p$-edfokúakat már nem.\n",
    "\n",
    "**Rendfeltételek:**\n",
    "Egy $p$-edrendű kvadratúra pontosan kell, hogy integrálja az $1, x, x^2, \\ldots, x^{p-1}$ monomokat. Fordítva, ha egy kvadratúra ezeket pontosan integrálja, akkor ezek lineáris kombinációit is (hiszen az integrálás lineáris), tehát minden legfeljebb $(p-1)$-edfokú polinomot, tehát legalább $p$-edrendű.\n",
    "\n",
    "Behelyettesítve, ez azt jelenti, hogy az alábbi feltételeknek kell teljesülnie a (legalább) p-edrendűséghez:\n",
    "$$\n",
    "  \\sum\\limits_{j=1}^s b_j (c_j)^{\\color{red} q-1} = \\int_0^1 x^{q-1} \\, dx = \\frac{1}{q}. \\qquad (q=1\\ldots p)\n",
    "$$\n",
    "\n",
    "Nevezetesen, ha olyan \"kvadratúrát\" látunk, mely a konstansokat sem integrálja jól, azaz melyre\n",
    "$\\sum b_j \\neq 1$, akkor meneküljünk."
   ]
  },
  {
   "cell_type": "markdown",
   "id": "a0ecf3a8-d49d-47bf-bc90-0a93c2451942",
   "metadata": {},
   "source": [
    "#### 2. Feladat\n",
    "Írjunk programot, ami kiszámolja egy adott kvadratúra rendjét. Próbáljuk is ki néhány ismert formulán (pl. Simpson-szabály)."
   ]
  },
  {
   "cell_type": "code",
   "execution_count": 1,
   "id": "1dd9fc06-21a1-4ebc-be51-732bee4ad777",
   "metadata": {},
   "outputs": [
    {
     "data": {
      "text/plain": [
       "kvadratura_rend (generic function with 1 method)"
      ]
     },
     "execution_count": 1,
     "metadata": {},
     "output_type": "execute_result"
    }
   ],
   "source": [
    "function kvadratura_rend(bs,cs)\n",
    "    # bs: súlyok\n",
    "    # cs: alappontok ([0,1]-ből)\n",
    "\n",
    "    # TODO\n",
    "end"
   ]
  },
  {
   "cell_type": "markdown",
   "id": "711435e5-0198-44f2-b3d1-6f23a443a438",
   "metadata": {},
   "source": [
    "**Megjegyzés:** Nagy rendet az alappontok és súlyok jó megválasztásával érhetünk el, a maximális rendet a Gauss-féle kvadratúrák tudják. Ezek rendje $2s$. Az alappontok bizonyos ortogonális polinomok gyökei lesznek."
   ]
  },
  {
   "cell_type": "markdown",
   "id": "c84f801b-98bf-4955-9197-fd797f0344f7",
   "metadata": {},
   "source": [
    "#### 3. Feladat\n",
    "\n",
    "Legyen $s=1$. Adjuk meg kézzel a másodrendű (Gauss-féle) kvadratúrát megadó $b_1, c_1$ értékeket. Milyen polinomokat fog ez pontosan integrálni?"
   ]
  },
  {
   "cell_type": "code",
   "execution_count": null,
   "id": "924d2237-bbb3-43ca-8a18-9bbe828ceecd",
   "metadata": {},
   "outputs": [],
   "source": []
  },
  {
   "cell_type": "markdown",
   "id": "684aa2d3-6d2a-434b-8cb9-6b3d1bb41b9b",
   "metadata": {},
   "source": [
    "#### 4. Feladat\n",
    "Legyen $s=2$. Tegyük fel, hogy tudjuk, hogy $b_1 = b_2$. Mely $b_1, b_2, c_1, c_2$ értékekkel kapjuk meg a negyedrendű (Gauss-féle) kvadratúrát?"
   ]
  },
  {
   "cell_type": "code",
   "execution_count": null,
   "id": "f6abe740-2bc0-44ad-9b84-e164641f9103",
   "metadata": {},
   "outputs": [],
   "source": []
  },
  {
   "cell_type": "markdown",
   "id": "23cdd8ba-76f0-4439-87c2-b37becc54262",
   "metadata": {},
   "source": [
    "#### 5. Feladat\n",
    "Mutassunk egy olyan polinomot, melyet az előző feladat kvadratúrája pontosan integrál, azonban a Simpson-szabály nem! $\\text{\\color{red} Ha nincs ilyen, indokoljuk meg, hogy miért nincs!}$"
   ]
  },
  {
   "cell_type": "code",
   "execution_count": null,
   "id": "7722f11d-61e5-4174-8efc-f8361c9395a8",
   "metadata": {},
   "outputs": [],
   "source": []
  },
  {
   "cell_type": "markdown",
   "id": "0eed8f13-0031-40dc-8100-cd86c8d58b30",
   "metadata": {},
   "source": [
    "---------------------\n",
    "\n",
    "**Ötlet:** Az alappontjainkat választhatjuk akár véletlenszerűen is.\n",
    "\n",
    "Ismeretes, hogy ha $X$ egy valószínűségi változó, mely $\\rho$ sűrűségfüggvénye a $[0,1]$-re koncentrált, akkor adott mérhető $f$ függvény mellett\n",
    "$$\n",
    "\\mathbb{E}[f(X)] = \\int\\limits_0^1 f(x) \\rho (x) \\, dx.\n",
    "$$\n",
    "Látható, hogy ha $\\rho = \\chi_{[0,1]}$, azaz a $[0,1]$ intervallum indikátorfüggvénye, akkor \n",
    "$$\n",
    "\\mathbb{E}[f(X)] = \\int\\limits_0^1 f(x) \\, dx.\n",
    "$$\n",
    "Hogyan tudnánk a baloldalon álló kifejezést közelíteni? A nagy számok gyenge törvényével, természetesen!\n",
    "\n",
    "Sorsoljunk tehát a $[0,1]$-en egyenletes eloszlásból $\\xi_j$ értékeket, helyettesítsük ezeket be és vegyük a kapott értékek átlagát:\n",
    "$$\n",
    " \\mathbb{E}[f(X)] \\approx \\frac{1}{N} \\sum\\limits_{j=1}^N f(\\xi_j).\n",
    "$$\n"
   ]
  },
  {
   "cell_type": "markdown",
   "id": "d99de838-2af3-430b-8079-e51f90685219",
   "metadata": {},
   "source": [
    "#### 6. Feladat\n",
    "\n",
    "Írjunk programot, ami ezzel a megközelítéssel dolgozva határozza meg egy $[0,1]$ intervallumon vett intergál közelítő-értékét. Próbáljuk is ki ezt, például az $x^4$ függvényre. Ábrázoljuk hibákat log-log ábrán és fogalmazzunk meg sejtést arról, hogy kb. hányszorosára változik a hiba, ha a sorsolt pontok számát megtízszerezzük."
   ]
  },
  {
   "cell_type": "code",
   "execution_count": null,
   "id": "1b542626-df19-4132-ae37-13e452d8e239",
   "metadata": {},
   "outputs": [],
   "source": []
  },
  {
   "cell_type": "markdown",
   "id": "6f109e5e-d346-4e80-a1dd-e39f6f19dd1a",
   "metadata": {},
   "source": [
    "----------------"
   ]
  },
  {
   "cell_type": "markdown",
   "id": "0eed40ba-1ac2-483d-a588-057d6e316aab",
   "metadata": {},
   "source": [
    "### Hibabecslés és adaptivitás\n",
    "\n",
    "Tegyük fel, hogy közelíteni szeretnénk egy $x$, sokszor folyt. diff.ható függvény értékét a $0$ körül. Vegyük egy $p$-edrendű $y$ közelítést és egy $h > 0$ kis valós számot. Ekkor próbáljuk megbecsülni az \n",
    "$$\n",
    "e(h) = x(h) - y(h) = C h^{p+1} + \\mathcal{O}(h^{p+2})\n",
    "$$\n",
    "\n",
    "hibát, melyet feltételezéseink szerint jól jellemez a $C$ konstans."
   ]
  },
  {
   "cell_type": "markdown",
   "id": "d529e20f-214f-4c81-a0ac-72bb7100d982",
   "metadata": {},
   "source": [
    "Egy lehetséges megközelítés, hogy vegyünk egy $z$ közelítést, mely legyen $p+1$-edrendű. Ekkor\n",
    "$$\n",
    "x(h) - z(h) = \\tilde C h^{p+2} + \\mathcal{O}(h^{p+3}).\n",
    "$$\n",
    "\n",
    "Tekintsük $z$-t pontos megoldásnak, és közelítsük a tényleges hiba értékét ennek segítségével, pontosabban:\n",
    "$$\n",
    " e(h) \\approx y(h) - z(h) = y(h) - x(h) + x(h) - z(h) = -C h^{p+1} + \\mathcal{O}(h^{p+2}).\n",
    "$$\n"
   ]
  },
  {
   "cell_type": "markdown",
   "id": "bfeec95f-4219-488a-add5-cc431cec11d1",
   "metadata": {},
   "source": [
    "Nekünk az $y$ és $z$ természetesen egy-egy kvadratúra lesz."
   ]
  },
  {
   "cell_type": "markdown",
   "id": "e45e71a3-b308-44fd-95a5-bce87b4d996a",
   "metadata": {},
   "source": [
    "#### 7. Feladat\n",
    "\n",
    "Írjunk programot, mely egy $p$-edrendű kvadratúrával megközelíti egy függvénynek a $[0,h]$ intervallumon vett integrálját és egy $(p+1)$-edrendű kvadratúrából hibabecslést is ad nekünk erre, például $p=1$ esetén."
   ]
  },
  {
   "cell_type": "code",
   "execution_count": null,
   "id": "e0f8441a-ea04-4a8b-a1ee-a3e4986519cb",
   "metadata": {},
   "outputs": [],
   "source": []
  },
  {
   "cell_type": "markdown",
   "id": "3b631473-d72e-4a5d-91a5-03789b48a6a1",
   "metadata": {},
   "source": [
    "Ha hibabecsléssel már rendelkezünk, akkor egy egyszerű adaptív algoritmus a következő.\n",
    "\n",
    "Osszuk fel az intervallumot $h$ hosszú (vagy N db) részintervallumokra. Számoljuk ki a függvényünk intergráljának közelítését (hibabecsléssel együtt) az egyes részintervallumokon. Ha valamelyik részintervallumon a hiba túl nagynak bizonyul, akkor osszuk fel azt az intervallumot két feleakkora részre és ismételjük meg az integrálást ezeken. \"És így tovább.\""
   ]
  },
  {
   "cell_type": "markdown",
   "id": "b83207d1-979f-4001-b303-2f8e48b7a58b",
   "metadata": {},
   "source": [
    "#### 8. Feladat (*)\n",
    "Implementáljuk a fenti algoritmust."
   ]
  },
  {
   "cell_type": "code",
   "execution_count": null,
   "id": "daacefa2-f0e6-4cdb-b316-dedf8c354614",
   "metadata": {},
   "outputs": [],
   "source": []
  }
 ],
 "metadata": {
  "kernelspec": {
   "display_name": "Julia 1.9.2",
   "language": "julia",
   "name": "julia-1.9"
  },
  "language_info": {
   "file_extension": ".jl",
   "mimetype": "application/julia",
   "name": "julia",
   "version": "1.9.3"
  }
 },
 "nbformat": 4,
 "nbformat_minor": 5
}
