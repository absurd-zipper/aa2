{
 "cells": [
  {
   "cell_type": "markdown",
   "id": "40071d4c-8345-4195-a2c7-f99bb6bc8a6a",
   "metadata": {},
   "source": [
    "## 3. Feladatsor (numerikus deriválás & integrálás)"
   ]
  },
  {
   "cell_type": "markdown",
   "id": "8b96b30e-f3cc-4e3a-8bec-47407bd9e1eb",
   "metadata": {},
   "source": [
    "### Interpolációból származtatható formulák\n",
    "\n",
    "**Ötlet:** közelítsük az $f$ függvényt egy $p$ interpolációs polinommal. Ezt könnyű deriválni és integrálni. Közelítsük a keresett integrál és derivált értéket az $\\int p$ és $p'$ függvényekbe való helyettesítéssel."
   ]
  },
  {
   "cell_type": "markdown",
   "id": "06023a08-0189-45ec-976f-782eacaea862",
   "metadata": {},
   "source": [
    "**Példa:** Legyen a $0, h$ a két alappontunk, továbbá $y_0, y_h$ az ott felvett függvényértékünk. Ekkor az interpolációs polinom Newton-féle alakja\n",
    "$$p(x) = y_0 + \\frac{y_h - y_0}{h - 0}(x - 0),$$\n",
    "melyből\n",
    "$$ p'(x) = \\frac{y_h - y_0}{h} $$\n",
    "illetve\n",
    "$$\\int p(x) = y_0 x + \\frac{y_h - y_0}{2h}x^2,$$\n",
    "így\n",
    "\n",
    "$$ f'(0) \\approx p'(0) =  \\frac{y_h - y_0}{h} = \\frac{f(h) - f(0)}{h} $$\n",
    "és\n",
    "$$ \\int\\limits_0^h f \\approx \\int\\limits_0^h p = \\left( \\int p \\right)(h) - \\left( \\int p \\right)(0) = y_0 h + \\frac{y_h - y_0}{2}h - 0 = \\frac{y_0 + y_h}{2}h.$$"
   ]
  },
  {
   "cell_type": "markdown",
   "id": "458da162-e933-47cc-8755-02a28b767904",
   "metadata": {},
   "source": [
    "#### 1. Feladat\n",
    "\n",
    "Legyenek most az alappontok $-h, 0, h$. Írjuk fel az interpolációs polinom Newton-féle alakját és ennek segítségével adjunk közelítést a $f'(0)$ illetve az $\\int_{-h}^{h} f$ értékekre."
   ]
  },
  {
   "cell_type": "code",
   "execution_count": null,
   "id": "b641e923-5842-458c-9267-2edf7b83e4f2",
   "metadata": {},
   "outputs": [],
   "source": []
  },
  {
   "cell_type": "markdown",
   "id": "4f8149b7-cd32-4912-a91b-e67d97e2a2dd",
   "metadata": {},
   "source": [
    "**Mo.** \n",
    "Az interpolációs polinom alakja\n",
    "$$ p(x) = y_{-h} + \\frac{y_{0} - y_{-h}}{0 - (-h)} (x-(-h)) + \\frac{y_h - 2y_{0} + y_{-h}}{2(h - 0)(h - (-h))}(x-(-h))(x-0),\n",
    "$$\n",
    "azaz\n",
    "$$\n",
    "p(x) = y_{-h} + \\frac{y_{0} - y_{-h}}{h} (x+h) + \\frac{y_h - 2y_{0} + y_{-h}}{2h^2}(x+h)(x). \n",
    "$$"
   ]
  },
  {
   "cell_type": "markdown",
   "id": "bbf2c6b8-8574-4232-b2d6-c9b150b5f81b",
   "metadata": {},
   "source": [
    "Ekkor\n",
    "$$\n",
    "p'(x) = \\frac{y_{0} - y_{-h}}{h} + \\frac{y_h - 2y_{0} + y_{-h}}{2h^2}(2x+h),\n",
    "$$\n",
    "így\n",
    "$$\n",
    "p'(0) = \\frac{y_{0} - y_{-h}}{h} + \\frac{y_h - 2y_{0} + y_{-h}}{2h} = \\frac{y_h - y_{-h}}{2h},\n",
    "$$\n",
    "ami a szokásos centrális másodrendű differenciacsillag."
   ]
  },
  {
   "cell_type": "markdown",
   "id": "e57d1a0f-1621-4a2a-bce9-9fc38677a231",
   "metadata": {},
   "source": [
    "Másrészt, ha $P' = p$, akkor\n",
    "$$\n",
    "P(x) = x y_{-h} + \\frac{y_{0} - y_{-h}}{h} x(x/2+h) + \\frac{y_h - 2y_{0} + y_{-h}}{2h^2}(x/3+h/2)(x^2).\n",
    "$$\n",
    "Így\n",
    "$$P(h) = h y_{-h} + \\frac{y_{0} - y_{-h}}{h} h(h/2+h) + \\frac{y_h - 2y_{0} + y_{-h}}{2h^2}(h/3+h/2)(h^2)$$\n",
    "és\n",
    "$$P(-h) = -h y_{-h} + \\frac{y_{0} - y_{-h}}{h} (-h)(-h/2+h) + \\frac{y_h - 2y_{0} + y_{-h}}{2h^2}(-h/3+h/2)(h^2)$$, tehát\n",
    "$$P(h) - P(-h) = 2h\\left(\n",
    "y_{-h} + (y_{0} - y_{-h})(3/2 + 1/2)/2 + \\frac14 (y_h - 2y_{0} + y_{-h})(1/3 + 1/2 - (1/2 - 1/3))\n",
    "\\right),$$\n",
    "vagyis\n",
    "$$\n",
    "\\int_{-h}^h p = 2h \\left(\n",
    "y_{-h} + y_{0} - y_{-h} + \\frac14 (y_h - 2y_{0} + y_{-h})(4/6)\\right)\n",
    "= 2h\\frac16\\left(y_{-h} + 4 y_0 + y_h\\right),\n",
    "$$\n",
    "ami nem más, mint a Simpson-formula."
   ]
  },
  {
   "cell_type": "code",
   "execution_count": null,
   "id": "d58a2695-3e81-4310-b0df-4298e6e4890e",
   "metadata": {},
   "outputs": [],
   "source": []
  },
  {
   "cell_type": "markdown",
   "id": "1e8356c1-2243-48d1-98d4-e9475880c941",
   "metadata": {},
   "source": [
    "**Megjegyzés**\n",
    "\n",
    "Az interpolációs-megközelítésből természetes módon adódik hibabecslés is az integrált, illetve a deriváltat közelítő formulákra."
   ]
  },
  {
   "cell_type": "markdown",
   "id": "d08865c9-dbae-4dda-aa28-2ca91ec3174b",
   "metadata": {},
   "source": [
    "------------"
   ]
  },
  {
   "cell_type": "markdown",
   "id": "cc539c79-cef5-45ad-b7c1-b385fb8e10ab",
   "metadata": {},
   "source": [
    "### Kvadratúrák\n",
    "\n",
    "**Ötlet:**\n",
    "Adott $f: [0,1] \\to \\mathbb{R}$ függvény, $0 \\leq c_j \\leq 1$ alappontok és $b_j \\in \\mathbb{R}$ súlyok mellett tekintsük az alábbi közelítést: $$\\int_0^1 f \\approx \\sum\\limits_{j=1}^s b_j f(c_j). $$\n",
    "\n",
    "**Rend:** Egy ilyen kvadratúrát $p$-edrendűnek nevezünk, ha pontosan integrálja a legfeljebb $(p-1)$-edfokú polinomokat, de a $p$-edfokúakat már nem.\n",
    "\n",
    "**Rendfeltételek:**\n",
    "Egy $p$-edrendű kvadratúra pontosan kell, hogy integrálja az $1, x, x^2, \\ldots, x^{p-1}$ monomokat. Fordítva, ha egy kvadratúra ezeket pontosan integrálja, akkor ezek lineáris kombinációit is (hiszen az integrálás lineáris), tehát minden legfeljebb $(p-1)$-edfokú polinomot, tehát legalább $p$-edrendű.\n",
    "\n",
    "Behelyettesítve, ez azt jelenti, hogy az alábbi feltételeknek kell teljesülnie a (legalább) p-edrendűséghez:\n",
    "$$\n",
    "  \\sum\\limits_{j=1}^s b_j (c_j)^{\\color{red} q-1} = \\int_0^1 x^{q-1} \\, dx = \\frac{1}{q}. \\qquad (q=1\\ldots p)\n",
    "$$\n",
    "\n",
    "Nevezetesen, ha olyan \"kvadratúrát\" látunk, mely a konstansokat sem integrálja jól, azaz melyre\n",
    "$\\sum b_j \\neq 1$, akkor meneküljünk."
   ]
  },
  {
   "cell_type": "markdown",
   "id": "a0ecf3a8-d49d-47bf-bc90-0a93c2451942",
   "metadata": {},
   "source": [
    "#### 2. Feladat\n",
    "Írjunk programot, ami kiszámolja egy adott kvadratúra rendjét. Próbáljuk is ki néhány ismert formulán (pl. Simpson-szabály)."
   ]
  },
  {
   "cell_type": "code",
   "execution_count": 186,
   "id": "1dd9fc06-21a1-4ebc-be51-732bee4ad777",
   "metadata": {},
   "outputs": [
    {
     "data": {
      "text/plain": [
       "kvadratura_rend (generic function with 1 method)"
      ]
     },
     "execution_count": 186,
     "metadata": {},
     "output_type": "execute_result"
    }
   ],
   "source": [
    "using Base.Iterators\n",
    "\n",
    "function kvadratura_rend(bs,cs)\n",
    "    # bs: súlyok\n",
    "    # cs: alappontok ([0,1]-ből)\n",
    "\n",
    "    s = length(bs)\n",
    "    # max rend = 2s, elég addig nézni\n",
    "    cond_errs = cs' .^ (0:(2*s-1)) * bs .- 1 ./ (1:(2*s))\n",
    "    return sum(map(x->1, takewhile(x -> abs(x) <= 1e-14, cond_errs)))\n",
    "end"
   ]
  },
  {
   "cell_type": "code",
   "execution_count": 187,
   "id": "3738752d-6b52-4d56-8baa-9df4b964b5e4",
   "metadata": {},
   "outputs": [
    {
     "data": {
      "text/plain": [
       "1"
      ]
     },
     "execution_count": 187,
     "metadata": {},
     "output_type": "execute_result"
    }
   ],
   "source": [
    "kvadratura_rend([1], [1])"
   ]
  },
  {
   "cell_type": "code",
   "execution_count": 188,
   "id": "3a08dd10-74b5-48b5-9fdc-a8eae47a50ab",
   "metadata": {},
   "outputs": [
    {
     "data": {
      "text/plain": [
       "2"
      ]
     },
     "execution_count": 188,
     "metadata": {},
     "output_type": "execute_result"
    }
   ],
   "source": [
    "kvadratura_rend([1],[1/2])"
   ]
  },
  {
   "cell_type": "code",
   "execution_count": 189,
   "id": "6b34d079-b5e9-4433-8c51-05f9360baf53",
   "metadata": {},
   "outputs": [
    {
     "data": {
      "text/plain": [
       "4"
      ]
     },
     "execution_count": 189,
     "metadata": {},
     "output_type": "execute_result"
    }
   ],
   "source": [
    "kvadratura_rend([1,4,1]./6,[0, 1/2, 1])"
   ]
  },
  {
   "cell_type": "markdown",
   "id": "711435e5-0198-44f2-b3d1-6f23a443a438",
   "metadata": {},
   "source": [
    "**Megjegyzés:** Nagy rendet az alappontok és súlyok jó megválasztásával érhetünk el, a maximális rendet a Gauss-féle kvadratúrák tudják. Ezek rendje $2s$. Az alappontok bizonyos ortogonális polinomok gyökei lesznek."
   ]
  },
  {
   "cell_type": "markdown",
   "id": "c84f801b-98bf-4955-9197-fd797f0344f7",
   "metadata": {},
   "source": [
    "#### 3. Feladat\n",
    "\n",
    "Legyen $s=1$. Adjuk meg kézzel a másodrendű (Gauss-féle) kvadratúrát megadó $b_1, c_1$ értékeket. Milyen polinomokat fog ez pontosan integrálni?"
   ]
  },
  {
   "cell_type": "code",
   "execution_count": 5,
   "id": "f2fba49f-4ab5-4133-abd0-6b895e4d4ae2",
   "metadata": {},
   "outputs": [],
   "source": [
    "# az elso 2 rendfeltetel:\n",
    "#\n",
    "# b_1 = 1\n",
    "# c_1 b_1 = 1/2\n",
    "#\n",
    "# tehat b_1 = 1, c_1 = 1/2"
   ]
  },
  {
   "cell_type": "markdown",
   "id": "684aa2d3-6d2a-434b-8cb9-6b3d1bb41b9b",
   "metadata": {},
   "source": [
    "#### 4. Feladat\n",
    "Legyen $s=2$. Tegyük fel, hogy tudjuk, hogy $b_1 = b_2$. Mely $b_1, b_2, c_1, c_2$ értékekkel kapjuk meg a negyedrendű (Gauss-féle) kvadratúrát?"
   ]
  },
  {
   "cell_type": "code",
   "execution_count": 190,
   "id": "f6abe740-2bc0-44ad-9b84-e164641f9103",
   "metadata": {},
   "outputs": [
    {
     "data": {
      "text/plain": [
       "4"
      ]
     },
     "execution_count": 190,
     "metadata": {},
     "output_type": "execute_result"
    }
   ],
   "source": [
    "# az elso 4 rendfeltetel:\n",
    "#\n",
    "# b_1 + b_2 = 2b = 1          -> b = 1/2\n",
    "#\n",
    "# (c_1 + c_2)/2 = 1/2         -> c_1 = c, c_2 = 1-c\n",
    "# (c^2 + (1-c)^2)/2 = 1/3\n",
    "# (c^3 + (1-c)^3)/2 = 1/4\n",
    "\n",
    "# a 3. rendfeltetelbol\n",
    "#\n",
    "# 2c^2 - 2c + 1/3 = 0\n",
    "# c_12 = (2 +- sqrt(4 - 8/3))/4 = 1/2 +- 1/2 * sqrt(1/3)\n",
    "#\n",
    "# szoval\n",
    "# c_1 = c   = 1/2 + 1/2 * sqrt(1/3)\n",
    "# c_2 = 1-c = 1/2 - 1/2 * sqrt(1/3)\n",
    "\n",
    "# Mj: azert nem hasznaltuk a 4. rendfeltetelt, mert tudtuk, hogy b_1 = b_2.\n",
    "#     szerencsere ez jo feltetelezes volt\n",
    "kvadratura_rend([1/2, 1/2], [1/2 - 1/2 * sqrt(1/3), 1/2 + 1/2 * sqrt(1/3)])"
   ]
  },
  {
   "cell_type": "markdown",
   "id": "23cdd8ba-76f0-4439-87c2-b37becc54262",
   "metadata": {},
   "source": [
    "#### 5. Feladat\n",
    "Mutassunk egy olyan polinomot, melyet az előző feladat kvadratúrája pontosan integrál, azonban a Simpson-szabály nem! $\\text{\\color{red} Ha nincs ilyen, indokoljuk meg, hogy miért nincs!}$"
   ]
  },
  {
   "cell_type": "code",
   "execution_count": 191,
   "id": "680a5a9f-f62a-42f8-9d06-ced3f15e25ad",
   "metadata": {},
   "outputs": [
    {
     "data": {
      "text/plain": [
       "0.25"
      ]
     },
     "execution_count": 191,
     "metadata": {},
     "output_type": "execute_result"
    }
   ],
   "source": [
    "function kvadratura01(bs, cs, f)\n",
    "    return sum(bs .* f.(cs))\n",
    "end\n",
    "\n",
    "simpson(f) = kvadratura01([1/6, 4/6, 1/6], [0, 1/2, 1], f)\n",
    "simpson(x -> x^3)"
   ]
  },
  {
   "cell_type": "code",
   "execution_count": 192,
   "id": "936ba0c1-62d0-4509-820b-6e7bece8e42c",
   "metadata": {},
   "outputs": [
    {
     "data": {
      "text/plain": [
       "0.25"
      ]
     },
     "execution_count": 192,
     "metadata": {},
     "output_type": "execute_result"
    }
   ],
   "source": [
    "gauss2(f)  = kvadratura01([1/2, 1/2], [1/2 - 1/2 * sqrt(1/3), 1/2 + 1/2 * sqrt(1/3)], f)\n",
    "gauss2(x -> x^3)"
   ]
  },
  {
   "cell_type": "code",
   "execution_count": 193,
   "id": "cebaea93-6dfa-43b2-8220-ad401e9b19da",
   "metadata": {},
   "outputs": [
    {
     "data": {
      "text/plain": [
       "4"
      ]
     },
     "execution_count": 193,
     "metadata": {},
     "output_type": "execute_result"
    }
   ],
   "source": [
    "# mindket kvadratura pontosan integralja a legfeljebb 3-adfokú polinomokat\n",
    "kvadratura_rend([1,4,1]./6,[0, 1/2, 1])"
   ]
  },
  {
   "cell_type": "code",
   "execution_count": 194,
   "id": "06929365-c869-4c7c-b4e8-96c7970d3d98",
   "metadata": {},
   "outputs": [],
   "source": [
    "# x^4-t meg mar egyik sem:"
   ]
  },
  {
   "cell_type": "code",
   "execution_count": 195,
   "id": "354895af-31e9-4485-aa08-a1b0727911a1",
   "metadata": {},
   "outputs": [
    {
     "data": {
      "text/plain": [
       "0.20833333333333331"
      ]
     },
     "execution_count": 195,
     "metadata": {},
     "output_type": "execute_result"
    }
   ],
   "source": [
    "simpson(x -> x^4)"
   ]
  },
  {
   "cell_type": "code",
   "execution_count": 196,
   "id": "877753ab-262a-4205-bc71-8a56ab2a0100",
   "metadata": {},
   "outputs": [
    {
     "data": {
      "text/plain": [
       "0.19444444444444445"
      ]
     },
     "execution_count": 196,
     "metadata": {},
     "output_type": "execute_result"
    }
   ],
   "source": [
    "gauss2(x -> x^4)"
   ]
  },
  {
   "cell_type": "markdown",
   "id": "0eed8f13-0031-40dc-8100-cd86c8d58b30",
   "metadata": {},
   "source": [
    "**Ötlet:** Az alappontjainkat választhatjuk akár véletlenszerűen is.\n",
    "\n",
    "Ismeretes, hogy ha $X$ egy valószínűségi változó, mely $\\rho$ sűrűségfüggvénye a $[0,1]$-re koncentrált, akkor adott mérhető $f$ függvény mellett\n",
    "$$\n",
    "\\mathbb{E}[f(X)] = \\int\\limits_0^1 f(x) \\rho (x) \\, dx.\n",
    "$$\n",
    "Látható, hogy ha $\\rho = \\chi_{[0,1]}$, azaz a $[0,1]$ intervallum indikátorfüggvénye, akkor \n",
    "$$\n",
    "\\mathbb{E}[f(X)] = \\int\\limits_0^1 f(x) \\, dx.\n",
    "$$\n",
    "Hogyan tudnánk a baloldalon álló kifejezést közelíteni? A nagy számok gyenge törvényével, természetesen!\n",
    "\n",
    "Sorsoljunk tehát a $[0,1]$-en egyenletes eloszlásból $\\xi_j$ értékeket, helyettesítsük ezeket be és vegyük a kapott értékek átlagát:\n",
    "$$\n",
    " \\mathbb{E}[f(X)] \\approx \\frac{1}{N} \\sum\\limits_{j=1}^N f(\\xi_j).\n",
    "$$\n"
   ]
  },
  {
   "cell_type": "markdown",
   "id": "d99de838-2af3-430b-8079-e51f90685219",
   "metadata": {},
   "source": [
    "#### 6. Feladat\n",
    "\n",
    "Írjunk programot, ami ezzel a megközelítéssel dolgozva határozza meg egy $[0,1]$ intervallumon vett intergál közelítő-értékét. Próbáljuk is ki ezt, például az $x^4$ függvényre. Ábrázoljuk hibákat log-log ábrán és fogalmazzunk meg sejtést arról, hogy kb. hányszorosára változik a hiba, ha a sorsolt pontok számát megtízszerezzük."
   ]
  },
  {
   "cell_type": "code",
   "execution_count": 197,
   "id": "ea453bae-cadb-450f-940c-0ab4551d5433",
   "metadata": {},
   "outputs": [
    {
     "data": {
      "text/plain": [
       "mc_int (generic function with 1 method)"
      ]
     },
     "execution_count": 197,
     "metadata": {},
     "output_type": "execute_result"
    }
   ],
   "source": [
    "function mc_int(f, N)\n",
    "    xs = rand(Float64, (1,N))\n",
    "    return sum(f.(xs))/N\n",
    "end"
   ]
  },
  {
   "cell_type": "code",
   "execution_count": 198,
   "id": "dcccb982-7244-425c-99c3-868a38f3bf47",
   "metadata": {},
   "outputs": [
    {
     "data": {
      "text/plain": [
       "-0.030144926038898345"
      ]
     },
     "execution_count": 198,
     "metadata": {},
     "output_type": "execute_result"
    }
   ],
   "source": [
    "mc_int(x->x^4, 10^2) - 1/5"
   ]
  },
  {
   "cell_type": "code",
   "execution_count": 199,
   "id": "434e33fb-3da5-4e82-bddb-c26f74c1e33b",
   "metadata": {},
   "outputs": [
    {
     "data": {
      "text/plain": [
       "0.0011103944413625166"
      ]
     },
     "execution_count": 199,
     "metadata": {},
     "output_type": "execute_result"
    }
   ],
   "source": [
    "mc_int(x->x^4, 10^4) - 1/5"
   ]
  },
  {
   "cell_type": "code",
   "execution_count": 200,
   "id": "4a952590-7c41-4e18-8b9a-dc2e59483b04",
   "metadata": {},
   "outputs": [
    {
     "data": {
      "text/plain": [
       "0.00019648094016458395"
      ]
     },
     "execution_count": 200,
     "metadata": {},
     "output_type": "execute_result"
    }
   ],
   "source": [
    "mc_int(x->x^4, 10^6) - 1/5"
   ]
  },
  {
   "cell_type": "code",
   "execution_count": 201,
   "id": "8bf828d9-e458-4d82-80f3-377b99630807",
   "metadata": {},
   "outputs": [
    {
     "data": {
      "text/plain": [
       "6×20 Matrix{Float64}:\n",
       "   1000.0      1000.0      1000.0    …    1000.0      1000.0      1000.0\n",
       "  10000.0     10000.0     10000.0        10000.0     10000.0     10000.0\n",
       " 100000.0    100000.0    100000.0       100000.0    100000.0    100000.0\n",
       "      1.0e6       1.0e6       1.0e6          1.0e6       1.0e6       1.0e6\n",
       "      1.0e7       1.0e7       1.0e7          1.0e7       1.0e7       1.0e7\n",
       "      1.0e8       1.0e8       1.0e8  …       1.0e8       1.0e8       1.0e8"
      ]
     },
     "execution_count": 201,
     "metadata": {},
     "output_type": "execute_result"
    }
   ],
   "source": [
    "# végezzünk minden N-re 20 mérést és vegyük a hibák átlagát\n",
    "\n",
    "Ns = 10 .^(3:8)\n",
    "\n",
    "Nss = ones(20)' .* Ns"
   ]
  },
  {
   "cell_type": "code",
   "execution_count": 202,
   "id": "9286bb4b-8134-434c-8165-d0a95fdca6b3",
   "metadata": {},
   "outputs": [
    {
     "data": {
      "text/plain": [
       "mc_int_x4 (generic function with 1 method)"
      ]
     },
     "execution_count": 202,
     "metadata": {},
     "output_type": "execute_result"
    }
   ],
   "source": [
    "mc_int_x4(N) = mc_int(x -> x^4, Int64(N))"
   ]
  },
  {
   "cell_type": "code",
   "execution_count": 203,
   "id": "5a9a6138-51f1-45b9-ba94-520baf5ad8ac",
   "metadata": {},
   "outputs": [
    {
     "data": {
      "text/plain": [
       "6×20 Matrix{Float64}:\n",
       " 0.0118717    0.00663888   0.003304     …  0.0116865    0.00895625\n",
       " 0.000975249  0.00200616   0.000859446     0.00406172   5.2876e-5\n",
       " 0.000460977  0.00035827   0.000137239     6.97931e-5   0.00122221\n",
       " 0.000251808  0.000296761  7.53856e-5      4.17304e-5   5.95749e-5\n",
       " 0.000156436  6.91524e-5   4.23136e-5      0.000236395  3.58685e-5\n",
       " 6.22212e-5   4.41354e-6   6.05543e-5   …  2.28095e-5   3.28306e-5"
      ]
     },
     "execution_count": 203,
     "metadata": {},
     "output_type": "execute_result"
    }
   ],
   "source": [
    "# lehetne ezt hatékonyabban is :)\n",
    "errs = abs.(mc_int_x4.(Nss) .- 1/5)"
   ]
  },
  {
   "cell_type": "code",
   "execution_count": 204,
   "id": "3658cd19-9823-4980-840e-de603f8ce6cf",
   "metadata": {},
   "outputs": [
    {
     "data": {
      "text/plain": [
       "6-element Vector{Float64}:\n",
       " 0.008643531296260306\n",
       " 0.0019936545794312114\n",
       " 0.0005859038504953063\n",
       " 0.0001864839702313617\n",
       " 8.33797080810994e-5\n",
       " 2.1073795879839043e-5"
      ]
     },
     "execution_count": 204,
     "metadata": {},
     "output_type": "execute_result"
    }
   ],
   "source": [
    "avg_errs = (sum(errs, dims=2)/20)[1:end, 1]"
   ]
  },
  {
   "cell_type": "code",
   "execution_count": 205,
   "id": "b00af608-7290-40e0-a6b9-1ef1c96f35c6",
   "metadata": {},
   "outputs": [
    {
     "data": {
      "image/png": "[encoded data removed]",
      "image/svg+xml": [
       "<?xml version=\"1.0\" encoding=\"utf-8\"?>\n",
       "<svg xmlns=\"http://www.w3.org/2000/svg\" xmlns:xlink=\"http://www.w3.org/1999/xlink\" width=\"600\" height=\"400\" viewBox=\"0 0 2400 1600\">\n",
       "<defs>\n",
       "  <clipPath id=\"clip470\">\n",
       "    <rect x=\"0\" y=\"0\" width=\"2400\" height=\"1600\"/>\n",
       "  </clipPath>\n",
       "</defs>\n",
       "<path clip-path=\"url(#clip470)\" d=\"M0 1600 L2400 1600 L2400 0 L0 0  Z\" fill=\"#ffffff\" fill-rule=\"evenodd\" fill-opacity=\"1\"/>\n",
       "<defs>\n",
       "  <clipPath id=\"clip471\">\n",
       "    <rect x=\"480\" y=\"0\" width=\"1681\" height=\"1600\"/>\n",
       "  </clipPath>\n",
       "</defs>\n",
       "<path clip-path=\"url(#clip470)\" d=\"M189.496 1474.16 L2352.76 1474.16 L2352.76 47.2441 L189.496 47.2441  Z\" fill=\"#ffffff\" fill-rule=\"evenodd\" fill-opacity=\"1\"/>\n",
       "<defs>\n",
       "  <clipPath id=\"clip472\">\n",
       "    <rect x=\"189\" y=\"47\" width=\"2164\" height=\"1428\"/>\n",
       "  </clipPath>\n",
       "</defs>\n",
       "<polyline clip-path=\"url(#clip472)\" style=\"stroke:#000000; stroke-linecap:round; stroke-linejoin:round; stroke-width:2; stroke-opacity:0.1; fill:none\" points=\"250.72,1474.16 250.72,47.2441 \"/>\n",
       "<polyline clip-path=\"url(#clip472)\" style=\"stroke:#000000; stroke-linecap:round; stroke-linejoin:round; stroke-width:2; stroke-opacity:0.1; fill:none\" points=\"1475.21,1474.16 1475.21,47.2441 \"/>\n",
       "<polyline clip-path=\"url(#clip470)\" style=\"stroke:#000000; stroke-linecap:round; stroke-linejoin:round; stroke-width:4; stroke-opacity:1; fill:none\" points=\"189.496,1474.16 2352.76,1474.16 \"/>\n",
       "<polyline clip-path=\"url(#clip470)\" style=\"stroke:#000000; stroke-linecap:round; stroke-linejoin:round; stroke-width:4; stroke-opacity:1; fill:none\" points=\"250.72,1474.16 250.72,1455.27 \"/>\n",
       "<polyline clip-path=\"url(#clip470)\" style=\"stroke:#000000; stroke-linecap:round; stroke-linejoin:round; stroke-width:4; stroke-opacity:1; fill:none\" points=\"1475.21,1474.16 1475.21,1455.27 \"/>\n",
       "<path clip-path=\"url(#clip470)\" d=\"M216.164 1548.29 L223.803 1548.29 L223.803 1521.92 L215.493 1523.59 L215.493 1519.33 L223.756 1517.66 L228.432 1517.66 L228.432 1548.29 L236.071 1548.29 L236.071 1552.22 L216.164 1552.22 L216.164 1548.29 Z\" fill=\"#000000\" fill-rule=\"nonzero\" fill-opacity=\"1\" /><path clip-path=\"url(#clip470)\" d=\"M255.516 1520.74 Q251.904 1520.74 250.076 1524.31 Q248.27 1527.85 248.27 1534.98 Q248.27 1542.09 250.076 1545.65 Q251.904 1549.19 255.516 1549.19 Q259.15 1549.19 260.955 1545.65 Q262.784 1542.09 262.784 1534.98 Q262.784 1527.85 260.955 1524.31 Q259.15 1520.74 255.516 1520.74 M255.516 1517.04 Q261.326 1517.04 264.381 1521.65 Q267.46 1526.23 267.46 1534.98 Q267.46 1543.71 264.381 1548.31 Q261.326 1552.9 255.516 1552.9 Q249.705 1552.9 246.627 1548.31 Q243.571 1543.71 243.571 1534.98 Q243.571 1526.23 246.627 1521.65 Q249.705 1517.04 255.516 1517.04 Z\" fill=\"#000000\" fill-rule=\"nonzero\" fill-opacity=\"1\" /><path clip-path=\"url(#clip470)\" d=\"M280.155 1509.67 Q282.882 1510.26 284.406 1512.1 Q285.948 1513.94 285.948 1516.65 Q285.948 1520.81 283.089 1523.08 Q280.23 1525.36 274.964 1525.36 Q273.196 1525.36 271.315 1525 Q269.454 1524.66 267.46 1523.97 L267.46 1520.3 Q269.04 1521.22 270.921 1521.69 Q272.801 1522.16 274.851 1522.16 Q278.425 1522.16 280.287 1520.75 Q282.168 1519.34 282.168 1516.65 Q282.168 1514.17 280.418 1512.78 Q278.688 1511.37 275.585 1511.37 L272.312 1511.37 L272.312 1508.24 L275.735 1508.24 Q278.538 1508.24 280.023 1507.13 Q281.509 1506.01 281.509 1503.9 Q281.509 1501.74 279.967 1500.59 Q278.444 1499.42 275.585 1499.42 Q274.024 1499.42 272.237 1499.76 Q270.45 1500.1 268.306 1500.82 L268.306 1497.43 Q270.469 1496.83 272.35 1496.53 Q274.249 1496.23 275.923 1496.23 Q280.249 1496.23 282.769 1498.2 Q285.29 1500.16 285.29 1503.51 Q285.29 1505.84 283.954 1507.45 Q282.619 1509.05 280.155 1509.67 Z\" fill=\"#000000\" fill-rule=\"nonzero\" fill-opacity=\"1\" /><path clip-path=\"url(#clip470)\" d=\"M1440.2 1548.29 L1447.84 1548.29 L1447.84 1521.92 L1439.53 1523.59 L1439.53 1519.33 L1447.79 1517.66 L1452.47 1517.66 L1452.47 1548.29 L1460.11 1548.29 L1460.11 1552.22 L1440.2 1552.22 L1440.2 1548.29 Z\" fill=\"#000000\" fill-rule=\"nonzero\" fill-opacity=\"1\" /><path clip-path=\"url(#clip470)\" d=\"M1479.55 1520.74 Q1475.94 1520.74 1474.11 1524.31 Q1472.31 1527.85 1472.31 1534.98 Q1472.31 1542.09 1474.11 1545.65 Q1475.94 1549.19 1479.55 1549.19 Q1483.19 1549.19 1484.99 1545.65 Q1486.82 1542.09 1486.82 1534.98 Q1486.82 1527.85 1484.99 1524.31 Q1483.19 1520.74 1479.55 1520.74 M1479.55 1517.04 Q1485.36 1517.04 1488.42 1521.65 Q1491.5 1526.23 1491.5 1534.98 Q1491.5 1543.71 1488.42 1548.31 Q1485.36 1552.9 1479.55 1552.9 Q1473.74 1552.9 1470.66 1548.31 Q1467.61 1543.71 1467.61 1534.98 Q1467.61 1526.23 1470.66 1521.65 Q1473.74 1517.04 1479.55 1517.04 Z\" fill=\"#000000\" fill-rule=\"nonzero\" fill-opacity=\"1\" /><path clip-path=\"url(#clip470)\" d=\"M1501.52 1509.26 Q1498.96 1509.26 1497.46 1511.01 Q1495.97 1512.76 1495.97 1515.81 Q1495.97 1518.83 1497.46 1520.6 Q1498.96 1522.35 1501.52 1522.35 Q1504.08 1522.35 1505.56 1520.6 Q1507.07 1518.83 1507.07 1515.81 Q1507.07 1512.76 1505.56 1511.01 Q1504.08 1509.26 1501.52 1509.26 M1509.06 1497.35 L1509.06 1500.82 Q1507.63 1500.14 1506.17 1499.78 Q1504.72 1499.42 1503.29 1499.42 Q1499.53 1499.42 1497.53 1501.96 Q1495.56 1504.5 1495.28 1509.64 Q1496.39 1508 1498.06 1507.13 Q1499.73 1506.25 1501.75 1506.25 Q1505.98 1506.25 1508.42 1508.83 Q1510.89 1511.39 1510.89 1515.81 Q1510.89 1520.13 1508.33 1522.75 Q1505.77 1525.36 1501.52 1525.36 Q1496.65 1525.36 1494.07 1521.64 Q1491.5 1517.89 1491.5 1510.8 Q1491.5 1504.14 1494.65 1500.19 Q1497.81 1496.23 1503.14 1496.23 Q1504.57 1496.23 1506.01 1496.51 Q1507.48 1496.79 1509.06 1497.35 Z\" fill=\"#000000\" fill-rule=\"nonzero\" fill-opacity=\"1\" /><polyline clip-path=\"url(#clip472)\" style=\"stroke:#000000; stroke-linecap:round; stroke-linejoin:round; stroke-width:2; stroke-opacity:0.1; fill:none\" points=\"189.496,1085.38 2352.76,1085.38 \"/>\n",
       "<polyline clip-path=\"url(#clip472)\" style=\"stroke:#000000; stroke-linecap:round; stroke-linejoin:round; stroke-width:2; stroke-opacity:0.1; fill:none\" points=\"189.496,570.198 2352.76,570.198 \"/>\n",
       "<polyline clip-path=\"url(#clip472)\" style=\"stroke:#000000; stroke-linecap:round; stroke-linejoin:round; stroke-width:2; stroke-opacity:0.1; fill:none\" points=\"189.496,55.0129 2352.76,55.0129 \"/>\n",
       "<polyline clip-path=\"url(#clip470)\" style=\"stroke:#000000; stroke-linecap:round; stroke-linejoin:round; stroke-width:4; stroke-opacity:1; fill:none\" points=\"189.496,1474.16 189.496,47.2441 \"/>\n",
       "<polyline clip-path=\"url(#clip470)\" style=\"stroke:#000000; stroke-linecap:round; stroke-linejoin:round; stroke-width:4; stroke-opacity:1; fill:none\" points=\"189.496,1085.38 208.394,1085.38 \"/>\n",
       "<polyline clip-path=\"url(#clip470)\" style=\"stroke:#000000; stroke-linecap:round; stroke-linejoin:round; stroke-width:4; stroke-opacity:1; fill:none\" points=\"189.496,570.198 208.394,570.198 \"/>\n",
       "<polyline clip-path=\"url(#clip470)\" style=\"stroke:#000000; stroke-linecap:round; stroke-linejoin:round; stroke-width:4; stroke-opacity:1; fill:none\" points=\"189.496,55.0129 208.394,55.0129 \"/>\n",
       "<path clip-path=\"url(#clip470)\" d=\"M51.6634 1105.18 L59.3023 1105.18 L59.3023 1078.81 L50.9921 1080.48 L50.9921 1076.22 L59.256 1074.55 L63.9319 1074.55 L63.9319 1105.18 L71.5707 1105.18 L71.5707 1109.11 L51.6634 1109.11 L51.6634 1105.18 Z\" fill=\"#000000\" fill-rule=\"nonzero\" fill-opacity=\"1\" /><path clip-path=\"url(#clip470)\" d=\"M91.0151 1077.63 Q87.404 1077.63 85.5753 1081.19 Q83.7697 1084.74 83.7697 1091.86 Q83.7697 1098.97 85.5753 1102.54 Q87.404 1106.08 91.0151 1106.08 Q94.6493 1106.08 96.4548 1102.54 Q98.2835 1098.97 98.2835 1091.86 Q98.2835 1084.74 96.4548 1081.19 Q94.6493 1077.63 91.0151 1077.63 M91.0151 1073.93 Q96.8252 1073.93 99.8808 1078.53 Q102.959 1083.12 102.959 1091.86 Q102.959 1100.59 99.8808 1105.2 Q96.8252 1109.78 91.0151 1109.78 Q85.2049 1109.78 82.1262 1105.2 Q79.0707 1100.59 79.0707 1091.86 Q79.0707 1083.12 82.1262 1078.53 Q85.2049 1073.93 91.0151 1073.93 Z\" fill=\"#000000\" fill-rule=\"nonzero\" fill-opacity=\"1\" /><path clip-path=\"url(#clip470)\" d=\"M102.959 1068.03 L127.071 1068.03 L127.071 1071.22 L102.959 1071.22 L102.959 1068.03 Z\" fill=\"#000000\" fill-rule=\"nonzero\" fill-opacity=\"1\" /><path clip-path=\"url(#clip470)\" d=\"M145.71 1056.93 L136.118 1071.92 L145.71 1071.92 L145.71 1056.93 M144.713 1053.62 L149.49 1053.62 L149.49 1071.92 L153.496 1071.92 L153.496 1075.08 L149.49 1075.08 L149.49 1081.7 L145.71 1081.7 L145.71 1075.08 L133.033 1075.08 L133.033 1071.41 L144.713 1053.62 Z\" fill=\"#000000\" fill-rule=\"nonzero\" fill-opacity=\"1\" /><path clip-path=\"url(#clip470)\" d=\"M52.585 589.99 L60.2238 589.99 L60.2238 563.625 L51.9137 565.291 L51.9137 561.032 L60.1776 559.365 L64.8535 559.365 L64.8535 589.99 L72.4923 589.99 L72.4923 593.925 L52.585 593.925 L52.585 589.99 Z\" fill=\"#000000\" fill-rule=\"nonzero\" fill-opacity=\"1\" /><path clip-path=\"url(#clip470)\" d=\"M91.9366 562.444 Q88.3255 562.444 86.4969 566.009 Q84.6913 569.551 84.6913 576.68 Q84.6913 583.787 86.4969 587.351 Q88.3255 590.893 91.9366 590.893 Q95.5709 590.893 97.3764 587.351 Q99.2051 583.787 99.2051 576.68 Q99.2051 569.551 97.3764 566.009 Q95.5709 562.444 91.9366 562.444 M91.9366 558.74 Q97.7468 558.74 100.802 563.347 Q103.881 567.93 103.881 576.68 Q103.881 585.407 100.802 590.013 Q97.7468 594.597 91.9366 594.597 Q86.1265 594.597 83.0478 590.013 Q79.9923 585.407 79.9923 576.68 Q79.9923 567.93 83.0478 563.347 Q86.1265 558.74 91.9366 558.74 Z\" fill=\"#000000\" fill-rule=\"nonzero\" fill-opacity=\"1\" /><path clip-path=\"url(#clip470)\" d=\"M103.881 552.842 L127.993 552.842 L127.993 556.039 L103.881 556.039 L103.881 552.842 Z\" fill=\"#000000\" fill-rule=\"nonzero\" fill-opacity=\"1\" /><path clip-path=\"url(#clip470)\" d=\"M147.703 551.375 Q150.43 551.958 151.954 553.801 Q153.496 555.644 153.496 558.352 Q153.496 562.509 150.637 564.785 Q147.778 567.06 142.512 567.06 Q140.744 567.06 138.863 566.703 Q137.002 566.365 135.008 565.669 L135.008 562.001 Q136.588 562.923 138.469 563.393 Q140.349 563.863 142.399 563.863 Q145.973 563.863 147.835 562.452 Q149.716 561.042 149.716 558.352 Q149.716 555.87 147.966 554.478 Q146.236 553.067 143.133 553.067 L139.86 553.067 L139.86 549.945 L143.283 549.945 Q146.086 549.945 147.571 548.836 Q149.057 547.707 149.057 545.601 Q149.057 543.438 147.515 542.291 Q145.992 541.124 143.133 541.124 Q141.572 541.124 139.785 541.463 Q137.998 541.802 135.854 542.516 L135.854 539.131 Q138.017 538.529 139.898 538.228 Q141.797 537.927 143.471 537.927 Q147.797 537.927 150.317 539.902 Q152.838 541.858 152.838 545.206 Q152.838 547.538 151.502 549.155 Q150.167 550.754 147.703 551.375 Z\" fill=\"#000000\" fill-rule=\"nonzero\" fill-opacity=\"1\" /><path clip-path=\"url(#clip470)\" d=\"M53.3561 74.8053 L60.995 74.8053 L60.995 48.4397 L52.6848 50.1064 L52.6848 45.8472 L60.9487 44.1805 L65.6246 44.1805 L65.6246 74.8053 L73.2634 74.8053 L73.2634 78.7405 L53.3561 78.7405 L53.3561 74.8053 Z\" fill=\"#000000\" fill-rule=\"nonzero\" fill-opacity=\"1\" /><path clip-path=\"url(#clip470)\" d=\"M92.7078 47.2592 Q89.0967 47.2592 87.268 50.824 Q85.4624 54.3656 85.4624 61.4952 Q85.4624 68.6017 87.268 72.1665 Q89.0967 75.7081 92.7078 75.7081 Q96.342 75.7081 98.1475 72.1665 Q99.9762 68.6017 99.9762 61.4952 Q99.9762 54.3656 98.1475 50.824 Q96.342 47.2592 92.7078 47.2592 M92.7078 43.5555 Q98.5179 43.5555 101.573 48.162 Q104.652 52.7453 104.652 61.4952 Q104.652 70.222 101.573 74.8285 Q98.5179 79.4118 92.7078 79.4118 Q86.8976 79.4118 83.8189 74.8285 Q80.7634 70.222 80.7634 61.4952 Q80.7634 52.7453 83.8189 48.162 Q86.8976 43.5555 92.7078 43.5555 Z\" fill=\"#000000\" fill-rule=\"nonzero\" fill-opacity=\"1\" /><path clip-path=\"url(#clip470)\" d=\"M104.652 37.6569 L128.764 37.6569 L128.764 40.8542 L104.652 40.8542 L104.652 37.6569 Z\" fill=\"#000000\" fill-rule=\"nonzero\" fill-opacity=\"1\" /><path clip-path=\"url(#clip470)\" d=\"M140.236 48.1328 L153.496 48.1328 L153.496 51.3301 L135.666 51.3301 L135.666 48.1328 Q137.829 45.8947 141.553 42.1331 Q145.296 38.3527 146.255 37.2619 Q148.079 35.2118 148.794 33.8013 Q149.527 32.3719 149.527 30.9989 Q149.527 28.7608 147.948 27.3502 Q146.387 25.9396 143.866 25.9396 Q142.08 25.9396 140.086 26.5603 Q138.111 27.1809 135.854 28.4411 L135.854 24.6043 Q138.149 23.6827 140.142 23.2125 Q142.136 22.7423 143.791 22.7423 Q148.155 22.7423 150.75 24.924 Q153.345 27.1057 153.345 30.7544 Q153.345 32.4847 152.687 34.0458 Q152.048 35.588 150.336 37.6945 Q149.866 38.2399 147.346 40.8542 Q144.826 43.4497 140.236 48.1328 Z\" fill=\"#000000\" fill-rule=\"nonzero\" fill-opacity=\"1\" /><polyline clip-path=\"url(#clip472)\" style=\"stroke:#009af9; stroke-linecap:round; stroke-linejoin:round; stroke-width:4; stroke-opacity:1; fill:none\" points=\"250.72,87.6286 658.883,415.823 1067.04,689.81 1475.21,945.952 1883.37,1126.05 2291.53,1433.78 \"/>\n",
       "<path clip-path=\"url(#clip470)\" d=\"M1452.52 198.488 L2280.65 198.488 L2280.65 94.8081 L1452.52 94.8081  Z\" fill=\"#ffffff\" fill-rule=\"evenodd\" fill-opacity=\"1\"/>\n",
       "<polyline clip-path=\"url(#clip470)\" style=\"stroke:#000000; stroke-linecap:round; stroke-linejoin:round; stroke-width:4; stroke-opacity:1; fill:none\" points=\"1452.52,198.488 2280.65,198.488 2280.65,94.8081 1452.52,94.8081 1452.52,198.488 \"/>\n",
       "<polyline clip-path=\"url(#clip470)\" style=\"stroke:#009af9; stroke-linecap:round; stroke-linejoin:round; stroke-width:4; stroke-opacity:1; fill:none\" points=\"1476.56,146.648 1620.77,146.648 \"/>\n",
       "<path clip-path=\"url(#clip470)\" d=\"M1666.52 148.28 L1666.52 163.928 L1662.26 163.928 L1662.26 148.419 Q1662.26 144.738 1660.83 142.91 Q1659.39 141.081 1656.52 141.081 Q1653.07 141.081 1651.08 143.28 Q1649.09 145.479 1649.09 149.275 L1649.09 163.928 L1644.81 163.928 L1644.81 127.91 L1649.09 127.91 L1649.09 142.03 Q1650.62 139.692 1652.68 138.535 Q1654.76 137.377 1657.47 137.377 Q1661.94 137.377 1664.23 140.155 Q1666.52 142.91 1666.52 148.28 Z\" fill=\"#000000\" fill-rule=\"nonzero\" fill-opacity=\"1\" /><path clip-path=\"url(#clip470)\" d=\"M1675.02 138.002 L1679.28 138.002 L1679.28 163.928 L1675.02 163.928 L1675.02 138.002 M1675.02 127.91 L1679.28 127.91 L1679.28 133.303 L1675.02 133.303 L1675.02 127.91 Z\" fill=\"#000000\" fill-rule=\"nonzero\" fill-opacity=\"1\" /><path clip-path=\"url(#clip470)\" d=\"M1706.8 150.988 Q1706.8 146.289 1704.85 143.627 Q1702.93 140.942 1699.55 140.942 Q1696.17 140.942 1694.23 143.627 Q1692.31 146.289 1692.31 150.988 Q1692.31 155.687 1694.23 158.373 Q1696.17 161.035 1699.55 161.035 Q1702.93 161.035 1704.85 158.373 Q1706.8 155.687 1706.8 150.988 M1692.31 141.937 Q1693.65 139.623 1695.69 138.512 Q1697.75 137.377 1700.6 137.377 Q1705.32 137.377 1708.26 141.127 Q1711.22 144.877 1711.22 150.988 Q1711.22 157.099 1708.26 160.849 Q1705.32 164.599 1700.6 164.599 Q1697.75 164.599 1695.69 163.488 Q1693.65 162.354 1692.31 160.039 L1692.31 163.928 L1688.03 163.928 L1688.03 127.91 L1692.31 127.91 L1692.31 141.937 Z\" fill=\"#000000\" fill-rule=\"nonzero\" fill-opacity=\"1\" /><path clip-path=\"url(#clip470)\" d=\"M1730.06 150.896 Q1724.9 150.896 1722.91 152.076 Q1720.92 153.257 1720.92 156.104 Q1720.92 158.373 1722.4 159.715 Q1723.91 161.035 1726.47 161.035 Q1730.02 161.035 1732.15 158.535 Q1734.3 156.011 1734.3 151.845 L1734.3 150.896 L1730.06 150.896 M1738.56 149.137 L1738.56 163.928 L1734.3 163.928 L1734.3 159.993 Q1732.84 162.354 1730.66 163.488 Q1728.49 164.599 1725.34 164.599 Q1721.36 164.599 1719 162.377 Q1716.66 160.132 1716.66 156.382 Q1716.66 152.007 1719.58 149.785 Q1722.52 147.562 1728.33 147.562 L1734.3 147.562 L1734.3 147.146 Q1734.3 144.206 1732.35 142.609 Q1730.43 140.988 1726.94 140.988 Q1724.72 140.988 1722.61 141.521 Q1720.5 142.053 1718.56 143.118 L1718.56 139.183 Q1720.9 138.28 1723.1 137.84 Q1725.29 137.377 1727.38 137.377 Q1733 137.377 1735.78 140.294 Q1738.56 143.211 1738.56 149.137 M1730.78 126.012 L1735.39 126.012 L1727.84 134.715 L1724.3 134.715 L1730.78 126.012 Z\" fill=\"#000000\" fill-rule=\"nonzero\" fill-opacity=\"1\" /><path clip-path=\"url(#clip470)\" d=\"M1747.17 127.91 L1751.45 127.91 L1751.45 149.183 L1764.16 138.002 L1769.6 138.002 L1755.85 150.132 L1770.18 163.928 L1764.62 163.928 L1751.45 151.266 L1751.45 163.928 L1747.17 163.928 L1747.17 127.91 Z\" fill=\"#000000\" fill-rule=\"nonzero\" fill-opacity=\"1\" /><path clip-path=\"url(#clip470)\" d=\"M1801.64 150.896 Q1796.47 150.896 1794.48 152.076 Q1792.49 153.257 1792.49 156.104 Q1792.49 158.373 1793.97 159.715 Q1795.48 161.035 1798.05 161.035 Q1801.59 161.035 1803.72 158.535 Q1805.87 156.011 1805.87 151.845 L1805.87 150.896 L1801.64 150.896 M1810.13 149.137 L1810.13 163.928 L1805.87 163.928 L1805.87 159.993 Q1804.41 162.354 1802.24 163.488 Q1800.06 164.599 1796.91 164.599 Q1792.93 164.599 1790.57 162.377 Q1788.23 160.132 1788.23 156.382 Q1788.23 152.007 1791.15 149.785 Q1794.09 147.562 1799.9 147.562 L1805.87 147.562 L1805.87 147.146 Q1805.87 144.206 1803.93 142.609 Q1802.01 140.988 1798.51 140.988 Q1796.29 140.988 1794.18 141.521 Q1792.08 142.053 1790.13 143.118 L1790.13 139.183 Q1792.47 138.28 1794.67 137.84 Q1796.87 137.377 1798.95 137.377 Q1804.58 137.377 1807.35 140.294 Q1810.13 143.211 1810.13 149.137 M1802.35 126.012 L1806.96 126.012 L1799.41 134.715 L1795.87 134.715 L1802.35 126.012 Z\" fill=\"#000000\" fill-rule=\"nonzero\" fill-opacity=\"1\" /><path clip-path=\"url(#clip470)\" d=\"M1823.12 130.641 L1823.12 138.002 L1831.89 138.002 L1831.89 141.312 L1823.12 141.312 L1823.12 155.386 Q1823.12 158.558 1823.97 159.461 Q1824.85 160.363 1827.52 160.363 L1831.89 160.363 L1831.89 163.928 L1827.52 163.928 Q1822.59 163.928 1820.71 162.099 Q1818.84 160.248 1818.84 155.386 L1818.84 141.312 L1815.71 141.312 L1815.71 138.002 L1818.84 138.002 L1818.84 130.641 L1823.12 130.641 Z\" fill=\"#000000\" fill-rule=\"nonzero\" fill-opacity=\"1\" /><path clip-path=\"url(#clip470)\" d=\"M1837.49 127.91 L1841.75 127.91 L1841.75 163.928 L1837.49 163.928 L1837.49 127.91 Z\" fill=\"#000000\" fill-rule=\"nonzero\" fill-opacity=\"1\" /><path clip-path=\"url(#clip470)\" d=\"M1862.45 150.896 Q1857.28 150.896 1855.29 152.076 Q1853.3 153.257 1853.3 156.104 Q1853.3 158.373 1854.78 159.715 Q1856.29 161.035 1858.86 161.035 Q1862.4 161.035 1864.53 158.535 Q1866.68 156.011 1866.68 151.845 L1866.68 150.896 L1862.45 150.896 M1870.94 149.137 L1870.94 163.928 L1866.68 163.928 L1866.68 159.993 Q1865.22 162.354 1863.05 163.488 Q1860.87 164.599 1857.72 164.599 Q1853.74 164.599 1851.38 162.377 Q1849.04 160.132 1849.04 156.382 Q1849.04 152.007 1851.96 149.785 Q1854.9 147.562 1860.71 147.562 L1866.68 147.562 L1866.68 147.146 Q1866.68 144.206 1864.74 142.609 Q1862.82 140.988 1859.32 140.988 Q1857.1 140.988 1854.99 141.521 Q1852.89 142.053 1850.94 143.118 L1850.94 139.183 Q1853.28 138.28 1855.48 137.84 Q1857.68 137.377 1859.76 137.377 Q1865.39 137.377 1868.16 140.294 Q1870.94 143.211 1870.94 149.137 Z\" fill=\"#000000\" fill-rule=\"nonzero\" fill-opacity=\"1\" /><path clip-path=\"url(#clip470)\" d=\"M1896.77 150.664 Q1896.77 146.035 1894.85 143.488 Q1892.96 140.942 1889.51 140.942 Q1886.08 140.942 1884.16 143.488 Q1882.26 146.035 1882.26 150.664 Q1882.26 155.271 1884.16 157.817 Q1886.08 160.363 1889.51 160.363 Q1892.96 160.363 1894.85 157.817 Q1896.77 155.271 1896.77 150.664 M1901.03 160.711 Q1901.03 167.331 1898.09 170.548 Q1895.15 173.789 1889.09 173.789 Q1886.84 173.789 1884.85 173.442 Q1882.86 173.118 1880.99 172.423 L1880.99 168.28 Q1882.86 169.298 1884.69 169.785 Q1886.52 170.271 1888.42 170.271 Q1892.61 170.271 1894.69 168.072 Q1896.77 165.896 1896.77 161.474 L1896.77 159.368 Q1895.46 161.66 1893.4 162.794 Q1891.34 163.928 1888.46 163.928 Q1883.7 163.928 1880.78 160.294 Q1877.86 156.66 1877.86 150.664 Q1877.86 144.646 1880.78 141.012 Q1883.7 137.377 1888.46 137.377 Q1891.34 137.377 1893.4 138.512 Q1895.46 139.646 1896.77 141.937 L1896.77 138.002 L1901.03 138.002 L1901.03 160.711 Z\" fill=\"#000000\" fill-rule=\"nonzero\" fill-opacity=\"1\" /><path clip-path=\"url(#clip470)\" d=\"M1921.59 150.896 Q1916.43 150.896 1914.44 152.076 Q1912.45 153.257 1912.45 156.104 Q1912.45 158.373 1913.93 159.715 Q1915.43 161.035 1918 161.035 Q1921.54 161.035 1923.67 158.535 Q1925.83 156.011 1925.83 151.845 L1925.83 150.896 L1921.59 150.896 M1930.08 149.137 L1930.08 163.928 L1925.83 163.928 L1925.83 159.993 Q1924.37 162.354 1922.19 163.488 Q1920.02 164.599 1916.87 164.599 Q1912.89 164.599 1910.52 162.377 Q1908.19 160.132 1908.19 156.382 Q1908.19 152.007 1911.1 149.785 Q1914.04 147.562 1919.85 147.562 L1925.83 147.562 L1925.83 147.146 Q1925.83 144.206 1923.88 142.609 Q1921.96 140.988 1918.46 140.988 Q1916.24 140.988 1914.14 141.521 Q1912.03 142.053 1910.09 143.118 L1910.09 139.183 Q1912.42 138.28 1914.62 137.84 Q1916.82 137.377 1918.9 137.377 Q1924.53 137.377 1927.31 140.294 Q1930.08 143.211 1930.08 149.137 Z\" fill=\"#000000\" fill-rule=\"nonzero\" fill-opacity=\"1\" /><path clip-path=\"url(#clip470)\" d=\"M1964.16 127.956 Q1961.06 133.28 1959.55 138.488 Q1958.05 143.697 1958.05 149.044 Q1958.05 154.391 1959.55 159.646 Q1961.08 164.877 1964.16 170.178 L1960.46 170.178 Q1956.98 164.738 1955.25 159.484 Q1953.53 154.229 1953.53 149.044 Q1953.53 143.882 1955.25 138.65 Q1956.96 133.419 1960.46 127.956 L1964.16 127.956 Z\" fill=\"#000000\" fill-rule=\"nonzero\" fill-opacity=\"1\" /><path clip-path=\"url(#clip470)\" d=\"M1977.05 159.993 L1993.37 159.993 L1993.37 163.928 L1971.43 163.928 L1971.43 159.993 Q1974.09 157.238 1978.67 152.609 Q1983.28 147.956 1984.46 146.613 Q1986.71 144.09 1987.58 142.354 Q1988.49 140.595 1988.49 138.905 Q1988.49 136.15 1986.54 134.414 Q1984.62 132.678 1981.52 132.678 Q1979.32 132.678 1976.87 133.442 Q1974.44 134.206 1971.66 135.757 L1971.66 131.035 Q1974.48 129.901 1976.94 129.322 Q1979.39 128.743 1981.43 128.743 Q1986.8 128.743 1989.99 131.428 Q1993.19 134.113 1993.19 138.604 Q1993.19 140.734 1992.38 142.655 Q1991.59 144.553 1989.48 147.146 Q1988.9 147.817 1985.8 151.035 Q1982.7 154.229 1977.05 159.993 Z\" fill=\"#000000\" fill-rule=\"nonzero\" fill-opacity=\"1\" /><path clip-path=\"url(#clip470)\" d=\"M2013.19 132.447 Q2009.58 132.447 2007.75 136.012 Q2005.94 139.553 2005.94 146.683 Q2005.94 153.789 2007.75 157.354 Q2009.58 160.896 2013.19 160.896 Q2016.82 160.896 2018.63 157.354 Q2020.45 153.789 2020.45 146.683 Q2020.45 139.553 2018.63 136.012 Q2016.82 132.447 2013.19 132.447 M2013.19 128.743 Q2019 128.743 2022.05 133.35 Q2025.13 137.933 2025.13 146.683 Q2025.13 155.41 2022.05 160.016 Q2019 164.599 2013.19 164.599 Q2007.38 164.599 2004.3 160.016 Q2001.24 155.41 2001.24 146.683 Q2001.24 137.933 2004.3 133.35 Q2007.38 128.743 2013.19 128.743 Z\" fill=\"#000000\" fill-rule=\"nonzero\" fill-opacity=\"1\" /><path clip-path=\"url(#clip470)\" d=\"M2047.82 138.002 L2052.08 138.002 L2052.08 163.928 L2047.82 163.928 L2047.82 138.002 M2047.82 127.91 L2052.08 127.91 L2052.08 133.303 L2047.82 133.303 L2047.82 127.91 Z\" fill=\"#000000\" fill-rule=\"nonzero\" fill-opacity=\"1\" /><path clip-path=\"url(#clip470)\" d=\"M2077.51 138.766 L2077.51 142.794 Q2075.71 141.868 2073.76 141.405 Q2071.82 140.942 2069.74 140.942 Q2066.57 140.942 2064.97 141.914 Q2063.39 142.887 2063.39 144.831 Q2063.39 146.312 2064.53 147.169 Q2065.66 148.002 2069.09 148.766 L2070.55 149.09 Q2075.08 150.062 2076.98 151.845 Q2078.9 153.604 2078.9 156.775 Q2078.9 160.386 2076.03 162.493 Q2073.19 164.599 2068.19 164.599 Q2066.1 164.599 2063.83 164.183 Q2061.59 163.789 2059.09 162.979 L2059.09 158.581 Q2061.45 159.808 2063.74 160.433 Q2066.03 161.035 2068.28 161.035 Q2071.29 161.035 2072.91 160.016 Q2074.53 158.974 2074.53 157.099 Q2074.53 155.363 2073.35 154.437 Q2072.19 153.512 2068.23 152.655 L2066.75 152.308 Q2062.79 151.474 2061.03 149.762 Q2059.27 148.025 2059.27 145.016 Q2059.27 141.359 2061.87 139.368 Q2064.46 137.377 2069.23 137.377 Q2071.59 137.377 2073.67 137.725 Q2075.76 138.072 2077.51 138.766 Z\" fill=\"#000000\" fill-rule=\"nonzero\" fill-opacity=\"1\" /><path clip-path=\"url(#clip470)\" d=\"M2105.87 142.979 Q2107.47 140.109 2109.69 138.743 Q2111.91 137.377 2114.92 137.377 Q2118.97 137.377 2121.17 140.225 Q2123.37 143.049 2123.37 148.28 L2123.37 163.928 L2119.09 163.928 L2119.09 148.419 Q2119.09 144.692 2117.77 142.887 Q2116.45 141.081 2113.74 141.081 Q2110.43 141.081 2108.51 143.28 Q2106.59 145.479 2106.59 149.275 L2106.59 163.928 L2102.31 163.928 L2102.31 148.419 Q2102.31 144.669 2100.99 142.887 Q2099.67 141.081 2096.91 141.081 Q2093.65 141.081 2091.73 143.303 Q2089.81 145.502 2089.81 149.275 L2089.81 163.928 L2085.52 163.928 L2085.52 138.002 L2089.81 138.002 L2089.81 142.03 Q2091.26 139.646 2093.3 138.512 Q2095.34 137.377 2098.14 137.377 Q2100.96 137.377 2102.93 138.813 Q2104.92 140.248 2105.87 142.979 Z\" fill=\"#000000\" fill-rule=\"nonzero\" fill-opacity=\"1\" /><path clip-path=\"url(#clip470)\" d=\"M2154.04 149.9 L2154.04 151.984 L2134.46 151.984 Q2134.74 156.382 2137.1 158.697 Q2139.48 160.988 2143.72 160.988 Q2146.17 160.988 2148.46 160.386 Q2150.78 159.785 2153.05 158.581 L2153.05 162.609 Q2150.76 163.581 2148.35 164.09 Q2145.94 164.599 2143.46 164.599 Q2137.26 164.599 2133.63 160.988 Q2130.01 157.377 2130.01 151.22 Q2130.01 144.854 2133.44 141.127 Q2136.89 137.377 2142.72 137.377 Q2147.95 137.377 2150.99 140.757 Q2154.04 144.113 2154.04 149.9 M2149.78 148.65 Q2149.74 145.155 2147.82 143.072 Q2145.92 140.988 2142.77 140.988 Q2139.2 140.988 2137.05 143.002 Q2134.92 145.016 2134.6 148.674 L2149.78 148.65 M2145.69 126.012 L2150.29 126.012 L2142.75 134.715 L2139.2 134.715 L2145.69 126.012 Z\" fill=\"#000000\" fill-rule=\"nonzero\" fill-opacity=\"1\" /><path clip-path=\"url(#clip470)\" d=\"M2165.25 130.641 L2165.25 138.002 L2174.02 138.002 L2174.02 141.312 L2165.25 141.312 L2165.25 155.386 Q2165.25 158.558 2166.1 159.461 Q2166.98 160.363 2169.64 160.363 L2174.02 160.363 L2174.02 163.928 L2169.64 163.928 Q2164.71 163.928 2162.84 162.099 Q2160.96 160.248 2160.96 155.386 L2160.96 141.312 L2157.84 141.312 L2157.84 138.002 L2160.96 138.002 L2160.96 130.641 L2165.25 130.641 Z\" fill=\"#000000\" fill-rule=\"nonzero\" fill-opacity=\"1\" /><path clip-path=\"url(#clip470)\" d=\"M2179.62 127.91 L2183.88 127.91 L2183.88 163.928 L2179.62 163.928 L2179.62 127.91 Z\" fill=\"#000000\" fill-rule=\"nonzero\" fill-opacity=\"1\" /><path clip-path=\"url(#clip470)\" d=\"M2214.97 149.9 L2214.97 151.984 L2195.38 151.984 Q2195.66 156.382 2198.02 158.697 Q2200.41 160.988 2204.64 160.988 Q2207.1 160.988 2209.39 160.386 Q2211.7 159.785 2213.97 158.581 L2213.97 162.609 Q2211.68 163.581 2209.27 164.09 Q2206.87 164.599 2204.39 164.599 Q2198.19 164.599 2194.55 160.988 Q2190.94 157.377 2190.94 151.22 Q2190.94 144.854 2194.37 141.127 Q2197.82 137.377 2203.65 137.377 Q2208.88 137.377 2211.91 140.757 Q2214.97 144.113 2214.97 149.9 M2210.71 148.65 Q2210.66 145.155 2208.74 143.072 Q2206.84 140.988 2203.69 140.988 Q2200.13 140.988 2197.98 143.002 Q2195.85 145.016 2195.52 148.674 L2210.71 148.65 M2206.61 126.012 L2211.22 126.012 L2203.67 134.715 L2200.13 134.715 L2206.61 126.012 Z\" fill=\"#000000\" fill-rule=\"nonzero\" fill-opacity=\"1\" /><path clip-path=\"url(#clip470)\" d=\"M2238.49 138.766 L2238.49 142.794 Q2236.68 141.868 2234.74 141.405 Q2232.79 140.942 2230.71 140.942 Q2227.54 140.942 2225.94 141.914 Q2224.37 142.887 2224.37 144.831 Q2224.37 146.312 2225.5 147.169 Q2226.63 148.002 2230.06 148.766 L2231.52 149.09 Q2236.06 150.062 2237.95 151.845 Q2239.87 153.604 2239.87 156.775 Q2239.87 160.386 2237 162.493 Q2234.16 164.599 2229.16 164.599 Q2227.07 164.599 2224.81 164.183 Q2222.56 163.789 2220.06 162.979 L2220.06 158.581 Q2222.42 159.808 2224.71 160.433 Q2227 161.035 2229.25 161.035 Q2232.26 161.035 2233.88 160.016 Q2235.5 158.974 2235.5 157.099 Q2235.5 155.363 2234.32 154.437 Q2233.16 153.512 2229.2 152.655 L2227.72 152.308 Q2223.76 151.474 2222 149.762 Q2220.25 148.025 2220.25 145.016 Q2220.25 141.359 2222.84 139.368 Q2225.43 137.377 2230.2 137.377 Q2232.56 137.377 2234.64 137.725 Q2236.73 138.072 2238.49 138.766 Z\" fill=\"#000000\" fill-rule=\"nonzero\" fill-opacity=\"1\" /><path clip-path=\"url(#clip470)\" d=\"M2245.99 127.956 L2249.69 127.956 Q2253.16 133.419 2254.87 138.65 Q2256.61 143.882 2256.61 149.044 Q2256.61 154.229 2254.87 159.484 Q2253.16 164.738 2249.69 170.178 L2245.99 170.178 Q2249.06 164.877 2250.57 159.646 Q2252.1 154.391 2252.1 149.044 Q2252.1 143.697 2250.57 138.488 Q2249.06 133.28 2245.99 127.956 Z\" fill=\"#000000\" fill-rule=\"nonzero\" fill-opacity=\"1\" /></svg>\n"
      ],
      "text/html": [
       "<?xml version=\"1.0\" encoding=\"utf-8\"?>\n",
       "<svg xmlns=\"http://www.w3.org/2000/svg\" xmlns:xlink=\"http://www.w3.org/1999/xlink\" width=\"600\" height=\"400\" viewBox=\"0 0 2400 1600\">\n",
       "<defs>\n",
       "  <clipPath id=\"clip520\">\n",
       "    <rect x=\"0\" y=\"0\" width=\"2400\" height=\"1600\"/>\n",
       "  </clipPath>\n",
       "</defs>\n",
       "<path clip-path=\"url(#clip520)\" d=\"M0 1600 L2400 1600 L2400 0 L0 0  Z\" fill=\"#ffffff\" fill-rule=\"evenodd\" fill-opacity=\"1\"/>\n",
       "<defs>\n",
       "  <clipPath id=\"clip521\">\n",
       "    <rect x=\"480\" y=\"0\" width=\"1681\" height=\"1600\"/>\n",
       "  </clipPath>\n",
       "</defs>\n",
       "<path clip-path=\"url(#clip520)\" d=\"M189.496 1474.16 L2352.76 1474.16 L2352.76 47.2441 L189.496 47.2441  Z\" fill=\"#ffffff\" fill-rule=\"evenodd\" fill-opacity=\"1\"/>\n",
       "<defs>\n",
       "  <clipPath id=\"clip522\">\n",
       "    <rect x=\"189\" y=\"47\" width=\"2164\" height=\"1428\"/>\n",
       "  </clipPath>\n",
       "</defs>\n",
       "<polyline clip-path=\"url(#clip522)\" style=\"stroke:#000000; stroke-linecap:round; stroke-linejoin:round; stroke-width:2; stroke-opacity:0.1; fill:none\" points=\"250.72,1474.16 250.72,47.2441 \"/>\n",
       "<polyline clip-path=\"url(#clip522)\" style=\"stroke:#000000; stroke-linecap:round; stroke-linejoin:round; stroke-width:2; stroke-opacity:0.1; fill:none\" points=\"1475.21,1474.16 1475.21,47.2441 \"/>\n",
       "<polyline clip-path=\"url(#clip520)\" style=\"stroke:#000000; stroke-linecap:round; stroke-linejoin:round; stroke-width:4; stroke-opacity:1; fill:none\" points=\"189.496,1474.16 2352.76,1474.16 \"/>\n",
       "<polyline clip-path=\"url(#clip520)\" style=\"stroke:#000000; stroke-linecap:round; stroke-linejoin:round; stroke-width:4; stroke-opacity:1; fill:none\" points=\"250.72,1474.16 250.72,1455.27 \"/>\n",
       "<polyline clip-path=\"url(#clip520)\" style=\"stroke:#000000; stroke-linecap:round; stroke-linejoin:round; stroke-width:4; stroke-opacity:1; fill:none\" points=\"1475.21,1474.16 1475.21,1455.27 \"/>\n",
       "<path clip-path=\"url(#clip520)\" d=\"M216.164 1548.29 L223.803 1548.29 L223.803 1521.92 L215.493 1523.59 L215.493 1519.33 L223.756 1517.66 L228.432 1517.66 L228.432 1548.29 L236.071 1548.29 L236.071 1552.22 L216.164 1552.22 L216.164 1548.29 Z\" fill=\"#000000\" fill-rule=\"nonzero\" fill-opacity=\"1\" /><path clip-path=\"url(#clip520)\" d=\"M255.516 1520.74 Q251.904 1520.74 250.076 1524.31 Q248.27 1527.85 248.27 1534.98 Q248.27 1542.09 250.076 1545.65 Q251.904 1549.19 255.516 1549.19 Q259.15 1549.19 260.955 1545.65 Q262.784 1542.09 262.784 1534.98 Q262.784 1527.85 260.955 1524.31 Q259.15 1520.74 255.516 1520.74 M255.516 1517.04 Q261.326 1517.04 264.381 1521.65 Q267.46 1526.23 267.46 1534.98 Q267.46 1543.71 264.381 1548.31 Q261.326 1552.9 255.516 1552.9 Q249.705 1552.9 246.627 1548.31 Q243.571 1543.71 243.571 1534.98 Q243.571 1526.23 246.627 1521.65 Q249.705 1517.04 255.516 1517.04 Z\" fill=\"#000000\" fill-rule=\"nonzero\" fill-opacity=\"1\" /><path clip-path=\"url(#clip520)\" d=\"M280.155 1509.67 Q282.882 1510.26 284.406 1512.1 Q285.948 1513.94 285.948 1516.65 Q285.948 1520.81 283.089 1523.08 Q280.23 1525.36 274.964 1525.36 Q273.196 1525.36 271.315 1525 Q269.454 1524.66 267.46 1523.97 L267.46 1520.3 Q269.04 1521.22 270.921 1521.69 Q272.801 1522.16 274.851 1522.16 Q278.425 1522.16 280.287 1520.75 Q282.168 1519.34 282.168 1516.65 Q282.168 1514.17 280.418 1512.78 Q278.688 1511.37 275.585 1511.37 L272.312 1511.37 L272.312 1508.24 L275.735 1508.24 Q278.538 1508.24 280.023 1507.13 Q281.509 1506.01 281.509 1503.9 Q281.509 1501.74 279.967 1500.59 Q278.444 1499.42 275.585 1499.42 Q274.024 1499.42 272.237 1499.76 Q270.45 1500.1 268.306 1500.82 L268.306 1497.43 Q270.469 1496.83 272.35 1496.53 Q274.249 1496.23 275.923 1496.23 Q280.249 1496.23 282.769 1498.2 Q285.29 1500.16 285.29 1503.51 Q285.29 1505.84 283.954 1507.45 Q282.619 1509.05 280.155 1509.67 Z\" fill=\"#000000\" fill-rule=\"nonzero\" fill-opacity=\"1\" /><path clip-path=\"url(#clip520)\" d=\"M1440.2 1548.29 L1447.84 1548.29 L1447.84 1521.92 L1439.53 1523.59 L1439.53 1519.33 L1447.79 1517.66 L1452.47 1517.66 L1452.47 1548.29 L1460.11 1548.29 L1460.11 1552.22 L1440.2 1552.22 L1440.2 1548.29 Z\" fill=\"#000000\" fill-rule=\"nonzero\" fill-opacity=\"1\" /><path clip-path=\"url(#clip520)\" d=\"M1479.55 1520.74 Q1475.94 1520.74 1474.11 1524.31 Q1472.31 1527.85 1472.31 1534.98 Q1472.31 1542.09 1474.11 1545.65 Q1475.94 1549.19 1479.55 1549.19 Q1483.19 1549.19 1484.99 1545.65 Q1486.82 1542.09 1486.82 1534.98 Q1486.82 1527.85 1484.99 1524.31 Q1483.19 1520.74 1479.55 1520.74 M1479.55 1517.04 Q1485.36 1517.04 1488.42 1521.65 Q1491.5 1526.23 1491.5 1534.98 Q1491.5 1543.71 1488.42 1548.31 Q1485.36 1552.9 1479.55 1552.9 Q1473.74 1552.9 1470.66 1548.31 Q1467.61 1543.71 1467.61 1534.98 Q1467.61 1526.23 1470.66 1521.65 Q1473.74 1517.04 1479.55 1517.04 Z\" fill=\"#000000\" fill-rule=\"nonzero\" fill-opacity=\"1\" /><path clip-path=\"url(#clip520)\" d=\"M1501.52 1509.26 Q1498.96 1509.26 1497.46 1511.01 Q1495.97 1512.76 1495.97 1515.81 Q1495.97 1518.83 1497.46 1520.6 Q1498.96 1522.35 1501.52 1522.35 Q1504.08 1522.35 1505.56 1520.6 Q1507.07 1518.83 1507.07 1515.81 Q1507.07 1512.76 1505.56 1511.01 Q1504.08 1509.26 1501.52 1509.26 M1509.06 1497.35 L1509.06 1500.82 Q1507.63 1500.14 1506.17 1499.78 Q1504.72 1499.42 1503.29 1499.42 Q1499.53 1499.42 1497.53 1501.96 Q1495.56 1504.5 1495.28 1509.64 Q1496.39 1508 1498.06 1507.13 Q1499.73 1506.25 1501.75 1506.25 Q1505.98 1506.25 1508.42 1508.83 Q1510.89 1511.39 1510.89 1515.81 Q1510.89 1520.13 1508.33 1522.75 Q1505.77 1525.36 1501.52 1525.36 Q1496.65 1525.36 1494.07 1521.64 Q1491.5 1517.89 1491.5 1510.8 Q1491.5 1504.14 1494.65 1500.19 Q1497.81 1496.23 1503.14 1496.23 Q1504.57 1496.23 1506.01 1496.51 Q1507.48 1496.79 1509.06 1497.35 Z\" fill=\"#000000\" fill-rule=\"nonzero\" fill-opacity=\"1\" /><polyline clip-path=\"url(#clip522)\" style=\"stroke:#000000; stroke-linecap:round; stroke-linejoin:round; stroke-width:2; stroke-opacity:0.1; fill:none\" points=\"189.496,1085.38 2352.76,1085.38 \"/>\n",
       "<polyline clip-path=\"url(#clip522)\" style=\"stroke:#000000; stroke-linecap:round; stroke-linejoin:round; stroke-width:2; stroke-opacity:0.1; fill:none\" points=\"189.496,570.198 2352.76,570.198 \"/>\n",
       "<polyline clip-path=\"url(#clip522)\" style=\"stroke:#000000; stroke-linecap:round; stroke-linejoin:round; stroke-width:2; stroke-opacity:0.1; fill:none\" points=\"189.496,55.0129 2352.76,55.0129 \"/>\n",
       "<polyline clip-path=\"url(#clip520)\" style=\"stroke:#000000; stroke-linecap:round; stroke-linejoin:round; stroke-width:4; stroke-opacity:1; fill:none\" points=\"189.496,1474.16 189.496,47.2441 \"/>\n",
       "<polyline clip-path=\"url(#clip520)\" style=\"stroke:#000000; stroke-linecap:round; stroke-linejoin:round; stroke-width:4; stroke-opacity:1; fill:none\" points=\"189.496,1085.38 208.394,1085.38 \"/>\n",
       "<polyline clip-path=\"url(#clip520)\" style=\"stroke:#000000; stroke-linecap:round; stroke-linejoin:round; stroke-width:4; stroke-opacity:1; fill:none\" points=\"189.496,570.198 208.394,570.198 \"/>\n",
       "<polyline clip-path=\"url(#clip520)\" style=\"stroke:#000000; stroke-linecap:round; stroke-linejoin:round; stroke-width:4; stroke-opacity:1; fill:none\" points=\"189.496,55.0129 208.394,55.0129 \"/>\n",
       "<path clip-path=\"url(#clip520)\" d=\"M51.6634 1105.18 L59.3023 1105.18 L59.3023 1078.81 L50.9921 1080.48 L50.9921 1076.22 L59.256 1074.55 L63.9319 1074.55 L63.9319 1105.18 L71.5707 1105.18 L71.5707 1109.11 L51.6634 1109.11 L51.6634 1105.18 Z\" fill=\"#000000\" fill-rule=\"nonzero\" fill-opacity=\"1\" /><path clip-path=\"url(#clip520)\" d=\"M91.0151 1077.63 Q87.404 1077.63 85.5753 1081.19 Q83.7697 1084.74 83.7697 1091.86 Q83.7697 1098.97 85.5753 1102.54 Q87.404 1106.08 91.0151 1106.08 Q94.6493 1106.08 96.4548 1102.54 Q98.2835 1098.97 98.2835 1091.86 Q98.2835 1084.74 96.4548 1081.19 Q94.6493 1077.63 91.0151 1077.63 M91.0151 1073.93 Q96.8252 1073.93 99.8808 1078.53 Q102.959 1083.12 102.959 1091.86 Q102.959 1100.59 99.8808 1105.2 Q96.8252 1109.78 91.0151 1109.78 Q85.2049 1109.78 82.1262 1105.2 Q79.0707 1100.59 79.0707 1091.86 Q79.0707 1083.12 82.1262 1078.53 Q85.2049 1073.93 91.0151 1073.93 Z\" fill=\"#000000\" fill-rule=\"nonzero\" fill-opacity=\"1\" /><path clip-path=\"url(#clip520)\" d=\"M102.959 1068.03 L127.071 1068.03 L127.071 1071.22 L102.959 1071.22 L102.959 1068.03 Z\" fill=\"#000000\" fill-rule=\"nonzero\" fill-opacity=\"1\" /><path clip-path=\"url(#clip520)\" d=\"M145.71 1056.93 L136.118 1071.92 L145.71 1071.92 L145.71 1056.93 M144.713 1053.62 L149.49 1053.62 L149.49 1071.92 L153.496 1071.92 L153.496 1075.08 L149.49 1075.08 L149.49 1081.7 L145.71 1081.7 L145.71 1075.08 L133.033 1075.08 L133.033 1071.41 L144.713 1053.62 Z\" fill=\"#000000\" fill-rule=\"nonzero\" fill-opacity=\"1\" /><path clip-path=\"url(#clip520)\" d=\"M52.585 589.99 L60.2238 589.99 L60.2238 563.625 L51.9137 565.291 L51.9137 561.032 L60.1776 559.365 L64.8535 559.365 L64.8535 589.99 L72.4923 589.99 L72.4923 593.925 L52.585 593.925 L52.585 589.99 Z\" fill=\"#000000\" fill-rule=\"nonzero\" fill-opacity=\"1\" /><path clip-path=\"url(#clip520)\" d=\"M91.9366 562.444 Q88.3255 562.444 86.4969 566.009 Q84.6913 569.551 84.6913 576.68 Q84.6913 583.787 86.4969 587.351 Q88.3255 590.893 91.9366 590.893 Q95.5709 590.893 97.3764 587.351 Q99.2051 583.787 99.2051 576.68 Q99.2051 569.551 97.3764 566.009 Q95.5709 562.444 91.9366 562.444 M91.9366 558.74 Q97.7468 558.74 100.802 563.347 Q103.881 567.93 103.881 576.68 Q103.881 585.407 100.802 590.013 Q97.7468 594.597 91.9366 594.597 Q86.1265 594.597 83.0478 590.013 Q79.9923 585.407 79.9923 576.68 Q79.9923 567.93 83.0478 563.347 Q86.1265 558.74 91.9366 558.74 Z\" fill=\"#000000\" fill-rule=\"nonzero\" fill-opacity=\"1\" /><path clip-path=\"url(#clip520)\" d=\"M103.881 552.842 L127.993 552.842 L127.993 556.039 L103.881 556.039 L103.881 552.842 Z\" fill=\"#000000\" fill-rule=\"nonzero\" fill-opacity=\"1\" /><path clip-path=\"url(#clip520)\" d=\"M147.703 551.375 Q150.43 551.958 151.954 553.801 Q153.496 555.644 153.496 558.352 Q153.496 562.509 150.637 564.785 Q147.778 567.06 142.512 567.06 Q140.744 567.06 138.863 566.703 Q137.002 566.365 135.008 565.669 L135.008 562.001 Q136.588 562.923 138.469 563.393 Q140.349 563.863 142.399 563.863 Q145.973 563.863 147.835 562.452 Q149.716 561.042 149.716 558.352 Q149.716 555.87 147.966 554.478 Q146.236 553.067 143.133 553.067 L139.86 553.067 L139.86 549.945 L143.283 549.945 Q146.086 549.945 147.571 548.836 Q149.057 547.707 149.057 545.601 Q149.057 543.438 147.515 542.291 Q145.992 541.124 143.133 541.124 Q141.572 541.124 139.785 541.463 Q137.998 541.802 135.854 542.516 L135.854 539.131 Q138.017 538.529 139.898 538.228 Q141.797 537.927 143.471 537.927 Q147.797 537.927 150.317 539.902 Q152.838 541.858 152.838 545.206 Q152.838 547.538 151.502 549.155 Q150.167 550.754 147.703 551.375 Z\" fill=\"#000000\" fill-rule=\"nonzero\" fill-opacity=\"1\" /><path clip-path=\"url(#clip520)\" d=\"M53.3561 74.8053 L60.995 74.8053 L60.995 48.4397 L52.6848 50.1064 L52.6848 45.8472 L60.9487 44.1805 L65.6246 44.1805 L65.6246 74.8053 L73.2634 74.8053 L73.2634 78.7405 L53.3561 78.7405 L53.3561 74.8053 Z\" fill=\"#000000\" fill-rule=\"nonzero\" fill-opacity=\"1\" /><path clip-path=\"url(#clip520)\" d=\"M92.7078 47.2592 Q89.0967 47.2592 87.268 50.824 Q85.4624 54.3656 85.4624 61.4952 Q85.4624 68.6017 87.268 72.1665 Q89.0967 75.7081 92.7078 75.7081 Q96.342 75.7081 98.1475 72.1665 Q99.9762 68.6017 99.9762 61.4952 Q99.9762 54.3656 98.1475 50.824 Q96.342 47.2592 92.7078 47.2592 M92.7078 43.5555 Q98.5179 43.5555 101.573 48.162 Q104.652 52.7453 104.652 61.4952 Q104.652 70.222 101.573 74.8285 Q98.5179 79.4118 92.7078 79.4118 Q86.8976 79.4118 83.8189 74.8285 Q80.7634 70.222 80.7634 61.4952 Q80.7634 52.7453 83.8189 48.162 Q86.8976 43.5555 92.7078 43.5555 Z\" fill=\"#000000\" fill-rule=\"nonzero\" fill-opacity=\"1\" /><path clip-path=\"url(#clip520)\" d=\"M104.652 37.6569 L128.764 37.6569 L128.764 40.8542 L104.652 40.8542 L104.652 37.6569 Z\" fill=\"#000000\" fill-rule=\"nonzero\" fill-opacity=\"1\" /><path clip-path=\"url(#clip520)\" d=\"M140.236 48.1328 L153.496 48.1328 L153.496 51.3301 L135.666 51.3301 L135.666 48.1328 Q137.829 45.8947 141.553 42.1331 Q145.296 38.3527 146.255 37.2619 Q148.079 35.2118 148.794 33.8013 Q149.527 32.3719 149.527 30.9989 Q149.527 28.7608 147.948 27.3502 Q146.387 25.9396 143.866 25.9396 Q142.08 25.9396 140.086 26.5603 Q138.111 27.1809 135.854 28.4411 L135.854 24.6043 Q138.149 23.6827 140.142 23.2125 Q142.136 22.7423 143.791 22.7423 Q148.155 22.7423 150.75 24.924 Q153.345 27.1057 153.345 30.7544 Q153.345 32.4847 152.687 34.0458 Q152.048 35.588 150.336 37.6945 Q149.866 38.2399 147.346 40.8542 Q144.826 43.4497 140.236 48.1328 Z\" fill=\"#000000\" fill-rule=\"nonzero\" fill-opacity=\"1\" /><polyline clip-path=\"url(#clip522)\" style=\"stroke:#009af9; stroke-linecap:round; stroke-linejoin:round; stroke-width:4; stroke-opacity:1; fill:none\" points=\"250.72,87.6286 658.883,415.823 1067.04,689.81 1475.21,945.952 1883.37,1126.05 2291.53,1433.78 \"/>\n",
       "<path clip-path=\"url(#clip520)\" d=\"M1452.52 198.488 L2280.65 198.488 L2280.65 94.8081 L1452.52 94.8081  Z\" fill=\"#ffffff\" fill-rule=\"evenodd\" fill-opacity=\"1\"/>\n",
       "<polyline clip-path=\"url(#clip520)\" style=\"stroke:#000000; stroke-linecap:round; stroke-linejoin:round; stroke-width:4; stroke-opacity:1; fill:none\" points=\"1452.52,198.488 2280.65,198.488 2280.65,94.8081 1452.52,94.8081 1452.52,198.488 \"/>\n",
       "<polyline clip-path=\"url(#clip520)\" style=\"stroke:#009af9; stroke-linecap:round; stroke-linejoin:round; stroke-width:4; stroke-opacity:1; fill:none\" points=\"1476.56,146.648 1620.77,146.648 \"/>\n",
       "<path clip-path=\"url(#clip520)\" d=\"M1666.52 148.28 L1666.52 163.928 L1662.26 163.928 L1662.26 148.419 Q1662.26 144.738 1660.83 142.91 Q1659.39 141.081 1656.52 141.081 Q1653.07 141.081 1651.08 143.28 Q1649.09 145.479 1649.09 149.275 L1649.09 163.928 L1644.81 163.928 L1644.81 127.91 L1649.09 127.91 L1649.09 142.03 Q1650.62 139.692 1652.68 138.535 Q1654.76 137.377 1657.47 137.377 Q1661.94 137.377 1664.23 140.155 Q1666.52 142.91 1666.52 148.28 Z\" fill=\"#000000\" fill-rule=\"nonzero\" fill-opacity=\"1\" /><path clip-path=\"url(#clip520)\" d=\"M1675.02 138.002 L1679.28 138.002 L1679.28 163.928 L1675.02 163.928 L1675.02 138.002 M1675.02 127.91 L1679.28 127.91 L1679.28 133.303 L1675.02 133.303 L1675.02 127.91 Z\" fill=\"#000000\" fill-rule=\"nonzero\" fill-opacity=\"1\" /><path clip-path=\"url(#clip520)\" d=\"M1706.8 150.988 Q1706.8 146.289 1704.85 143.627 Q1702.93 140.942 1699.55 140.942 Q1696.17 140.942 1694.23 143.627 Q1692.31 146.289 1692.31 150.988 Q1692.31 155.687 1694.23 158.373 Q1696.17 161.035 1699.55 161.035 Q1702.93 161.035 1704.85 158.373 Q1706.8 155.687 1706.8 150.988 M1692.31 141.937 Q1693.65 139.623 1695.69 138.512 Q1697.75 137.377 1700.6 137.377 Q1705.32 137.377 1708.26 141.127 Q1711.22 144.877 1711.22 150.988 Q1711.22 157.099 1708.26 160.849 Q1705.32 164.599 1700.6 164.599 Q1697.75 164.599 1695.69 163.488 Q1693.65 162.354 1692.31 160.039 L1692.31 163.928 L1688.03 163.928 L1688.03 127.91 L1692.31 127.91 L1692.31 141.937 Z\" fill=\"#000000\" fill-rule=\"nonzero\" fill-opacity=\"1\" /><path clip-path=\"url(#clip520)\" d=\"M1730.06 150.896 Q1724.9 150.896 1722.91 152.076 Q1720.92 153.257 1720.92 156.104 Q1720.92 158.373 1722.4 159.715 Q1723.91 161.035 1726.47 161.035 Q1730.02 161.035 1732.15 158.535 Q1734.3 156.011 1734.3 151.845 L1734.3 150.896 L1730.06 150.896 M1738.56 149.137 L1738.56 163.928 L1734.3 163.928 L1734.3 159.993 Q1732.84 162.354 1730.66 163.488 Q1728.49 164.599 1725.34 164.599 Q1721.36 164.599 1719 162.377 Q1716.66 160.132 1716.66 156.382 Q1716.66 152.007 1719.58 149.785 Q1722.52 147.562 1728.33 147.562 L1734.3 147.562 L1734.3 147.146 Q1734.3 144.206 1732.35 142.609 Q1730.43 140.988 1726.94 140.988 Q1724.72 140.988 1722.61 141.521 Q1720.5 142.053 1718.56 143.118 L1718.56 139.183 Q1720.9 138.28 1723.1 137.84 Q1725.29 137.377 1727.38 137.377 Q1733 137.377 1735.78 140.294 Q1738.56 143.211 1738.56 149.137 M1730.78 126.012 L1735.39 126.012 L1727.84 134.715 L1724.3 134.715 L1730.78 126.012 Z\" fill=\"#000000\" fill-rule=\"nonzero\" fill-opacity=\"1\" /><path clip-path=\"url(#clip520)\" d=\"M1747.17 127.91 L1751.45 127.91 L1751.45 149.183 L1764.16 138.002 L1769.6 138.002 L1755.85 150.132 L1770.18 163.928 L1764.62 163.928 L1751.45 151.266 L1751.45 163.928 L1747.17 163.928 L1747.17 127.91 Z\" fill=\"#000000\" fill-rule=\"nonzero\" fill-opacity=\"1\" /><path clip-path=\"url(#clip520)\" d=\"M1801.64 150.896 Q1796.47 150.896 1794.48 152.076 Q1792.49 153.257 1792.49 156.104 Q1792.49 158.373 1793.97 159.715 Q1795.48 161.035 1798.05 161.035 Q1801.59 161.035 1803.72 158.535 Q1805.87 156.011 1805.87 151.845 L1805.87 150.896 L1801.64 150.896 M1810.13 149.137 L1810.13 163.928 L1805.87 163.928 L1805.87 159.993 Q1804.41 162.354 1802.24 163.488 Q1800.06 164.599 1796.91 164.599 Q1792.93 164.599 1790.57 162.377 Q1788.23 160.132 1788.23 156.382 Q1788.23 152.007 1791.15 149.785 Q1794.09 147.562 1799.9 147.562 L1805.87 147.562 L1805.87 147.146 Q1805.87 144.206 1803.93 142.609 Q1802.01 140.988 1798.51 140.988 Q1796.29 140.988 1794.18 141.521 Q1792.08 142.053 1790.13 143.118 L1790.13 139.183 Q1792.47 138.28 1794.67 137.84 Q1796.87 137.377 1798.95 137.377 Q1804.58 137.377 1807.35 140.294 Q1810.13 143.211 1810.13 149.137 M1802.35 126.012 L1806.96 126.012 L1799.41 134.715 L1795.87 134.715 L1802.35 126.012 Z\" fill=\"#000000\" fill-rule=\"nonzero\" fill-opacity=\"1\" /><path clip-path=\"url(#clip520)\" d=\"M1823.12 130.641 L1823.12 138.002 L1831.89 138.002 L1831.89 141.312 L1823.12 141.312 L1823.12 155.386 Q1823.12 158.558 1823.97 159.461 Q1824.85 160.363 1827.52 160.363 L1831.89 160.363 L1831.89 163.928 L1827.52 163.928 Q1822.59 163.928 1820.71 162.099 Q1818.84 160.248 1818.84 155.386 L1818.84 141.312 L1815.71 141.312 L1815.71 138.002 L1818.84 138.002 L1818.84 130.641 L1823.12 130.641 Z\" fill=\"#000000\" fill-rule=\"nonzero\" fill-opacity=\"1\" /><path clip-path=\"url(#clip520)\" d=\"M1837.49 127.91 L1841.75 127.91 L1841.75 163.928 L1837.49 163.928 L1837.49 127.91 Z\" fill=\"#000000\" fill-rule=\"nonzero\" fill-opacity=\"1\" /><path clip-path=\"url(#clip520)\" d=\"M1862.45 150.896 Q1857.28 150.896 1855.29 152.076 Q1853.3 153.257 1853.3 156.104 Q1853.3 158.373 1854.78 159.715 Q1856.29 161.035 1858.86 161.035 Q1862.4 161.035 1864.53 158.535 Q1866.68 156.011 1866.68 151.845 L1866.68 150.896 L1862.45 150.896 M1870.94 149.137 L1870.94 163.928 L1866.68 163.928 L1866.68 159.993 Q1865.22 162.354 1863.05 163.488 Q1860.87 164.599 1857.72 164.599 Q1853.74 164.599 1851.38 162.377 Q1849.04 160.132 1849.04 156.382 Q1849.04 152.007 1851.96 149.785 Q1854.9 147.562 1860.71 147.562 L1866.68 147.562 L1866.68 147.146 Q1866.68 144.206 1864.74 142.609 Q1862.82 140.988 1859.32 140.988 Q1857.1 140.988 1854.99 141.521 Q1852.89 142.053 1850.94 143.118 L1850.94 139.183 Q1853.28 138.28 1855.48 137.84 Q1857.68 137.377 1859.76 137.377 Q1865.39 137.377 1868.16 140.294 Q1870.94 143.211 1870.94 149.137 Z\" fill=\"#000000\" fill-rule=\"nonzero\" fill-opacity=\"1\" /><path clip-path=\"url(#clip520)\" d=\"M1896.77 150.664 Q1896.77 146.035 1894.85 143.488 Q1892.96 140.942 1889.51 140.942 Q1886.08 140.942 1884.16 143.488 Q1882.26 146.035 1882.26 150.664 Q1882.26 155.271 1884.16 157.817 Q1886.08 160.363 1889.51 160.363 Q1892.96 160.363 1894.85 157.817 Q1896.77 155.271 1896.77 150.664 M1901.03 160.711 Q1901.03 167.331 1898.09 170.548 Q1895.15 173.789 1889.09 173.789 Q1886.84 173.789 1884.85 173.442 Q1882.86 173.118 1880.99 172.423 L1880.99 168.28 Q1882.86 169.298 1884.69 169.785 Q1886.52 170.271 1888.42 170.271 Q1892.61 170.271 1894.69 168.072 Q1896.77 165.896 1896.77 161.474 L1896.77 159.368 Q1895.46 161.66 1893.4 162.794 Q1891.34 163.928 1888.46 163.928 Q1883.7 163.928 1880.78 160.294 Q1877.86 156.66 1877.86 150.664 Q1877.86 144.646 1880.78 141.012 Q1883.7 137.377 1888.46 137.377 Q1891.34 137.377 1893.4 138.512 Q1895.46 139.646 1896.77 141.937 L1896.77 138.002 L1901.03 138.002 L1901.03 160.711 Z\" fill=\"#000000\" fill-rule=\"nonzero\" fill-opacity=\"1\" /><path clip-path=\"url(#clip520)\" d=\"M1921.59 150.896 Q1916.43 150.896 1914.44 152.076 Q1912.45 153.257 1912.45 156.104 Q1912.45 158.373 1913.93 159.715 Q1915.43 161.035 1918 161.035 Q1921.54 161.035 1923.67 158.535 Q1925.83 156.011 1925.83 151.845 L1925.83 150.896 L1921.59 150.896 M1930.08 149.137 L1930.08 163.928 L1925.83 163.928 L1925.83 159.993 Q1924.37 162.354 1922.19 163.488 Q1920.02 164.599 1916.87 164.599 Q1912.89 164.599 1910.52 162.377 Q1908.19 160.132 1908.19 156.382 Q1908.19 152.007 1911.1 149.785 Q1914.04 147.562 1919.85 147.562 L1925.83 147.562 L1925.83 147.146 Q1925.83 144.206 1923.88 142.609 Q1921.96 140.988 1918.46 140.988 Q1916.24 140.988 1914.14 141.521 Q1912.03 142.053 1910.09 143.118 L1910.09 139.183 Q1912.42 138.28 1914.62 137.84 Q1916.82 137.377 1918.9 137.377 Q1924.53 137.377 1927.31 140.294 Q1930.08 143.211 1930.08 149.137 Z\" fill=\"#000000\" fill-rule=\"nonzero\" fill-opacity=\"1\" /><path clip-path=\"url(#clip520)\" d=\"M1964.16 127.956 Q1961.06 133.28 1959.55 138.488 Q1958.05 143.697 1958.05 149.044 Q1958.05 154.391 1959.55 159.646 Q1961.08 164.877 1964.16 170.178 L1960.46 170.178 Q1956.98 164.738 1955.25 159.484 Q1953.53 154.229 1953.53 149.044 Q1953.53 143.882 1955.25 138.65 Q1956.96 133.419 1960.46 127.956 L1964.16 127.956 Z\" fill=\"#000000\" fill-rule=\"nonzero\" fill-opacity=\"1\" /><path clip-path=\"url(#clip520)\" d=\"M1977.05 159.993 L1993.37 159.993 L1993.37 163.928 L1971.43 163.928 L1971.43 159.993 Q1974.09 157.238 1978.67 152.609 Q1983.28 147.956 1984.46 146.613 Q1986.71 144.09 1987.58 142.354 Q1988.49 140.595 1988.49 138.905 Q1988.49 136.15 1986.54 134.414 Q1984.62 132.678 1981.52 132.678 Q1979.32 132.678 1976.87 133.442 Q1974.44 134.206 1971.66 135.757 L1971.66 131.035 Q1974.48 129.901 1976.94 129.322 Q1979.39 128.743 1981.43 128.743 Q1986.8 128.743 1989.99 131.428 Q1993.19 134.113 1993.19 138.604 Q1993.19 140.734 1992.38 142.655 Q1991.59 144.553 1989.48 147.146 Q1988.9 147.817 1985.8 151.035 Q1982.7 154.229 1977.05 159.993 Z\" fill=\"#000000\" fill-rule=\"nonzero\" fill-opacity=\"1\" /><path clip-path=\"url(#clip520)\" d=\"M2013.19 132.447 Q2009.58 132.447 2007.75 136.012 Q2005.94 139.553 2005.94 146.683 Q2005.94 153.789 2007.75 157.354 Q2009.58 160.896 2013.19 160.896 Q2016.82 160.896 2018.63 157.354 Q2020.45 153.789 2020.45 146.683 Q2020.45 139.553 2018.63 136.012 Q2016.82 132.447 2013.19 132.447 M2013.19 128.743 Q2019 128.743 2022.05 133.35 Q2025.13 137.933 2025.13 146.683 Q2025.13 155.41 2022.05 160.016 Q2019 164.599 2013.19 164.599 Q2007.38 164.599 2004.3 160.016 Q2001.24 155.41 2001.24 146.683 Q2001.24 137.933 2004.3 133.35 Q2007.38 128.743 2013.19 128.743 Z\" fill=\"#000000\" fill-rule=\"nonzero\" fill-opacity=\"1\" /><path clip-path=\"url(#clip520)\" d=\"M2047.82 138.002 L2052.08 138.002 L2052.08 163.928 L2047.82 163.928 L2047.82 138.002 M2047.82 127.91 L2052.08 127.91 L2052.08 133.303 L2047.82 133.303 L2047.82 127.91 Z\" fill=\"#000000\" fill-rule=\"nonzero\" fill-opacity=\"1\" /><path clip-path=\"url(#clip520)\" d=\"M2077.51 138.766 L2077.51 142.794 Q2075.71 141.868 2073.76 141.405 Q2071.82 140.942 2069.74 140.942 Q2066.57 140.942 2064.97 141.914 Q2063.39 142.887 2063.39 144.831 Q2063.39 146.312 2064.53 147.169 Q2065.66 148.002 2069.09 148.766 L2070.55 149.09 Q2075.08 150.062 2076.98 151.845 Q2078.9 153.604 2078.9 156.775 Q2078.9 160.386 2076.03 162.493 Q2073.19 164.599 2068.19 164.599 Q2066.1 164.599 2063.83 164.183 Q2061.59 163.789 2059.09 162.979 L2059.09 158.581 Q2061.45 159.808 2063.74 160.433 Q2066.03 161.035 2068.28 161.035 Q2071.29 161.035 2072.91 160.016 Q2074.53 158.974 2074.53 157.099 Q2074.53 155.363 2073.35 154.437 Q2072.19 153.512 2068.23 152.655 L2066.75 152.308 Q2062.79 151.474 2061.03 149.762 Q2059.27 148.025 2059.27 145.016 Q2059.27 141.359 2061.87 139.368 Q2064.46 137.377 2069.23 137.377 Q2071.59 137.377 2073.67 137.725 Q2075.76 138.072 2077.51 138.766 Z\" fill=\"#000000\" fill-rule=\"nonzero\" fill-opacity=\"1\" /><path clip-path=\"url(#clip520)\" d=\"M2105.87 142.979 Q2107.47 140.109 2109.69 138.743 Q2111.91 137.377 2114.92 137.377 Q2118.97 137.377 2121.17 140.225 Q2123.37 143.049 2123.37 148.28 L2123.37 163.928 L2119.09 163.928 L2119.09 148.419 Q2119.09 144.692 2117.77 142.887 Q2116.45 141.081 2113.74 141.081 Q2110.43 141.081 2108.51 143.28 Q2106.59 145.479 2106.59 149.275 L2106.59 163.928 L2102.31 163.928 L2102.31 148.419 Q2102.31 144.669 2100.99 142.887 Q2099.67 141.081 2096.91 141.081 Q2093.65 141.081 2091.73 143.303 Q2089.81 145.502 2089.81 149.275 L2089.81 163.928 L2085.52 163.928 L2085.52 138.002 L2089.81 138.002 L2089.81 142.03 Q2091.26 139.646 2093.3 138.512 Q2095.34 137.377 2098.14 137.377 Q2100.96 137.377 2102.93 138.813 Q2104.92 140.248 2105.87 142.979 Z\" fill=\"#000000\" fill-rule=\"nonzero\" fill-opacity=\"1\" /><path clip-path=\"url(#clip520)\" d=\"M2154.04 149.9 L2154.04 151.984 L2134.46 151.984 Q2134.74 156.382 2137.1 158.697 Q2139.48 160.988 2143.72 160.988 Q2146.17 160.988 2148.46 160.386 Q2150.78 159.785 2153.05 158.581 L2153.05 162.609 Q2150.76 163.581 2148.35 164.09 Q2145.94 164.599 2143.46 164.599 Q2137.26 164.599 2133.63 160.988 Q2130.01 157.377 2130.01 151.22 Q2130.01 144.854 2133.44 141.127 Q2136.89 137.377 2142.72 137.377 Q2147.95 137.377 2150.99 140.757 Q2154.04 144.113 2154.04 149.9 M2149.78 148.65 Q2149.74 145.155 2147.82 143.072 Q2145.92 140.988 2142.77 140.988 Q2139.2 140.988 2137.05 143.002 Q2134.92 145.016 2134.6 148.674 L2149.78 148.65 M2145.69 126.012 L2150.29 126.012 L2142.75 134.715 L2139.2 134.715 L2145.69 126.012 Z\" fill=\"#000000\" fill-rule=\"nonzero\" fill-opacity=\"1\" /><path clip-path=\"url(#clip520)\" d=\"M2165.25 130.641 L2165.25 138.002 L2174.02 138.002 L2174.02 141.312 L2165.25 141.312 L2165.25 155.386 Q2165.25 158.558 2166.1 159.461 Q2166.98 160.363 2169.64 160.363 L2174.02 160.363 L2174.02 163.928 L2169.64 163.928 Q2164.71 163.928 2162.84 162.099 Q2160.96 160.248 2160.96 155.386 L2160.96 141.312 L2157.84 141.312 L2157.84 138.002 L2160.96 138.002 L2160.96 130.641 L2165.25 130.641 Z\" fill=\"#000000\" fill-rule=\"nonzero\" fill-opacity=\"1\" /><path clip-path=\"url(#clip520)\" d=\"M2179.62 127.91 L2183.88 127.91 L2183.88 163.928 L2179.62 163.928 L2179.62 127.91 Z\" fill=\"#000000\" fill-rule=\"nonzero\" fill-opacity=\"1\" /><path clip-path=\"url(#clip520)\" d=\"M2214.97 149.9 L2214.97 151.984 L2195.38 151.984 Q2195.66 156.382 2198.02 158.697 Q2200.41 160.988 2204.64 160.988 Q2207.1 160.988 2209.39 160.386 Q2211.7 159.785 2213.97 158.581 L2213.97 162.609 Q2211.68 163.581 2209.27 164.09 Q2206.87 164.599 2204.39 164.599 Q2198.19 164.599 2194.55 160.988 Q2190.94 157.377 2190.94 151.22 Q2190.94 144.854 2194.37 141.127 Q2197.82 137.377 2203.65 137.377 Q2208.88 137.377 2211.91 140.757 Q2214.97 144.113 2214.97 149.9 M2210.71 148.65 Q2210.66 145.155 2208.74 143.072 Q2206.84 140.988 2203.69 140.988 Q2200.13 140.988 2197.98 143.002 Q2195.85 145.016 2195.52 148.674 L2210.71 148.65 M2206.61 126.012 L2211.22 126.012 L2203.67 134.715 L2200.13 134.715 L2206.61 126.012 Z\" fill=\"#000000\" fill-rule=\"nonzero\" fill-opacity=\"1\" /><path clip-path=\"url(#clip520)\" d=\"M2238.49 138.766 L2238.49 142.794 Q2236.68 141.868 2234.74 141.405 Q2232.79 140.942 2230.71 140.942 Q2227.54 140.942 2225.94 141.914 Q2224.37 142.887 2224.37 144.831 Q2224.37 146.312 2225.5 147.169 Q2226.63 148.002 2230.06 148.766 L2231.52 149.09 Q2236.06 150.062 2237.95 151.845 Q2239.87 153.604 2239.87 156.775 Q2239.87 160.386 2237 162.493 Q2234.16 164.599 2229.16 164.599 Q2227.07 164.599 2224.81 164.183 Q2222.56 163.789 2220.06 162.979 L2220.06 158.581 Q2222.42 159.808 2224.71 160.433 Q2227 161.035 2229.25 161.035 Q2232.26 161.035 2233.88 160.016 Q2235.5 158.974 2235.5 157.099 Q2235.5 155.363 2234.32 154.437 Q2233.16 153.512 2229.2 152.655 L2227.72 152.308 Q2223.76 151.474 2222 149.762 Q2220.25 148.025 2220.25 145.016 Q2220.25 141.359 2222.84 139.368 Q2225.43 137.377 2230.2 137.377 Q2232.56 137.377 2234.64 137.725 Q2236.73 138.072 2238.49 138.766 Z\" fill=\"#000000\" fill-rule=\"nonzero\" fill-opacity=\"1\" /><path clip-path=\"url(#clip520)\" d=\"M2245.99 127.956 L2249.69 127.956 Q2253.16 133.419 2254.87 138.65 Q2256.61 143.882 2256.61 149.044 Q2256.61 154.229 2254.87 159.484 Q2253.16 164.738 2249.69 170.178 L2245.99 170.178 Q2249.06 164.877 2250.57 159.646 Q2252.1 154.391 2252.1 149.044 Q2252.1 143.697 2250.57 138.488 Q2249.06 133.28 2245.99 127.956 Z\" fill=\"#000000\" fill-rule=\"nonzero\" fill-opacity=\"1\" /></svg>\n"
      ]
     },
     "execution_count": 205,
     "metadata": {},
     "output_type": "execute_result"
    }
   ],
   "source": [
    "using Plots\n",
    "plot(Ns, avg_errs, xaxis=:log, yaxis=:log, label=\"hibák átlaga (20 ismétlés)\", )"
   ]
  },
  {
   "cell_type": "markdown",
   "id": "dfa617b0-c1ce-406a-82f8-7db374aebb81",
   "metadata": {},
   "source": [
    "Mekkora ennek az \"egyenesnek\" a meredeksége? Illesszünk rá elsőfokú polinomot."
   ]
  },
  {
   "cell_type": "code",
   "execution_count": 206,
   "id": "41062fa9-90a9-4996-a0e2-9c4a698dfc51",
   "metadata": {},
   "outputs": [],
   "source": [
    "using Polynomials"
   ]
  },
  {
   "cell_type": "code",
   "execution_count": 207,
   "id": "7f056022-0f7d-4756-a694-f5bd1c31a8f3",
   "metadata": {},
   "outputs": [
    {
     "data": {
      "text/html": [
       "&#45;0.6323315162226169 &#45; 0.5056484479054952&#8729;x"
      ],
      "text/latex": [
       "$-0.6323315162226169 - 0.5056484479054952\\cdot x$"
      ],
      "text/plain": [
       "Polynomial(-0.6323315162226169 - 0.5056484479054952*x)"
      ]
     },
     "execution_count": 207,
     "metadata": {},
     "output_type": "execute_result"
    }
   ],
   "source": [
    "p = Polynomials.fit(log10.(Ns), log10.(avg_errs), 1)"
   ]
  },
  {
   "cell_type": "markdown",
   "id": "5b8c816d-77a1-4962-807c-01125f462a5e",
   "metadata": {},
   "source": [
    "Tehát, ez alapján, ha tízszeresére növeljük az N-net, akkor azt várhatjuk, hogy kb. $10^{-0.52}$-szörösére változik a hiba. Kicsit másként:"
   ]
  },
  {
   "cell_type": "code",
   "execution_count": 208,
   "id": "58793439-88ab-43c8-ab20-3cf1a611fdbd",
   "metadata": {},
   "outputs": [
    {
     "data": {
      "text/plain": [
       "0.3019951720402016"
      ]
     },
     "execution_count": 208,
     "metadata": {},
     "output_type": "execute_result"
    }
   ],
   "source": [
    "10^(-0.52)"
   ]
  },
  {
   "cell_type": "code",
   "execution_count": 209,
   "id": "ccb24f26-f74e-4a2a-bd82-f077fb2eb36b",
   "metadata": {},
   "outputs": [
    {
     "data": {
      "text/plain": [
       "0.30853617747690143"
      ]
     },
     "execution_count": 209,
     "metadata": {},
     "output_type": "execute_result"
    }
   ],
   "source": [
    "sum(avg_errs[2:end] ./ avg_errs[1:(end-1)])/length(avg_errs[2:end])"
   ]
  },
  {
   "cell_type": "markdown",
   "id": "6f109e5e-d346-4e80-a1dd-e39f6f19dd1a",
   "metadata": {},
   "source": [
    "----------------"
   ]
  },
  {
   "cell_type": "markdown",
   "id": "0eed40ba-1ac2-483d-a588-057d6e316aab",
   "metadata": {},
   "source": [
    "### Hibabecslés és adaptivitás\n",
    "\n",
    "Tegyük fel, hogy közelíteni szeretnénk egy $x$, sokszor folyt. diff.ható függvény értékét a $0$ körül. Vegyük egy $p$-edrendű $y$ közelítést és egy $h > 0$ kis valós számot. Ekkor próbáljuk megbecsülni az \n",
    "$$\n",
    "e(h) = x(h) - y(h) = C h^{p+1} + \\mathcal{O}(h^{p+2})\n",
    "$$\n",
    "\n",
    "hibát, melyet feltételezéseink szerint jól jellemez a $C$ konstans."
   ]
  },
  {
   "cell_type": "markdown",
   "id": "d529e20f-214f-4c81-a0ac-72bb7100d982",
   "metadata": {},
   "source": [
    "Egy lehetséges megközelítés, hogy vegyünk egy $z$ közelítést, mely legyen $p+1$-edrendű. Ekkor\n",
    "$$\n",
    "x(h) - z(h) = \\tilde C h^{p+2} + \\mathcal{O}(h^{p+3}).\n",
    "$$\n",
    "\n",
    "Tekintsük $z$-t pontos megoldásnak, és közelítsük a tényleges hiba értékét ennek segítségével, pontosabban:\n",
    "$$\n",
    " e(h) \\approx y(h) - z(h) = y(h) - x(h) + x(h) - z(h) = -C h^{p+1} + \\mathcal{O}(h^{p+2}).\n",
    "$$\n"
   ]
  },
  {
   "cell_type": "markdown",
   "id": "bfeec95f-4219-488a-add5-cc431cec11d1",
   "metadata": {},
   "source": [
    "Nekünk az $y$ és $z$ természetesen egy-egy kvadratúra lesz."
   ]
  },
  {
   "cell_type": "markdown",
   "id": "e45e71a3-b308-44fd-95a5-bce87b4d996a",
   "metadata": {},
   "source": [
    "#### 7. Feladat\n",
    "\n",
    "Írjunk programot, mely egy $p$-edrendű kvadratúrával megközelíti egy függvénynek a $[0,h]$ intervallumon vett integrálját és egy $(p+1)$-edrendű kvadratúrából hibabecslést is ad nekünk erre, például $p=1$ esetén."
   ]
  },
  {
   "cell_type": "code",
   "execution_count": 210,
   "id": "feb6a634-c529-49f3-a0ef-a805dc7d5a3b",
   "metadata": {},
   "outputs": [
    {
     "data": {
      "text/plain": [
       "egyszeru_kvadratura_es_hibabecsles (generic function with 2 methods)"
      ]
     },
     "execution_count": 210,
     "metadata": {},
     "output_type": "execute_result"
    }
   ],
   "source": [
    "function egyszeru_kvadratura_es_hibabecsles(f, h)\n",
    "    int_approx = f(0)*h\n",
    "    err_approx = f(h/2)*h - int_approx\n",
    "    return int_approx, err_approx\n",
    "end"
   ]
  },
  {
   "cell_type": "code",
   "execution_count": 211,
   "id": "a2b3cb5a-a000-41c2-9f75-9429452b5ae0",
   "metadata": {},
   "outputs": [
    {
     "data": {
      "text/plain": [
       "(2, 0)"
      ]
     },
     "execution_count": 211,
     "metadata": {},
     "output_type": "execute_result"
    }
   ],
   "source": [
    "#érték & hibabecslés is stimmel\n",
    "egyszeru_kvadratura_es_hibabecsles(x->2, 1)"
   ]
  },
  {
   "cell_type": "code",
   "execution_count": 212,
   "id": "3db0fd10-7480-4e54-b152-cc8dc97ce49e",
   "metadata": {},
   "outputs": [
    {
     "data": {
      "text/plain": [
       "(2, 0.5)"
      ]
     },
     "execution_count": 212,
     "metadata": {},
     "output_type": "execute_result"
    }
   ],
   "source": [
    "# érték nem, de hibabecslés stimmel\n",
    "egyszeru_kvadratura_es_hibabecsles(x->x+2, 1)"
   ]
  },
  {
   "cell_type": "code",
   "execution_count": 213,
   "id": "bc256e38-ed64-427e-b618-562bcfc0ffa3",
   "metadata": {},
   "outputs": [
    {
     "data": {
      "text/plain": [
       "(0, 0.25)"
      ]
     },
     "execution_count": 213,
     "metadata": {},
     "output_type": "execute_result"
    }
   ],
   "source": [
    "#érték sem meg a hibabecslés sem stimmel\n",
    "egyszeru_kvadratura_es_hibabecsles(x->x^2, 1)"
   ]
  },
  {
   "cell_type": "markdown",
   "id": "3b631473-d72e-4a5d-91a5-03789b48a6a1",
   "metadata": {},
   "source": [
    "Ha hibabecsléssel már rendelkezünk, akkor egy egyszerű adaptív algoritmus a következő.\n",
    "\n",
    "Osszuk fel az intervallumot $h$ hosszú részintervallumokra. Számoljuk ki a függvényünk intergráljának közelítését (hibabecsléssel együtt) az egyes részintervallumokon. Ha valamelyik részintervallumon a hiba túl nagynak bizonyul, akkor osszuk fel azt az intervallumot két feleakkora részre és ismételjük meg az integrálást ezeken. \"És így tovább.\""
   ]
  },
  {
   "cell_type": "markdown",
   "id": "b83207d1-979f-4001-b303-2f8e48b7a58b",
   "metadata": {},
   "source": [
    "#### 8. Feladat (*)\n",
    "Implementáljuk a fenti algoritmust."
   ]
  },
  {
   "cell_type": "code",
   "execution_count": 214,
   "id": "d343a6b8-5b25-4d14-b3e3-52ce32c13a88",
   "metadata": {},
   "outputs": [
    {
     "data": {
      "text/plain": [
       "adaptint_recursive (generic function with 1 method)"
      ]
     },
     "execution_count": 214,
     "metadata": {},
     "output_type": "execute_result"
    }
   ],
   "source": [
    "# lehet ez is szorgalmi\n",
    "function adaptint_recursive(f, quadrature, TOL, a, b)\n",
    "    # quadrature :: (f, a, b) -> (integral, hiba)\n",
    "    # f :: az integrálandó függvény\n",
    "    # TOL :: tolerancia\n",
    "    _int, _err = quadrature(f, a, b)\n",
    "    if abs(_err) <= TOL\n",
    "        return _int\n",
    "    end\n",
    "\n",
    "    return (adaptint_recursive(f, quadrature, TOL, a,            a + (b-a)/2) + \n",
    "            adaptint_recursive(f, quadrature, TOL, a + (b-a)/2, b))\n",
    "end"
   ]
  },
  {
   "cell_type": "code",
   "execution_count": 220,
   "id": "e5523b16-7c4f-469c-b15e-734c42c300ce",
   "metadata": {},
   "outputs": [
    {
     "data": {
      "text/plain": [
       "egyszeru_kvadratura_es_hibabecsles_ab (generic function with 1 method)"
      ]
     },
     "execution_count": 220,
     "metadata": {},
     "output_type": "execute_result"
    }
   ],
   "source": [
    "function egyszeru_kvadratura_es_hibabecsles_ab(f, a, b)\n",
    "    # az a kod a [0,h]-ra szolt, nekunk meg [a, b] intervallumunk van\n",
    "    return egyszeru_kvadratura_es_hibabecsles(x -> f(x + a), b-a)\n",
    "end"
   ]
  },
  {
   "cell_type": "code",
   "execution_count": 216,
   "id": "c7ebce9c-8ede-4279-a883-75293f6498db",
   "metadata": {},
   "outputs": [
    {
     "data": {
      "text/plain": [
       "2.49609375"
      ]
     },
     "execution_count": 216,
     "metadata": {},
     "output_type": "execute_result"
    }
   ],
   "source": [
    "# probaljuk meg, hatha sikeresen kiintegraljuk azt, amit az elozo feladatban nem tudtunk\n",
    "# (de amihez volt jo hibabecslesunk)\n",
    "\n",
    "adaptint_recursive(x -> x+2, egyszeru_kvadratura_es_hibabecsles_ab, 1e-4, 0, 1)"
   ]
  },
  {
   "cell_type": "code",
   "execution_count": 217,
   "id": "5f22ad56-db53-4331-9d3f-b59868289eca",
   "metadata": {},
   "outputs": [
    {
     "data": {
      "text/plain": [
       "2.49993896484375"
      ]
     },
     "execution_count": 217,
     "metadata": {},
     "output_type": "execute_result"
    }
   ],
   "source": [
    "adaptint_recursive(x -> x+2, egyszeru_kvadratura_es_hibabecsles_ab, 1e-8, 0, 1)"
   ]
  },
  {
   "cell_type": "code",
   "execution_count": 218,
   "id": "7e979ae8-ce2f-4ca9-a76a-2ddf6085365e",
   "metadata": {},
   "outputs": [],
   "source": [
    "# juhe :)"
   ]
  }
 ],
 "metadata": {
  "kernelspec": {
   "display_name": "Julia 1.9.2",
   "language": "julia",
   "name": "julia-1.9"
  },
  "language_info": {
   "file_extension": ".jl",
   "mimetype": "application/julia",
   "name": "julia",
   "version": "1.9.3"
  }
 },
 "nbformat": 4,
 "nbformat_minor": 5
}
