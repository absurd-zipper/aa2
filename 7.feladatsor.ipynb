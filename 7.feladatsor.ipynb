{
 "cells": [
  {
   "cell_type": "markdown",
   "id": "ad74dd3e-d5e4-4b4d-933d-245737f20d5b",
   "metadata": {},
   "source": [
    "## 7. Feladatsor (lineáris többlépéses módszerek)"
   ]
  },
  {
   "cell_type": "markdown",
   "id": "40071d4c-8345-4195-a2c7-f99bb6bc8a6a",
   "metadata": {},
   "source": [
    "**Differenciálegyenlet**\n",
    "\n",
    "Most is csak autonóm egyenletekkel foglalkozunk, azaz legyen a kezdetiérték-problémánk\n",
    "\n",
    "$$ \n",
    "\\begin{cases}\n",
    "\\dot x(t) &= f(x(t)), \\\\\n",
    "x(0) &= x_0. \\\\\n",
    "\\end{cases}\n",
    "$$\n",
    "\n",
    "A feltevésünk miatt a kezdeti időpont persze nem számít, lehet $0$."
   ]
  },
  {
   "cell_type": "markdown",
   "id": "0256729b-3ad7-4688-8e65-9d654342eb42",
   "metadata": {},
   "source": [
    "**A(z állandó lépéshosszú) lineáris többlépéses módszerek általános alakja**\n",
    "\n",
    "Tegyük fel, hogy rendelkezésünkre állnak az $y_{n-s}, \\ldots, y_{n-1}$ értékek, melyek közelítik az $x((n-s)h), \\ldots, x((n-1)h)$ értékeket. \n",
    "\n",
    "Ekkor egy $s$-lépéses ($s \\in \\mathbb{N}_{\\neq 0}$) lineáris többlépéses módszer általános alakja az $nh$ időponthoz tartozó $y_n$ numerikus közelítés kiszámításához a következő:\n",
    "\n",
    "$$ \\sum\\limits_{j=0}^{s} \\alpha_j y_{n-j} = h\\sum\\limits_{j=0}^{s} \\beta_j f_{n-j}.$$\n",
    "\n",
    "A formula így még nem egyértelmű, ezért fel szokás tenni, hogy pl. $\\alpha_{0} = 1$.\n",
    "\n",
    "Ha $\\beta_0 = 0$, akkor a módszer explicit, egyébként implicit. \n",
    "\n",
    "A módszercsaládra magyarul az LTM betűszót használhatjuk, angolul pedig az LMM-et."
   ]
  },
  {
   "cell_type": "markdown",
   "id": "df09102a-8790-4eab-85bf-3ec59c31fd16",
   "metadata": {},
   "source": [
    "### 1. Feladat\n",
    "\n",
    "Keressünk olyan (egyszerű) RK módszereket, melyek lineáris többlépéses módszerek is."
   ]
  },
  {
   "cell_type": "code",
   "execution_count": null,
   "id": "200bba13-7235-4c7c-bbcb-af1385d57779",
   "metadata": {},
   "outputs": [],
   "source": []
  },
  {
   "cell_type": "markdown",
   "id": "bccfb026-926f-4139-83fe-3b1a8bd9d39a",
   "metadata": {},
   "source": [
    "**Adams-módszerek**\n",
    "\n",
    "A differenciálegyenlet integrál-alakja\n",
    "\n",
    "$$x(t) - x(0) = \\int_{s=0}^{t}f(x(ds)) \\, ds.$$\n",
    "\n",
    "A jobboldali integrált lehetséges az $x(t_j) \\approx y_j$ numerikus közelítéshez tartozó $hf(y_j)$ súlyozott meredekségek lineáris kombinációjával közelíteni. Így kaphatjuk meg például az (s-lépéses) Adams-módszereket is, melyek általános formulája tehát\n",
    "\n",
    "$$\n",
    "y_{n} = y_{n-1} + h \\sum\\limits_{j=0}^s \\beta_j f_{n-j}.\n",
    "$$\n",
    "\n",
    "Az explicit módszerek **Adams-Bashfort** névre hallgatnak, ilyenek például az\n",
    "$$\n",
    "\\begin{align*}\n",
    " y_n &= y_{n-1} + hf_{n-1}, \\\\\n",
    " y_n &= y_{n-1} + h\\left(\\frac32 f_{n-1} - \\frac12 f_{n-2} \\right), \\\\\n",
    " y_n &= y_{n-1} + h\\left(\\frac{23}{12} f_{n-1} - \\frac{16}{12} f_{n-2} + \\frac{5}{12} f_{n-3} \\right) \\\\\n",
    "\\end{align*}\n",
    "$$\n",
    "módszerek; az implicit módszerek **Adams-Moulton** néven is ismertek, ilyenek például az\n",
    "$$\n",
    "\\begin{align*}\n",
    "y_n &= y_{n-1} + hf_{n}, \\\\\n",
    "y_n &= y_{n-1} + h\\left(\\frac12 f_{n} + \\frac12 f_{n-1} \\right), \\\\\n",
    "y_n &= y_{n-1} + h\\left(\\frac{5}{12} f_{n} + \\frac{8}{12} f_{n-1} - \\frac{1}{12} f_{n-2} \\right), \\\\\n",
    "\\end{align*}\n",
    "$$\n",
    "módszerek. Pontosabb levezetésért tekintsük az alábbi feladatokat."
   ]
  },
  {
   "cell_type": "markdown",
   "id": "86aae4ee-acd3-40b9-9167-c955f5cc2179",
   "metadata": {},
   "source": [
    "### 2. Feladat\n",
    "\n",
    "Tekintsük azt az $(s-1)$-edfokú $p$ interpolációs polinomot, melyre teljesül, hogy\n",
    "$$\n",
    "\\begin{align*}\n",
    "p(-h) &= f_{n-1}, \\\\\n",
    "p(-2h) &= f_{n-2}, \\\\\n",
    " &\\vdots \\\\\n",
    "p(-sh) &= f_{n-s}.\n",
    "\\end{align*}\n",
    "$$\n",
    "legyen $$y_{n} = y_{n-1} + \\int_{-h}^0 p.$$"
   ]
  },
  {
   "cell_type": "markdown",
   "id": "5ac479e4-5e65-4324-b488-a6b2848023c7",
   "metadata": {},
   "source": [
    "a) Milyen módszert kapunk, ha $s=1$?"
   ]
  },
  {
   "cell_type": "code",
   "execution_count": null,
   "id": "46f1c985-8895-4d1e-85e3-955a9d3c491f",
   "metadata": {},
   "outputs": [],
   "source": []
  },
  {
   "cell_type": "markdown",
   "id": "f0219bc3-4e32-411f-8a65-9bf710167186",
   "metadata": {},
   "source": [
    "b) Milyen módszert kapunk, ha $s=2$?"
   ]
  },
  {
   "cell_type": "code",
   "execution_count": null,
   "id": "b1e9df25-ca82-42fe-841e-f5720c282dce",
   "metadata": {},
   "outputs": [],
   "source": []
  },
  {
   "cell_type": "markdown",
   "id": "d2f1274d-94a3-4a2b-a7d1-370b2f8211df",
   "metadata": {},
   "source": [
    "### 3. Feladat\n",
    "\n",
    "Tekintsük azt az $(s-1)$-edfokú $p$ interpolációs polinomot, melyre teljesül, hogy\n",
    "$$\n",
    "\\begin{align*}\n",
    "p(0) &= f_{n},    \\\\\n",
    "p(-h) &= f_{n-1}, \\\\\n",
    "p(-2h) &= f_{n-2}, \\\\\n",
    " &\\vdots \\\\\n",
    "p\\left(-(s-1)h\\right) &= f_{n-(s-1)}.\n",
    "\\end{align*}\n",
    "$$\n",
    "legyen $$y_{n} = y_{n-1} + \\int_{-h}^0 p.$$"
   ]
  },
  {
   "cell_type": "markdown",
   "id": "cede4096-0686-4559-8f89-897ff4b77c39",
   "metadata": {},
   "source": [
    "a) Milyen módszert kapunk, ha $s=1$?"
   ]
  },
  {
   "cell_type": "code",
   "execution_count": null,
   "id": "4244b5ee-2e26-4964-9815-01721609ec52",
   "metadata": {},
   "outputs": [],
   "source": []
  },
  {
   "cell_type": "markdown",
   "id": "79ac2698-db78-42f2-b61c-2270fb3a5ad3",
   "metadata": {},
   "source": [
    "b) Milyen módszert kapunk, ha $s=2$?"
   ]
  },
  {
   "cell_type": "code",
   "execution_count": null,
   "id": "1bcb74d1-2565-4913-8a28-ec3b9f0c6e89",
   "metadata": {},
   "outputs": [],
   "source": []
  },
  {
   "cell_type": "markdown",
   "id": "117c760d-afa7-4079-9380-439222d105f3",
   "metadata": {},
   "source": [
    "**BDF-módszerek**\n",
    "\n",
    "A backward differentiation formulas angol elnevezésből származó BDF betűszót szokás a magyarban is használni. A módszerek egy kellően általános alakja a\n",
    "$$ \\sum_{j=0}^s \\alpha_j y_j = hf_{n}, $$\n",
    "mely láthatóan egy implicit módszercsaládot takar. Néhány ilyen módszer az alábbi:\n",
    "\n",
    "$$\n",
    "\\begin{align*}\n",
    " y_{n} - y_{n-1} = hf_{n}, \\\\\n",
    " \\frac32 y_n - 2 y_{n-1} + \\frac12 y_{n-2} = hf_n, \\\\\n",
    " \\frac{11}{6} y_n - 3 y_{n-1} + \\frac32 y_{n-2} - \\frac13 y_{n-3}= hf_n.\n",
    "\\end{align*}\n",
    "$$\n",
    "\n",
    "A módszercsalád szintén motiválható egy interpolációs polinomon keresztül."
   ]
  },
  {
   "cell_type": "markdown",
   "id": "9badedc1-566a-48a7-b4cc-f78147307044",
   "metadata": {},
   "source": [
    "### 4. Feladat\n",
    "\n",
    "Legyen $q$ egy olyan $s$-edfokú interpolációs polinom, melyre\n",
    "\n",
    "$$\n",
    "\\begin{align*}\n",
    "q'(0) &= f_{n},    \\\\\n",
    "q(-h) &= y_{n-1}, \\\\\n",
    "q(-2h) &= y_{n-2}, \\\\\n",
    " &\\vdots \\\\\n",
    "q\\left(-(s-1)h\\right) &= y_{n-(s-1)},\n",
    "\\end{align*}\n",
    "$$\n",
    "és legyen $$y_{n} = q(0).$$"
   ]
  },
  {
   "cell_type": "markdown",
   "id": "8e674d58-d791-49ad-878e-75d19f450dd2",
   "metadata": {},
   "source": [
    "a) Milyen módszert kapunk, ha $s=1$?"
   ]
  },
  {
   "cell_type": "code",
   "execution_count": null,
   "id": "4cb5f599-bcd6-4262-841d-aeb47ad83721",
   "metadata": {},
   "outputs": [],
   "source": []
  },
  {
   "cell_type": "markdown",
   "id": "304b6e96-39ea-46d2-bcb9-57b4bdf2d267",
   "metadata": {},
   "source": [
    "b) Milyen módszert kapunk, ha $s=2$?"
   ]
  },
  {
   "cell_type": "code",
   "execution_count": null,
   "id": "505e842d-3be6-4dbd-849c-305d089a3b62",
   "metadata": {},
   "outputs": [],
   "source": []
  },
  {
   "cell_type": "markdown",
   "id": "b7111aac-476f-452d-be99-aba62f12163a",
   "metadata": {},
   "source": [
    "---"
   ]
  },
  {
   "cell_type": "markdown",
   "id": "60d12d93-7206-4af8-bbc5-c58142373c4d",
   "metadata": {},
   "source": [
    "### 5. Feladat\n",
    "\n",
    "Tekintsük az \n",
    "$$ f(x) = 0 $$\n",
    "egyenletre alkalmazott,\n",
    "$$ y_{n} - y_{n-1} - y_{n-2} = h\\left( \\beta_0 f(y_{n}) + \\beta_2 f(y_{n-2}) \\right) $$\n",
    "formulájú lineáris többlépéses módszert. "
   ]
  },
  {
   "attachments": {},
   "cell_type": "markdown",
   "id": "6b064ff5-7ba6-4de8-aa29-942a8f2eb78f",
   "metadata": {},
   "source": [
    "a) Mi az egyenlet pontos megoldása?"
   ]
  },
  {
   "cell_type": "markdown",
   "id": "287cf20e-618c-4733-aae4-3743b58d5e11",
   "metadata": {},
   "source": []
  },
  {
   "cell_type": "markdown",
   "id": "4d694a6e-4328-4e45-815f-d669c996abdd",
   "metadata": {},
   "source": [
    "b) Mi az egyenlet numerikus megoldása?"
   ]
  },
  {
   "cell_type": "code",
   "execution_count": null,
   "id": "aab1fb88-88bc-4570-a36b-6bafb09102ba",
   "metadata": {},
   "outputs": [],
   "source": []
  },
  {
   "cell_type": "markdown",
   "id": "3b6d48d6-5649-42f0-a363-fde92aec11c6",
   "metadata": {},
   "source": [
    "c) Hogyan lehetne karakterizálni azon lineáris többlépéses módszerek együtthatóit, melyek az említett egyenleten jól működnek, azaz a pontos megoldást adják vissza?"
   ]
  },
  {
   "cell_type": "code",
   "execution_count": null,
   "id": "8839d46b-2716-4748-99a5-787391c30314",
   "metadata": {},
   "outputs": [],
   "source": []
  },
  {
   "cell_type": "markdown",
   "id": "2799218d-78fe-4c5b-8c28-fe62fc054da7",
   "metadata": {},
   "source": [
    "Az előző feladatban felmerülő elvárást zéró-stabilitásként, vagy nulladrendbeli pontosságként is meg lehet fogalmazni.\n",
    "Hogyan jellemezhetnénk a magasabb rendű pontosságot?\n",
    "\n",
    "A menetrend persze változatlan: helyettesítsük be a pontos megoldást és tekintsük a keletkező hibát a $h$ függvényeként, majd fejtsünk Taylor-sorba."
   ]
  },
  {
   "cell_type": "markdown",
   "id": "06bdad04-e1c7-4fbe-abff-2044f3b5c2f1",
   "metadata": {},
   "source": [
    "### 6. Feladat\n",
    "\n",
    "Számoljuk ki Taylor-sorfejtéssel az adott formula által leírt módszer rendjét."
   ]
  },
  {
   "cell_type": "markdown",
   "id": "315f8a41-e819-44ba-ba04-a35f032c402a",
   "metadata": {},
   "source": [
    "a) $$ y_n = y_{n-1} + h\\left(\\frac12 f_{n} + \\frac12 f_{n-1} \\right) $$ "
   ]
  },
  {
   "cell_type": "markdown",
   "id": "8c79134c-a2fa-4ede-bbc8-514818b15335",
   "metadata": {},
   "source": []
  },
  {
   "cell_type": "markdown",
   "id": "d560eccf-3e72-48ca-a6f7-a7ec737d35ff",
   "metadata": {},
   "source": [
    "b) $$ y_n = y_{n-1} + h\\left(\\frac32 f_{n-1} - \\frac12 f_{n-2} \\right) $$"
   ]
  },
  {
   "cell_type": "code",
   "execution_count": null,
   "id": "d712911b-4351-4a4c-aa65-12b997e330bd",
   "metadata": {},
   "outputs": [],
   "source": []
  },
  {
   "cell_type": "markdown",
   "id": "3bb34bc1-e638-4d38-a73c-6aa37727b954",
   "metadata": {},
   "source": [
    "c) $$ \\frac32 y_n - 2 y_{n-1} + \\frac12 y_{n-2} = hf_n $$"
   ]
  },
  {
   "cell_type": "code",
   "execution_count": null,
   "id": "a64e5bef-4308-41d9-8079-eba93339c34f",
   "metadata": {},
   "outputs": [],
   "source": []
  },
  {
   "cell_type": "markdown",
   "id": "146574a7-f160-4f53-8dd2-4ebf456e4efc",
   "metadata": {},
   "source": [
    "### 7. Feladat\n",
    "\n",
    "Az előző feladat mintájára írjuk fel a lineáris többlépéses módszerek rendfeltételeit az $\\alpha_j, \\beta_j$ együtthatók függvényében."
   ]
  },
  {
   "cell_type": "code",
   "execution_count": null,
   "id": "8c5fd06a-9cf0-42fb-98ce-edbb54d74ec3",
   "metadata": {},
   "outputs": [],
   "source": []
  }
 ],
 "metadata": {
  "kernelspec": {
   "display_name": "Julia 1.9.2",
   "language": "julia",
   "name": "julia-1.9"
  },
  "language_info": {
   "file_extension": ".jl",
   "mimetype": "application/julia",
   "name": "julia",
   "version": "1.9.3"
  }
 },
 "nbformat": 4,
 "nbformat_minor": 5
}
