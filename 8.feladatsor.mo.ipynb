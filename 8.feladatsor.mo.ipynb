{
 "cells": [
  {
   "cell_type": "markdown",
   "id": "ad74dd3e-d5e4-4b4d-933d-245737f20d5b",
   "metadata": {},
   "source": [
    "## 8. Feladatsor (lineáris többlépéses módszerek: implementáció et al.)"
   ]
  },
  {
   "cell_type": "markdown",
   "id": "40071d4c-8345-4195-a2c7-f99bb6bc8a6a",
   "metadata": {},
   "source": [
    "**Differenciálegyenlet**\n",
    "\n",
    "Most is csak autonóm egyenletekkel foglalkozunk, azaz legyen a kezdetiérték-problémánk\n",
    "\n",
    "$$ \n",
    "\\begin{cases}\n",
    "\\dot x(t) &= f(x(t)), \\\\\n",
    "x(0) &= x_0. \\\\\n",
    "\\end{cases}\n",
    "$$\n",
    "\n",
    "A feltevésünk miatt a kezdeti időpont persze nem számít, lehet $0$."
   ]
  },
  {
   "cell_type": "markdown",
   "id": "0256729b-3ad7-4688-8e65-9d654342eb42",
   "metadata": {},
   "source": [
    "**A(z állandó lépéshosszú) lineáris többlépéses módszerek általános alakja**\n",
    "\n",
    "Tegyük fel, hogy rendelkezésünkre állnak az $y_{n-s}, \\ldots, y_{n-1}$ értékek, melyek közelítik az $x((n-s)h), \\ldots, x((n-1)h)$ értékeket. \n",
    "\n",
    "Ekkor egy $s$-lépéses ($s \\in \\mathbb{N}_{\\neq 0}$) lineáris többlépéses módszer általános alakja az $nh$ időponthoz tartozó $y_n$ numerikus közelítés kiszámításához a következő:\n",
    "\n",
    "$$ \\sum\\limits_{j=0}^{s} \\alpha_j y_{n-j} = h\\sum\\limits_{j=0}^{s} \\beta_j f_{n-j}.$$\n",
    "\n",
    "A formula így még nem egyértelmű, ezért fel szokás tenni, hogy (pl.) $\\alpha_{0} = 1$. \n",
    "\n",
    "Ha $\\beta_0 = 0$, akkor a módszer explicit, egyébként implicit. \n",
    "\n",
    "A módszercsaládra magyarul az LTM betűszót használhatjuk, angolul pedig az LMM-et."
   ]
  },
  {
   "cell_type": "markdown",
   "id": "dd5edb9f-5126-42d4-ba31-f1292ce2e0fa",
   "metadata": {},
   "source": [
    "---"
   ]
  },
  {
   "cell_type": "markdown",
   "id": "df09102a-8790-4eab-85bf-3ec59c31fd16",
   "metadata": {},
   "source": [
    "### 1. Feladat\n",
    "\n",
    "Implementáljuk az explicit Adams-módszerek időlépését."
   ]
  },
  {
   "cell_type": "code",
   "execution_count": 4,
   "id": "c5f32f12-4475-4154-b709-d7ef6dc4e85e",
   "metadata": {},
   "outputs": [
    {
     "data": {
      "text/plain": [
       "ab2_step (generic function with 1 method)"
      ]
     },
     "execution_count": 4,
     "metadata": {},
     "output_type": "execute_result"
    }
   ],
   "source": [
    "# AB2 (ketlepeses Adams-Bashfort)\n",
    "#\n",
    "# y_2 - y1 = h(3/2 f(y1) - 1/2 f(y_0)\n",
    "\n",
    "alphas = [1, -1]\n",
    "betas = [3/2, -1/2]\n",
    "\n",
    "function ab2_step(f, h, y0, y1)\n",
    "    # y2 az uj numerikus kozelito ertek\n",
    "    y2 = y1 + h*(3/2 * f(y1) - 1/2*f(y0))\n",
    "    \n",
    "    return y2\n",
    "end"
   ]
  },
  {
   "cell_type": "code",
   "execution_count": 18,
   "id": "062ad2d8-2825-4c3d-989e-2a43215b1784",
   "metadata": {},
   "outputs": [
    {
     "data": {
      "text/plain": [
       "1.105115697720756"
      ]
     },
     "execution_count": 18,
     "metadata": {},
     "output_type": "execute_result"
    }
   ],
   "source": [
    "# nezzuk meg hogy ez mit csinal a \\dot x = x feladaton\n",
    "\n",
    "# y1 = ???\n",
    "#\n",
    "# cel: y1 legyen jo kozelitese a pontos megoldasnak \n",
    "# x(t_0) = x(0) ~= y_0\n",
    "# x(t_0 + h) = x(h) ~= y_1\n",
    "#\n",
    "# tegyunk y0-bol 100 darab EE lepest (h=0.001)-gyel.\n",
    "y0 = 1\n",
    "y1 = (1 + 0.001)^100 * y0"
   ]
  },
  {
   "cell_type": "code",
   "execution_count": 19,
   "id": "64bae1f5-4f65-4f19-b574-cc72071f63c3",
   "metadata": {},
   "outputs": [
    {
     "data": {
      "text/plain": [
       "1.0"
      ]
     },
     "execution_count": 19,
     "metadata": {},
     "output_type": "execute_result"
    }
   ],
   "source": [
    "exp(0)"
   ]
  },
  {
   "cell_type": "code",
   "execution_count": 20,
   "id": "d6dde850-5b7e-42fe-808b-c0a0ee0ea606",
   "metadata": {},
   "outputs": [
    {
     "data": {
      "text/plain": [
       "1.1051709180756477"
      ]
     },
     "execution_count": 20,
     "metadata": {},
     "output_type": "execute_result"
    }
   ],
   "source": [
    "exp(0.1)"
   ]
  },
  {
   "cell_type": "code",
   "execution_count": 37,
   "id": "7118087d-7767-44a8-8428-d5bb7defc74b",
   "metadata": {},
   "outputs": [
    {
     "data": {
      "text/plain": [
       "1.2383078035230808"
      ]
     },
     "execution_count": 37,
     "metadata": {},
     "output_type": "execute_result"
    }
   ],
   "source": [
    "# kozelito ertek 0-ban, 0.1-ben -> kozelito ertek 0.2-ben\n",
    "ab2_step(x -> x^2, 0.1, y0, y1)"
   ]
  },
  {
   "cell_type": "code",
   "execution_count": 38,
   "id": "f83665c1-b47f-457b-aca3-af93e9f74611",
   "metadata": {},
   "outputs": [
    {
     "data": {
      "text/plain": [
       "ab_step (generic function with 1 method)"
      ]
     },
     "execution_count": 38,
     "metadata": {},
     "output_type": "execute_result"
    }
   ],
   "source": [
    "# ab_2 eseten y0 = y0\n",
    "# ab_2 eseten fs = [f0, f_{-1}]\n",
    "function ab_step(betas, f, h, y0, fs)\n",
    "    # y0: elozo numerikus kozelites\n",
    "    # fs: s hosszu vektor\n",
    "    \n",
    "    return y0 + h*(fs' * betas)\n",
    "end"
   ]
  },
  {
   "cell_type": "code",
   "execution_count": 40,
   "id": "2e25b722-0c7b-40b4-be32-10374416c8c8",
   "metadata": {},
   "outputs": [
    {
     "data": {
      "text/plain": [
       "1.2383078035230808"
      ]
     },
     "execution_count": 40,
     "metadata": {},
     "output_type": "execute_result"
    }
   ],
   "source": [
    "betas = [3/2, -1/2]\n",
    "f(x) = x^2\n",
    "\n",
    "ab_step(betas, f, 0.1, y1, [f(y1), f(y0)])"
   ]
  },
  {
   "cell_type": "code",
   "execution_count": 41,
   "id": "08858f8c-fb6b-4e6b-91c4-97840c2052d3",
   "metadata": {},
   "outputs": [
    {
     "data": {
      "text/plain": [
       "ab2_step_ (generic function with 1 method)"
      ]
     },
     "execution_count": 41,
     "metadata": {},
     "output_type": "execute_result"
    }
   ],
   "source": [
    "ab2_step_(f, h, y0, fs) = ab_step([3/2, -1/2], f, h, y0, fs)"
   ]
  },
  {
   "cell_type": "code",
   "execution_count": 42,
   "id": "f7e4629d-2227-4fa8-9276-9a826d2ee14a",
   "metadata": {},
   "outputs": [
    {
     "data": {
      "text/plain": [
       "1.2383078035230808"
      ]
     },
     "execution_count": 42,
     "metadata": {},
     "output_type": "execute_result"
    }
   ],
   "source": [
    "ab2_step_(f, 0.1, y1, [f(y1), f(y0)])"
   ]
  },
  {
   "cell_type": "markdown",
   "id": "9be896bb-bfb3-42c4-92f6-f92ee5b25b91",
   "metadata": {},
   "source": [
    "**LTM indítás**\n",
    "\n",
    "Adott s-lépéses p-edrendű LTM esetén hogyan kellene meghatározni az $y_0, \\ldots, y_{s-1}$ értékeket?\n",
    "\n",
    "$y_0$ az adott $x_0$ kezdetiérték (numerikus hibával terhelten pl. $x(0) = \\sin(3)$).\n",
    "\n",
    "$y_1, \\ldots, y_{s-1} = ?$\n",
    "\n",
    "a) Indítsunk $p-$edrendű RK módszerrel.\n",
    "\n",
    "b) \n",
    " * 1. lépést (h hosszú) AB1 módszerrel\n",
    " * 2. lépést (h hosszú) AB2 módszerrel\n",
    " * 3. lépést (h hosszú) AB3 módszerrel\n",
    " *    ...\n",
    " * s. lépést már a mi módszerünkkel\n",
    "\n",
    " c) mint a b) pontban, csak \n",
    "    h/2, h/4, ..., vagy h/32 hosszú lépésekből néhányat (pl. 2, 4, ... 32) - tehát alacsonyabb rendű módszerrel, kisebb lépéshosszokkal, több lépést"
   ]
  },
  {
   "cell_type": "markdown",
   "id": "0e171fa5-1592-4a6b-8f96-874fe3104269",
   "metadata": {},
   "source": [
    "### 2. Feladat\n",
    "\n",
    "Mérjük le az AB3 módszer rendjét a\n",
    "\n",
    "$$\n",
    "\\begin{cases}\n",
    " \\dot x &= 2x \\quad [0,1]\\text{-on} \\\\\n",
    " x(0) &= 1\n",
    " \\end{cases}\n",
    "$$\n",
    "\n",
    "feladaton."
   ]
  },
  {
   "cell_type": "markdown",
   "id": "76b4e0db-2f54-494c-9800-076a1306fe3c",
   "metadata": {},
   "source": [
    "a) Az indításhoz használjuk az AB1 módszert"
   ]
  },
  {
   "cell_type": "code",
   "execution_count": 51,
   "id": "036b8d2b-fd86-4297-9361-2d9797ede330",
   "metadata": {},
   "outputs": [
    {
     "data": {
      "text/plain": [
       "3-element Vector{Int64}:\n",
       " 3\n",
       " 1\n",
       " 2"
      ]
     },
     "execution_count": 51,
     "metadata": {},
     "output_type": "execute_result"
    }
   ],
   "source": [
    "circshift([1,2,3], 1)"
   ]
  },
  {
   "cell_type": "code",
   "execution_count": 63,
   "id": "68998e6e-6e28-4793-a479-3e57f44e6d4a",
   "metadata": {},
   "outputs": [
    {
     "data": {
      "text/plain": [
       "7.389085655184748"
      ]
     },
     "execution_count": 63,
     "metadata": {},
     "output_type": "execute_result"
    }
   ],
   "source": [
    "betas = [23/12, - 16/12, 5/12]\n",
    "\n",
    "y0 = 1\n",
    "h = 1e-6\n",
    "f(x) = 2*x\n",
    "\n",
    "y1 = ab_step([1], f, h, y0, [f(y0)])\n",
    "y2 = ab_step([1], f, h, y1, [f(y1)])\n",
    "\n",
    "# ciklus inditashoz szukseges dolgok\n",
    "y = y2\n",
    "fs = map(f, [y2, y1, y0])\n",
    "t = 0\n",
    "while t < 1\n",
    "    y = ab_step(betas, f, h, y, fs)\n",
    "\n",
    "    fs = circshift(fs, 1)\n",
    "    fs[1] = f(y)\n",
    "    \n",
    "    t = t + h\n",
    "end\n",
    "\n",
    "y"
   ]
  },
  {
   "cell_type": "code",
   "execution_count": 64,
   "id": "6d11baf9-68da-4f7d-9b25-d4663da36b6a",
   "metadata": {},
   "outputs": [
    {
     "data": {
      "text/plain": [
       "7.38905609893065"
      ]
     },
     "execution_count": 64,
     "metadata": {},
     "output_type": "execute_result"
    }
   ],
   "source": [
    "exp(2)"
   ]
  },
  {
   "cell_type": "markdown",
   "id": "cb13f197-3f8f-4274-97ac-f492f8781a23",
   "metadata": {},
   "source": [
    "b) Az indításhoz használjuk az AB1, majd az AB2 módszer 1-1 lépését."
   ]
  },
  {
   "cell_type": "code",
   "execution_count": 68,
   "id": "92adb85a-c905-4ae1-a990-f9f38aa4cc5f",
   "metadata": {},
   "outputs": [
    {
     "data": {
      "text/plain": [
       "ab3_2 (generic function with 1 method)"
      ]
     },
     "execution_count": 68,
     "metadata": {},
     "output_type": "execute_result"
    }
   ],
   "source": [
    "function ab3_2(f, h, y0)\n",
    "        \n",
    "    y1 = ab_step([1], f, h, y0, [f(y0)])\n",
    "    y2 = ab_step([3/2, -1/2], f, h, y1, [f(y1), f(y0)])\n",
    "    \n",
    "    # ciklus inditashoz szukseges dolgok\n",
    "    y = y2\n",
    "    fs = map(f, [y2, y1, y0])\n",
    "    t = 0\n",
    "    while t < 1\n",
    "        y = ab_step(betas, f, h, y, fs)\n",
    "    \n",
    "        fs = circshift(fs, 1)\n",
    "        fs[1] = f(y)\n",
    "        \n",
    "        t = t + h\n",
    "    end\n",
    "\n",
    "    return y\n",
    "end"
   ]
  },
  {
   "cell_type": "code",
   "execution_count": 69,
   "id": "8287b675-c862-4fcb-89e8-d6f72afb8264",
   "metadata": {},
   "outputs": [
    {
     "data": {
      "text/plain": [
       "7.389085655199557"
      ]
     },
     "execution_count": 69,
     "metadata": {},
     "output_type": "execute_result"
    }
   ],
   "source": [
    "ab3_2(f, h, y0)"
   ]
  },
  {
   "cell_type": "code",
   "execution_count": 71,
   "id": "f0294e3f-4b02-4ec3-9850-f07d3e857918",
   "metadata": {},
   "outputs": [
    {
     "data": {
      "text/plain": [
       "-6:-1:-12"
      ]
     },
     "execution_count": 71,
     "metadata": {},
     "output_type": "execute_result"
    }
   ],
   "source": [
    "-(6:12)"
   ]
  },
  {
   "cell_type": "code",
   "execution_count": 74,
   "id": "791ff31c-1a1e-4f62-905b-387791cad071",
   "metadata": {},
   "outputs": [
    {
     "data": {
      "text/plain": [
       "3"
      ]
     },
     "execution_count": 74,
     "metadata": {},
     "output_type": "execute_result"
    }
   ],
   "source": []
  },
  {
   "cell_type": "code",
   "execution_count": 79,
   "id": "d5ff4f20-2e42-4cb9-91f1-d82d6037555a",
   "metadata": {},
   "outputs": [],
   "source": [
    "using Plots"
   ]
  },
  {
   "cell_type": "code",
   "execution_count": 94,
   "id": "f81ed09c-9210-45db-ae16-ec427d1f7a3f",
   "metadata": {},
   "outputs": [],
   "source": [
    "using Polynomials"
   ]
  },
  {
   "cell_type": "code",
   "execution_count": 131,
   "id": "388fce73-e89b-4ffa-ab75-efd865d7a7c4",
   "metadata": {},
   "outputs": [],
   "source": [
    "# rendmeres\n",
    "\n",
    "# bizonyos h-k eseten kiszamoljuk a numerikus megoldast, majd megnezzuk a hibat, hogy milyen fuggyvenye a h-nak\n",
    "\n",
    "# h = 2^(-6), ..., 2^(-12)\n",
    "e0 = 0.2\n",
    "\n",
    "hs = 2.0 .^ (-(6:12))\n",
    "errs = 0*hs\n",
    "for j=1:length(hs)\n",
    "    y = ab3_2(f, hs[j], y0)\n",
    "    #errs[j] = y - exp(2)\n",
    "    errs[j] = e0 * 0.5 ^ (2*j)\n",
    "end"
   ]
  },
  {
   "cell_type": "code",
   "execution_count": 133,
   "id": "e5b19040-90f8-4c02-af19-0e9ced62ce4f",
   "metadata": {},
   "outputs": [
    {
     "data": {
      "image/png": "[encoded data removed]",
      "image/svg+xml": [
       "<?xml version=\"1.0\" encoding=\"utf-8\"?>\n",
       "<svg xmlns=\"http://www.w3.org/2000/svg\" xmlns:xlink=\"http://www.w3.org/1999/xlink\" width=\"600\" height=\"400\" viewBox=\"0 0 2400 1600\">\n",
       "<defs>\n",
       "  <clipPath id=\"clip340\">\n",
       "    <rect x=\"0\" y=\"0\" width=\"2400\" height=\"1600\"/>\n",
       "  </clipPath>\n",
       "</defs>\n",
       "<path clip-path=\"url(#clip340)\" d=\"M0 1600 L2400 1600 L2400 0 L0 0  Z\" fill=\"#ffffff\" fill-rule=\"evenodd\" fill-opacity=\"1\"/>\n",
       "<defs>\n",
       "  <clipPath id=\"clip341\">\n",
       "    <rect x=\"480\" y=\"0\" width=\"1681\" height=\"1600\"/>\n",
       "  </clipPath>\n",
       "</defs>\n",
       "<path clip-path=\"url(#clip340)\" d=\"M186.76 1486.45 L2352.76 1486.45 L2352.76 47.2441 L186.76 47.2441  Z\" fill=\"#ffffff\" fill-rule=\"evenodd\" fill-opacity=\"1\"/>\n",
       "<defs>\n",
       "  <clipPath id=\"clip342\">\n",
       "    <rect x=\"186\" y=\"47\" width=\"2167\" height=\"1440\"/>\n",
       "  </clipPath>\n",
       "</defs>\n",
       "<polyline clip-path=\"url(#clip342)\" style=\"stroke:#000000; stroke-linecap:round; stroke-linejoin:round; stroke-width:2; stroke-opacity:0.1; fill:none\" points=\"215.627,1486.45 215.627,47.2441 \"/>\n",
       "<polyline clip-path=\"url(#clip342)\" style=\"stroke:#000000; stroke-linecap:round; stroke-linejoin:round; stroke-width:2; stroke-opacity:0.1; fill:none\" points=\"879.892,1486.45 879.892,47.2441 \"/>\n",
       "<polyline clip-path=\"url(#clip342)\" style=\"stroke:#000000; stroke-linecap:round; stroke-linejoin:round; stroke-width:2; stroke-opacity:0.1; fill:none\" points=\"1544.16,1486.45 1544.16,47.2441 \"/>\n",
       "<polyline clip-path=\"url(#clip342)\" style=\"stroke:#000000; stroke-linecap:round; stroke-linejoin:round; stroke-width:2; stroke-opacity:0.1; fill:none\" points=\"2208.42,1486.45 2208.42,47.2441 \"/>\n",
       "<polyline clip-path=\"url(#clip340)\" style=\"stroke:#000000; stroke-linecap:round; stroke-linejoin:round; stroke-width:4; stroke-opacity:1; fill:none\" points=\"186.76,1486.45 2352.76,1486.45 \"/>\n",
       "<polyline clip-path=\"url(#clip340)\" style=\"stroke:#000000; stroke-linecap:round; stroke-linejoin:round; stroke-width:4; stroke-opacity:1; fill:none\" points=\"215.627,1486.45 215.627,1467.55 \"/>\n",
       "<polyline clip-path=\"url(#clip340)\" style=\"stroke:#000000; stroke-linecap:round; stroke-linejoin:round; stroke-width:4; stroke-opacity:1; fill:none\" points=\"879.892,1486.45 879.892,1467.55 \"/>\n",
       "<polyline clip-path=\"url(#clip340)\" style=\"stroke:#000000; stroke-linecap:round; stroke-linejoin:round; stroke-width:4; stroke-opacity:1; fill:none\" points=\"1544.16,1486.45 1544.16,1467.55 \"/>\n",
       "<polyline clip-path=\"url(#clip340)\" style=\"stroke:#000000; stroke-linecap:round; stroke-linejoin:round; stroke-width:4; stroke-opacity:1; fill:none\" points=\"2208.42,1486.45 2208.42,1467.55 \"/>\n",
       "<path clip-path=\"url(#clip340)\" d=\"M162.85 1517.37 Q159.238 1517.37 157.41 1520.93 Q155.604 1524.47 155.604 1531.6 Q155.604 1538.71 157.41 1542.27 Q159.238 1545.82 162.85 1545.82 Q166.484 1545.82 168.289 1542.27 Q170.118 1538.71 170.118 1531.6 Q170.118 1524.47 168.289 1520.93 Q166.484 1517.37 162.85 1517.37 M162.85 1513.66 Q168.66 1513.66 171.715 1518.27 Q174.794 1522.85 174.794 1531.6 Q174.794 1540.33 171.715 1544.94 Q168.66 1549.52 162.85 1549.52 Q157.039 1549.52 153.961 1544.94 Q150.905 1540.33 150.905 1531.6 Q150.905 1522.85 153.961 1518.27 Q157.039 1513.66 162.85 1513.66 Z\" fill=\"#000000\" fill-rule=\"nonzero\" fill-opacity=\"1\" /><path clip-path=\"url(#clip340)\" d=\"M183.012 1542.97 L187.896 1542.97 L187.896 1548.85 L183.012 1548.85 L183.012 1542.97 Z\" fill=\"#000000\" fill-rule=\"nonzero\" fill-opacity=\"1\" /><path clip-path=\"url(#clip340)\" d=\"M208.081 1517.37 Q204.47 1517.37 202.641 1520.93 Q200.835 1524.47 200.835 1531.6 Q200.835 1538.71 202.641 1542.27 Q204.47 1545.82 208.081 1545.82 Q211.715 1545.82 213.521 1542.27 Q215.349 1538.71 215.349 1531.6 Q215.349 1524.47 213.521 1520.93 Q211.715 1517.37 208.081 1517.37 M208.081 1513.66 Q213.891 1513.66 216.947 1518.27 Q220.025 1522.85 220.025 1531.6 Q220.025 1540.33 216.947 1544.94 Q213.891 1549.52 208.081 1549.52 Q202.271 1549.52 199.192 1544.94 Q196.136 1540.33 196.136 1531.6 Q196.136 1522.85 199.192 1518.27 Q202.271 1513.66 208.081 1513.66 Z\" fill=\"#000000\" fill-rule=\"nonzero\" fill-opacity=\"1\" /><path clip-path=\"url(#clip340)\" d=\"M238.243 1517.37 Q234.632 1517.37 232.803 1520.93 Q230.997 1524.47 230.997 1531.6 Q230.997 1538.71 232.803 1542.27 Q234.632 1545.82 238.243 1545.82 Q241.877 1545.82 243.682 1542.27 Q245.511 1538.71 245.511 1531.6 Q245.511 1524.47 243.682 1520.93 Q241.877 1517.37 238.243 1517.37 M238.243 1513.66 Q244.053 1513.66 247.108 1518.27 Q250.187 1522.85 250.187 1531.6 Q250.187 1540.33 247.108 1544.94 Q244.053 1549.52 238.243 1549.52 Q232.433 1549.52 229.354 1544.94 Q226.298 1540.33 226.298 1531.6 Q226.298 1522.85 229.354 1518.27 Q232.433 1513.66 238.243 1513.66 Z\" fill=\"#000000\" fill-rule=\"nonzero\" fill-opacity=\"1\" /><path clip-path=\"url(#clip340)\" d=\"M268.405 1517.37 Q264.793 1517.37 262.965 1520.93 Q261.159 1524.47 261.159 1531.6 Q261.159 1538.71 262.965 1542.27 Q264.793 1545.82 268.405 1545.82 Q272.039 1545.82 273.844 1542.27 Q275.673 1538.71 275.673 1531.6 Q275.673 1524.47 273.844 1520.93 Q272.039 1517.37 268.405 1517.37 M268.405 1513.66 Q274.215 1513.66 277.27 1518.27 Q280.349 1522.85 280.349 1531.6 Q280.349 1540.33 277.27 1544.94 Q274.215 1549.52 268.405 1549.52 Q262.594 1549.52 259.516 1544.94 Q256.46 1540.33 256.46 1531.6 Q256.46 1522.85 259.516 1518.27 Q262.594 1513.66 268.405 1513.66 Z\" fill=\"#000000\" fill-rule=\"nonzero\" fill-opacity=\"1\" /><path clip-path=\"url(#clip340)\" d=\"M827.612 1517.37 Q824.001 1517.37 822.172 1520.93 Q820.367 1524.47 820.367 1531.6 Q820.367 1538.71 822.172 1542.27 Q824.001 1545.82 827.612 1545.82 Q831.246 1545.82 833.052 1542.27 Q834.88 1538.71 834.88 1531.6 Q834.88 1524.47 833.052 1520.93 Q831.246 1517.37 827.612 1517.37 M827.612 1513.66 Q833.422 1513.66 836.478 1518.27 Q839.556 1522.85 839.556 1531.6 Q839.556 1540.33 836.478 1544.94 Q833.422 1549.52 827.612 1549.52 Q821.802 1549.52 818.723 1544.94 Q815.668 1540.33 815.668 1531.6 Q815.668 1522.85 818.723 1518.27 Q821.802 1513.66 827.612 1513.66 Z\" fill=\"#000000\" fill-rule=\"nonzero\" fill-opacity=\"1\" /><path clip-path=\"url(#clip340)\" d=\"M847.774 1542.97 L852.658 1542.97 L852.658 1548.85 L847.774 1548.85 L847.774 1542.97 Z\" fill=\"#000000\" fill-rule=\"nonzero\" fill-opacity=\"1\" /><path clip-path=\"url(#clip340)\" d=\"M872.843 1517.37 Q869.232 1517.37 867.403 1520.93 Q865.598 1524.47 865.598 1531.6 Q865.598 1538.71 867.403 1542.27 Q869.232 1545.82 872.843 1545.82 Q876.477 1545.82 878.283 1542.27 Q880.112 1538.71 880.112 1531.6 Q880.112 1524.47 878.283 1520.93 Q876.477 1517.37 872.843 1517.37 M872.843 1513.66 Q878.653 1513.66 881.709 1518.27 Q884.788 1522.85 884.788 1531.6 Q884.788 1540.33 881.709 1544.94 Q878.653 1549.52 872.843 1549.52 Q867.033 1549.52 863.954 1544.94 Q860.899 1540.33 860.899 1531.6 Q860.899 1522.85 863.954 1518.27 Q867.033 1513.66 872.843 1513.66 Z\" fill=\"#000000\" fill-rule=\"nonzero\" fill-opacity=\"1\" /><path clip-path=\"url(#clip340)\" d=\"M903.005 1517.37 Q899.394 1517.37 897.565 1520.93 Q895.76 1524.47 895.76 1531.6 Q895.76 1538.71 897.565 1542.27 Q899.394 1545.82 903.005 1545.82 Q906.639 1545.82 908.445 1542.27 Q910.274 1538.71 910.274 1531.6 Q910.274 1524.47 908.445 1520.93 Q906.639 1517.37 903.005 1517.37 M903.005 1513.66 Q908.815 1513.66 911.871 1518.27 Q914.949 1522.85 914.949 1531.6 Q914.949 1540.33 911.871 1544.94 Q908.815 1549.52 903.005 1549.52 Q897.195 1549.52 894.116 1544.94 Q891.061 1540.33 891.061 1531.6 Q891.061 1522.85 894.116 1518.27 Q897.195 1513.66 903.005 1513.66 Z\" fill=\"#000000\" fill-rule=\"nonzero\" fill-opacity=\"1\" /><path clip-path=\"url(#clip340)\" d=\"M923.213 1514.29 L941.57 1514.29 L941.57 1518.22 L927.496 1518.22 L927.496 1526.7 Q928.514 1526.35 929.533 1526.19 Q930.551 1526 931.57 1526 Q937.357 1526 940.736 1529.17 Q944.116 1532.34 944.116 1537.76 Q944.116 1543.34 940.644 1546.44 Q937.172 1549.52 930.852 1549.52 Q928.676 1549.52 926.408 1549.15 Q924.162 1548.78 921.755 1548.04 L921.755 1543.34 Q923.838 1544.47 926.06 1545.03 Q928.283 1545.58 930.76 1545.58 Q934.764 1545.58 937.102 1543.48 Q939.44 1541.37 939.44 1537.76 Q939.44 1534.15 937.102 1532.04 Q934.764 1529.94 930.76 1529.94 Q928.885 1529.94 927.01 1530.35 Q925.158 1530.77 923.213 1531.65 L923.213 1514.29 Z\" fill=\"#000000\" fill-rule=\"nonzero\" fill-opacity=\"1\" /><path clip-path=\"url(#clip340)\" d=\"M1491.38 1517.37 Q1487.77 1517.37 1485.94 1520.93 Q1484.13 1524.47 1484.13 1531.6 Q1484.13 1538.71 1485.94 1542.27 Q1487.77 1545.82 1491.38 1545.82 Q1495.01 1545.82 1496.82 1542.27 Q1498.65 1538.71 1498.65 1531.6 Q1498.65 1524.47 1496.82 1520.93 Q1495.01 1517.37 1491.38 1517.37 M1491.38 1513.66 Q1497.19 1513.66 1500.24 1518.27 Q1503.32 1522.85 1503.32 1531.6 Q1503.32 1540.33 1500.24 1544.94 Q1497.19 1549.52 1491.38 1549.52 Q1485.57 1549.52 1482.49 1544.94 Q1479.43 1540.33 1479.43 1531.6 Q1479.43 1522.85 1482.49 1518.27 Q1485.57 1513.66 1491.38 1513.66 Z\" fill=\"#000000\" fill-rule=\"nonzero\" fill-opacity=\"1\" /><path clip-path=\"url(#clip340)\" d=\"M1511.54 1542.97 L1516.43 1542.97 L1516.43 1548.85 L1511.54 1548.85 L1511.54 1542.97 Z\" fill=\"#000000\" fill-rule=\"nonzero\" fill-opacity=\"1\" /><path clip-path=\"url(#clip340)\" d=\"M1536.61 1517.37 Q1533 1517.37 1531.17 1520.93 Q1529.36 1524.47 1529.36 1531.6 Q1529.36 1538.71 1531.17 1542.27 Q1533 1545.82 1536.61 1545.82 Q1540.24 1545.82 1542.05 1542.27 Q1543.88 1538.71 1543.88 1531.6 Q1543.88 1524.47 1542.05 1520.93 Q1540.24 1517.37 1536.61 1517.37 M1536.61 1513.66 Q1542.42 1513.66 1545.48 1518.27 Q1548.55 1522.85 1548.55 1531.6 Q1548.55 1540.33 1545.48 1544.94 Q1542.42 1549.52 1536.61 1549.52 Q1530.8 1549.52 1527.72 1544.94 Q1524.67 1540.33 1524.67 1531.6 Q1524.67 1522.85 1527.72 1518.27 Q1530.8 1513.66 1536.61 1513.66 Z\" fill=\"#000000\" fill-rule=\"nonzero\" fill-opacity=\"1\" /><path clip-path=\"url(#clip340)\" d=\"M1557.58 1544.91 L1565.22 1544.91 L1565.22 1518.55 L1556.91 1520.21 L1556.91 1515.95 L1565.17 1514.29 L1569.85 1514.29 L1569.85 1544.91 L1577.49 1544.91 L1577.49 1548.85 L1557.58 1548.85 L1557.58 1544.91 Z\" fill=\"#000000\" fill-rule=\"nonzero\" fill-opacity=\"1\" /><path clip-path=\"url(#clip340)\" d=\"M1596.93 1517.37 Q1593.32 1517.37 1591.49 1520.93 Q1589.69 1524.47 1589.69 1531.6 Q1589.69 1538.71 1591.49 1542.27 Q1593.32 1545.82 1596.93 1545.82 Q1600.57 1545.82 1602.37 1542.27 Q1604.2 1538.71 1604.2 1531.6 Q1604.2 1524.47 1602.37 1520.93 Q1600.57 1517.37 1596.93 1517.37 M1596.93 1513.66 Q1602.74 1513.66 1605.8 1518.27 Q1608.88 1522.85 1608.88 1531.6 Q1608.88 1540.33 1605.8 1544.94 Q1602.74 1549.52 1596.93 1549.52 Q1591.12 1549.52 1588.05 1544.94 Q1584.99 1540.33 1584.99 1531.6 Q1584.99 1522.85 1588.05 1518.27 Q1591.12 1513.66 1596.93 1513.66 Z\" fill=\"#000000\" fill-rule=\"nonzero\" fill-opacity=\"1\" /><path clip-path=\"url(#clip340)\" d=\"M2156.14 1517.37 Q2152.53 1517.37 2150.7 1520.93 Q2148.9 1524.47 2148.9 1531.6 Q2148.9 1538.71 2150.7 1542.27 Q2152.53 1545.82 2156.14 1545.82 Q2159.78 1545.82 2161.58 1542.27 Q2163.41 1538.71 2163.41 1531.6 Q2163.41 1524.47 2161.58 1520.93 Q2159.78 1517.37 2156.14 1517.37 M2156.14 1513.66 Q2161.95 1513.66 2165.01 1518.27 Q2168.09 1522.85 2168.09 1531.6 Q2168.09 1540.33 2165.01 1544.94 Q2161.95 1549.52 2156.14 1549.52 Q2150.33 1549.52 2147.25 1544.94 Q2144.2 1540.33 2144.2 1531.6 Q2144.2 1522.85 2147.25 1518.27 Q2150.33 1513.66 2156.14 1513.66 Z\" fill=\"#000000\" fill-rule=\"nonzero\" fill-opacity=\"1\" /><path clip-path=\"url(#clip340)\" d=\"M2176.3 1542.97 L2181.19 1542.97 L2181.19 1548.85 L2176.3 1548.85 L2176.3 1542.97 Z\" fill=\"#000000\" fill-rule=\"nonzero\" fill-opacity=\"1\" /><path clip-path=\"url(#clip340)\" d=\"M2201.37 1517.37 Q2197.76 1517.37 2195.93 1520.93 Q2194.13 1524.47 2194.13 1531.6 Q2194.13 1538.71 2195.93 1542.27 Q2197.76 1545.82 2201.37 1545.82 Q2205.01 1545.82 2206.81 1542.27 Q2208.64 1538.71 2208.64 1531.6 Q2208.64 1524.47 2206.81 1520.93 Q2205.01 1517.37 2201.37 1517.37 M2201.37 1513.66 Q2207.18 1513.66 2210.24 1518.27 Q2213.32 1522.85 2213.32 1531.6 Q2213.32 1540.33 2210.24 1544.94 Q2207.18 1549.52 2201.37 1549.52 Q2195.56 1549.52 2192.48 1544.94 Q2189.43 1540.33 2189.43 1531.6 Q2189.43 1522.85 2192.48 1518.27 Q2195.56 1513.66 2201.37 1513.66 Z\" fill=\"#000000\" fill-rule=\"nonzero\" fill-opacity=\"1\" /><path clip-path=\"url(#clip340)\" d=\"M2222.34 1544.91 L2229.98 1544.91 L2229.98 1518.55 L2221.67 1520.21 L2221.67 1515.95 L2229.94 1514.29 L2234.61 1514.29 L2234.61 1544.91 L2242.25 1544.91 L2242.25 1548.85 L2222.34 1548.85 L2222.34 1544.91 Z\" fill=\"#000000\" fill-rule=\"nonzero\" fill-opacity=\"1\" /><path clip-path=\"url(#clip340)\" d=\"M2251.74 1514.29 L2270.1 1514.29 L2270.1 1518.22 L2256.02 1518.22 L2256.02 1526.7 Q2257.04 1526.35 2258.06 1526.19 Q2259.08 1526 2260.1 1526 Q2265.89 1526 2269.27 1529.17 Q2272.65 1532.34 2272.65 1537.76 Q2272.65 1543.34 2269.17 1546.44 Q2265.7 1549.52 2259.38 1549.52 Q2257.21 1549.52 2254.94 1549.15 Q2252.69 1548.78 2250.28 1548.04 L2250.28 1543.34 Q2252.37 1544.47 2254.59 1545.03 Q2256.81 1545.58 2259.29 1545.58 Q2263.29 1545.58 2265.63 1543.48 Q2267.97 1541.37 2267.97 1537.76 Q2267.97 1534.15 2265.63 1532.04 Q2263.29 1529.94 2259.29 1529.94 Q2257.41 1529.94 2255.54 1530.35 Q2253.69 1530.77 2251.74 1531.65 L2251.74 1514.29 Z\" fill=\"#000000\" fill-rule=\"nonzero\" fill-opacity=\"1\" /><polyline clip-path=\"url(#clip342)\" style=\"stroke:#000000; stroke-linecap:round; stroke-linejoin:round; stroke-width:2; stroke-opacity:0.1; fill:none\" points=\"186.76,1446.05 2352.76,1446.05 \"/>\n",
       "<polyline clip-path=\"url(#clip342)\" style=\"stroke:#000000; stroke-linecap:round; stroke-linejoin:round; stroke-width:2; stroke-opacity:0.1; fill:none\" points=\"186.76,1174.43 2352.76,1174.43 \"/>\n",
       "<polyline clip-path=\"url(#clip342)\" style=\"stroke:#000000; stroke-linecap:round; stroke-linejoin:round; stroke-width:2; stroke-opacity:0.1; fill:none\" points=\"186.76,902.819 2352.76,902.819 \"/>\n",
       "<polyline clip-path=\"url(#clip342)\" style=\"stroke:#000000; stroke-linecap:round; stroke-linejoin:round; stroke-width:2; stroke-opacity:0.1; fill:none\" points=\"186.76,631.205 2352.76,631.205 \"/>\n",
       "<polyline clip-path=\"url(#clip342)\" style=\"stroke:#000000; stroke-linecap:round; stroke-linejoin:round; stroke-width:2; stroke-opacity:0.1; fill:none\" points=\"186.76,359.59 2352.76,359.59 \"/>\n",
       "<polyline clip-path=\"url(#clip342)\" style=\"stroke:#000000; stroke-linecap:round; stroke-linejoin:round; stroke-width:2; stroke-opacity:0.1; fill:none\" points=\"186.76,87.9763 2352.76,87.9763 \"/>\n",
       "<polyline clip-path=\"url(#clip340)\" style=\"stroke:#000000; stroke-linecap:round; stroke-linejoin:round; stroke-width:4; stroke-opacity:1; fill:none\" points=\"186.76,1486.45 186.76,47.2441 \"/>\n",
       "<polyline clip-path=\"url(#clip340)\" style=\"stroke:#000000; stroke-linecap:round; stroke-linejoin:round; stroke-width:4; stroke-opacity:1; fill:none\" points=\"186.76,1446.05 205.658,1446.05 \"/>\n",
       "<polyline clip-path=\"url(#clip340)\" style=\"stroke:#000000; stroke-linecap:round; stroke-linejoin:round; stroke-width:4; stroke-opacity:1; fill:none\" points=\"186.76,1174.43 205.658,1174.43 \"/>\n",
       "<polyline clip-path=\"url(#clip340)\" style=\"stroke:#000000; stroke-linecap:round; stroke-linejoin:round; stroke-width:4; stroke-opacity:1; fill:none\" points=\"186.76,902.819 205.658,902.819 \"/>\n",
       "<polyline clip-path=\"url(#clip340)\" style=\"stroke:#000000; stroke-linecap:round; stroke-linejoin:round; stroke-width:4; stroke-opacity:1; fill:none\" points=\"186.76,631.205 205.658,631.205 \"/>\n",
       "<polyline clip-path=\"url(#clip340)\" style=\"stroke:#000000; stroke-linecap:round; stroke-linejoin:round; stroke-width:4; stroke-opacity:1; fill:none\" points=\"186.76,359.59 205.658,359.59 \"/>\n",
       "<polyline clip-path=\"url(#clip340)\" style=\"stroke:#000000; stroke-linecap:round; stroke-linejoin:round; stroke-width:4; stroke-opacity:1; fill:none\" points=\"186.76,87.9763 205.658,87.9763 \"/>\n",
       "<path clip-path=\"url(#clip340)\" d=\"M63.4226 1431.85 Q59.8115 1431.85 57.9828 1435.41 Q56.1773 1438.95 56.1773 1446.08 Q56.1773 1453.19 57.9828 1456.75 Q59.8115 1460.29 63.4226 1460.29 Q67.0569 1460.29 68.8624 1456.75 Q70.6911 1453.19 70.6911 1446.08 Q70.6911 1438.95 68.8624 1435.41 Q67.0569 1431.85 63.4226 1431.85 M63.4226 1428.14 Q69.2328 1428.14 72.2883 1432.75 Q75.367 1437.33 75.367 1446.08 Q75.367 1454.81 72.2883 1459.42 Q69.2328 1464 63.4226 1464 Q57.6125 1464 54.5338 1459.42 Q51.4782 1454.81 51.4782 1446.08 Q51.4782 1437.33 54.5338 1432.75 Q57.6125 1428.14 63.4226 1428.14 Z\" fill=\"#000000\" fill-rule=\"nonzero\" fill-opacity=\"1\" /><path clip-path=\"url(#clip340)\" d=\"M83.5845 1457.45 L88.4688 1457.45 L88.4688 1463.33 L83.5845 1463.33 L83.5845 1457.45 Z\" fill=\"#000000\" fill-rule=\"nonzero\" fill-opacity=\"1\" /><path clip-path=\"url(#clip340)\" d=\"M108.654 1431.85 Q105.043 1431.85 103.214 1435.41 Q101.409 1438.95 101.409 1446.08 Q101.409 1453.19 103.214 1456.75 Q105.043 1460.29 108.654 1460.29 Q112.288 1460.29 114.094 1456.75 Q115.922 1453.19 115.922 1446.08 Q115.922 1438.95 114.094 1435.41 Q112.288 1431.85 108.654 1431.85 M108.654 1428.14 Q114.464 1428.14 117.52 1432.75 Q120.598 1437.33 120.598 1446.08 Q120.598 1454.81 117.52 1459.42 Q114.464 1464 108.654 1464 Q102.844 1464 99.765 1459.42 Q96.7095 1454.81 96.7095 1446.08 Q96.7095 1437.33 99.765 1432.75 Q102.844 1428.14 108.654 1428.14 Z\" fill=\"#000000\" fill-rule=\"nonzero\" fill-opacity=\"1\" /><path clip-path=\"url(#clip340)\" d=\"M138.816 1431.85 Q135.205 1431.85 133.376 1435.41 Q131.57 1438.95 131.57 1446.08 Q131.57 1453.19 133.376 1456.75 Q135.205 1460.29 138.816 1460.29 Q142.45 1460.29 144.256 1456.75 Q146.084 1453.19 146.084 1446.08 Q146.084 1438.95 144.256 1435.41 Q142.45 1431.85 138.816 1431.85 M138.816 1428.14 Q144.626 1428.14 147.681 1432.75 Q150.76 1437.33 150.76 1446.08 Q150.76 1454.81 147.681 1459.42 Q144.626 1464 138.816 1464 Q133.006 1464 129.927 1459.42 Q126.871 1454.81 126.871 1446.08 Q126.871 1437.33 129.927 1432.75 Q133.006 1428.14 138.816 1428.14 Z\" fill=\"#000000\" fill-rule=\"nonzero\" fill-opacity=\"1\" /><path clip-path=\"url(#clip340)\" d=\"M64.6495 1160.23 Q61.0384 1160.23 59.2097 1163.8 Q57.4041 1167.34 57.4041 1174.47 Q57.4041 1181.57 59.2097 1185.14 Q61.0384 1188.68 64.6495 1188.68 Q68.2837 1188.68 70.0892 1185.14 Q71.9179 1181.57 71.9179 1174.47 Q71.9179 1167.34 70.0892 1163.8 Q68.2837 1160.23 64.6495 1160.23 M64.6495 1156.53 Q70.4596 1156.53 73.5152 1161.13 Q76.5938 1165.72 76.5938 1174.47 Q76.5938 1183.19 73.5152 1187.8 Q70.4596 1192.38 64.6495 1192.38 Q58.8393 1192.38 55.7606 1187.8 Q52.7051 1183.19 52.7051 1174.47 Q52.7051 1165.72 55.7606 1161.13 Q58.8393 1156.53 64.6495 1156.53 Z\" fill=\"#000000\" fill-rule=\"nonzero\" fill-opacity=\"1\" /><path clip-path=\"url(#clip340)\" d=\"M84.8114 1185.83 L89.6956 1185.83 L89.6956 1191.71 L84.8114 1191.71 L84.8114 1185.83 Z\" fill=\"#000000\" fill-rule=\"nonzero\" fill-opacity=\"1\" /><path clip-path=\"url(#clip340)\" d=\"M109.881 1160.23 Q106.27 1160.23 104.441 1163.8 Q102.635 1167.34 102.635 1174.47 Q102.635 1181.57 104.441 1185.14 Q106.27 1188.68 109.881 1188.68 Q113.515 1188.68 115.32 1185.14 Q117.149 1181.57 117.149 1174.47 Q117.149 1167.34 115.32 1163.8 Q113.515 1160.23 109.881 1160.23 M109.881 1156.53 Q115.691 1156.53 118.746 1161.13 Q121.825 1165.72 121.825 1174.47 Q121.825 1183.19 118.746 1187.8 Q115.691 1192.38 109.881 1192.38 Q104.071 1192.38 100.992 1187.8 Q97.9363 1183.19 97.9363 1174.47 Q97.9363 1165.72 100.992 1161.13 Q104.071 1156.53 109.881 1156.53 Z\" fill=\"#000000\" fill-rule=\"nonzero\" fill-opacity=\"1\" /><path clip-path=\"url(#clip340)\" d=\"M130.853 1187.78 L138.492 1187.78 L138.492 1161.41 L130.182 1163.08 L130.182 1158.82 L138.445 1157.15 L143.121 1157.15 L143.121 1187.78 L150.76 1187.78 L150.76 1191.71 L130.853 1191.71 L130.853 1187.78 Z\" fill=\"#000000\" fill-rule=\"nonzero\" fill-opacity=\"1\" /><path clip-path=\"url(#clip340)\" d=\"M65.0198 888.618 Q61.4087 888.618 59.58 892.182 Q57.7745 895.724 57.7745 902.854 Q57.7745 909.96 59.58 913.525 Q61.4087 917.066 65.0198 917.066 Q68.6541 917.066 70.4596 913.525 Q72.2883 909.96 72.2883 902.854 Q72.2883 895.724 70.4596 892.182 Q68.6541 888.618 65.0198 888.618 M65.0198 884.914 Q70.83 884.914 73.8855 889.52 Q76.9642 894.104 76.9642 902.854 Q76.9642 911.58 73.8855 916.187 Q70.83 920.77 65.0198 920.77 Q59.2097 920.77 56.131 916.187 Q53.0754 911.58 53.0754 902.854 Q53.0754 894.104 56.131 889.52 Q59.2097 884.914 65.0198 884.914 Z\" fill=\"#000000\" fill-rule=\"nonzero\" fill-opacity=\"1\" /><path clip-path=\"url(#clip340)\" d=\"M85.1818 914.219 L90.066 914.219 L90.066 920.099 L85.1818 920.099 L85.1818 914.219 Z\" fill=\"#000000\" fill-rule=\"nonzero\" fill-opacity=\"1\" /><path clip-path=\"url(#clip340)\" d=\"M110.251 888.618 Q106.64 888.618 104.811 892.182 Q103.006 895.724 103.006 902.854 Q103.006 909.96 104.811 913.525 Q106.64 917.066 110.251 917.066 Q113.885 917.066 115.691 913.525 Q117.52 909.96 117.52 902.854 Q117.52 895.724 115.691 892.182 Q113.885 888.618 110.251 888.618 M110.251 884.914 Q116.061 884.914 119.117 889.52 Q122.195 894.104 122.195 902.854 Q122.195 911.58 119.117 916.187 Q116.061 920.77 110.251 920.77 Q104.441 920.77 101.362 916.187 Q98.3067 911.58 98.3067 902.854 Q98.3067 894.104 101.362 889.52 Q104.441 884.914 110.251 884.914 Z\" fill=\"#000000\" fill-rule=\"nonzero\" fill-opacity=\"1\" /><path clip-path=\"url(#clip340)\" d=\"M134.441 916.164 L150.76 916.164 L150.76 920.099 L128.816 920.099 L128.816 916.164 Q131.478 913.409 136.061 908.779 Q140.668 904.127 141.848 902.784 Q144.093 900.261 144.973 898.525 Q145.876 896.766 145.876 895.076 Q145.876 892.321 143.931 890.585 Q142.01 888.849 138.908 888.849 Q136.709 888.849 134.256 889.613 Q131.825 890.377 129.047 891.928 L129.047 887.206 Q131.871 886.071 134.325 885.493 Q136.779 884.914 138.816 884.914 Q144.186 884.914 147.38 887.599 Q150.575 890.284 150.575 894.775 Q150.575 896.905 149.765 898.826 Q148.978 900.724 146.871 903.317 Q146.293 903.988 143.191 907.205 Q140.089 910.4 134.441 916.164 Z\" fill=\"#000000\" fill-rule=\"nonzero\" fill-opacity=\"1\" /><path clip-path=\"url(#clip340)\" d=\"M64.0708 617.003 Q60.4597 617.003 58.631 620.568 Q56.8254 624.11 56.8254 631.239 Q56.8254 638.346 58.631 641.911 Q60.4597 645.452 64.0708 645.452 Q67.705 645.452 69.5105 641.911 Q71.3392 638.346 71.3392 631.239 Q71.3392 624.11 69.5105 620.568 Q67.705 617.003 64.0708 617.003 M64.0708 613.3 Q69.8809 613.3 72.9365 617.906 Q76.0151 622.489 76.0151 631.239 Q76.0151 639.966 72.9365 644.573 Q69.8809 649.156 64.0708 649.156 Q58.2606 649.156 55.1819 644.573 Q52.1264 639.966 52.1264 631.239 Q52.1264 622.489 55.1819 617.906 Q58.2606 613.3 64.0708 613.3 Z\" fill=\"#000000\" fill-rule=\"nonzero\" fill-opacity=\"1\" /><path clip-path=\"url(#clip340)\" d=\"M84.2327 642.605 L89.1169 642.605 L89.1169 648.485 L84.2327 648.485 L84.2327 642.605 Z\" fill=\"#000000\" fill-rule=\"nonzero\" fill-opacity=\"1\" /><path clip-path=\"url(#clip340)\" d=\"M109.302 617.003 Q105.691 617.003 103.862 620.568 Q102.057 624.11 102.057 631.239 Q102.057 638.346 103.862 641.911 Q105.691 645.452 109.302 645.452 Q112.936 645.452 114.742 641.911 Q116.57 638.346 116.57 631.239 Q116.57 624.11 114.742 620.568 Q112.936 617.003 109.302 617.003 M109.302 613.3 Q115.112 613.3 118.168 617.906 Q121.246 622.489 121.246 631.239 Q121.246 639.966 118.168 644.573 Q115.112 649.156 109.302 649.156 Q103.492 649.156 100.413 644.573 Q97.3576 639.966 97.3576 631.239 Q97.3576 622.489 100.413 617.906 Q103.492 613.3 109.302 613.3 Z\" fill=\"#000000\" fill-rule=\"nonzero\" fill-opacity=\"1\" /><path clip-path=\"url(#clip340)\" d=\"M143.631 629.851 Q146.987 630.568 148.862 632.837 Q150.76 635.105 150.76 638.438 Q150.76 643.554 147.242 646.355 Q143.723 649.156 137.242 649.156 Q135.066 649.156 132.751 648.716 Q130.459 648.299 128.006 647.443 L128.006 642.929 Q129.95 644.063 132.265 644.642 Q134.58 645.221 137.103 645.221 Q141.501 645.221 143.793 643.485 Q146.107 641.749 146.107 638.438 Q146.107 635.383 143.955 633.67 Q141.825 631.934 138.006 631.934 L133.978 631.934 L133.978 628.091 L138.191 628.091 Q141.64 628.091 143.468 626.726 Q145.297 625.337 145.297 622.744 Q145.297 620.082 143.399 618.67 Q141.524 617.235 138.006 617.235 Q136.084 617.235 133.885 617.651 Q131.686 618.068 129.047 618.948 L129.047 614.781 Q131.709 614.04 134.024 613.67 Q136.362 613.3 138.422 613.3 Q143.746 613.3 146.848 615.73 Q149.95 618.138 149.95 622.258 Q149.95 625.128 148.306 627.119 Q146.663 629.087 143.631 629.851 Z\" fill=\"#000000\" fill-rule=\"nonzero\" fill-opacity=\"1\" /><path clip-path=\"url(#clip340)\" d=\"M62.9365 345.389 Q59.3254 345.389 57.4967 348.954 Q55.6912 352.496 55.6912 359.625 Q55.6912 366.732 57.4967 370.296 Q59.3254 373.838 62.9365 373.838 Q66.5707 373.838 68.3763 370.296 Q70.205 366.732 70.205 359.625 Q70.205 352.496 68.3763 348.954 Q66.5707 345.389 62.9365 345.389 M62.9365 341.685 Q68.7467 341.685 71.8022 346.292 Q74.8809 350.875 74.8809 359.625 Q74.8809 368.352 71.8022 372.958 Q68.7467 377.542 62.9365 377.542 Q57.1264 377.542 54.0477 372.958 Q50.9921 368.352 50.9921 359.625 Q50.9921 350.875 54.0477 346.292 Q57.1264 341.685 62.9365 341.685 Z\" fill=\"#000000\" fill-rule=\"nonzero\" fill-opacity=\"1\" /><path clip-path=\"url(#clip340)\" d=\"M83.0984 370.991 L87.9827 370.991 L87.9827 376.87 L83.0984 376.87 L83.0984 370.991 Z\" fill=\"#000000\" fill-rule=\"nonzero\" fill-opacity=\"1\" /><path clip-path=\"url(#clip340)\" d=\"M108.168 345.389 Q104.557 345.389 102.728 348.954 Q100.922 352.496 100.922 359.625 Q100.922 366.732 102.728 370.296 Q104.557 373.838 108.168 373.838 Q111.802 373.838 113.608 370.296 Q115.436 366.732 115.436 359.625 Q115.436 352.496 113.608 348.954 Q111.802 345.389 108.168 345.389 M108.168 341.685 Q113.978 341.685 117.033 346.292 Q120.112 350.875 120.112 359.625 Q120.112 368.352 117.033 372.958 Q113.978 377.542 108.168 377.542 Q102.358 377.542 99.2789 372.958 Q96.2234 368.352 96.2234 359.625 Q96.2234 350.875 99.2789 346.292 Q102.358 341.685 108.168 341.685 Z\" fill=\"#000000\" fill-rule=\"nonzero\" fill-opacity=\"1\" /><path clip-path=\"url(#clip340)\" d=\"M141.177 346.385 L129.371 364.833 L141.177 364.833 L141.177 346.385 M139.95 342.31 L145.83 342.31 L145.83 364.833 L150.76 364.833 L150.76 368.722 L145.83 368.722 L145.83 376.87 L141.177 376.87 L141.177 368.722 L125.575 368.722 L125.575 364.209 L139.95 342.31 Z\" fill=\"#000000\" fill-rule=\"nonzero\" fill-opacity=\"1\" /><path clip-path=\"url(#clip340)\" d=\"M64.418 73.775 Q60.8069 73.775 58.9782 77.3398 Q57.1726 80.8814 57.1726 88.011 Q57.1726 95.1174 58.9782 98.6822 Q60.8069 102.224 64.418 102.224 Q68.0522 102.224 69.8578 98.6822 Q71.6865 95.1174 71.6865 88.011 Q71.6865 80.8814 69.8578 77.3398 Q68.0522 73.775 64.418 73.775 M64.418 70.0713 Q70.2281 70.0713 73.2837 74.6777 Q76.3624 79.261 76.3624 88.011 Q76.3624 96.7378 73.2837 101.344 Q70.2281 105.928 64.418 105.928 Q58.6078 105.928 55.5291 101.344 Q52.4736 96.7378 52.4736 88.011 Q52.4736 79.261 55.5291 74.6777 Q58.6078 70.0713 64.418 70.0713 Z\" fill=\"#000000\" fill-rule=\"nonzero\" fill-opacity=\"1\" /><path clip-path=\"url(#clip340)\" d=\"M84.5799 99.3767 L89.4641 99.3767 L89.4641 105.256 L84.5799 105.256 L84.5799 99.3767 Z\" fill=\"#000000\" fill-rule=\"nonzero\" fill-opacity=\"1\" /><path clip-path=\"url(#clip340)\" d=\"M109.649 73.775 Q106.038 73.775 104.209 77.3398 Q102.404 80.8814 102.404 88.011 Q102.404 95.1174 104.209 98.6822 Q106.038 102.224 109.649 102.224 Q113.283 102.224 115.089 98.6822 Q116.918 95.1174 116.918 88.011 Q116.918 80.8814 115.089 77.3398 Q113.283 73.775 109.649 73.775 M109.649 70.0713 Q115.459 70.0713 118.515 74.6777 Q121.594 79.261 121.594 88.011 Q121.594 96.7378 118.515 101.344 Q115.459 105.928 109.649 105.928 Q103.839 105.928 100.76 101.344 Q97.7048 96.7378 97.7048 88.011 Q97.7048 79.261 100.76 74.6777 Q103.839 70.0713 109.649 70.0713 Z\" fill=\"#000000\" fill-rule=\"nonzero\" fill-opacity=\"1\" /><path clip-path=\"url(#clip340)\" d=\"M129.857 70.6963 L148.214 70.6963 L148.214 74.6314 L134.14 74.6314 L134.14 83.1036 Q135.158 82.7564 136.177 82.5944 Q137.195 82.4092 138.214 82.4092 Q144.001 82.4092 147.38 85.5805 Q150.76 88.7517 150.76 94.1684 Q150.76 99.747 147.288 102.849 Q143.816 105.928 137.496 105.928 Q135.32 105.928 133.052 105.557 Q130.807 105.187 128.399 104.446 L128.399 99.747 Q130.482 100.881 132.705 101.437 Q134.927 101.992 137.404 101.992 Q141.408 101.992 143.746 99.8859 Q146.084 97.7795 146.084 94.1684 Q146.084 90.5573 143.746 88.4508 Q141.408 86.3443 137.404 86.3443 Q135.529 86.3443 133.654 86.761 Q131.802 87.1777 129.857 88.0573 L129.857 70.6963 Z\" fill=\"#000000\" fill-rule=\"nonzero\" fill-opacity=\"1\" /><polyline clip-path=\"url(#clip342)\" style=\"stroke:#009af9; stroke-linecap:round; stroke-linejoin:round; stroke-width:4; stroke-opacity:1; fill:none\" points=\"2291.45,87.9763 1253.54,1106.53 734.584,1361.17 475.105,1424.83 345.366,1440.74 280.497,1444.72 248.062,1445.72 \"/>\n",
       "<path clip-path=\"url(#clip340)\" d=\"M258.96 198.898 L600.929 198.898 L600.929 95.2176 L258.96 95.2176  Z\" fill=\"#ffffff\" fill-rule=\"evenodd\" fill-opacity=\"1\"/>\n",
       "<polyline clip-path=\"url(#clip340)\" style=\"stroke:#000000; stroke-linecap:round; stroke-linejoin:round; stroke-width:4; stroke-opacity:1; fill:none\" points=\"258.96,198.898 600.929,198.898 600.929,95.2176 258.96,95.2176 258.96,198.898 \"/>\n",
       "<polyline clip-path=\"url(#clip340)\" style=\"stroke:#009af9; stroke-linecap:round; stroke-linejoin:round; stroke-width:4; stroke-opacity:1; fill:none\" points=\"283.027,147.058 427.426,147.058 \"/>\n",
       "<path clip-path=\"url(#clip340)\" d=\"M473.206 148.689 L473.206 164.338 L468.947 164.338 L468.947 148.828 Q468.947 145.148 467.511 143.319 Q466.076 141.49 463.206 141.49 Q459.757 141.49 457.766 143.69 Q455.775 145.889 455.775 149.685 L455.775 164.338 L451.493 164.338 L451.493 128.319 L455.775 128.319 L455.775 142.44 Q457.303 140.102 459.363 138.944 Q461.447 137.787 464.155 137.787 Q468.622 137.787 470.914 140.565 Q473.206 143.319 473.206 148.689 Z\" fill=\"#000000\" fill-rule=\"nonzero\" fill-opacity=\"1\" /><path clip-path=\"url(#clip340)\" d=\"M481.701 138.412 L485.96 138.412 L485.96 164.338 L481.701 164.338 L481.701 138.412 M481.701 128.319 L485.96 128.319 L485.96 133.713 L481.701 133.713 L481.701 128.319 Z\" fill=\"#000000\" fill-rule=\"nonzero\" fill-opacity=\"1\" /><path clip-path=\"url(#clip340)\" d=\"M513.483 151.398 Q513.483 146.699 511.539 144.037 Q509.618 141.352 506.238 141.352 Q502.858 141.352 500.914 144.037 Q498.993 146.699 498.993 151.398 Q498.993 156.097 500.914 158.782 Q502.858 161.444 506.238 161.444 Q509.618 161.444 511.539 158.782 Q513.483 156.097 513.483 151.398 M498.993 142.347 Q500.335 140.032 502.372 138.921 Q504.432 137.787 507.28 137.787 Q512.002 137.787 514.942 141.537 Q517.905 145.287 517.905 151.398 Q517.905 157.509 514.942 161.259 Q512.002 165.009 507.28 165.009 Q504.432 165.009 502.372 163.898 Q500.335 162.763 498.993 160.449 L498.993 164.338 L494.71 164.338 L494.71 128.319 L498.993 128.319 L498.993 142.347 Z\" fill=\"#000000\" fill-rule=\"nonzero\" fill-opacity=\"1\" /><path clip-path=\"url(#clip340)\" d=\"M536.747 151.305 Q531.585 151.305 529.594 152.486 Q527.604 153.666 527.604 156.514 Q527.604 158.782 529.085 160.125 Q530.59 161.444 533.159 161.444 Q536.701 161.444 538.83 158.944 Q540.983 156.421 540.983 152.254 L540.983 151.305 L536.747 151.305 M545.242 149.546 L545.242 164.338 L540.983 164.338 L540.983 160.402 Q539.525 162.763 537.349 163.898 Q535.173 165.009 532.025 165.009 Q528.043 165.009 525.682 162.787 Q523.344 160.541 523.344 156.791 Q523.344 152.416 526.261 150.194 Q529.201 147.972 535.011 147.972 L540.983 147.972 L540.983 147.555 Q540.983 144.615 539.039 143.018 Q537.117 141.398 533.622 141.398 Q531.4 141.398 529.293 141.93 Q527.187 142.463 525.243 143.527 L525.243 139.592 Q527.58 138.69 529.78 138.25 Q531.979 137.787 534.062 137.787 Q539.687 137.787 542.465 140.703 Q545.242 143.62 545.242 149.546 Z\" fill=\"#000000\" fill-rule=\"nonzero\" fill-opacity=\"1\" /><path clip-path=\"url(#clip340)\" d=\"M553.853 128.319 L558.136 128.319 L558.136 149.592 L570.844 138.412 L576.284 138.412 L562.534 150.541 L576.863 164.338 L571.307 164.338 L558.136 151.676 L558.136 164.338 L553.853 164.338 L553.853 128.319 Z\" fill=\"#000000\" fill-rule=\"nonzero\" fill-opacity=\"1\" /></svg>\n"
      ],
      "text/html": [
       "<?xml version=\"1.0\" encoding=\"utf-8\"?>\n",
       "<svg xmlns=\"http://www.w3.org/2000/svg\" xmlns:xlink=\"http://www.w3.org/1999/xlink\" width=\"600\" height=\"400\" viewBox=\"0 0 2400 1600\">\n",
       "<defs>\n",
       "  <clipPath id=\"clip390\">\n",
       "    <rect x=\"0\" y=\"0\" width=\"2400\" height=\"1600\"/>\n",
       "  </clipPath>\n",
       "</defs>\n",
       "<path clip-path=\"url(#clip390)\" d=\"M0 1600 L2400 1600 L2400 0 L0 0  Z\" fill=\"#ffffff\" fill-rule=\"evenodd\" fill-opacity=\"1\"/>\n",
       "<defs>\n",
       "  <clipPath id=\"clip391\">\n",
       "    <rect x=\"480\" y=\"0\" width=\"1681\" height=\"1600\"/>\n",
       "  </clipPath>\n",
       "</defs>\n",
       "<path clip-path=\"url(#clip390)\" d=\"M186.76 1486.45 L2352.76 1486.45 L2352.76 47.2441 L186.76 47.2441  Z\" fill=\"#ffffff\" fill-rule=\"evenodd\" fill-opacity=\"1\"/>\n",
       "<defs>\n",
       "  <clipPath id=\"clip392\">\n",
       "    <rect x=\"186\" y=\"47\" width=\"2167\" height=\"1440\"/>\n",
       "  </clipPath>\n",
       "</defs>\n",
       "<polyline clip-path=\"url(#clip392)\" style=\"stroke:#000000; stroke-linecap:round; stroke-linejoin:round; stroke-width:2; stroke-opacity:0.1; fill:none\" points=\"215.627,1486.45 215.627,47.2441 \"/>\n",
       "<polyline clip-path=\"url(#clip392)\" style=\"stroke:#000000; stroke-linecap:round; stroke-linejoin:round; stroke-width:2; stroke-opacity:0.1; fill:none\" points=\"879.892,1486.45 879.892,47.2441 \"/>\n",
       "<polyline clip-path=\"url(#clip392)\" style=\"stroke:#000000; stroke-linecap:round; stroke-linejoin:round; stroke-width:2; stroke-opacity:0.1; fill:none\" points=\"1544.16,1486.45 1544.16,47.2441 \"/>\n",
       "<polyline clip-path=\"url(#clip392)\" style=\"stroke:#000000; stroke-linecap:round; stroke-linejoin:round; stroke-width:2; stroke-opacity:0.1; fill:none\" points=\"2208.42,1486.45 2208.42,47.2441 \"/>\n",
       "<polyline clip-path=\"url(#clip390)\" style=\"stroke:#000000; stroke-linecap:round; stroke-linejoin:round; stroke-width:4; stroke-opacity:1; fill:none\" points=\"186.76,1486.45 2352.76,1486.45 \"/>\n",
       "<polyline clip-path=\"url(#clip390)\" style=\"stroke:#000000; stroke-linecap:round; stroke-linejoin:round; stroke-width:4; stroke-opacity:1; fill:none\" points=\"215.627,1486.45 215.627,1467.55 \"/>\n",
       "<polyline clip-path=\"url(#clip390)\" style=\"stroke:#000000; stroke-linecap:round; stroke-linejoin:round; stroke-width:4; stroke-opacity:1; fill:none\" points=\"879.892,1486.45 879.892,1467.55 \"/>\n",
       "<polyline clip-path=\"url(#clip390)\" style=\"stroke:#000000; stroke-linecap:round; stroke-linejoin:round; stroke-width:4; stroke-opacity:1; fill:none\" points=\"1544.16,1486.45 1544.16,1467.55 \"/>\n",
       "<polyline clip-path=\"url(#clip390)\" style=\"stroke:#000000; stroke-linecap:round; stroke-linejoin:round; stroke-width:4; stroke-opacity:1; fill:none\" points=\"2208.42,1486.45 2208.42,1467.55 \"/>\n",
       "<path clip-path=\"url(#clip390)\" d=\"M162.85 1517.37 Q159.238 1517.37 157.41 1520.93 Q155.604 1524.47 155.604 1531.6 Q155.604 1538.71 157.41 1542.27 Q159.238 1545.82 162.85 1545.82 Q166.484 1545.82 168.289 1542.27 Q170.118 1538.71 170.118 1531.6 Q170.118 1524.47 168.289 1520.93 Q166.484 1517.37 162.85 1517.37 M162.85 1513.66 Q168.66 1513.66 171.715 1518.27 Q174.794 1522.85 174.794 1531.6 Q174.794 1540.33 171.715 1544.94 Q168.66 1549.52 162.85 1549.52 Q157.039 1549.52 153.961 1544.94 Q150.905 1540.33 150.905 1531.6 Q150.905 1522.85 153.961 1518.27 Q157.039 1513.66 162.85 1513.66 Z\" fill=\"#000000\" fill-rule=\"nonzero\" fill-opacity=\"1\" /><path clip-path=\"url(#clip390)\" d=\"M183.012 1542.97 L187.896 1542.97 L187.896 1548.85 L183.012 1548.85 L183.012 1542.97 Z\" fill=\"#000000\" fill-rule=\"nonzero\" fill-opacity=\"1\" /><path clip-path=\"url(#clip390)\" d=\"M208.081 1517.37 Q204.47 1517.37 202.641 1520.93 Q200.835 1524.47 200.835 1531.6 Q200.835 1538.71 202.641 1542.27 Q204.47 1545.82 208.081 1545.82 Q211.715 1545.82 213.521 1542.27 Q215.349 1538.71 215.349 1531.6 Q215.349 1524.47 213.521 1520.93 Q211.715 1517.37 208.081 1517.37 M208.081 1513.66 Q213.891 1513.66 216.947 1518.27 Q220.025 1522.85 220.025 1531.6 Q220.025 1540.33 216.947 1544.94 Q213.891 1549.52 208.081 1549.52 Q202.271 1549.52 199.192 1544.94 Q196.136 1540.33 196.136 1531.6 Q196.136 1522.85 199.192 1518.27 Q202.271 1513.66 208.081 1513.66 Z\" fill=\"#000000\" fill-rule=\"nonzero\" fill-opacity=\"1\" /><path clip-path=\"url(#clip390)\" d=\"M238.243 1517.37 Q234.632 1517.37 232.803 1520.93 Q230.997 1524.47 230.997 1531.6 Q230.997 1538.71 232.803 1542.27 Q234.632 1545.82 238.243 1545.82 Q241.877 1545.82 243.682 1542.27 Q245.511 1538.71 245.511 1531.6 Q245.511 1524.47 243.682 1520.93 Q241.877 1517.37 238.243 1517.37 M238.243 1513.66 Q244.053 1513.66 247.108 1518.27 Q250.187 1522.85 250.187 1531.6 Q250.187 1540.33 247.108 1544.94 Q244.053 1549.52 238.243 1549.52 Q232.433 1549.52 229.354 1544.94 Q226.298 1540.33 226.298 1531.6 Q226.298 1522.85 229.354 1518.27 Q232.433 1513.66 238.243 1513.66 Z\" fill=\"#000000\" fill-rule=\"nonzero\" fill-opacity=\"1\" /><path clip-path=\"url(#clip390)\" d=\"M268.405 1517.37 Q264.793 1517.37 262.965 1520.93 Q261.159 1524.47 261.159 1531.6 Q261.159 1538.71 262.965 1542.27 Q264.793 1545.82 268.405 1545.82 Q272.039 1545.82 273.844 1542.27 Q275.673 1538.71 275.673 1531.6 Q275.673 1524.47 273.844 1520.93 Q272.039 1517.37 268.405 1517.37 M268.405 1513.66 Q274.215 1513.66 277.27 1518.27 Q280.349 1522.85 280.349 1531.6 Q280.349 1540.33 277.27 1544.94 Q274.215 1549.52 268.405 1549.52 Q262.594 1549.52 259.516 1544.94 Q256.46 1540.33 256.46 1531.6 Q256.46 1522.85 259.516 1518.27 Q262.594 1513.66 268.405 1513.66 Z\" fill=\"#000000\" fill-rule=\"nonzero\" fill-opacity=\"1\" /><path clip-path=\"url(#clip390)\" d=\"M827.612 1517.37 Q824.001 1517.37 822.172 1520.93 Q820.367 1524.47 820.367 1531.6 Q820.367 1538.71 822.172 1542.27 Q824.001 1545.82 827.612 1545.82 Q831.246 1545.82 833.052 1542.27 Q834.88 1538.71 834.88 1531.6 Q834.88 1524.47 833.052 1520.93 Q831.246 1517.37 827.612 1517.37 M827.612 1513.66 Q833.422 1513.66 836.478 1518.27 Q839.556 1522.85 839.556 1531.6 Q839.556 1540.33 836.478 1544.94 Q833.422 1549.52 827.612 1549.52 Q821.802 1549.52 818.723 1544.94 Q815.668 1540.33 815.668 1531.6 Q815.668 1522.85 818.723 1518.27 Q821.802 1513.66 827.612 1513.66 Z\" fill=\"#000000\" fill-rule=\"nonzero\" fill-opacity=\"1\" /><path clip-path=\"url(#clip390)\" d=\"M847.774 1542.97 L852.658 1542.97 L852.658 1548.85 L847.774 1548.85 L847.774 1542.97 Z\" fill=\"#000000\" fill-rule=\"nonzero\" fill-opacity=\"1\" /><path clip-path=\"url(#clip390)\" d=\"M872.843 1517.37 Q869.232 1517.37 867.403 1520.93 Q865.598 1524.47 865.598 1531.6 Q865.598 1538.71 867.403 1542.27 Q869.232 1545.82 872.843 1545.82 Q876.477 1545.82 878.283 1542.27 Q880.112 1538.71 880.112 1531.6 Q880.112 1524.47 878.283 1520.93 Q876.477 1517.37 872.843 1517.37 M872.843 1513.66 Q878.653 1513.66 881.709 1518.27 Q884.788 1522.85 884.788 1531.6 Q884.788 1540.33 881.709 1544.94 Q878.653 1549.52 872.843 1549.52 Q867.033 1549.52 863.954 1544.94 Q860.899 1540.33 860.899 1531.6 Q860.899 1522.85 863.954 1518.27 Q867.033 1513.66 872.843 1513.66 Z\" fill=\"#000000\" fill-rule=\"nonzero\" fill-opacity=\"1\" /><path clip-path=\"url(#clip390)\" d=\"M903.005 1517.37 Q899.394 1517.37 897.565 1520.93 Q895.76 1524.47 895.76 1531.6 Q895.76 1538.71 897.565 1542.27 Q899.394 1545.82 903.005 1545.82 Q906.639 1545.82 908.445 1542.27 Q910.274 1538.71 910.274 1531.6 Q910.274 1524.47 908.445 1520.93 Q906.639 1517.37 903.005 1517.37 M903.005 1513.66 Q908.815 1513.66 911.871 1518.27 Q914.949 1522.85 914.949 1531.6 Q914.949 1540.33 911.871 1544.94 Q908.815 1549.52 903.005 1549.52 Q897.195 1549.52 894.116 1544.94 Q891.061 1540.33 891.061 1531.6 Q891.061 1522.85 894.116 1518.27 Q897.195 1513.66 903.005 1513.66 Z\" fill=\"#000000\" fill-rule=\"nonzero\" fill-opacity=\"1\" /><path clip-path=\"url(#clip390)\" d=\"M923.213 1514.29 L941.57 1514.29 L941.57 1518.22 L927.496 1518.22 L927.496 1526.7 Q928.514 1526.35 929.533 1526.19 Q930.551 1526 931.57 1526 Q937.357 1526 940.736 1529.17 Q944.116 1532.34 944.116 1537.76 Q944.116 1543.34 940.644 1546.44 Q937.172 1549.52 930.852 1549.52 Q928.676 1549.52 926.408 1549.15 Q924.162 1548.78 921.755 1548.04 L921.755 1543.34 Q923.838 1544.47 926.06 1545.03 Q928.283 1545.58 930.76 1545.58 Q934.764 1545.58 937.102 1543.48 Q939.44 1541.37 939.44 1537.76 Q939.44 1534.15 937.102 1532.04 Q934.764 1529.94 930.76 1529.94 Q928.885 1529.94 927.01 1530.35 Q925.158 1530.77 923.213 1531.65 L923.213 1514.29 Z\" fill=\"#000000\" fill-rule=\"nonzero\" fill-opacity=\"1\" /><path clip-path=\"url(#clip390)\" d=\"M1491.38 1517.37 Q1487.77 1517.37 1485.94 1520.93 Q1484.13 1524.47 1484.13 1531.6 Q1484.13 1538.71 1485.94 1542.27 Q1487.77 1545.82 1491.38 1545.82 Q1495.01 1545.82 1496.82 1542.27 Q1498.65 1538.71 1498.65 1531.6 Q1498.65 1524.47 1496.82 1520.93 Q1495.01 1517.37 1491.38 1517.37 M1491.38 1513.66 Q1497.19 1513.66 1500.24 1518.27 Q1503.32 1522.85 1503.32 1531.6 Q1503.32 1540.33 1500.24 1544.94 Q1497.19 1549.52 1491.38 1549.52 Q1485.57 1549.52 1482.49 1544.94 Q1479.43 1540.33 1479.43 1531.6 Q1479.43 1522.85 1482.49 1518.27 Q1485.57 1513.66 1491.38 1513.66 Z\" fill=\"#000000\" fill-rule=\"nonzero\" fill-opacity=\"1\" /><path clip-path=\"url(#clip390)\" d=\"M1511.54 1542.97 L1516.43 1542.97 L1516.43 1548.85 L1511.54 1548.85 L1511.54 1542.97 Z\" fill=\"#000000\" fill-rule=\"nonzero\" fill-opacity=\"1\" /><path clip-path=\"url(#clip390)\" d=\"M1536.61 1517.37 Q1533 1517.37 1531.17 1520.93 Q1529.36 1524.47 1529.36 1531.6 Q1529.36 1538.71 1531.17 1542.27 Q1533 1545.82 1536.61 1545.82 Q1540.24 1545.82 1542.05 1542.27 Q1543.88 1538.71 1543.88 1531.6 Q1543.88 1524.47 1542.05 1520.93 Q1540.24 1517.37 1536.61 1517.37 M1536.61 1513.66 Q1542.42 1513.66 1545.48 1518.27 Q1548.55 1522.85 1548.55 1531.6 Q1548.55 1540.33 1545.48 1544.94 Q1542.42 1549.52 1536.61 1549.52 Q1530.8 1549.52 1527.72 1544.94 Q1524.67 1540.33 1524.67 1531.6 Q1524.67 1522.85 1527.72 1518.27 Q1530.8 1513.66 1536.61 1513.66 Z\" fill=\"#000000\" fill-rule=\"nonzero\" fill-opacity=\"1\" /><path clip-path=\"url(#clip390)\" d=\"M1557.58 1544.91 L1565.22 1544.91 L1565.22 1518.55 L1556.91 1520.21 L1556.91 1515.95 L1565.17 1514.29 L1569.85 1514.29 L1569.85 1544.91 L1577.49 1544.91 L1577.49 1548.85 L1557.58 1548.85 L1557.58 1544.91 Z\" fill=\"#000000\" fill-rule=\"nonzero\" fill-opacity=\"1\" /><path clip-path=\"url(#clip390)\" d=\"M1596.93 1517.37 Q1593.32 1517.37 1591.49 1520.93 Q1589.69 1524.47 1589.69 1531.6 Q1589.69 1538.71 1591.49 1542.27 Q1593.32 1545.82 1596.93 1545.82 Q1600.57 1545.82 1602.37 1542.27 Q1604.2 1538.71 1604.2 1531.6 Q1604.2 1524.47 1602.37 1520.93 Q1600.57 1517.37 1596.93 1517.37 M1596.93 1513.66 Q1602.74 1513.66 1605.8 1518.27 Q1608.88 1522.85 1608.88 1531.6 Q1608.88 1540.33 1605.8 1544.94 Q1602.74 1549.52 1596.93 1549.52 Q1591.12 1549.52 1588.05 1544.94 Q1584.99 1540.33 1584.99 1531.6 Q1584.99 1522.85 1588.05 1518.27 Q1591.12 1513.66 1596.93 1513.66 Z\" fill=\"#000000\" fill-rule=\"nonzero\" fill-opacity=\"1\" /><path clip-path=\"url(#clip390)\" d=\"M2156.14 1517.37 Q2152.53 1517.37 2150.7 1520.93 Q2148.9 1524.47 2148.9 1531.6 Q2148.9 1538.71 2150.7 1542.27 Q2152.53 1545.82 2156.14 1545.82 Q2159.78 1545.82 2161.58 1542.27 Q2163.41 1538.71 2163.41 1531.6 Q2163.41 1524.47 2161.58 1520.93 Q2159.78 1517.37 2156.14 1517.37 M2156.14 1513.66 Q2161.95 1513.66 2165.01 1518.27 Q2168.09 1522.85 2168.09 1531.6 Q2168.09 1540.33 2165.01 1544.94 Q2161.95 1549.52 2156.14 1549.52 Q2150.33 1549.52 2147.25 1544.94 Q2144.2 1540.33 2144.2 1531.6 Q2144.2 1522.85 2147.25 1518.27 Q2150.33 1513.66 2156.14 1513.66 Z\" fill=\"#000000\" fill-rule=\"nonzero\" fill-opacity=\"1\" /><path clip-path=\"url(#clip390)\" d=\"M2176.3 1542.97 L2181.19 1542.97 L2181.19 1548.85 L2176.3 1548.85 L2176.3 1542.97 Z\" fill=\"#000000\" fill-rule=\"nonzero\" fill-opacity=\"1\" /><path clip-path=\"url(#clip390)\" d=\"M2201.37 1517.37 Q2197.76 1517.37 2195.93 1520.93 Q2194.13 1524.47 2194.13 1531.6 Q2194.13 1538.71 2195.93 1542.27 Q2197.76 1545.82 2201.37 1545.82 Q2205.01 1545.82 2206.81 1542.27 Q2208.64 1538.71 2208.64 1531.6 Q2208.64 1524.47 2206.81 1520.93 Q2205.01 1517.37 2201.37 1517.37 M2201.37 1513.66 Q2207.18 1513.66 2210.24 1518.27 Q2213.32 1522.85 2213.32 1531.6 Q2213.32 1540.33 2210.24 1544.94 Q2207.18 1549.52 2201.37 1549.52 Q2195.56 1549.52 2192.48 1544.94 Q2189.43 1540.33 2189.43 1531.6 Q2189.43 1522.85 2192.48 1518.27 Q2195.56 1513.66 2201.37 1513.66 Z\" fill=\"#000000\" fill-rule=\"nonzero\" fill-opacity=\"1\" /><path clip-path=\"url(#clip390)\" d=\"M2222.34 1544.91 L2229.98 1544.91 L2229.98 1518.55 L2221.67 1520.21 L2221.67 1515.95 L2229.94 1514.29 L2234.61 1514.29 L2234.61 1544.91 L2242.25 1544.91 L2242.25 1548.85 L2222.34 1548.85 L2222.34 1544.91 Z\" fill=\"#000000\" fill-rule=\"nonzero\" fill-opacity=\"1\" /><path clip-path=\"url(#clip390)\" d=\"M2251.74 1514.29 L2270.1 1514.29 L2270.1 1518.22 L2256.02 1518.22 L2256.02 1526.7 Q2257.04 1526.35 2258.06 1526.19 Q2259.08 1526 2260.1 1526 Q2265.89 1526 2269.27 1529.17 Q2272.65 1532.34 2272.65 1537.76 Q2272.65 1543.34 2269.17 1546.44 Q2265.7 1549.52 2259.38 1549.52 Q2257.21 1549.52 2254.94 1549.15 Q2252.69 1548.78 2250.28 1548.04 L2250.28 1543.34 Q2252.37 1544.47 2254.59 1545.03 Q2256.81 1545.58 2259.29 1545.58 Q2263.29 1545.58 2265.63 1543.48 Q2267.97 1541.37 2267.97 1537.76 Q2267.97 1534.15 2265.63 1532.04 Q2263.29 1529.94 2259.29 1529.94 Q2257.41 1529.94 2255.54 1530.35 Q2253.69 1530.77 2251.74 1531.65 L2251.74 1514.29 Z\" fill=\"#000000\" fill-rule=\"nonzero\" fill-opacity=\"1\" /><polyline clip-path=\"url(#clip392)\" style=\"stroke:#000000; stroke-linecap:round; stroke-linejoin:round; stroke-width:2; stroke-opacity:0.1; fill:none\" points=\"186.76,1446.05 2352.76,1446.05 \"/>\n",
       "<polyline clip-path=\"url(#clip392)\" style=\"stroke:#000000; stroke-linecap:round; stroke-linejoin:round; stroke-width:2; stroke-opacity:0.1; fill:none\" points=\"186.76,1174.43 2352.76,1174.43 \"/>\n",
       "<polyline clip-path=\"url(#clip392)\" style=\"stroke:#000000; stroke-linecap:round; stroke-linejoin:round; stroke-width:2; stroke-opacity:0.1; fill:none\" points=\"186.76,902.819 2352.76,902.819 \"/>\n",
       "<polyline clip-path=\"url(#clip392)\" style=\"stroke:#000000; stroke-linecap:round; stroke-linejoin:round; stroke-width:2; stroke-opacity:0.1; fill:none\" points=\"186.76,631.205 2352.76,631.205 \"/>\n",
       "<polyline clip-path=\"url(#clip392)\" style=\"stroke:#000000; stroke-linecap:round; stroke-linejoin:round; stroke-width:2; stroke-opacity:0.1; fill:none\" points=\"186.76,359.59 2352.76,359.59 \"/>\n",
       "<polyline clip-path=\"url(#clip392)\" style=\"stroke:#000000; stroke-linecap:round; stroke-linejoin:round; stroke-width:2; stroke-opacity:0.1; fill:none\" points=\"186.76,87.9763 2352.76,87.9763 \"/>\n",
       "<polyline clip-path=\"url(#clip390)\" style=\"stroke:#000000; stroke-linecap:round; stroke-linejoin:round; stroke-width:4; stroke-opacity:1; fill:none\" points=\"186.76,1486.45 186.76,47.2441 \"/>\n",
       "<polyline clip-path=\"url(#clip390)\" style=\"stroke:#000000; stroke-linecap:round; stroke-linejoin:round; stroke-width:4; stroke-opacity:1; fill:none\" points=\"186.76,1446.05 205.658,1446.05 \"/>\n",
       "<polyline clip-path=\"url(#clip390)\" style=\"stroke:#000000; stroke-linecap:round; stroke-linejoin:round; stroke-width:4; stroke-opacity:1; fill:none\" points=\"186.76,1174.43 205.658,1174.43 \"/>\n",
       "<polyline clip-path=\"url(#clip390)\" style=\"stroke:#000000; stroke-linecap:round; stroke-linejoin:round; stroke-width:4; stroke-opacity:1; fill:none\" points=\"186.76,902.819 205.658,902.819 \"/>\n",
       "<polyline clip-path=\"url(#clip390)\" style=\"stroke:#000000; stroke-linecap:round; stroke-linejoin:round; stroke-width:4; stroke-opacity:1; fill:none\" points=\"186.76,631.205 205.658,631.205 \"/>\n",
       "<polyline clip-path=\"url(#clip390)\" style=\"stroke:#000000; stroke-linecap:round; stroke-linejoin:round; stroke-width:4; stroke-opacity:1; fill:none\" points=\"186.76,359.59 205.658,359.59 \"/>\n",
       "<polyline clip-path=\"url(#clip390)\" style=\"stroke:#000000; stroke-linecap:round; stroke-linejoin:round; stroke-width:4; stroke-opacity:1; fill:none\" points=\"186.76,87.9763 205.658,87.9763 \"/>\n",
       "<path clip-path=\"url(#clip390)\" d=\"M63.4226 1431.85 Q59.8115 1431.85 57.9828 1435.41 Q56.1773 1438.95 56.1773 1446.08 Q56.1773 1453.19 57.9828 1456.75 Q59.8115 1460.29 63.4226 1460.29 Q67.0569 1460.29 68.8624 1456.75 Q70.6911 1453.19 70.6911 1446.08 Q70.6911 1438.95 68.8624 1435.41 Q67.0569 1431.85 63.4226 1431.85 M63.4226 1428.14 Q69.2328 1428.14 72.2883 1432.75 Q75.367 1437.33 75.367 1446.08 Q75.367 1454.81 72.2883 1459.42 Q69.2328 1464 63.4226 1464 Q57.6125 1464 54.5338 1459.42 Q51.4782 1454.81 51.4782 1446.08 Q51.4782 1437.33 54.5338 1432.75 Q57.6125 1428.14 63.4226 1428.14 Z\" fill=\"#000000\" fill-rule=\"nonzero\" fill-opacity=\"1\" /><path clip-path=\"url(#clip390)\" d=\"M83.5845 1457.45 L88.4688 1457.45 L88.4688 1463.33 L83.5845 1463.33 L83.5845 1457.45 Z\" fill=\"#000000\" fill-rule=\"nonzero\" fill-opacity=\"1\" /><path clip-path=\"url(#clip390)\" d=\"M108.654 1431.85 Q105.043 1431.85 103.214 1435.41 Q101.409 1438.95 101.409 1446.08 Q101.409 1453.19 103.214 1456.75 Q105.043 1460.29 108.654 1460.29 Q112.288 1460.29 114.094 1456.75 Q115.922 1453.19 115.922 1446.08 Q115.922 1438.95 114.094 1435.41 Q112.288 1431.85 108.654 1431.85 M108.654 1428.14 Q114.464 1428.14 117.52 1432.75 Q120.598 1437.33 120.598 1446.08 Q120.598 1454.81 117.52 1459.42 Q114.464 1464 108.654 1464 Q102.844 1464 99.765 1459.42 Q96.7095 1454.81 96.7095 1446.08 Q96.7095 1437.33 99.765 1432.75 Q102.844 1428.14 108.654 1428.14 Z\" fill=\"#000000\" fill-rule=\"nonzero\" fill-opacity=\"1\" /><path clip-path=\"url(#clip390)\" d=\"M138.816 1431.85 Q135.205 1431.85 133.376 1435.41 Q131.57 1438.95 131.57 1446.08 Q131.57 1453.19 133.376 1456.75 Q135.205 1460.29 138.816 1460.29 Q142.45 1460.29 144.256 1456.75 Q146.084 1453.19 146.084 1446.08 Q146.084 1438.95 144.256 1435.41 Q142.45 1431.85 138.816 1431.85 M138.816 1428.14 Q144.626 1428.14 147.681 1432.75 Q150.76 1437.33 150.76 1446.08 Q150.76 1454.81 147.681 1459.42 Q144.626 1464 138.816 1464 Q133.006 1464 129.927 1459.42 Q126.871 1454.81 126.871 1446.08 Q126.871 1437.33 129.927 1432.75 Q133.006 1428.14 138.816 1428.14 Z\" fill=\"#000000\" fill-rule=\"nonzero\" fill-opacity=\"1\" /><path clip-path=\"url(#clip390)\" d=\"M64.6495 1160.23 Q61.0384 1160.23 59.2097 1163.8 Q57.4041 1167.34 57.4041 1174.47 Q57.4041 1181.57 59.2097 1185.14 Q61.0384 1188.68 64.6495 1188.68 Q68.2837 1188.68 70.0892 1185.14 Q71.9179 1181.57 71.9179 1174.47 Q71.9179 1167.34 70.0892 1163.8 Q68.2837 1160.23 64.6495 1160.23 M64.6495 1156.53 Q70.4596 1156.53 73.5152 1161.13 Q76.5938 1165.72 76.5938 1174.47 Q76.5938 1183.19 73.5152 1187.8 Q70.4596 1192.38 64.6495 1192.38 Q58.8393 1192.38 55.7606 1187.8 Q52.7051 1183.19 52.7051 1174.47 Q52.7051 1165.72 55.7606 1161.13 Q58.8393 1156.53 64.6495 1156.53 Z\" fill=\"#000000\" fill-rule=\"nonzero\" fill-opacity=\"1\" /><path clip-path=\"url(#clip390)\" d=\"M84.8114 1185.83 L89.6956 1185.83 L89.6956 1191.71 L84.8114 1191.71 L84.8114 1185.83 Z\" fill=\"#000000\" fill-rule=\"nonzero\" fill-opacity=\"1\" /><path clip-path=\"url(#clip390)\" d=\"M109.881 1160.23 Q106.27 1160.23 104.441 1163.8 Q102.635 1167.34 102.635 1174.47 Q102.635 1181.57 104.441 1185.14 Q106.27 1188.68 109.881 1188.68 Q113.515 1188.68 115.32 1185.14 Q117.149 1181.57 117.149 1174.47 Q117.149 1167.34 115.32 1163.8 Q113.515 1160.23 109.881 1160.23 M109.881 1156.53 Q115.691 1156.53 118.746 1161.13 Q121.825 1165.72 121.825 1174.47 Q121.825 1183.19 118.746 1187.8 Q115.691 1192.38 109.881 1192.38 Q104.071 1192.38 100.992 1187.8 Q97.9363 1183.19 97.9363 1174.47 Q97.9363 1165.72 100.992 1161.13 Q104.071 1156.53 109.881 1156.53 Z\" fill=\"#000000\" fill-rule=\"nonzero\" fill-opacity=\"1\" /><path clip-path=\"url(#clip390)\" d=\"M130.853 1187.78 L138.492 1187.78 L138.492 1161.41 L130.182 1163.08 L130.182 1158.82 L138.445 1157.15 L143.121 1157.15 L143.121 1187.78 L150.76 1187.78 L150.76 1191.71 L130.853 1191.71 L130.853 1187.78 Z\" fill=\"#000000\" fill-rule=\"nonzero\" fill-opacity=\"1\" /><path clip-path=\"url(#clip390)\" d=\"M65.0198 888.618 Q61.4087 888.618 59.58 892.182 Q57.7745 895.724 57.7745 902.854 Q57.7745 909.96 59.58 913.525 Q61.4087 917.066 65.0198 917.066 Q68.6541 917.066 70.4596 913.525 Q72.2883 909.96 72.2883 902.854 Q72.2883 895.724 70.4596 892.182 Q68.6541 888.618 65.0198 888.618 M65.0198 884.914 Q70.83 884.914 73.8855 889.52 Q76.9642 894.104 76.9642 902.854 Q76.9642 911.58 73.8855 916.187 Q70.83 920.77 65.0198 920.77 Q59.2097 920.77 56.131 916.187 Q53.0754 911.58 53.0754 902.854 Q53.0754 894.104 56.131 889.52 Q59.2097 884.914 65.0198 884.914 Z\" fill=\"#000000\" fill-rule=\"nonzero\" fill-opacity=\"1\" /><path clip-path=\"url(#clip390)\" d=\"M85.1818 914.219 L90.066 914.219 L90.066 920.099 L85.1818 920.099 L85.1818 914.219 Z\" fill=\"#000000\" fill-rule=\"nonzero\" fill-opacity=\"1\" /><path clip-path=\"url(#clip390)\" d=\"M110.251 888.618 Q106.64 888.618 104.811 892.182 Q103.006 895.724 103.006 902.854 Q103.006 909.96 104.811 913.525 Q106.64 917.066 110.251 917.066 Q113.885 917.066 115.691 913.525 Q117.52 909.96 117.52 902.854 Q117.52 895.724 115.691 892.182 Q113.885 888.618 110.251 888.618 M110.251 884.914 Q116.061 884.914 119.117 889.52 Q122.195 894.104 122.195 902.854 Q122.195 911.58 119.117 916.187 Q116.061 920.77 110.251 920.77 Q104.441 920.77 101.362 916.187 Q98.3067 911.58 98.3067 902.854 Q98.3067 894.104 101.362 889.52 Q104.441 884.914 110.251 884.914 Z\" fill=\"#000000\" fill-rule=\"nonzero\" fill-opacity=\"1\" /><path clip-path=\"url(#clip390)\" d=\"M134.441 916.164 L150.76 916.164 L150.76 920.099 L128.816 920.099 L128.816 916.164 Q131.478 913.409 136.061 908.779 Q140.668 904.127 141.848 902.784 Q144.093 900.261 144.973 898.525 Q145.876 896.766 145.876 895.076 Q145.876 892.321 143.931 890.585 Q142.01 888.849 138.908 888.849 Q136.709 888.849 134.256 889.613 Q131.825 890.377 129.047 891.928 L129.047 887.206 Q131.871 886.071 134.325 885.493 Q136.779 884.914 138.816 884.914 Q144.186 884.914 147.38 887.599 Q150.575 890.284 150.575 894.775 Q150.575 896.905 149.765 898.826 Q148.978 900.724 146.871 903.317 Q146.293 903.988 143.191 907.205 Q140.089 910.4 134.441 916.164 Z\" fill=\"#000000\" fill-rule=\"nonzero\" fill-opacity=\"1\" /><path clip-path=\"url(#clip390)\" d=\"M64.0708 617.003 Q60.4597 617.003 58.631 620.568 Q56.8254 624.11 56.8254 631.239 Q56.8254 638.346 58.631 641.911 Q60.4597 645.452 64.0708 645.452 Q67.705 645.452 69.5105 641.911 Q71.3392 638.346 71.3392 631.239 Q71.3392 624.11 69.5105 620.568 Q67.705 617.003 64.0708 617.003 M64.0708 613.3 Q69.8809 613.3 72.9365 617.906 Q76.0151 622.489 76.0151 631.239 Q76.0151 639.966 72.9365 644.573 Q69.8809 649.156 64.0708 649.156 Q58.2606 649.156 55.1819 644.573 Q52.1264 639.966 52.1264 631.239 Q52.1264 622.489 55.1819 617.906 Q58.2606 613.3 64.0708 613.3 Z\" fill=\"#000000\" fill-rule=\"nonzero\" fill-opacity=\"1\" /><path clip-path=\"url(#clip390)\" d=\"M84.2327 642.605 L89.1169 642.605 L89.1169 648.485 L84.2327 648.485 L84.2327 642.605 Z\" fill=\"#000000\" fill-rule=\"nonzero\" fill-opacity=\"1\" /><path clip-path=\"url(#clip390)\" d=\"M109.302 617.003 Q105.691 617.003 103.862 620.568 Q102.057 624.11 102.057 631.239 Q102.057 638.346 103.862 641.911 Q105.691 645.452 109.302 645.452 Q112.936 645.452 114.742 641.911 Q116.57 638.346 116.57 631.239 Q116.57 624.11 114.742 620.568 Q112.936 617.003 109.302 617.003 M109.302 613.3 Q115.112 613.3 118.168 617.906 Q121.246 622.489 121.246 631.239 Q121.246 639.966 118.168 644.573 Q115.112 649.156 109.302 649.156 Q103.492 649.156 100.413 644.573 Q97.3576 639.966 97.3576 631.239 Q97.3576 622.489 100.413 617.906 Q103.492 613.3 109.302 613.3 Z\" fill=\"#000000\" fill-rule=\"nonzero\" fill-opacity=\"1\" /><path clip-path=\"url(#clip390)\" d=\"M143.631 629.851 Q146.987 630.568 148.862 632.837 Q150.76 635.105 150.76 638.438 Q150.76 643.554 147.242 646.355 Q143.723 649.156 137.242 649.156 Q135.066 649.156 132.751 648.716 Q130.459 648.299 128.006 647.443 L128.006 642.929 Q129.95 644.063 132.265 644.642 Q134.58 645.221 137.103 645.221 Q141.501 645.221 143.793 643.485 Q146.107 641.749 146.107 638.438 Q146.107 635.383 143.955 633.67 Q141.825 631.934 138.006 631.934 L133.978 631.934 L133.978 628.091 L138.191 628.091 Q141.64 628.091 143.468 626.726 Q145.297 625.337 145.297 622.744 Q145.297 620.082 143.399 618.67 Q141.524 617.235 138.006 617.235 Q136.084 617.235 133.885 617.651 Q131.686 618.068 129.047 618.948 L129.047 614.781 Q131.709 614.04 134.024 613.67 Q136.362 613.3 138.422 613.3 Q143.746 613.3 146.848 615.73 Q149.95 618.138 149.95 622.258 Q149.95 625.128 148.306 627.119 Q146.663 629.087 143.631 629.851 Z\" fill=\"#000000\" fill-rule=\"nonzero\" fill-opacity=\"1\" /><path clip-path=\"url(#clip390)\" d=\"M62.9365 345.389 Q59.3254 345.389 57.4967 348.954 Q55.6912 352.496 55.6912 359.625 Q55.6912 366.732 57.4967 370.296 Q59.3254 373.838 62.9365 373.838 Q66.5707 373.838 68.3763 370.296 Q70.205 366.732 70.205 359.625 Q70.205 352.496 68.3763 348.954 Q66.5707 345.389 62.9365 345.389 M62.9365 341.685 Q68.7467 341.685 71.8022 346.292 Q74.8809 350.875 74.8809 359.625 Q74.8809 368.352 71.8022 372.958 Q68.7467 377.542 62.9365 377.542 Q57.1264 377.542 54.0477 372.958 Q50.9921 368.352 50.9921 359.625 Q50.9921 350.875 54.0477 346.292 Q57.1264 341.685 62.9365 341.685 Z\" fill=\"#000000\" fill-rule=\"nonzero\" fill-opacity=\"1\" /><path clip-path=\"url(#clip390)\" d=\"M83.0984 370.991 L87.9827 370.991 L87.9827 376.87 L83.0984 376.87 L83.0984 370.991 Z\" fill=\"#000000\" fill-rule=\"nonzero\" fill-opacity=\"1\" /><path clip-path=\"url(#clip390)\" d=\"M108.168 345.389 Q104.557 345.389 102.728 348.954 Q100.922 352.496 100.922 359.625 Q100.922 366.732 102.728 370.296 Q104.557 373.838 108.168 373.838 Q111.802 373.838 113.608 370.296 Q115.436 366.732 115.436 359.625 Q115.436 352.496 113.608 348.954 Q111.802 345.389 108.168 345.389 M108.168 341.685 Q113.978 341.685 117.033 346.292 Q120.112 350.875 120.112 359.625 Q120.112 368.352 117.033 372.958 Q113.978 377.542 108.168 377.542 Q102.358 377.542 99.2789 372.958 Q96.2234 368.352 96.2234 359.625 Q96.2234 350.875 99.2789 346.292 Q102.358 341.685 108.168 341.685 Z\" fill=\"#000000\" fill-rule=\"nonzero\" fill-opacity=\"1\" /><path clip-path=\"url(#clip390)\" d=\"M141.177 346.385 L129.371 364.833 L141.177 364.833 L141.177 346.385 M139.95 342.31 L145.83 342.31 L145.83 364.833 L150.76 364.833 L150.76 368.722 L145.83 368.722 L145.83 376.87 L141.177 376.87 L141.177 368.722 L125.575 368.722 L125.575 364.209 L139.95 342.31 Z\" fill=\"#000000\" fill-rule=\"nonzero\" fill-opacity=\"1\" /><path clip-path=\"url(#clip390)\" d=\"M64.418 73.775 Q60.8069 73.775 58.9782 77.3398 Q57.1726 80.8814 57.1726 88.011 Q57.1726 95.1174 58.9782 98.6822 Q60.8069 102.224 64.418 102.224 Q68.0522 102.224 69.8578 98.6822 Q71.6865 95.1174 71.6865 88.011 Q71.6865 80.8814 69.8578 77.3398 Q68.0522 73.775 64.418 73.775 M64.418 70.0713 Q70.2281 70.0713 73.2837 74.6777 Q76.3624 79.261 76.3624 88.011 Q76.3624 96.7378 73.2837 101.344 Q70.2281 105.928 64.418 105.928 Q58.6078 105.928 55.5291 101.344 Q52.4736 96.7378 52.4736 88.011 Q52.4736 79.261 55.5291 74.6777 Q58.6078 70.0713 64.418 70.0713 Z\" fill=\"#000000\" fill-rule=\"nonzero\" fill-opacity=\"1\" /><path clip-path=\"url(#clip390)\" d=\"M84.5799 99.3767 L89.4641 99.3767 L89.4641 105.256 L84.5799 105.256 L84.5799 99.3767 Z\" fill=\"#000000\" fill-rule=\"nonzero\" fill-opacity=\"1\" /><path clip-path=\"url(#clip390)\" d=\"M109.649 73.775 Q106.038 73.775 104.209 77.3398 Q102.404 80.8814 102.404 88.011 Q102.404 95.1174 104.209 98.6822 Q106.038 102.224 109.649 102.224 Q113.283 102.224 115.089 98.6822 Q116.918 95.1174 116.918 88.011 Q116.918 80.8814 115.089 77.3398 Q113.283 73.775 109.649 73.775 M109.649 70.0713 Q115.459 70.0713 118.515 74.6777 Q121.594 79.261 121.594 88.011 Q121.594 96.7378 118.515 101.344 Q115.459 105.928 109.649 105.928 Q103.839 105.928 100.76 101.344 Q97.7048 96.7378 97.7048 88.011 Q97.7048 79.261 100.76 74.6777 Q103.839 70.0713 109.649 70.0713 Z\" fill=\"#000000\" fill-rule=\"nonzero\" fill-opacity=\"1\" /><path clip-path=\"url(#clip390)\" d=\"M129.857 70.6963 L148.214 70.6963 L148.214 74.6314 L134.14 74.6314 L134.14 83.1036 Q135.158 82.7564 136.177 82.5944 Q137.195 82.4092 138.214 82.4092 Q144.001 82.4092 147.38 85.5805 Q150.76 88.7517 150.76 94.1684 Q150.76 99.747 147.288 102.849 Q143.816 105.928 137.496 105.928 Q135.32 105.928 133.052 105.557 Q130.807 105.187 128.399 104.446 L128.399 99.747 Q130.482 100.881 132.705 101.437 Q134.927 101.992 137.404 101.992 Q141.408 101.992 143.746 99.8859 Q146.084 97.7795 146.084 94.1684 Q146.084 90.5573 143.746 88.4508 Q141.408 86.3443 137.404 86.3443 Q135.529 86.3443 133.654 86.761 Q131.802 87.1777 129.857 88.0573 L129.857 70.6963 Z\" fill=\"#000000\" fill-rule=\"nonzero\" fill-opacity=\"1\" /><polyline clip-path=\"url(#clip392)\" style=\"stroke:#009af9; stroke-linecap:round; stroke-linejoin:round; stroke-width:4; stroke-opacity:1; fill:none\" points=\"2291.45,87.9763 1253.54,1106.53 734.584,1361.17 475.105,1424.83 345.366,1440.74 280.497,1444.72 248.062,1445.72 \"/>\n",
       "<path clip-path=\"url(#clip390)\" d=\"M258.96 198.898 L600.929 198.898 L600.929 95.2176 L258.96 95.2176  Z\" fill=\"#ffffff\" fill-rule=\"evenodd\" fill-opacity=\"1\"/>\n",
       "<polyline clip-path=\"url(#clip390)\" style=\"stroke:#000000; stroke-linecap:round; stroke-linejoin:round; stroke-width:4; stroke-opacity:1; fill:none\" points=\"258.96,198.898 600.929,198.898 600.929,95.2176 258.96,95.2176 258.96,198.898 \"/>\n",
       "<polyline clip-path=\"url(#clip390)\" style=\"stroke:#009af9; stroke-linecap:round; stroke-linejoin:round; stroke-width:4; stroke-opacity:1; fill:none\" points=\"283.027,147.058 427.426,147.058 \"/>\n",
       "<path clip-path=\"url(#clip390)\" d=\"M473.206 148.689 L473.206 164.338 L468.947 164.338 L468.947 148.828 Q468.947 145.148 467.511 143.319 Q466.076 141.49 463.206 141.49 Q459.757 141.49 457.766 143.69 Q455.775 145.889 455.775 149.685 L455.775 164.338 L451.493 164.338 L451.493 128.319 L455.775 128.319 L455.775 142.44 Q457.303 140.102 459.363 138.944 Q461.447 137.787 464.155 137.787 Q468.622 137.787 470.914 140.565 Q473.206 143.319 473.206 148.689 Z\" fill=\"#000000\" fill-rule=\"nonzero\" fill-opacity=\"1\" /><path clip-path=\"url(#clip390)\" d=\"M481.701 138.412 L485.96 138.412 L485.96 164.338 L481.701 164.338 L481.701 138.412 M481.701 128.319 L485.96 128.319 L485.96 133.713 L481.701 133.713 L481.701 128.319 Z\" fill=\"#000000\" fill-rule=\"nonzero\" fill-opacity=\"1\" /><path clip-path=\"url(#clip390)\" d=\"M513.483 151.398 Q513.483 146.699 511.539 144.037 Q509.618 141.352 506.238 141.352 Q502.858 141.352 500.914 144.037 Q498.993 146.699 498.993 151.398 Q498.993 156.097 500.914 158.782 Q502.858 161.444 506.238 161.444 Q509.618 161.444 511.539 158.782 Q513.483 156.097 513.483 151.398 M498.993 142.347 Q500.335 140.032 502.372 138.921 Q504.432 137.787 507.28 137.787 Q512.002 137.787 514.942 141.537 Q517.905 145.287 517.905 151.398 Q517.905 157.509 514.942 161.259 Q512.002 165.009 507.28 165.009 Q504.432 165.009 502.372 163.898 Q500.335 162.763 498.993 160.449 L498.993 164.338 L494.71 164.338 L494.71 128.319 L498.993 128.319 L498.993 142.347 Z\" fill=\"#000000\" fill-rule=\"nonzero\" fill-opacity=\"1\" /><path clip-path=\"url(#clip390)\" d=\"M536.747 151.305 Q531.585 151.305 529.594 152.486 Q527.604 153.666 527.604 156.514 Q527.604 158.782 529.085 160.125 Q530.59 161.444 533.159 161.444 Q536.701 161.444 538.83 158.944 Q540.983 156.421 540.983 152.254 L540.983 151.305 L536.747 151.305 M545.242 149.546 L545.242 164.338 L540.983 164.338 L540.983 160.402 Q539.525 162.763 537.349 163.898 Q535.173 165.009 532.025 165.009 Q528.043 165.009 525.682 162.787 Q523.344 160.541 523.344 156.791 Q523.344 152.416 526.261 150.194 Q529.201 147.972 535.011 147.972 L540.983 147.972 L540.983 147.555 Q540.983 144.615 539.039 143.018 Q537.117 141.398 533.622 141.398 Q531.4 141.398 529.293 141.93 Q527.187 142.463 525.243 143.527 L525.243 139.592 Q527.58 138.69 529.78 138.25 Q531.979 137.787 534.062 137.787 Q539.687 137.787 542.465 140.703 Q545.242 143.62 545.242 149.546 Z\" fill=\"#000000\" fill-rule=\"nonzero\" fill-opacity=\"1\" /><path clip-path=\"url(#clip390)\" d=\"M553.853 128.319 L558.136 128.319 L558.136 149.592 L570.844 138.412 L576.284 138.412 L562.534 150.541 L576.863 164.338 L571.307 164.338 L558.136 151.676 L558.136 164.338 L553.853 164.338 L553.853 128.319 Z\" fill=\"#000000\" fill-rule=\"nonzero\" fill-opacity=\"1\" /></svg>\n"
      ]
     },
     "execution_count": 133,
     "metadata": {},
     "output_type": "execute_result"
    }
   ],
   "source": [
    "plot(hs, errs, label=\"hibak\")"
   ]
  },
  {
   "cell_type": "code",
   "execution_count": 113,
   "id": "9768bc99-7a73-4b47-b155-3ce0e2264470",
   "metadata": {},
   "outputs": [
    {
     "data": {
      "text/plain": [
       "7-element Vector{Vector{Float64}}:\n",
       " [1.0, 0.015625, 0.000244140625, 3.814697265625e-6, 5.960464477539063e-8]\n",
       " [1.0, 0.0078125, 6.103515625e-5, 4.76837158203125e-7, 3.725290298461914e-9]\n",
       " [1.0, 0.00390625, 1.52587890625e-5, 5.960464477539063e-8, 2.3283064365386963e-10]\n",
       " [1.0, 0.001953125, 3.814697265625e-6, 7.450580596923828e-9, 1.4551915228366852e-11]\n",
       " [1.0, 0.0009765625, 9.5367431640625e-7, 9.313225746154785e-10, 9.094947017729282e-13]\n",
       " [1.0, 0.00048828125, 2.384185791015625e-7, 1.1641532182693481e-10, 5.684341886080802e-14]\n",
       " [1.0, 0.000244140625, 5.960464477539063e-8, 1.4551915228366852e-11, 3.552713678800501e-15]"
      ]
     },
     "execution_count": 113,
     "metadata": {},
     "output_type": "execute_result"
    }
   ],
   "source": [
    "A = map( x-> x.^(0:4), hs)"
   ]
  },
  {
   "cell_type": "code",
   "execution_count": 115,
   "id": "3d2c5714-1aa4-4e5a-a358-999afb196ac4",
   "metadata": {},
   "outputs": [
    {
     "data": {
      "text/plain": [
       "7×5 adjoint(::Matrix{Float64}) with eltype Float64:\n",
       " 1.0  0.015625     0.000244141  3.8147e-6    5.96046e-8\n",
       " 1.0  0.0078125    6.10352e-5   4.76837e-7   3.72529e-9\n",
       " 1.0  0.00390625   1.52588e-5   5.96046e-8   2.32831e-10\n",
       " 1.0  0.00195312   3.8147e-6    7.45058e-9   1.45519e-11\n",
       " 1.0  0.000976562  9.53674e-7   9.31323e-10  9.09495e-13\n",
       " 1.0  0.000488281  2.38419e-7   1.16415e-10  5.68434e-14\n",
       " 1.0  0.000244141  5.96046e-8   1.45519e-11  3.55271e-15"
      ]
     },
     "execution_count": 115,
     "metadata": {},
     "output_type": "execute_result"
    }
   ],
   "source": [
    "B = hcat(A...)' \n",
    "# Bc = y\n",
    "# B'*Bc = B'y"
   ]
  },
  {
   "cell_type": "code",
   "execution_count": 117,
   "id": "dc01b7b0-7055-46b3-b09d-4004d379072a",
   "metadata": {},
   "outputs": [
    {
     "data": {
      "text/plain": [
       "5-element Vector{Float64}:\n",
       "   4.120130618725913e-15\n",
       "  -9.747619973685255e-12\n",
       " 204.80000000425972\n",
       "  -5.572326367739815e-7\n",
       "   2.070173048404856e-5"
      ]
     },
     "execution_count": 117,
     "metadata": {},
     "output_type": "execute_result"
    }
   ],
   "source": [
    "poly_coeffs = (B' * B) \\ (B' * errs)"
   ]
  },
  {
   "cell_type": "code",
   "execution_count": null,
   "id": "4ee80caa-0ba6-4550-a7cc-c2ce94b3e07e",
   "metadata": {},
   "outputs": [],
   "source": [
    "# masodrendu :)"
   ]
  },
  {
   "cell_type": "code",
   "execution_count": 120,
   "id": "7634d3a5-a9db-4fd8-a9aa-1463756d4ce0",
   "metadata": {},
   "outputs": [
    {
     "data": {
      "text/plain": [
       "polyval (generic function with 1 method)"
      ]
     },
     "execution_count": 120,
     "metadata": {},
     "output_type": "execute_result"
    }
   ],
   "source": [
    "function polyval(coeffs, x)\n",
    "    # normalegyenlet es kesz\n",
    "    return coeffs' * (x.^ (0:(length(coeffs) - 1)))\n",
    "end"
   ]
  },
  {
   "cell_type": "code",
   "execution_count": 128,
   "id": "0c490a1a-97ed-4025-b588-3290ddf6e36e",
   "metadata": {},
   "outputs": [
    {
     "data": {
      "image/png": "[encoded data removed]",
      "image/svg+xml": [
       "<?xml version=\"1.0\" encoding=\"utf-8\"?>\n",
       "<svg xmlns=\"http://www.w3.org/2000/svg\" xmlns:xlink=\"http://www.w3.org/1999/xlink\" width=\"600\" height=\"400\" viewBox=\"0 0 2400 1600\">\n",
       "<defs>\n",
       "  <clipPath id=\"clip070\">\n",
       "    <rect x=\"0\" y=\"0\" width=\"2400\" height=\"1600\"/>\n",
       "  </clipPath>\n",
       "</defs>\n",
       "<path clip-path=\"url(#clip070)\" d=\"M0 1600 L2400 1600 L2400 0 L0 0  Z\" fill=\"#ffffff\" fill-rule=\"evenodd\" fill-opacity=\"1\"/>\n",
       "<defs>\n",
       "  <clipPath id=\"clip071\">\n",
       "    <rect x=\"480\" y=\"0\" width=\"1681\" height=\"1600\"/>\n",
       "  </clipPath>\n",
       "</defs>\n",
       "<path clip-path=\"url(#clip070)\" d=\"M170.857 1486.45 L2352.76 1486.45 L2352.76 47.2441 L170.857 47.2441  Z\" fill=\"#ffffff\" fill-rule=\"evenodd\" fill-opacity=\"1\"/>\n",
       "<defs>\n",
       "  <clipPath id=\"clip072\">\n",
       "    <rect x=\"170\" y=\"47\" width=\"2183\" height=\"1440\"/>\n",
       "  </clipPath>\n",
       "</defs>\n",
       "<polyline clip-path=\"url(#clip072)\" style=\"stroke:#000000; stroke-linecap:round; stroke-linejoin:round; stroke-width:2; stroke-opacity:0.1; fill:none\" points=\"170.857,1486.45 170.857,47.2441 \"/>\n",
       "<polyline clip-path=\"url(#clip072)\" style=\"stroke:#000000; stroke-linecap:round; stroke-linejoin:round; stroke-width:2; stroke-opacity:0.1; fill:none\" points=\"607.237,1486.45 607.237,47.2441 \"/>\n",
       "<polyline clip-path=\"url(#clip072)\" style=\"stroke:#000000; stroke-linecap:round; stroke-linejoin:round; stroke-width:2; stroke-opacity:0.1; fill:none\" points=\"1043.62,1486.45 1043.62,47.2441 \"/>\n",
       "<polyline clip-path=\"url(#clip072)\" style=\"stroke:#000000; stroke-linecap:round; stroke-linejoin:round; stroke-width:2; stroke-opacity:0.1; fill:none\" points=\"1480,1486.45 1480,47.2441 \"/>\n",
       "<polyline clip-path=\"url(#clip072)\" style=\"stroke:#000000; stroke-linecap:round; stroke-linejoin:round; stroke-width:2; stroke-opacity:0.1; fill:none\" points=\"1916.38,1486.45 1916.38,47.2441 \"/>\n",
       "<polyline clip-path=\"url(#clip072)\" style=\"stroke:#000000; stroke-linecap:round; stroke-linejoin:round; stroke-width:2; stroke-opacity:0.1; fill:none\" points=\"2352.76,1486.45 2352.76,47.2441 \"/>\n",
       "<polyline clip-path=\"url(#clip070)\" style=\"stroke:#000000; stroke-linecap:round; stroke-linejoin:round; stroke-width:4; stroke-opacity:1; fill:none\" points=\"170.857,1486.45 2352.76,1486.45 \"/>\n",
       "<polyline clip-path=\"url(#clip070)\" style=\"stroke:#000000; stroke-linecap:round; stroke-linejoin:round; stroke-width:4; stroke-opacity:1; fill:none\" points=\"170.857,1486.45 170.857,1467.55 \"/>\n",
       "<polyline clip-path=\"url(#clip070)\" style=\"stroke:#000000; stroke-linecap:round; stroke-linejoin:round; stroke-width:4; stroke-opacity:1; fill:none\" points=\"607.237,1486.45 607.237,1467.55 \"/>\n",
       "<polyline clip-path=\"url(#clip070)\" style=\"stroke:#000000; stroke-linecap:round; stroke-linejoin:round; stroke-width:4; stroke-opacity:1; fill:none\" points=\"1043.62,1486.45 1043.62,1467.55 \"/>\n",
       "<polyline clip-path=\"url(#clip070)\" style=\"stroke:#000000; stroke-linecap:round; stroke-linejoin:round; stroke-width:4; stroke-opacity:1; fill:none\" points=\"1480,1486.45 1480,1467.55 \"/>\n",
       "<polyline clip-path=\"url(#clip070)\" style=\"stroke:#000000; stroke-linecap:round; stroke-linejoin:round; stroke-width:4; stroke-opacity:1; fill:none\" points=\"1916.38,1486.45 1916.38,1467.55 \"/>\n",
       "<polyline clip-path=\"url(#clip070)\" style=\"stroke:#000000; stroke-linecap:round; stroke-linejoin:round; stroke-width:4; stroke-opacity:1; fill:none\" points=\"2352.76,1486.45 2352.76,1467.55 \"/>\n",
       "<path clip-path=\"url(#clip070)\" d=\"M148.242 1517.37 Q144.631 1517.37 142.802 1520.93 Q140.996 1524.47 140.996 1531.6 Q140.996 1538.71 142.802 1542.27 Q144.631 1545.82 148.242 1545.82 Q151.876 1545.82 153.682 1542.27 Q155.51 1538.71 155.51 1531.6 Q155.51 1524.47 153.682 1520.93 Q151.876 1517.37 148.242 1517.37 M148.242 1513.66 Q154.052 1513.66 157.107 1518.27 Q160.186 1522.85 160.186 1531.6 Q160.186 1540.33 157.107 1544.94 Q154.052 1549.52 148.242 1549.52 Q142.432 1549.52 139.353 1544.94 Q136.297 1540.33 136.297 1531.6 Q136.297 1522.85 139.353 1518.27 Q142.432 1513.66 148.242 1513.66 Z\" fill=\"#000000\" fill-rule=\"nonzero\" fill-opacity=\"1\" /><path clip-path=\"url(#clip070)\" d=\"M168.404 1542.97 L173.288 1542.97 L173.288 1548.85 L168.404 1548.85 L168.404 1542.97 Z\" fill=\"#000000\" fill-rule=\"nonzero\" fill-opacity=\"1\" /><path clip-path=\"url(#clip070)\" d=\"M193.473 1517.37 Q189.862 1517.37 188.033 1520.93 Q186.228 1524.47 186.228 1531.6 Q186.228 1538.71 188.033 1542.27 Q189.862 1545.82 193.473 1545.82 Q197.107 1545.82 198.913 1542.27 Q200.742 1538.71 200.742 1531.6 Q200.742 1524.47 198.913 1520.93 Q197.107 1517.37 193.473 1517.37 M193.473 1513.66 Q199.283 1513.66 202.339 1518.27 Q205.417 1522.85 205.417 1531.6 Q205.417 1540.33 202.339 1544.94 Q199.283 1549.52 193.473 1549.52 Q187.663 1549.52 184.584 1544.94 Q181.529 1540.33 181.529 1531.6 Q181.529 1522.85 184.584 1518.27 Q187.663 1513.66 193.473 1513.66 Z\" fill=\"#000000\" fill-rule=\"nonzero\" fill-opacity=\"1\" /><path clip-path=\"url(#clip070)\" d=\"M585.42 1517.37 Q581.809 1517.37 579.98 1520.93 Q578.175 1524.47 578.175 1531.6 Q578.175 1538.71 579.98 1542.27 Q581.809 1545.82 585.42 1545.82 Q589.054 1545.82 590.86 1542.27 Q592.689 1538.71 592.689 1531.6 Q592.689 1524.47 590.86 1520.93 Q589.054 1517.37 585.42 1517.37 M585.42 1513.66 Q591.23 1513.66 594.286 1518.27 Q597.364 1522.85 597.364 1531.6 Q597.364 1540.33 594.286 1544.94 Q591.23 1549.52 585.42 1549.52 Q579.61 1549.52 576.531 1544.94 Q573.476 1540.33 573.476 1531.6 Q573.476 1522.85 576.531 1518.27 Q579.61 1513.66 585.42 1513.66 Z\" fill=\"#000000\" fill-rule=\"nonzero\" fill-opacity=\"1\" /><path clip-path=\"url(#clip070)\" d=\"M605.582 1542.97 L610.466 1542.97 L610.466 1548.85 L605.582 1548.85 L605.582 1542.97 Z\" fill=\"#000000\" fill-rule=\"nonzero\" fill-opacity=\"1\" /><path clip-path=\"url(#clip070)\" d=\"M624.679 1544.91 L640.999 1544.91 L640.999 1548.85 L619.054 1548.85 L619.054 1544.91 Q621.716 1542.16 626.3 1537.53 Q630.906 1532.88 632.087 1531.53 Q634.332 1529.01 635.212 1527.27 Q636.114 1525.51 636.114 1523.82 Q636.114 1521.07 634.17 1519.33 Q632.249 1517.6 629.147 1517.6 Q626.948 1517.6 624.494 1518.36 Q622.063 1519.13 619.286 1520.68 L619.286 1515.95 Q622.11 1514.82 624.563 1514.24 Q627.017 1513.66 629.054 1513.66 Q634.424 1513.66 637.619 1516.35 Q640.813 1519.03 640.813 1523.52 Q640.813 1525.65 640.003 1527.57 Q639.216 1529.47 637.11 1532.07 Q636.531 1532.74 633.429 1535.95 Q630.327 1539.15 624.679 1544.91 Z\" fill=\"#000000\" fill-rule=\"nonzero\" fill-opacity=\"1\" /><path clip-path=\"url(#clip070)\" d=\"M1020.76 1517.37 Q1017.15 1517.37 1015.32 1520.93 Q1013.51 1524.47 1013.51 1531.6 Q1013.51 1538.71 1015.32 1542.27 Q1017.15 1545.82 1020.76 1545.82 Q1024.39 1545.82 1026.2 1542.27 Q1028.03 1538.71 1028.03 1531.6 Q1028.03 1524.47 1026.2 1520.93 Q1024.39 1517.37 1020.76 1517.37 M1020.76 1513.66 Q1026.57 1513.66 1029.62 1518.27 Q1032.7 1522.85 1032.7 1531.6 Q1032.7 1540.33 1029.62 1544.94 Q1026.57 1549.52 1020.76 1549.52 Q1014.95 1549.52 1011.87 1544.94 Q1008.81 1540.33 1008.81 1531.6 Q1008.81 1522.85 1011.87 1518.27 Q1014.95 1513.66 1020.76 1513.66 Z\" fill=\"#000000\" fill-rule=\"nonzero\" fill-opacity=\"1\" /><path clip-path=\"url(#clip070)\" d=\"M1040.92 1542.97 L1045.8 1542.97 L1045.8 1548.85 L1040.92 1548.85 L1040.92 1542.97 Z\" fill=\"#000000\" fill-rule=\"nonzero\" fill-opacity=\"1\" /><path clip-path=\"url(#clip070)\" d=\"M1068.84 1518.36 L1057.03 1536.81 L1068.84 1536.81 L1068.84 1518.36 M1067.61 1514.29 L1073.49 1514.29 L1073.49 1536.81 L1078.42 1536.81 L1078.42 1540.7 L1073.49 1540.7 L1073.49 1548.85 L1068.84 1548.85 L1068.84 1540.7 L1053.23 1540.7 L1053.23 1536.19 L1067.61 1514.29 Z\" fill=\"#000000\" fill-rule=\"nonzero\" fill-opacity=\"1\" /><path clip-path=\"url(#clip070)\" d=\"M1457.3 1517.37 Q1453.69 1517.37 1451.86 1520.93 Q1450.05 1524.47 1450.05 1531.6 Q1450.05 1538.71 1451.86 1542.27 Q1453.69 1545.82 1457.3 1545.82 Q1460.93 1545.82 1462.74 1542.27 Q1464.57 1538.71 1464.57 1531.6 Q1464.57 1524.47 1462.74 1520.93 Q1460.93 1517.37 1457.3 1517.37 M1457.3 1513.66 Q1463.11 1513.66 1466.17 1518.27 Q1469.24 1522.85 1469.24 1531.6 Q1469.24 1540.33 1466.17 1544.94 Q1463.11 1549.52 1457.3 1549.52 Q1451.49 1549.52 1448.41 1544.94 Q1445.36 1540.33 1445.36 1531.6 Q1445.36 1522.85 1448.41 1518.27 Q1451.49 1513.66 1457.3 1513.66 Z\" fill=\"#000000\" fill-rule=\"nonzero\" fill-opacity=\"1\" /><path clip-path=\"url(#clip070)\" d=\"M1477.46 1542.97 L1482.35 1542.97 L1482.35 1548.85 L1477.46 1548.85 L1477.46 1542.97 Z\" fill=\"#000000\" fill-rule=\"nonzero\" fill-opacity=\"1\" /><path clip-path=\"url(#clip070)\" d=\"M1503.11 1529.7 Q1499.96 1529.7 1498.11 1531.86 Q1496.28 1534.01 1496.28 1537.76 Q1496.28 1541.49 1498.11 1543.66 Q1499.96 1545.82 1503.11 1545.82 Q1506.26 1545.82 1508.09 1543.66 Q1509.94 1541.49 1509.94 1537.76 Q1509.94 1534.01 1508.09 1531.86 Q1506.26 1529.7 1503.11 1529.7 M1512.39 1515.05 L1512.39 1519.31 Q1510.63 1518.48 1508.83 1518.04 Q1507.04 1517.6 1505.29 1517.6 Q1500.66 1517.6 1498.2 1520.72 Q1495.77 1523.85 1495.42 1530.17 Q1496.79 1528.15 1498.85 1527.09 Q1500.91 1526 1503.39 1526 Q1508.6 1526 1511.61 1529.17 Q1514.64 1532.32 1514.64 1537.76 Q1514.64 1543.08 1511.49 1546.3 Q1508.34 1549.52 1503.11 1549.52 Q1497.11 1549.52 1493.94 1544.94 Q1490.77 1540.33 1490.77 1531.6 Q1490.77 1523.41 1494.66 1518.55 Q1498.55 1513.66 1505.1 1513.66 Q1506.86 1513.66 1508.64 1514.01 Q1510.45 1514.36 1512.39 1515.05 Z\" fill=\"#000000\" fill-rule=\"nonzero\" fill-opacity=\"1\" /><path clip-path=\"url(#clip070)\" d=\"M1893.81 1517.37 Q1890.2 1517.37 1888.37 1520.93 Q1886.56 1524.47 1886.56 1531.6 Q1886.56 1538.71 1888.37 1542.27 Q1890.2 1545.82 1893.81 1545.82 Q1897.44 1545.82 1899.25 1542.27 Q1901.08 1538.71 1901.08 1531.6 Q1901.08 1524.47 1899.25 1520.93 Q1897.44 1517.37 1893.81 1517.37 M1893.81 1513.66 Q1899.62 1513.66 1902.67 1518.27 Q1905.75 1522.85 1905.75 1531.6 Q1905.75 1540.33 1902.67 1544.94 Q1899.62 1549.52 1893.81 1549.52 Q1888 1549.52 1884.92 1544.94 Q1881.86 1540.33 1881.86 1531.6 Q1881.86 1522.85 1884.92 1518.27 Q1888 1513.66 1893.81 1513.66 Z\" fill=\"#000000\" fill-rule=\"nonzero\" fill-opacity=\"1\" /><path clip-path=\"url(#clip070)\" d=\"M1913.97 1542.97 L1918.85 1542.97 L1918.85 1548.85 L1913.97 1548.85 L1913.97 1542.97 Z\" fill=\"#000000\" fill-rule=\"nonzero\" fill-opacity=\"1\" /><path clip-path=\"url(#clip070)\" d=\"M1939.04 1532.44 Q1935.7 1532.44 1933.78 1534.22 Q1931.89 1536 1931.89 1539.13 Q1931.89 1542.25 1933.78 1544.03 Q1935.7 1545.82 1939.04 1545.82 Q1942.37 1545.82 1944.29 1544.03 Q1946.21 1542.23 1946.21 1539.13 Q1946.21 1536 1944.29 1534.22 Q1942.39 1532.44 1939.04 1532.44 M1934.36 1530.45 Q1931.35 1529.7 1929.66 1527.64 Q1928 1525.58 1928 1522.62 Q1928 1518.48 1930.94 1516.07 Q1933.9 1513.66 1939.04 1513.66 Q1944.2 1513.66 1947.14 1516.07 Q1950.08 1518.48 1950.08 1522.62 Q1950.08 1525.58 1948.39 1527.64 Q1946.72 1529.7 1943.74 1530.45 Q1947.12 1531.23 1948.99 1533.52 Q1950.89 1535.82 1950.89 1539.13 Q1950.89 1544.15 1947.81 1546.83 Q1944.76 1549.52 1939.04 1549.52 Q1933.32 1549.52 1930.24 1546.83 Q1927.19 1544.15 1927.19 1539.13 Q1927.19 1535.82 1929.08 1533.52 Q1930.98 1531.23 1934.36 1530.45 M1932.65 1523.06 Q1932.65 1525.75 1934.32 1527.25 Q1936.01 1528.76 1939.04 1528.76 Q1942.05 1528.76 1943.74 1527.25 Q1945.45 1525.75 1945.45 1523.06 Q1945.45 1520.38 1943.74 1518.87 Q1942.05 1517.37 1939.04 1517.37 Q1936.01 1517.37 1934.32 1518.87 Q1932.65 1520.38 1932.65 1523.06 Z\" fill=\"#000000\" fill-rule=\"nonzero\" fill-opacity=\"1\" /><path clip-path=\"url(#clip070)\" d=\"M2319.91 1544.91 L2327.55 1544.91 L2327.55 1518.55 L2319.24 1520.21 L2319.24 1515.95 L2327.5 1514.29 L2332.18 1514.29 L2332.18 1544.91 L2339.82 1544.91 L2339.82 1548.85 L2319.91 1548.85 L2319.91 1544.91 Z\" fill=\"#000000\" fill-rule=\"nonzero\" fill-opacity=\"1\" /><path clip-path=\"url(#clip070)\" d=\"M2349.26 1542.97 L2354.14 1542.97 L2354.14 1548.85 L2349.26 1548.85 L2349.26 1542.97 Z\" fill=\"#000000\" fill-rule=\"nonzero\" fill-opacity=\"1\" /><path clip-path=\"url(#clip070)\" d=\"M2374.33 1517.37 Q2370.72 1517.37 2368.89 1520.93 Q2367.08 1524.47 2367.08 1531.6 Q2367.08 1538.71 2368.89 1542.27 Q2370.72 1545.82 2374.33 1545.82 Q2377.96 1545.82 2379.77 1542.27 Q2381.6 1538.71 2381.6 1531.6 Q2381.6 1524.47 2379.77 1520.93 Q2377.96 1517.37 2374.33 1517.37 M2374.33 1513.66 Q2380.14 1513.66 2383.2 1518.27 Q2386.27 1522.85 2386.27 1531.6 Q2386.27 1540.33 2383.2 1544.94 Q2380.14 1549.52 2374.33 1549.52 Q2368.52 1549.52 2365.44 1544.94 Q2362.39 1540.33 2362.39 1531.6 Q2362.39 1522.85 2365.44 1518.27 Q2368.52 1513.66 2374.33 1513.66 Z\" fill=\"#000000\" fill-rule=\"nonzero\" fill-opacity=\"1\" /><polyline clip-path=\"url(#clip072)\" style=\"stroke:#000000; stroke-linecap:round; stroke-linejoin:round; stroke-width:2; stroke-opacity:0.1; fill:none\" points=\"170.857,1445.72 2352.76,1445.72 \"/>\n",
       "<polyline clip-path=\"url(#clip072)\" style=\"stroke:#000000; stroke-linecap:round; stroke-linejoin:round; stroke-width:2; stroke-opacity:0.1; fill:none\" points=\"170.857,1114.24 2352.76,1114.24 \"/>\n",
       "<polyline clip-path=\"url(#clip072)\" style=\"stroke:#000000; stroke-linecap:round; stroke-linejoin:round; stroke-width:2; stroke-opacity:0.1; fill:none\" points=\"170.857,782.757 2352.76,782.757 \"/>\n",
       "<polyline clip-path=\"url(#clip072)\" style=\"stroke:#000000; stroke-linecap:round; stroke-linejoin:round; stroke-width:2; stroke-opacity:0.1; fill:none\" points=\"170.857,451.278 2352.76,451.278 \"/>\n",
       "<polyline clip-path=\"url(#clip072)\" style=\"stroke:#000000; stroke-linecap:round; stroke-linejoin:round; stroke-width:2; stroke-opacity:0.1; fill:none\" points=\"170.857,119.798 2352.76,119.798 \"/>\n",
       "<polyline clip-path=\"url(#clip070)\" style=\"stroke:#000000; stroke-linecap:round; stroke-linejoin:round; stroke-width:4; stroke-opacity:1; fill:none\" points=\"170.857,1486.45 170.857,47.2441 \"/>\n",
       "<polyline clip-path=\"url(#clip070)\" style=\"stroke:#000000; stroke-linecap:round; stroke-linejoin:round; stroke-width:4; stroke-opacity:1; fill:none\" points=\"170.857,1445.72 189.755,1445.72 \"/>\n",
       "<polyline clip-path=\"url(#clip070)\" style=\"stroke:#000000; stroke-linecap:round; stroke-linejoin:round; stroke-width:4; stroke-opacity:1; fill:none\" points=\"170.857,1114.24 189.755,1114.24 \"/>\n",
       "<polyline clip-path=\"url(#clip070)\" style=\"stroke:#000000; stroke-linecap:round; stroke-linejoin:round; stroke-width:4; stroke-opacity:1; fill:none\" points=\"170.857,782.757 189.755,782.757 \"/>\n",
       "<polyline clip-path=\"url(#clip070)\" style=\"stroke:#000000; stroke-linecap:round; stroke-linejoin:round; stroke-width:4; stroke-opacity:1; fill:none\" points=\"170.857,451.278 189.755,451.278 \"/>\n",
       "<polyline clip-path=\"url(#clip070)\" style=\"stroke:#000000; stroke-linecap:round; stroke-linejoin:round; stroke-width:4; stroke-opacity:1; fill:none\" points=\"170.857,119.798 189.755,119.798 \"/>\n",
       "<path clip-path=\"url(#clip070)\" d=\"M122.913 1431.51 Q119.302 1431.51 117.473 1435.08 Q115.668 1438.62 115.668 1445.75 Q115.668 1452.86 117.473 1456.42 Q119.302 1459.96 122.913 1459.96 Q126.547 1459.96 128.353 1456.42 Q130.182 1452.86 130.182 1445.75 Q130.182 1438.62 128.353 1435.08 Q126.547 1431.51 122.913 1431.51 M122.913 1427.81 Q128.723 1427.81 131.779 1432.42 Q134.857 1437 134.857 1445.75 Q134.857 1454.48 131.779 1459.08 Q128.723 1463.67 122.913 1463.67 Q117.103 1463.67 114.024 1459.08 Q110.969 1454.48 110.969 1445.75 Q110.969 1437 114.024 1432.42 Q117.103 1427.81 122.913 1427.81 Z\" fill=\"#000000\" fill-rule=\"nonzero\" fill-opacity=\"1\" /><path clip-path=\"url(#clip070)\" d=\"M82.7975 1096.96 L101.154 1096.96 L101.154 1100.89 L87.0799 1100.89 L87.0799 1109.36 Q88.0984 1109.02 89.1169 1108.85 Q90.1354 1108.67 91.1539 1108.67 Q96.941 1108.67 100.321 1111.84 Q103.7 1115.01 103.7 1120.43 Q103.7 1126.01 100.228 1129.11 Q96.7558 1132.19 90.4364 1132.19 Q88.2604 1132.19 85.9919 1131.82 Q83.7466 1131.45 81.3392 1130.71 L81.3392 1126.01 Q83.4225 1127.14 85.6447 1127.7 Q87.8669 1128.25 90.3438 1128.25 Q94.3484 1128.25 96.6863 1126.15 Q99.0243 1124.04 99.0243 1120.43 Q99.0243 1116.82 96.6863 1114.71 Q94.3484 1112.6 90.3438 1112.6 Q88.4688 1112.6 86.5938 1113.02 Q84.7419 1113.44 82.7975 1114.32 L82.7975 1096.96 Z\" fill=\"#000000\" fill-rule=\"nonzero\" fill-opacity=\"1\" /><path clip-path=\"url(#clip070)\" d=\"M122.913 1100.04 Q119.302 1100.04 117.473 1103.6 Q115.668 1107.14 115.668 1114.27 Q115.668 1121.38 117.473 1124.94 Q119.302 1128.48 122.913 1128.48 Q126.547 1128.48 128.353 1124.94 Q130.182 1121.38 130.182 1114.27 Q130.182 1107.14 128.353 1103.6 Q126.547 1100.04 122.913 1100.04 M122.913 1096.33 Q128.723 1096.33 131.779 1100.94 Q134.857 1105.52 134.857 1114.27 Q134.857 1123 131.779 1127.6 Q128.723 1132.19 122.913 1132.19 Q117.103 1132.19 114.024 1127.6 Q110.969 1123 110.969 1114.27 Q110.969 1105.52 114.024 1100.94 Q117.103 1096.33 122.913 1096.33 Z\" fill=\"#000000\" fill-rule=\"nonzero\" fill-opacity=\"1\" /><path clip-path=\"url(#clip070)\" d=\"M53.3995 796.102 L61.0384 796.102 L61.0384 769.736 L52.7282 771.403 L52.7282 767.144 L60.9921 765.477 L65.668 765.477 L65.668 796.102 L73.3068 796.102 L73.3068 800.037 L53.3995 800.037 L53.3995 796.102 Z\" fill=\"#000000\" fill-rule=\"nonzero\" fill-opacity=\"1\" /><path clip-path=\"url(#clip070)\" d=\"M92.7512 768.556 Q89.1401 768.556 87.3114 772.121 Q85.5058 775.662 85.5058 782.792 Q85.5058 789.898 87.3114 793.463 Q89.1401 797.005 92.7512 797.005 Q96.3854 797.005 98.1909 793.463 Q100.02 789.898 100.02 782.792 Q100.02 775.662 98.1909 772.121 Q96.3854 768.556 92.7512 768.556 M92.7512 764.852 Q98.5613 764.852 101.617 769.459 Q104.696 774.042 104.696 782.792 Q104.696 791.519 101.617 796.125 Q98.5613 800.708 92.7512 800.708 Q86.941 800.708 83.8623 796.125 Q80.8068 791.519 80.8068 782.792 Q80.8068 774.042 83.8623 769.459 Q86.941 764.852 92.7512 764.852 Z\" fill=\"#000000\" fill-rule=\"nonzero\" fill-opacity=\"1\" /><path clip-path=\"url(#clip070)\" d=\"M122.913 768.556 Q119.302 768.556 117.473 772.121 Q115.668 775.662 115.668 782.792 Q115.668 789.898 117.473 793.463 Q119.302 797.005 122.913 797.005 Q126.547 797.005 128.353 793.463 Q130.182 789.898 130.182 782.792 Q130.182 775.662 128.353 772.121 Q126.547 768.556 122.913 768.556 M122.913 764.852 Q128.723 764.852 131.779 769.459 Q134.857 774.042 134.857 782.792 Q134.857 791.519 131.779 796.125 Q128.723 800.708 122.913 800.708 Q117.103 800.708 114.024 796.125 Q110.969 791.519 110.969 782.792 Q110.969 774.042 114.024 769.459 Q117.103 764.852 122.913 764.852 Z\" fill=\"#000000\" fill-rule=\"nonzero\" fill-opacity=\"1\" /><path clip-path=\"url(#clip070)\" d=\"M53.3995 464.623 L61.0384 464.623 L61.0384 438.257 L52.7282 439.924 L52.7282 435.664 L60.9921 433.998 L65.668 433.998 L65.668 464.623 L73.3068 464.623 L73.3068 468.558 L53.3995 468.558 L53.3995 464.623 Z\" fill=\"#000000\" fill-rule=\"nonzero\" fill-opacity=\"1\" /><path clip-path=\"url(#clip070)\" d=\"M82.7975 433.998 L101.154 433.998 L101.154 437.933 L87.0799 437.933 L87.0799 446.405 Q88.0984 446.058 89.1169 445.896 Q90.1354 445.711 91.1539 445.711 Q96.941 445.711 100.321 448.882 Q103.7 452.053 103.7 457.47 Q103.7 463.049 100.228 466.15 Q96.7558 469.229 90.4364 469.229 Q88.2604 469.229 85.9919 468.859 Q83.7466 468.488 81.3392 467.748 L81.3392 463.049 Q83.4225 464.183 85.6447 464.738 Q87.8669 465.294 90.3438 465.294 Q94.3484 465.294 96.6863 463.187 Q99.0243 461.081 99.0243 457.47 Q99.0243 453.859 96.6863 451.752 Q94.3484 449.646 90.3438 449.646 Q88.4688 449.646 86.5938 450.062 Q84.7419 450.479 82.7975 451.359 L82.7975 433.998 Z\" fill=\"#000000\" fill-rule=\"nonzero\" fill-opacity=\"1\" /><path clip-path=\"url(#clip070)\" d=\"M122.913 437.076 Q119.302 437.076 117.473 440.641 Q115.668 444.183 115.668 451.312 Q115.668 458.419 117.473 461.984 Q119.302 465.525 122.913 465.525 Q126.547 465.525 128.353 461.984 Q130.182 458.419 130.182 451.312 Q130.182 444.183 128.353 440.641 Q126.547 437.076 122.913 437.076 M122.913 433.373 Q128.723 433.373 131.779 437.979 Q134.857 442.563 134.857 451.312 Q134.857 460.039 131.779 464.646 Q128.723 469.229 122.913 469.229 Q117.103 469.229 114.024 464.646 Q110.969 460.039 110.969 451.312 Q110.969 442.563 114.024 437.979 Q117.103 433.373 122.913 433.373 Z\" fill=\"#000000\" fill-rule=\"nonzero\" fill-opacity=\"1\" /><path clip-path=\"url(#clip070)\" d=\"M56.6171 133.143 L72.9365 133.143 L72.9365 137.078 L50.9921 137.078 L50.9921 133.143 Q53.6541 130.389 58.2375 125.759 Q62.8439 121.106 64.0245 119.764 Q66.2698 117.241 67.1494 115.504 Q68.0522 113.745 68.0522 112.055 Q68.0522 109.301 66.1078 107.565 Q64.1865 105.829 61.0847 105.829 Q58.8856 105.829 56.4319 106.592 Q54.0014 107.356 51.2236 108.907 L51.2236 104.185 Q54.0477 103.051 56.5014 102.472 Q58.955 101.893 60.9921 101.893 Q66.3624 101.893 69.5568 104.579 Q72.7513 107.264 72.7513 111.754 Q72.7513 113.884 71.9411 115.805 Q71.1541 117.704 69.0476 120.296 Q68.4689 120.967 65.367 124.185 Q62.2652 127.379 56.6171 133.143 Z\" fill=\"#000000\" fill-rule=\"nonzero\" fill-opacity=\"1\" /><path clip-path=\"url(#clip070)\" d=\"M92.7512 105.597 Q89.1401 105.597 87.3114 109.162 Q85.5058 112.704 85.5058 119.833 Q85.5058 126.94 87.3114 130.504 Q89.1401 134.046 92.7512 134.046 Q96.3854 134.046 98.1909 130.504 Q100.02 126.94 100.02 119.833 Q100.02 112.704 98.1909 109.162 Q96.3854 105.597 92.7512 105.597 M92.7512 101.893 Q98.5613 101.893 101.617 106.5 Q104.696 111.083 104.696 119.833 Q104.696 128.56 101.617 133.166 Q98.5613 137.75 92.7512 137.75 Q86.941 137.75 83.8623 133.166 Q80.8068 128.56 80.8068 119.833 Q80.8068 111.083 83.8623 106.5 Q86.941 101.893 92.7512 101.893 Z\" fill=\"#000000\" fill-rule=\"nonzero\" fill-opacity=\"1\" /><path clip-path=\"url(#clip070)\" d=\"M122.913 105.597 Q119.302 105.597 117.473 109.162 Q115.668 112.704 115.668 119.833 Q115.668 126.94 117.473 130.504 Q119.302 134.046 122.913 134.046 Q126.547 134.046 128.353 130.504 Q130.182 126.94 130.182 119.833 Q130.182 112.704 128.353 109.162 Q126.547 105.597 122.913 105.597 M122.913 101.893 Q128.723 101.893 131.779 106.5 Q134.857 111.083 134.857 119.833 Q134.857 128.56 131.779 133.166 Q128.723 137.75 122.913 137.75 Q117.103 137.75 114.024 133.166 Q110.969 128.56 110.969 119.833 Q110.969 111.083 114.024 106.5 Q117.103 101.893 122.913 101.893 Z\" fill=\"#000000\" fill-rule=\"nonzero\" fill-opacity=\"1\" /><polyline clip-path=\"url(#clip072)\" style=\"stroke:#009af9; stroke-linecap:round; stroke-linejoin:round; stroke-width:4; stroke-opacity:1; fill:none\" points=\"170.857,1445.72 177.96,1445.7 185.063,1445.66 250.737,1443.9 316.412,1439.67 355.879,1435.95 395.347,1431.34 428.716,1426.75 462.086,1421.53 534.583,1407.99 601.419,1392.84 673.074,1373.78 756.093,1348.03 829.871,1321.85 894.567,1296.34 965.104,1265.8 1036.06,1232.22 1114.51,1191.75 1189.15,1149.99 1266.77,1103.19 1332.1,1061.13 1411.86,1006.48 1484.93,953.236 1552.42,901.354 1620.78,846.151 1697.39,781.116 1766.81,719.293 1846.3,645.133 1919.9,573.255 1992.45,499.368 2062.9,424.756 2099.01,385.415 2135.12,345.331 2174.68,300.56 2214.24,254.896 2271.71,186.972 2329.18,117.164 2340.97,102.61 2352.76,87.9763 \"/>\n",
       "<path clip-path=\"url(#clip070)\" d=\"M243.587 198.898 L514.207 198.898 L514.207 95.2176 L243.587 95.2176  Z\" fill=\"#ffffff\" fill-rule=\"evenodd\" fill-opacity=\"1\"/>\n",
       "<polyline clip-path=\"url(#clip070)\" style=\"stroke:#000000; stroke-linecap:round; stroke-linejoin:round; stroke-width:4; stroke-opacity:1; fill:none\" points=\"243.587,198.898 514.207,198.898 514.207,95.2176 243.587,95.2176 243.587,198.898 \"/>\n",
       "<polyline clip-path=\"url(#clip070)\" style=\"stroke:#009af9; stroke-linecap:round; stroke-linejoin:round; stroke-width:4; stroke-opacity:1; fill:none\" points=\"267.831,147.058 413.291,147.058 \"/>\n",
       "<path clip-path=\"url(#clip070)\" d=\"M451.376 166.745 Q449.571 171.375 447.858 172.787 Q446.145 174.199 443.275 174.199 L439.872 174.199 L439.872 170.634 L442.372 170.634 Q444.131 170.634 445.103 169.8 Q446.076 168.967 447.256 165.865 L448.02 163.921 L437.534 138.412 L442.048 138.412 L450.15 158.689 L458.251 138.412 L462.765 138.412 L451.376 166.745 Z\" fill=\"#000000\" fill-rule=\"nonzero\" fill-opacity=\"1\" /><path clip-path=\"url(#clip070)\" d=\"M470.057 160.402 L477.696 160.402 L477.696 134.037 L469.386 135.703 L469.386 131.444 L477.649 129.778 L482.325 129.778 L482.325 160.402 L489.964 160.402 L489.964 164.338 L470.057 164.338 L470.057 160.402 Z\" fill=\"#000000\" fill-rule=\"nonzero\" fill-opacity=\"1\" /></svg>\n"
      ],
      "text/html": [
       "<?xml version=\"1.0\" encoding=\"utf-8\"?>\n",
       "<svg xmlns=\"http://www.w3.org/2000/svg\" xmlns:xlink=\"http://www.w3.org/1999/xlink\" width=\"600\" height=\"400\" viewBox=\"0 0 2400 1600\">\n",
       "<defs>\n",
       "  <clipPath id=\"clip120\">\n",
       "    <rect x=\"0\" y=\"0\" width=\"2400\" height=\"1600\"/>\n",
       "  </clipPath>\n",
       "</defs>\n",
       "<path clip-path=\"url(#clip120)\" d=\"M0 1600 L2400 1600 L2400 0 L0 0  Z\" fill=\"#ffffff\" fill-rule=\"evenodd\" fill-opacity=\"1\"/>\n",
       "<defs>\n",
       "  <clipPath id=\"clip121\">\n",
       "    <rect x=\"480\" y=\"0\" width=\"1681\" height=\"1600\"/>\n",
       "  </clipPath>\n",
       "</defs>\n",
       "<path clip-path=\"url(#clip120)\" d=\"M170.857 1486.45 L2352.76 1486.45 L2352.76 47.2441 L170.857 47.2441  Z\" fill=\"#ffffff\" fill-rule=\"evenodd\" fill-opacity=\"1\"/>\n",
       "<defs>\n",
       "  <clipPath id=\"clip122\">\n",
       "    <rect x=\"170\" y=\"47\" width=\"2183\" height=\"1440\"/>\n",
       "  </clipPath>\n",
       "</defs>\n",
       "<polyline clip-path=\"url(#clip122)\" style=\"stroke:#000000; stroke-linecap:round; stroke-linejoin:round; stroke-width:2; stroke-opacity:0.1; fill:none\" points=\"170.857,1486.45 170.857,47.2441 \"/>\n",
       "<polyline clip-path=\"url(#clip122)\" style=\"stroke:#000000; stroke-linecap:round; stroke-linejoin:round; stroke-width:2; stroke-opacity:0.1; fill:none\" points=\"607.237,1486.45 607.237,47.2441 \"/>\n",
       "<polyline clip-path=\"url(#clip122)\" style=\"stroke:#000000; stroke-linecap:round; stroke-linejoin:round; stroke-width:2; stroke-opacity:0.1; fill:none\" points=\"1043.62,1486.45 1043.62,47.2441 \"/>\n",
       "<polyline clip-path=\"url(#clip122)\" style=\"stroke:#000000; stroke-linecap:round; stroke-linejoin:round; stroke-width:2; stroke-opacity:0.1; fill:none\" points=\"1480,1486.45 1480,47.2441 \"/>\n",
       "<polyline clip-path=\"url(#clip122)\" style=\"stroke:#000000; stroke-linecap:round; stroke-linejoin:round; stroke-width:2; stroke-opacity:0.1; fill:none\" points=\"1916.38,1486.45 1916.38,47.2441 \"/>\n",
       "<polyline clip-path=\"url(#clip122)\" style=\"stroke:#000000; stroke-linecap:round; stroke-linejoin:round; stroke-width:2; stroke-opacity:0.1; fill:none\" points=\"2352.76,1486.45 2352.76,47.2441 \"/>\n",
       "<polyline clip-path=\"url(#clip120)\" style=\"stroke:#000000; stroke-linecap:round; stroke-linejoin:round; stroke-width:4; stroke-opacity:1; fill:none\" points=\"170.857,1486.45 2352.76,1486.45 \"/>\n",
       "<polyline clip-path=\"url(#clip120)\" style=\"stroke:#000000; stroke-linecap:round; stroke-linejoin:round; stroke-width:4; stroke-opacity:1; fill:none\" points=\"170.857,1486.45 170.857,1467.55 \"/>\n",
       "<polyline clip-path=\"url(#clip120)\" style=\"stroke:#000000; stroke-linecap:round; stroke-linejoin:round; stroke-width:4; stroke-opacity:1; fill:none\" points=\"607.237,1486.45 607.237,1467.55 \"/>\n",
       "<polyline clip-path=\"url(#clip120)\" style=\"stroke:#000000; stroke-linecap:round; stroke-linejoin:round; stroke-width:4; stroke-opacity:1; fill:none\" points=\"1043.62,1486.45 1043.62,1467.55 \"/>\n",
       "<polyline clip-path=\"url(#clip120)\" style=\"stroke:#000000; stroke-linecap:round; stroke-linejoin:round; stroke-width:4; stroke-opacity:1; fill:none\" points=\"1480,1486.45 1480,1467.55 \"/>\n",
       "<polyline clip-path=\"url(#clip120)\" style=\"stroke:#000000; stroke-linecap:round; stroke-linejoin:round; stroke-width:4; stroke-opacity:1; fill:none\" points=\"1916.38,1486.45 1916.38,1467.55 \"/>\n",
       "<polyline clip-path=\"url(#clip120)\" style=\"stroke:#000000; stroke-linecap:round; stroke-linejoin:round; stroke-width:4; stroke-opacity:1; fill:none\" points=\"2352.76,1486.45 2352.76,1467.55 \"/>\n",
       "<path clip-path=\"url(#clip120)\" d=\"M148.242 1517.37 Q144.631 1517.37 142.802 1520.93 Q140.996 1524.47 140.996 1531.6 Q140.996 1538.71 142.802 1542.27 Q144.631 1545.82 148.242 1545.82 Q151.876 1545.82 153.682 1542.27 Q155.51 1538.71 155.51 1531.6 Q155.51 1524.47 153.682 1520.93 Q151.876 1517.37 148.242 1517.37 M148.242 1513.66 Q154.052 1513.66 157.107 1518.27 Q160.186 1522.85 160.186 1531.6 Q160.186 1540.33 157.107 1544.94 Q154.052 1549.52 148.242 1549.52 Q142.432 1549.52 139.353 1544.94 Q136.297 1540.33 136.297 1531.6 Q136.297 1522.85 139.353 1518.27 Q142.432 1513.66 148.242 1513.66 Z\" fill=\"#000000\" fill-rule=\"nonzero\" fill-opacity=\"1\" /><path clip-path=\"url(#clip120)\" d=\"M168.404 1542.97 L173.288 1542.97 L173.288 1548.85 L168.404 1548.85 L168.404 1542.97 Z\" fill=\"#000000\" fill-rule=\"nonzero\" fill-opacity=\"1\" /><path clip-path=\"url(#clip120)\" d=\"M193.473 1517.37 Q189.862 1517.37 188.033 1520.93 Q186.228 1524.47 186.228 1531.6 Q186.228 1538.71 188.033 1542.27 Q189.862 1545.82 193.473 1545.82 Q197.107 1545.82 198.913 1542.27 Q200.742 1538.71 200.742 1531.6 Q200.742 1524.47 198.913 1520.93 Q197.107 1517.37 193.473 1517.37 M193.473 1513.66 Q199.283 1513.66 202.339 1518.27 Q205.417 1522.85 205.417 1531.6 Q205.417 1540.33 202.339 1544.94 Q199.283 1549.52 193.473 1549.52 Q187.663 1549.52 184.584 1544.94 Q181.529 1540.33 181.529 1531.6 Q181.529 1522.85 184.584 1518.27 Q187.663 1513.66 193.473 1513.66 Z\" fill=\"#000000\" fill-rule=\"nonzero\" fill-opacity=\"1\" /><path clip-path=\"url(#clip120)\" d=\"M585.42 1517.37 Q581.809 1517.37 579.98 1520.93 Q578.175 1524.47 578.175 1531.6 Q578.175 1538.71 579.98 1542.27 Q581.809 1545.82 585.42 1545.82 Q589.054 1545.82 590.86 1542.27 Q592.689 1538.71 592.689 1531.6 Q592.689 1524.47 590.86 1520.93 Q589.054 1517.37 585.42 1517.37 M585.42 1513.66 Q591.23 1513.66 594.286 1518.27 Q597.364 1522.85 597.364 1531.6 Q597.364 1540.33 594.286 1544.94 Q591.23 1549.52 585.42 1549.52 Q579.61 1549.52 576.531 1544.94 Q573.476 1540.33 573.476 1531.6 Q573.476 1522.85 576.531 1518.27 Q579.61 1513.66 585.42 1513.66 Z\" fill=\"#000000\" fill-rule=\"nonzero\" fill-opacity=\"1\" /><path clip-path=\"url(#clip120)\" d=\"M605.582 1542.97 L610.466 1542.97 L610.466 1548.85 L605.582 1548.85 L605.582 1542.97 Z\" fill=\"#000000\" fill-rule=\"nonzero\" fill-opacity=\"1\" /><path clip-path=\"url(#clip120)\" d=\"M624.679 1544.91 L640.999 1544.91 L640.999 1548.85 L619.054 1548.85 L619.054 1544.91 Q621.716 1542.16 626.3 1537.53 Q630.906 1532.88 632.087 1531.53 Q634.332 1529.01 635.212 1527.27 Q636.114 1525.51 636.114 1523.82 Q636.114 1521.07 634.17 1519.33 Q632.249 1517.6 629.147 1517.6 Q626.948 1517.6 624.494 1518.36 Q622.063 1519.13 619.286 1520.68 L619.286 1515.95 Q622.11 1514.82 624.563 1514.24 Q627.017 1513.66 629.054 1513.66 Q634.424 1513.66 637.619 1516.35 Q640.813 1519.03 640.813 1523.52 Q640.813 1525.65 640.003 1527.57 Q639.216 1529.47 637.11 1532.07 Q636.531 1532.74 633.429 1535.95 Q630.327 1539.15 624.679 1544.91 Z\" fill=\"#000000\" fill-rule=\"nonzero\" fill-opacity=\"1\" /><path clip-path=\"url(#clip120)\" d=\"M1020.76 1517.37 Q1017.15 1517.37 1015.32 1520.93 Q1013.51 1524.47 1013.51 1531.6 Q1013.51 1538.71 1015.32 1542.27 Q1017.15 1545.82 1020.76 1545.82 Q1024.39 1545.82 1026.2 1542.27 Q1028.03 1538.71 1028.03 1531.6 Q1028.03 1524.47 1026.2 1520.93 Q1024.39 1517.37 1020.76 1517.37 M1020.76 1513.66 Q1026.57 1513.66 1029.62 1518.27 Q1032.7 1522.85 1032.7 1531.6 Q1032.7 1540.33 1029.62 1544.94 Q1026.57 1549.52 1020.76 1549.52 Q1014.95 1549.52 1011.87 1544.94 Q1008.81 1540.33 1008.81 1531.6 Q1008.81 1522.85 1011.87 1518.27 Q1014.95 1513.66 1020.76 1513.66 Z\" fill=\"#000000\" fill-rule=\"nonzero\" fill-opacity=\"1\" /><path clip-path=\"url(#clip120)\" d=\"M1040.92 1542.97 L1045.8 1542.97 L1045.8 1548.85 L1040.92 1548.85 L1040.92 1542.97 Z\" fill=\"#000000\" fill-rule=\"nonzero\" fill-opacity=\"1\" /><path clip-path=\"url(#clip120)\" d=\"M1068.84 1518.36 L1057.03 1536.81 L1068.84 1536.81 L1068.84 1518.36 M1067.61 1514.29 L1073.49 1514.29 L1073.49 1536.81 L1078.42 1536.81 L1078.42 1540.7 L1073.49 1540.7 L1073.49 1548.85 L1068.84 1548.85 L1068.84 1540.7 L1053.23 1540.7 L1053.23 1536.19 L1067.61 1514.29 Z\" fill=\"#000000\" fill-rule=\"nonzero\" fill-opacity=\"1\" /><path clip-path=\"url(#clip120)\" d=\"M1457.3 1517.37 Q1453.69 1517.37 1451.86 1520.93 Q1450.05 1524.47 1450.05 1531.6 Q1450.05 1538.71 1451.86 1542.27 Q1453.69 1545.82 1457.3 1545.82 Q1460.93 1545.82 1462.74 1542.27 Q1464.57 1538.71 1464.57 1531.6 Q1464.57 1524.47 1462.74 1520.93 Q1460.93 1517.37 1457.3 1517.37 M1457.3 1513.66 Q1463.11 1513.66 1466.17 1518.27 Q1469.24 1522.85 1469.24 1531.6 Q1469.24 1540.33 1466.17 1544.94 Q1463.11 1549.52 1457.3 1549.52 Q1451.49 1549.52 1448.41 1544.94 Q1445.36 1540.33 1445.36 1531.6 Q1445.36 1522.85 1448.41 1518.27 Q1451.49 1513.66 1457.3 1513.66 Z\" fill=\"#000000\" fill-rule=\"nonzero\" fill-opacity=\"1\" /><path clip-path=\"url(#clip120)\" d=\"M1477.46 1542.97 L1482.35 1542.97 L1482.35 1548.85 L1477.46 1548.85 L1477.46 1542.97 Z\" fill=\"#000000\" fill-rule=\"nonzero\" fill-opacity=\"1\" /><path clip-path=\"url(#clip120)\" d=\"M1503.11 1529.7 Q1499.96 1529.7 1498.11 1531.86 Q1496.28 1534.01 1496.28 1537.76 Q1496.28 1541.49 1498.11 1543.66 Q1499.96 1545.82 1503.11 1545.82 Q1506.26 1545.82 1508.09 1543.66 Q1509.94 1541.49 1509.94 1537.76 Q1509.94 1534.01 1508.09 1531.86 Q1506.26 1529.7 1503.11 1529.7 M1512.39 1515.05 L1512.39 1519.31 Q1510.63 1518.48 1508.83 1518.04 Q1507.04 1517.6 1505.29 1517.6 Q1500.66 1517.6 1498.2 1520.72 Q1495.77 1523.85 1495.42 1530.17 Q1496.79 1528.15 1498.85 1527.09 Q1500.91 1526 1503.39 1526 Q1508.6 1526 1511.61 1529.17 Q1514.64 1532.32 1514.64 1537.76 Q1514.64 1543.08 1511.49 1546.3 Q1508.34 1549.52 1503.11 1549.52 Q1497.11 1549.52 1493.94 1544.94 Q1490.77 1540.33 1490.77 1531.6 Q1490.77 1523.41 1494.66 1518.55 Q1498.55 1513.66 1505.1 1513.66 Q1506.86 1513.66 1508.64 1514.01 Q1510.45 1514.36 1512.39 1515.05 Z\" fill=\"#000000\" fill-rule=\"nonzero\" fill-opacity=\"1\" /><path clip-path=\"url(#clip120)\" d=\"M1893.81 1517.37 Q1890.2 1517.37 1888.37 1520.93 Q1886.56 1524.47 1886.56 1531.6 Q1886.56 1538.71 1888.37 1542.27 Q1890.2 1545.82 1893.81 1545.82 Q1897.44 1545.82 1899.25 1542.27 Q1901.08 1538.71 1901.08 1531.6 Q1901.08 1524.47 1899.25 1520.93 Q1897.44 1517.37 1893.81 1517.37 M1893.81 1513.66 Q1899.62 1513.66 1902.67 1518.27 Q1905.75 1522.85 1905.75 1531.6 Q1905.75 1540.33 1902.67 1544.94 Q1899.62 1549.52 1893.81 1549.52 Q1888 1549.52 1884.92 1544.94 Q1881.86 1540.33 1881.86 1531.6 Q1881.86 1522.85 1884.92 1518.27 Q1888 1513.66 1893.81 1513.66 Z\" fill=\"#000000\" fill-rule=\"nonzero\" fill-opacity=\"1\" /><path clip-path=\"url(#clip120)\" d=\"M1913.97 1542.97 L1918.85 1542.97 L1918.85 1548.85 L1913.97 1548.85 L1913.97 1542.97 Z\" fill=\"#000000\" fill-rule=\"nonzero\" fill-opacity=\"1\" /><path clip-path=\"url(#clip120)\" d=\"M1939.04 1532.44 Q1935.7 1532.44 1933.78 1534.22 Q1931.89 1536 1931.89 1539.13 Q1931.89 1542.25 1933.78 1544.03 Q1935.7 1545.82 1939.04 1545.82 Q1942.37 1545.82 1944.29 1544.03 Q1946.21 1542.23 1946.21 1539.13 Q1946.21 1536 1944.29 1534.22 Q1942.39 1532.44 1939.04 1532.44 M1934.36 1530.45 Q1931.35 1529.7 1929.66 1527.64 Q1928 1525.58 1928 1522.62 Q1928 1518.48 1930.94 1516.07 Q1933.9 1513.66 1939.04 1513.66 Q1944.2 1513.66 1947.14 1516.07 Q1950.08 1518.48 1950.08 1522.62 Q1950.08 1525.58 1948.39 1527.64 Q1946.72 1529.7 1943.74 1530.45 Q1947.12 1531.23 1948.99 1533.52 Q1950.89 1535.82 1950.89 1539.13 Q1950.89 1544.15 1947.81 1546.83 Q1944.76 1549.52 1939.04 1549.52 Q1933.32 1549.52 1930.24 1546.83 Q1927.19 1544.15 1927.19 1539.13 Q1927.19 1535.82 1929.08 1533.52 Q1930.98 1531.23 1934.36 1530.45 M1932.65 1523.06 Q1932.65 1525.75 1934.32 1527.25 Q1936.01 1528.76 1939.04 1528.76 Q1942.05 1528.76 1943.74 1527.25 Q1945.45 1525.75 1945.45 1523.06 Q1945.45 1520.38 1943.74 1518.87 Q1942.05 1517.37 1939.04 1517.37 Q1936.01 1517.37 1934.32 1518.87 Q1932.65 1520.38 1932.65 1523.06 Z\" fill=\"#000000\" fill-rule=\"nonzero\" fill-opacity=\"1\" /><path clip-path=\"url(#clip120)\" d=\"M2319.91 1544.91 L2327.55 1544.91 L2327.55 1518.55 L2319.24 1520.21 L2319.24 1515.95 L2327.5 1514.29 L2332.18 1514.29 L2332.18 1544.91 L2339.82 1544.91 L2339.82 1548.85 L2319.91 1548.85 L2319.91 1544.91 Z\" fill=\"#000000\" fill-rule=\"nonzero\" fill-opacity=\"1\" /><path clip-path=\"url(#clip120)\" d=\"M2349.26 1542.97 L2354.14 1542.97 L2354.14 1548.85 L2349.26 1548.85 L2349.26 1542.97 Z\" fill=\"#000000\" fill-rule=\"nonzero\" fill-opacity=\"1\" /><path clip-path=\"url(#clip120)\" d=\"M2374.33 1517.37 Q2370.72 1517.37 2368.89 1520.93 Q2367.08 1524.47 2367.08 1531.6 Q2367.08 1538.71 2368.89 1542.27 Q2370.72 1545.82 2374.33 1545.82 Q2377.96 1545.82 2379.77 1542.27 Q2381.6 1538.71 2381.6 1531.6 Q2381.6 1524.47 2379.77 1520.93 Q2377.96 1517.37 2374.33 1517.37 M2374.33 1513.66 Q2380.14 1513.66 2383.2 1518.27 Q2386.27 1522.85 2386.27 1531.6 Q2386.27 1540.33 2383.2 1544.94 Q2380.14 1549.52 2374.33 1549.52 Q2368.52 1549.52 2365.44 1544.94 Q2362.39 1540.33 2362.39 1531.6 Q2362.39 1522.85 2365.44 1518.27 Q2368.52 1513.66 2374.33 1513.66 Z\" fill=\"#000000\" fill-rule=\"nonzero\" fill-opacity=\"1\" /><polyline clip-path=\"url(#clip122)\" style=\"stroke:#000000; stroke-linecap:round; stroke-linejoin:round; stroke-width:2; stroke-opacity:0.1; fill:none\" points=\"170.857,1445.72 2352.76,1445.72 \"/>\n",
       "<polyline clip-path=\"url(#clip122)\" style=\"stroke:#000000; stroke-linecap:round; stroke-linejoin:round; stroke-width:2; stroke-opacity:0.1; fill:none\" points=\"170.857,1114.24 2352.76,1114.24 \"/>\n",
       "<polyline clip-path=\"url(#clip122)\" style=\"stroke:#000000; stroke-linecap:round; stroke-linejoin:round; stroke-width:2; stroke-opacity:0.1; fill:none\" points=\"170.857,782.757 2352.76,782.757 \"/>\n",
       "<polyline clip-path=\"url(#clip122)\" style=\"stroke:#000000; stroke-linecap:round; stroke-linejoin:round; stroke-width:2; stroke-opacity:0.1; fill:none\" points=\"170.857,451.278 2352.76,451.278 \"/>\n",
       "<polyline clip-path=\"url(#clip122)\" style=\"stroke:#000000; stroke-linecap:round; stroke-linejoin:round; stroke-width:2; stroke-opacity:0.1; fill:none\" points=\"170.857,119.798 2352.76,119.798 \"/>\n",
       "<polyline clip-path=\"url(#clip120)\" style=\"stroke:#000000; stroke-linecap:round; stroke-linejoin:round; stroke-width:4; stroke-opacity:1; fill:none\" points=\"170.857,1486.45 170.857,47.2441 \"/>\n",
       "<polyline clip-path=\"url(#clip120)\" style=\"stroke:#000000; stroke-linecap:round; stroke-linejoin:round; stroke-width:4; stroke-opacity:1; fill:none\" points=\"170.857,1445.72 189.755,1445.72 \"/>\n",
       "<polyline clip-path=\"url(#clip120)\" style=\"stroke:#000000; stroke-linecap:round; stroke-linejoin:round; stroke-width:4; stroke-opacity:1; fill:none\" points=\"170.857,1114.24 189.755,1114.24 \"/>\n",
       "<polyline clip-path=\"url(#clip120)\" style=\"stroke:#000000; stroke-linecap:round; stroke-linejoin:round; stroke-width:4; stroke-opacity:1; fill:none\" points=\"170.857,782.757 189.755,782.757 \"/>\n",
       "<polyline clip-path=\"url(#clip120)\" style=\"stroke:#000000; stroke-linecap:round; stroke-linejoin:round; stroke-width:4; stroke-opacity:1; fill:none\" points=\"170.857,451.278 189.755,451.278 \"/>\n",
       "<polyline clip-path=\"url(#clip120)\" style=\"stroke:#000000; stroke-linecap:round; stroke-linejoin:round; stroke-width:4; stroke-opacity:1; fill:none\" points=\"170.857,119.798 189.755,119.798 \"/>\n",
       "<path clip-path=\"url(#clip120)\" d=\"M122.913 1431.51 Q119.302 1431.51 117.473 1435.08 Q115.668 1438.62 115.668 1445.75 Q115.668 1452.86 117.473 1456.42 Q119.302 1459.96 122.913 1459.96 Q126.547 1459.96 128.353 1456.42 Q130.182 1452.86 130.182 1445.75 Q130.182 1438.62 128.353 1435.08 Q126.547 1431.51 122.913 1431.51 M122.913 1427.81 Q128.723 1427.81 131.779 1432.42 Q134.857 1437 134.857 1445.75 Q134.857 1454.48 131.779 1459.08 Q128.723 1463.67 122.913 1463.67 Q117.103 1463.67 114.024 1459.08 Q110.969 1454.48 110.969 1445.75 Q110.969 1437 114.024 1432.42 Q117.103 1427.81 122.913 1427.81 Z\" fill=\"#000000\" fill-rule=\"nonzero\" fill-opacity=\"1\" /><path clip-path=\"url(#clip120)\" d=\"M82.7975 1096.96 L101.154 1096.96 L101.154 1100.89 L87.0799 1100.89 L87.0799 1109.36 Q88.0984 1109.02 89.1169 1108.85 Q90.1354 1108.67 91.1539 1108.67 Q96.941 1108.67 100.321 1111.84 Q103.7 1115.01 103.7 1120.43 Q103.7 1126.01 100.228 1129.11 Q96.7558 1132.19 90.4364 1132.19 Q88.2604 1132.19 85.9919 1131.82 Q83.7466 1131.45 81.3392 1130.71 L81.3392 1126.01 Q83.4225 1127.14 85.6447 1127.7 Q87.8669 1128.25 90.3438 1128.25 Q94.3484 1128.25 96.6863 1126.15 Q99.0243 1124.04 99.0243 1120.43 Q99.0243 1116.82 96.6863 1114.71 Q94.3484 1112.6 90.3438 1112.6 Q88.4688 1112.6 86.5938 1113.02 Q84.7419 1113.44 82.7975 1114.32 L82.7975 1096.96 Z\" fill=\"#000000\" fill-rule=\"nonzero\" fill-opacity=\"1\" /><path clip-path=\"url(#clip120)\" d=\"M122.913 1100.04 Q119.302 1100.04 117.473 1103.6 Q115.668 1107.14 115.668 1114.27 Q115.668 1121.38 117.473 1124.94 Q119.302 1128.48 122.913 1128.48 Q126.547 1128.48 128.353 1124.94 Q130.182 1121.38 130.182 1114.27 Q130.182 1107.14 128.353 1103.6 Q126.547 1100.04 122.913 1100.04 M122.913 1096.33 Q128.723 1096.33 131.779 1100.94 Q134.857 1105.52 134.857 1114.27 Q134.857 1123 131.779 1127.6 Q128.723 1132.19 122.913 1132.19 Q117.103 1132.19 114.024 1127.6 Q110.969 1123 110.969 1114.27 Q110.969 1105.52 114.024 1100.94 Q117.103 1096.33 122.913 1096.33 Z\" fill=\"#000000\" fill-rule=\"nonzero\" fill-opacity=\"1\" /><path clip-path=\"url(#clip120)\" d=\"M53.3995 796.102 L61.0384 796.102 L61.0384 769.736 L52.7282 771.403 L52.7282 767.144 L60.9921 765.477 L65.668 765.477 L65.668 796.102 L73.3068 796.102 L73.3068 800.037 L53.3995 800.037 L53.3995 796.102 Z\" fill=\"#000000\" fill-rule=\"nonzero\" fill-opacity=\"1\" /><path clip-path=\"url(#clip120)\" d=\"M92.7512 768.556 Q89.1401 768.556 87.3114 772.121 Q85.5058 775.662 85.5058 782.792 Q85.5058 789.898 87.3114 793.463 Q89.1401 797.005 92.7512 797.005 Q96.3854 797.005 98.1909 793.463 Q100.02 789.898 100.02 782.792 Q100.02 775.662 98.1909 772.121 Q96.3854 768.556 92.7512 768.556 M92.7512 764.852 Q98.5613 764.852 101.617 769.459 Q104.696 774.042 104.696 782.792 Q104.696 791.519 101.617 796.125 Q98.5613 800.708 92.7512 800.708 Q86.941 800.708 83.8623 796.125 Q80.8068 791.519 80.8068 782.792 Q80.8068 774.042 83.8623 769.459 Q86.941 764.852 92.7512 764.852 Z\" fill=\"#000000\" fill-rule=\"nonzero\" fill-opacity=\"1\" /><path clip-path=\"url(#clip120)\" d=\"M122.913 768.556 Q119.302 768.556 117.473 772.121 Q115.668 775.662 115.668 782.792 Q115.668 789.898 117.473 793.463 Q119.302 797.005 122.913 797.005 Q126.547 797.005 128.353 793.463 Q130.182 789.898 130.182 782.792 Q130.182 775.662 128.353 772.121 Q126.547 768.556 122.913 768.556 M122.913 764.852 Q128.723 764.852 131.779 769.459 Q134.857 774.042 134.857 782.792 Q134.857 791.519 131.779 796.125 Q128.723 800.708 122.913 800.708 Q117.103 800.708 114.024 796.125 Q110.969 791.519 110.969 782.792 Q110.969 774.042 114.024 769.459 Q117.103 764.852 122.913 764.852 Z\" fill=\"#000000\" fill-rule=\"nonzero\" fill-opacity=\"1\" /><path clip-path=\"url(#clip120)\" d=\"M53.3995 464.623 L61.0384 464.623 L61.0384 438.257 L52.7282 439.924 L52.7282 435.664 L60.9921 433.998 L65.668 433.998 L65.668 464.623 L73.3068 464.623 L73.3068 468.558 L53.3995 468.558 L53.3995 464.623 Z\" fill=\"#000000\" fill-rule=\"nonzero\" fill-opacity=\"1\" /><path clip-path=\"url(#clip120)\" d=\"M82.7975 433.998 L101.154 433.998 L101.154 437.933 L87.0799 437.933 L87.0799 446.405 Q88.0984 446.058 89.1169 445.896 Q90.1354 445.711 91.1539 445.711 Q96.941 445.711 100.321 448.882 Q103.7 452.053 103.7 457.47 Q103.7 463.049 100.228 466.15 Q96.7558 469.229 90.4364 469.229 Q88.2604 469.229 85.9919 468.859 Q83.7466 468.488 81.3392 467.748 L81.3392 463.049 Q83.4225 464.183 85.6447 464.738 Q87.8669 465.294 90.3438 465.294 Q94.3484 465.294 96.6863 463.187 Q99.0243 461.081 99.0243 457.47 Q99.0243 453.859 96.6863 451.752 Q94.3484 449.646 90.3438 449.646 Q88.4688 449.646 86.5938 450.062 Q84.7419 450.479 82.7975 451.359 L82.7975 433.998 Z\" fill=\"#000000\" fill-rule=\"nonzero\" fill-opacity=\"1\" /><path clip-path=\"url(#clip120)\" d=\"M122.913 437.076 Q119.302 437.076 117.473 440.641 Q115.668 444.183 115.668 451.312 Q115.668 458.419 117.473 461.984 Q119.302 465.525 122.913 465.525 Q126.547 465.525 128.353 461.984 Q130.182 458.419 130.182 451.312 Q130.182 444.183 128.353 440.641 Q126.547 437.076 122.913 437.076 M122.913 433.373 Q128.723 433.373 131.779 437.979 Q134.857 442.563 134.857 451.312 Q134.857 460.039 131.779 464.646 Q128.723 469.229 122.913 469.229 Q117.103 469.229 114.024 464.646 Q110.969 460.039 110.969 451.312 Q110.969 442.563 114.024 437.979 Q117.103 433.373 122.913 433.373 Z\" fill=\"#000000\" fill-rule=\"nonzero\" fill-opacity=\"1\" /><path clip-path=\"url(#clip120)\" d=\"M56.6171 133.143 L72.9365 133.143 L72.9365 137.078 L50.9921 137.078 L50.9921 133.143 Q53.6541 130.389 58.2375 125.759 Q62.8439 121.106 64.0245 119.764 Q66.2698 117.241 67.1494 115.504 Q68.0522 113.745 68.0522 112.055 Q68.0522 109.301 66.1078 107.565 Q64.1865 105.829 61.0847 105.829 Q58.8856 105.829 56.4319 106.592 Q54.0014 107.356 51.2236 108.907 L51.2236 104.185 Q54.0477 103.051 56.5014 102.472 Q58.955 101.893 60.9921 101.893 Q66.3624 101.893 69.5568 104.579 Q72.7513 107.264 72.7513 111.754 Q72.7513 113.884 71.9411 115.805 Q71.1541 117.704 69.0476 120.296 Q68.4689 120.967 65.367 124.185 Q62.2652 127.379 56.6171 133.143 Z\" fill=\"#000000\" fill-rule=\"nonzero\" fill-opacity=\"1\" /><path clip-path=\"url(#clip120)\" d=\"M92.7512 105.597 Q89.1401 105.597 87.3114 109.162 Q85.5058 112.704 85.5058 119.833 Q85.5058 126.94 87.3114 130.504 Q89.1401 134.046 92.7512 134.046 Q96.3854 134.046 98.1909 130.504 Q100.02 126.94 100.02 119.833 Q100.02 112.704 98.1909 109.162 Q96.3854 105.597 92.7512 105.597 M92.7512 101.893 Q98.5613 101.893 101.617 106.5 Q104.696 111.083 104.696 119.833 Q104.696 128.56 101.617 133.166 Q98.5613 137.75 92.7512 137.75 Q86.941 137.75 83.8623 133.166 Q80.8068 128.56 80.8068 119.833 Q80.8068 111.083 83.8623 106.5 Q86.941 101.893 92.7512 101.893 Z\" fill=\"#000000\" fill-rule=\"nonzero\" fill-opacity=\"1\" /><path clip-path=\"url(#clip120)\" d=\"M122.913 105.597 Q119.302 105.597 117.473 109.162 Q115.668 112.704 115.668 119.833 Q115.668 126.94 117.473 130.504 Q119.302 134.046 122.913 134.046 Q126.547 134.046 128.353 130.504 Q130.182 126.94 130.182 119.833 Q130.182 112.704 128.353 109.162 Q126.547 105.597 122.913 105.597 M122.913 101.893 Q128.723 101.893 131.779 106.5 Q134.857 111.083 134.857 119.833 Q134.857 128.56 131.779 133.166 Q128.723 137.75 122.913 137.75 Q117.103 137.75 114.024 133.166 Q110.969 128.56 110.969 119.833 Q110.969 111.083 114.024 106.5 Q117.103 101.893 122.913 101.893 Z\" fill=\"#000000\" fill-rule=\"nonzero\" fill-opacity=\"1\" /><polyline clip-path=\"url(#clip122)\" style=\"stroke:#009af9; stroke-linecap:round; stroke-linejoin:round; stroke-width:4; stroke-opacity:1; fill:none\" points=\"170.857,1445.72 177.96,1445.7 185.063,1445.66 250.737,1443.9 316.412,1439.67 355.879,1435.95 395.347,1431.34 428.716,1426.75 462.086,1421.53 534.583,1407.99 601.419,1392.84 673.074,1373.78 756.093,1348.03 829.871,1321.85 894.567,1296.34 965.104,1265.8 1036.06,1232.22 1114.51,1191.75 1189.15,1149.99 1266.77,1103.19 1332.1,1061.13 1411.86,1006.48 1484.93,953.236 1552.42,901.354 1620.78,846.151 1697.39,781.116 1766.81,719.293 1846.3,645.133 1919.9,573.255 1992.45,499.368 2062.9,424.756 2099.01,385.415 2135.12,345.331 2174.68,300.56 2214.24,254.896 2271.71,186.972 2329.18,117.164 2340.97,102.61 2352.76,87.9763 \"/>\n",
       "<path clip-path=\"url(#clip120)\" d=\"M243.587 198.898 L514.207 198.898 L514.207 95.2176 L243.587 95.2176  Z\" fill=\"#ffffff\" fill-rule=\"evenodd\" fill-opacity=\"1\"/>\n",
       "<polyline clip-path=\"url(#clip120)\" style=\"stroke:#000000; stroke-linecap:round; stroke-linejoin:round; stroke-width:4; stroke-opacity:1; fill:none\" points=\"243.587,198.898 514.207,198.898 514.207,95.2176 243.587,95.2176 243.587,198.898 \"/>\n",
       "<polyline clip-path=\"url(#clip120)\" style=\"stroke:#009af9; stroke-linecap:round; stroke-linejoin:round; stroke-width:4; stroke-opacity:1; fill:none\" points=\"267.831,147.058 413.291,147.058 \"/>\n",
       "<path clip-path=\"url(#clip120)\" d=\"M451.376 166.745 Q449.571 171.375 447.858 172.787 Q446.145 174.199 443.275 174.199 L439.872 174.199 L439.872 170.634 L442.372 170.634 Q444.131 170.634 445.103 169.8 Q446.076 168.967 447.256 165.865 L448.02 163.921 L437.534 138.412 L442.048 138.412 L450.15 158.689 L458.251 138.412 L462.765 138.412 L451.376 166.745 Z\" fill=\"#000000\" fill-rule=\"nonzero\" fill-opacity=\"1\" /><path clip-path=\"url(#clip120)\" d=\"M470.057 160.402 L477.696 160.402 L477.696 134.037 L469.386 135.703 L469.386 131.444 L477.649 129.778 L482.325 129.778 L482.325 160.402 L489.964 160.402 L489.964 164.338 L470.057 164.338 L470.057 160.402 Z\" fill=\"#000000\" fill-rule=\"nonzero\" fill-opacity=\"1\" /></svg>\n"
      ]
     },
     "execution_count": 128,
     "metadata": {},
     "output_type": "execute_result"
    }
   ],
   "source": [
    "plot(x -> polyval(poly_coeffs, x), xlims=(0, 1))"
   ]
  },
  {
   "cell_type": "markdown",
   "id": "0fe010ae-a686-47fc-96d6-c8b9f9683317",
   "metadata": {},
   "source": [
    "### 3. Feladat"
   ]
  },
  {
   "cell_type": "markdown",
   "id": "43ba1dfb-449c-4187-b9d2-e345e44929d2",
   "metadata": {},
   "source": [
    "Alkalmazzuk az IE módszert az\n",
    "\n",
    "$$\n",
    "\\begin{cases}\n",
    " \\dot x &= x^2 \\qquad [0,1]\\text{-en} \\\\\n",
    " x(0) &= 1\n",
    "\\end{cases}\n",
    "$$\n",
    "\n",
    "feladatra."
   ]
  },
  {
   "cell_type": "code",
   "execution_count": 148,
   "id": "e0d1a1c4-a96c-42fa-a40a-a154724b71ce",
   "metadata": {},
   "outputs": [
    {
     "data": {
      "text/plain": [
       "root_me (generic function with 1 method)"
      ]
     },
     "execution_count": 148,
     "metadata": {},
     "output_type": "execute_result"
    }
   ],
   "source": [
    "# y1 = y0 + hf(y1)\n",
    "# (I - hf)(y1) = y0\n",
    "# y1 = (I - hf)^{-1}(y0)\n",
    "\n",
    "# gyokkereses (vagy vmilyen vesztesegfuggveny minimalizalasa\n",
    "\n",
    "f(x) = x^2\n",
    "y0 = 1\n",
    "h = 0.01\n",
    "\n",
    "# y1 - y0 - hf(y1) = 0\n",
    "root_me(x) = x - y0 - h*f(x)"
   ]
  },
  {
   "cell_type": "code",
   "execution_count": 149,
   "id": "af8dd042-0740-44b9-a6de-6a23d8eba131",
   "metadata": {
    "scrolled": true
   },
   "outputs": [
    {
     "name": "stderr",
     "output_type": "stream",
     "text": [
      "\u001b[32m\u001b[1m   Resolving\u001b[22m\u001b[39m package versions...\n",
      "\u001b[32m\u001b[1m  No Changes\u001b[22m\u001b[39m to `~/.julia/environments/v1.9/Project.toml`\n",
      "\u001b[32m\u001b[1m  No Changes\u001b[22m\u001b[39m to `~/.julia/environments/v1.9/Manifest.toml`\n"
     ]
    }
   ],
   "source": [
    "import Pkg;\n",
    "Pkg.add(\"Roots\")"
   ]
  },
  {
   "cell_type": "code",
   "execution_count": 150,
   "id": "aaf303ff-9dec-450f-b5f9-1cc0af384bcd",
   "metadata": {},
   "outputs": [],
   "source": [
    "#matlab: fsolve\n",
    "\n",
    "using Roots"
   ]
  },
  {
   "cell_type": "code",
   "execution_count": 151,
   "id": "01476db2-2387-451c-8207-e558430f760d",
   "metadata": {},
   "outputs": [
    {
     "data": {
      "text/plain": [
       "1.010205144336438"
      ]
     },
     "execution_count": 151,
     "metadata": {},
     "output_type": "execute_result"
    }
   ],
   "source": [
    "y1 = find_zero(root_me, (1/2, 3/2))\n",
    "\n",
    "y1"
   ]
  },
  {
   "cell_type": "code",
   "execution_count": 152,
   "id": "a59aefd5-88a4-4b43-a446-d6203e2b7f2c",
   "metadata": {},
   "outputs": [
    {
     "data": {
      "text/plain": [
       "-1.0234868508263162e-16"
      ]
     },
     "execution_count": 152,
     "metadata": {},
     "output_type": "execute_result"
    }
   ],
   "source": [
    "root_me(y1)"
   ]
  },
  {
   "cell_type": "code",
   "execution_count": 159,
   "id": "e92b21af-c55a-4e51-9af7-e628b0a83ce5",
   "metadata": {},
   "outputs": [
    {
     "data": {
      "text/plain": [
       "implicit_euler (generic function with 1 method)"
      ]
     },
     "execution_count": 159,
     "metadata": {},
     "output_type": "execute_result"
    }
   ],
   "source": [
    "function implicit_euler(f, h, y0)\n",
    "    \n",
    "    y = y0\n",
    "    t = 0\n",
    "    while t < 1\n",
    "        root_me(x) = x - y - h*f(x)\n",
    "        \n",
    "        y = find_zero(root_me, 1, Order16())\n",
    "        t = t + h\n",
    "    end\n",
    "\n",
    "    return y\n",
    "end"
   ]
  },
  {
   "cell_type": "code",
   "execution_count": 161,
   "id": "05c66d80-2468-4a45-8446-a1580ef32f8d",
   "metadata": {},
   "outputs": [
    {
     "data": {
      "text/plain": [
       "2.7196422164428395"
      ]
     },
     "execution_count": 161,
     "metadata": {},
     "output_type": "execute_result"
    }
   ],
   "source": [
    "implicit_euler(x -> x, 0.001, 1)"
   ]
  },
  {
   "cell_type": "code",
   "execution_count": 165,
   "id": "2bd97a60-05ff-4596-b772-3a86719e5b48",
   "metadata": {},
   "outputs": [],
   "source": [
    "# a pontos numerikus megoldas:\n",
    "#\n",
    "# (1/(1 - 0.001))^1000"
   ]
  },
  {
   "cell_type": "markdown",
   "id": "93d53d1c-14fd-4f0f-bfff-3d5e2f91b575",
   "metadata": {},
   "source": [
    "### 4. Feladat\n",
    "\n",
    "Készítsünk egy Runge--Kutta módszert, mely a P(EC)^k ötletét használja fel."
   ]
  },
  {
   "cell_type": "code",
   "execution_count": null,
   "id": "86832d3c-9676-4a5f-93f6-a36d485c20e0",
   "metadata": {},
   "outputs": [],
   "source": [
    "# Butcher-tablo\n",
    "A = [0 0 0\n",
    "     1 0 0\n",
    "     0 1 0]\n",
    "\n",
    "b  = [0 0 1]\n",
    "\n",
    "Y1 = x0\n",
    "\n",
    "P: Y2 = x0 + h*f(x0)\n",
    "E: k2 = f(Y2)\n",
    "C: Y3 = x0 + h*k2\n",
    "E: k3 = f(Y3)\n",
    "\n",
    "C: x1 = x0 + h*k3\n"
   ]
  }
 ],
 "metadata": {
  "kernelspec": {
   "display_name": "Julia 1.9.2",
   "language": "julia",
   "name": "julia-1.9"
  },
  "language_info": {
   "file_extension": ".jl",
   "mimetype": "application/julia",
   "name": "julia",
   "version": "1.9.3"
  }
 },
 "nbformat": 4,
 "nbformat_minor": 5
}
