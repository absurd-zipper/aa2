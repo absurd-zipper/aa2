{
 "cells": [
  {
   "cell_type": "markdown",
   "id": "ad74dd3e-d5e4-4b4d-933d-245737f20d5b",
   "metadata": {},
   "source": [
    "## Konkrét közönséges diff.egyenlet (rendszer) numerikus megoldására épülő beadandó feladatok"
   ]
  },
  {
   "cell_type": "markdown",
   "id": "9df34112-73ea-4030-bb72-c10d383d350a",
   "metadata": {},
   "source": [
    "---"
   ]
  },
  {
   "cell_type": "markdown",
   "id": "37690a2b-67b2-4fde-904f-eb1d64c1c1f1",
   "metadata": {},
   "source": [
    "**Egy termodinamikai modell**\n",
    "\n",
    "Tegyük fel, hogy egy egy pontra koncentrált $m$ kg tömegű, $S$ négyzetméter felületű, $\\gamma$ emissziós képességű, $T_e$ Kelvin hőmérsékletű környezetbe helyezett test $T$ Kelvin hőmérsékletének az időbeni fejlődésére vagyunk kíváncsiak. A megfelelő differenciálegyenlet ekkor a\n",
    "\n",
    "$$ \\dot T(t) = \\frac{\\epsilon \\gamma S}{mC} \\left( T^4(t) - T^4_e \\right), $$\n",
    "\n",
    "ahol $\\epsilon = 5,6 \\cdot 10^{-8} \\text{J/}(m^2K^4s)$ egy általános, míg $C$ egy, a test anyagát jellemző konstans."
   ]
  },
  {
   "cell_type": "markdown",
   "id": "9401448c-e34b-401a-afec-2e697cf8580b",
   "metadata": {},
   "source": [
    "\n",
    "### O/1. Feladat:\n",
    "\n",
    "Tekintsünk egy $1$kg tömegű, $1$ méter oldalhosszú kockát, mely kezdetben $180$ Kelvin hőmérsékletű. Legyen a környezet $200$ Kelvin hőmérsékletű, továbbá $\\gamma = 1/2$, és $C = 100 \\text{ JK/kg}$. Számítsuk ki, hogy miként alakul a test hőmérséklete $200$ másodperc alatt."
   ]
  },
  {
   "cell_type": "markdown",
   "id": "c6fd24e7-1368-4553-aa7c-0cc223141a61",
   "metadata": {},
   "source": [
    "a) Használjuk a \"Runge--Kutta\" módszert állandó lépéshosszal. Keressünk egy nem túl kicsi lépéshosszt, ami jól működik."
   ]
  },
  {
   "cell_type": "code",
   "execution_count": null,
   "id": "adc222a6-95c1-489b-a217-d1b423957e26",
   "metadata": {},
   "outputs": [],
   "source": []
  },
  {
   "cell_type": "markdown",
   "id": "913e0a38-2f8b-41da-90fc-80b88e2cf98f",
   "metadata": {},
   "source": [
    "b) Használjuk az implicit középponti szabályt (melynek Butcher-tablójának együtthatói a következők: $a_{11} = 1/2, b_1 = 1$), a nemlineáris egyenlet megoldására használjunk Newton-iterációt."
   ]
  },
  {
   "cell_type": "code",
   "execution_count": null,
   "id": "ff5f72c3-d1c7-4642-b698-030dd1455a7b",
   "metadata": {},
   "outputs": [],
   "source": []
  },
  {
   "cell_type": "markdown",
   "id": "c3304b4b-9bf1-4aad-803e-17bef1881f21",
   "metadata": {},
   "source": [
    "\n",
    "\n",
    "\n",
    "c) Mérjük le, hogy a módszereink milyen rendű megoldást produkálnak."
   ]
  },
  {
   "cell_type": "code",
   "execution_count": null,
   "id": "3a718753-7ccf-451a-bf7c-8f59dbce58fd",
   "metadata": {},
   "outputs": [],
   "source": []
  },
  {
   "cell_type": "markdown",
   "id": "0baf6b2d-ceaf-4dd5-b5ae-5b9eb80c1b5d",
   "metadata": {},
   "source": [
    "\n",
    "### O/2. Feladat:\n",
    "\n",
    "Tekintsünk egy $2$kg tömegű, $2$ méter sugarú gömböt, mely kezdetben $150$ Kelvin hőmérsékletű. Legyen a környezet $100$ Kelvin hőmérsékletű, továbbá $\\gamma = 1/2$, és $C = 200 \\text{ JK/kg}$. Számítsuk ki, hogy miként alakul a test hőmérséklete $300$ másodperc alatt."
   ]
  },
  {
   "cell_type": "markdown",
   "id": "489eb05a-dca1-4da7-b333-07491312b635",
   "metadata": {},
   "source": [
    "a) Használjuk a \n",
    "\n",
    "<table cellpadding=\"3px\" cellspacing=\"0px\">\n",
    "<tbody><tr>\n",
    "<td width=\"20px\"></td>\n",
    "<td style=\"border-right:1px solid;\">0\n",
    "</td></tr>\n",
    "<tr>\n",
    "<td></td>\n",
    "<td style=\"border-right:1px solid;\">1/2</td>\n",
    "<td>1/2\n",
    "</td></tr>\n",
    "<tr>\n",
    "<td></td>\n",
    "<td style=\"border-right:1px solid;\">3/4</td>\n",
    "<td>0</td>\n",
    "<td>3/4\n",
    "</td></tr>\n",
    "<tr>\n",
    "<td></td>\n",
    "<td style=\"border-right:1px solid; border-bottom:1px solid;\">1</td>\n",
    "<td style=\"border-bottom:1px solid;\">2/9</td>\n",
    "<td style=\"border-bottom:1px solid;\">1/3</td>\n",
    "<td style=\"border-bottom:1px solid;\">4/9</td>\n",
    "<td style=\"border-bottom:1px solid;\">\n",
    "</td></tr>\n",
    "<tr>\n",
    "<td></td>\n",
    "<td style=\"border-right:1px solid;\"></td>\n",
    "<td>2/9</td>\n",
    "<td>1/3</td>\n",
    "<td>4/9</td>\n",
    "<td>0\n",
    "</td></tr>\n",
    "<tr>\n",
    "<td></td>\n",
    "<td style=\"border-right:1px solid;\"></td>\n",
    "<td>7/24</td>\n",
    "<td>1/4</td>\n",
    "<td>1/3</td>\n",
    "<td>1/8\n",
    "</td></tr></tbody></table>\n",
    "\n",
    "tablójú adaptív módszert. "
   ]
  },
  {
   "cell_type": "code",
   "execution_count": null,
   "id": "cff43ec5-98e0-4fd5-a067-d1aca07567bb",
   "metadata": {},
   "outputs": [],
   "source": []
  },
  {
   "cell_type": "markdown",
   "id": "d6f56f5c-9dec-46d4-ba32-30955a29656c",
   "metadata": {},
   "source": [
    "\n",
    "\n",
    "\n",
    "b) Mérjük le, hogy a módszer milyen rendű megoldást produkál."
   ]
  },
  {
   "cell_type": "code",
   "execution_count": null,
   "id": "e990f72e-44d9-4463-8ce6-b6d976ac9983",
   "metadata": {},
   "outputs": [],
   "source": []
  },
  {
   "cell_type": "markdown",
   "id": "a0ae8dbd-3d9a-4ab6-9212-915ff63c5d43",
   "metadata": {},
   "source": [
    "---"
   ]
  },
  {
   "cell_type": "markdown",
   "id": "2a9bd9b4-a537-4f1a-849f-cd8c69951f7e",
   "metadata": {},
   "source": [
    "**Egy populációdinamikai modell**\n",
    "\n",
    "Tekintsünk egy zárt környezetet (például egy szigetet), ahol egy ragadozó és egy zsákmány populáció (például rókák és nyulak) él, melyek népességének alakulását szeretnénk modellezni. Ha $x$ az előbbi, $y$ pedig az utóbbi népessége, akkor egy lehetséges konfigurációt modellez az \n",
    "$$\n",
    "\\begin{cases}\n",
    "\\dot x &=  \\phantom{-} a_x\\left(x - xy\\right) \\\\\n",
    "\\dot y &= -a_y\\left(y - xy\\right) \\\\\n",
    "\\end{cases}\n",
    "$$\n",
    "\n",
    "egyenletrendszer, ahol $a_x, a_y > 0$ az egyes fajok növekedési rátáját jellemzi. "
   ]
  },
  {
   "cell_type": "markdown",
   "id": "d9cb9c28-ebad-4c8c-a9a6-0f7b6b91a8d8",
   "metadata": {},
   "source": [
    "\n",
    "### O/3. Feladat:\n",
    "a) Oljduk meg ezt az egyenletet az EE módszerrel, majd a kétlépéses BDF módszerrel. Melyik módszer milyen lépéshosszokkal ad használható megoldást?"
   ]
  },
  {
   "cell_type": "code",
   "execution_count": null,
   "id": "256a5278-54fa-42cb-9799-1c702bcbef21",
   "metadata": {},
   "outputs": [],
   "source": []
  },
  {
   "cell_type": "markdown",
   "id": "371cc526-ea7b-448c-abc9-3c2198df4e67",
   "metadata": {},
   "source": [
    "\n",
    "b) Ábrázoljuk a trajektóriákat (a fázistérben is).\n"
   ]
  },
  {
   "cell_type": "code",
   "execution_count": null,
   "id": "d5bddeb1-e7c4-4f75-9fa8-4393ce328d97",
   "metadata": {},
   "outputs": [],
   "source": []
  },
  {
   "cell_type": "markdown",
   "id": "d154b114-2303-4a64-b6e5-86d139860dea",
   "metadata": {},
   "source": [
    "\n",
    "c) Mérjük le a módszerek rendjét. "
   ]
  },
  {
   "cell_type": "code",
   "execution_count": null,
   "id": "ad33aeb4-374d-441e-adfd-530551e35e72",
   "metadata": {},
   "outputs": [],
   "source": []
  },
  {
   "cell_type": "markdown",
   "id": "35a43540-099b-4543-8929-950c1670fc6b",
   "metadata": {},
   "source": [
    "\n",
    "\n",
    "d) Tekintsük a trajektóriákat különböző $a_x, a_y$ paraméterek és kezdeti feltételek mellett, és keressünk érdemben különböző trajektóriákat produkáló konstansokat. Fogalmazzuk meg, hogy mit tapasztaltunk és miért."
   ]
  },
  {
   "cell_type": "code",
   "execution_count": null,
   "id": "5eee220b-abd0-42ca-b38a-d17413048297",
   "metadata": {},
   "outputs": [],
   "source": []
  },
  {
   "cell_type": "markdown",
   "id": "03ca3e79-6489-4dac-8a53-41941c5e60d0",
   "metadata": {},
   "source": [
    "\n",
    "### O/4. Feladat:\n",
    "a) Oljduk meg ezt az egyenletet az kétlépéses implicit Adams-módszerrel, a megvalósításhoz használjunk először Newton-iterációt, majd a PECE ötletét. A két megközelítés által adott megoldást hasonlítsuk össze."
   ]
  },
  {
   "cell_type": "code",
   "execution_count": null,
   "id": "921d94be-d4b5-47d3-b7a9-4ff0cd07ce99",
   "metadata": {},
   "outputs": [],
   "source": []
  },
  {
   "cell_type": "markdown",
   "id": "f2dd28e3-f9d5-47af-bf42-9cd87ce9f4c7",
   "metadata": {},
   "source": [
    "\n",
    "b) Ábrázoljuk a trajektóriákat (a fázistérben is).\n"
   ]
  },
  {
   "cell_type": "code",
   "execution_count": null,
   "id": "75fe28cb-303e-40c4-a7bc-6e32bbb381c1",
   "metadata": {},
   "outputs": [],
   "source": []
  },
  {
   "cell_type": "markdown",
   "id": "59a0da13-039f-4135-980d-4cae0898f742",
   "metadata": {},
   "source": [
    "\n",
    "c) Mérjük le a tapasztalt rendeket."
   ]
  },
  {
   "cell_type": "code",
   "execution_count": null,
   "id": "98a13288-9861-4b84-938f-73de5d26550c",
   "metadata": {},
   "outputs": [],
   "source": []
  },
  {
   "cell_type": "markdown",
   "id": "4774e9d0-244b-4117-9d8c-b02422d5a78f",
   "metadata": {},
   "source": [
    "\n",
    "\n",
    "d) Tekintsük a trajektóriákat különböző $a_x, a_y$ paraméterek és kezdeti feltételek mellett, és keressünk érdemben különböző trajektóriákat produkáló konstansokat. Fogalmazzuk meg, hogy mit tapasztaltunk és miért."
   ]
  },
  {
   "cell_type": "code",
   "execution_count": null,
   "id": "3ddc939c-5321-4abe-8516-070e8ba10650",
   "metadata": {},
   "outputs": [],
   "source": []
  },
  {
   "cell_type": "markdown",
   "id": "81f008e2-7d1e-4555-8394-e96baa4e25e3",
   "metadata": {},
   "source": [
    "----"
   ]
  },
  {
   "cell_type": "markdown",
   "id": "4454b104-2e53-4f82-bd21-a1e2829fffcd",
   "metadata": {},
   "source": [
    "**Egy baseball-labda trajektóriája**\n",
    "\n",
    "Modellezzük egy elhajított baseball-labda $x$ trajektóriáját, ha a releváns differenciálegyenlet a\n",
    "$$\n",
    "\\ddot x = F(x, \\dot x, \\|\\dot x\\|),\n",
    "$$\n",
    "ahol\n",
    "$$\n",
    "\\begin{cases}\n",
    "F_1(x, v, r) &= -c(r)r v_1 + B\\omega(v_3 \\sin\\phi - v_2 \\cos \\phi) \\\\\n",
    "F_2(x, v, r) &= -c(r)r v_2 + B\\omega v_1 \\cos \\phi \\\\\n",
    "F_3(x, v, r) &= -g - c(r)r v_3 - B\\omega v_1 \\sin \\phi,\n",
    "\\end{cases}\n",
    "$$\n",
    "ahol $B=4.1 \\cdot 10^{-4}$ és\n",
    "$$ c(r) = 0.0039 + \\frac{0.0058}{1+ \\mathrm{e}^{(v - 35)/5}}.$$"
   ]
  },
  {
   "cell_type": "markdown",
   "id": "0dcd87a0-4d9c-4735-8c18-ca46909cf7dd",
   "metadata": {},
   "source": [
    "\n",
    "### O/5. Feladat\n",
    "\n",
    "Legyen $\\phi = 1, \\omega = 1.0471$. Ha a kezdeti pozíció $0$, a kezdeti sebesség pedig $(\\cos \\phi, 0, \\sin \\phi)$, akkor körülbelül mennyi idő alatt ér földet (újra) a labda, azaz mikor lesz a harmadik koordináta $0$? \n",
    "\n",
    "Keressük a kérdésre a választ a kedvenc adaptív, explicit RK módszerünkkel. Ne felejtsük el ábrázolni a labda trajektóriáját."
   ]
  },
  {
   "cell_type": "code",
   "execution_count": null,
   "id": "4c352b26-49c1-4928-a683-3d04bea74792",
   "metadata": {},
   "outputs": [],
   "source": []
  },
  {
   "cell_type": "markdown",
   "id": "2f68a1c8-c70a-4790-8a60-a9731f82d4dd",
   "metadata": {},
   "source": [
    "### O/6. Feladat\n",
    "\n",
    "Legyen $\\phi = 2, \\omega = 1.0471$. Ha a kezdeti pozíció $0$, a kezdeti sebesség pedig $2(\\cos \\phi, 0, \\sin \\phi)$, akkor körülbelül mennyi idő alatt éri el a labda a maximális magasságát (mikor lesz a harmadik koordináta a trajektória mentén a legnagyobb)?\n",
    "\n",
    "Keressük a kérdésre a választ a kedvenc BDF módszerünkkel. Ne felejtsük el ábrázolni a labda trajektóriáját."
   ]
  },
  {
   "cell_type": "code",
   "execution_count": null,
   "id": "c83ac0f5-43e8-4159-86a8-62e76c96e2bb",
   "metadata": {},
   "outputs": [],
   "source": []
  },
  {
   "cell_type": "markdown",
   "id": "2f4a2c66-2c95-4ac2-bbaa-3948b592d985",
   "metadata": {},
   "source": [
    "---"
   ]
  },
  {
   "cell_type": "markdown",
   "id": "9a090e19-998b-4234-a276-7b7f4e13934a",
   "metadata": {},
   "source": [
    "### O/7. Feladat\n",
    "\n",
    "a) Milyen differenciálegyenlet írja le a térben az $x$ tengely körül (körpályán) keringő részecske mozgását?"
   ]
  },
  {
   "cell_type": "code",
   "execution_count": null,
   "id": "79ecbaa9-09ca-4545-8db8-f1f4e6d62e6d",
   "metadata": {},
   "outputs": [],
   "source": []
  },
  {
   "cell_type": "markdown",
   "id": "c91dc9b3-91bd-4f6e-a705-12bff29ed354",
   "metadata": {},
   "source": [
    "b) Oldjuk meg az említett egyenletet az IE módszerrel."
   ]
  },
  {
   "cell_type": "code",
   "execution_count": null,
   "id": "d03ddd31-a86c-47a1-bafa-55b90c7ba287",
   "metadata": {},
   "outputs": [],
   "source": []
  },
  {
   "cell_type": "markdown",
   "id": "380e13e4-2bb2-40b2-b179-7b368e39a08f",
   "metadata": {},
   "source": [
    "c) Javítsunk a módszerünkön úgy, hogy minden numerikus lépést követően vetítsük rá a részecske pozícióját arra a hengerpalástra, amit úgy kapunk, hogy az adott numerikus lépés kezdőpontját megforgatjuk az x-tengely körül, és az így kapott körtvonalat elmozgatjuk az $x$ tengely mentén."
   ]
  },
  {
   "cell_type": "code",
   "execution_count": null,
   "id": "8f8e87c3-5bd6-4520-b40f-babdc87c9ceb",
   "metadata": {},
   "outputs": [],
   "source": []
  },
  {
   "cell_type": "markdown",
   "id": "4f975d92-2843-4b8a-abaf-7eb1c4624c10",
   "metadata": {},
   "source": [
    "d) Alakítsuk át úgy a programunkat, hogy az IE módszerben felmerülő lineáris egyenlet megoldására használjunk gradiens-ereszkedést.\n",
    "\n"
   ]
  },
  {
   "cell_type": "code",
   "execution_count": null,
   "id": "53b06f69-e9d2-4542-9c9d-483544cfd975",
   "metadata": {},
   "outputs": [],
   "source": []
  },
  {
   "cell_type": "markdown",
   "id": "b5290ab7-dc14-4b2d-94f8-050b74ebc7b8",
   "metadata": {},
   "source": [
    "e) Alakítsuk át úgy a programunkat, hogy a projekció helyett a gradiens-ereszkedésnél szereplő veszteségfüggvényt egészítsük ki egy büntetőtag hozzáadásával, melynek értéke legyen $0$ az említett palást mentén, egyébként pedig legyen pozitív és a palásttól távolodva egyre nagyobb. "
   ]
  },
  {
   "cell_type": "code",
   "execution_count": null,
   "id": "526f4f70-9368-4169-a00c-53600e12de74",
   "metadata": {},
   "outputs": [],
   "source": []
  }
 ],
 "metadata": {
  "kernelspec": {
   "display_name": "Julia 1.9.2",
   "language": "julia",
   "name": "julia-1.9"
  },
  "language_info": {
   "file_extension": ".jl",
   "mimetype": "application/julia",
   "name": "julia",
   "version": "1.9.3"
  }
 },
 "nbformat": 4,
 "nbformat_minor": 5
}
