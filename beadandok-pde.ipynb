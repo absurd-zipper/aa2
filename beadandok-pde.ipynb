{
 "cells": [
  {
   "cell_type": "markdown",
   "id": "ad74dd3e-d5e4-4b4d-933d-245737f20d5b",
   "metadata": {},
   "source": [
    "## Konkrét parciális diff.egyenlet (numerikus) megoldására épülő beadandó feladatok"
   ]
  },
  {
   "cell_type": "markdown",
   "id": "40071d4c-8345-4195-a2c7-f99bb6bc8a6a",
   "metadata": {},
   "source": [
    "**Differenciálegyenlet**\n",
    "\n",
    "Tekintsük az\n",
    "$$\n",
    "\\partial_t u = \\partial_{xx} u - a \\partial_{x} u\n",
    "$$\n",
    "\n",
    "parciális differenciálegyenletet, ahol $a \\geq 0$ egy valós szám."
   ]
  },
  {
   "cell_type": "markdown",
   "id": "172cdf98-4d5b-47d6-a4fc-ba158beea620",
   "metadata": {},
   "source": [
    "\n",
    "### P/1. Feladat:\n",
    "\n",
    "a)\n",
    "Mutassuk meg, hogy a\n",
    "$$\n",
    "v(t, x) = \\frac{1}{2\\sqrt {t}} e^{-\\frac12 (\\frac{x-at}{2\\sqrt {t}})^2}\n",
    "$$\n",
    "függvény megoldása ennek az egyenletnek."
   ]
  },
  {
   "cell_type": "code",
   "execution_count": null,
   "id": "e5f47a4b-4691-49f7-9c14-990a6c5dbb62",
   "metadata": {},
   "outputs": [],
   "source": []
  },
  {
   "cell_type": "markdown",
   "id": "3f89036c-af2b-4ff7-9bbc-e6596a89ac88",
   "metadata": {},
   "source": [
    "b) Vegyük a szokásos kezdeti- és peremfeltételeinket:\n",
    "$$\n",
    "\\begin{cases}\n",
    "    \\partial_t u &= \\partial_{xx}u - \\partial_{x} u,  &(0, 1) \\times (0, 1)\\text{-en} \\\\\n",
    "    \\\\\n",
    "    u(0, x)  &= u_0(x), & 0 \\leq x \\leq 1 \\\\\n",
    "    \\\\\n",
    "    u(t, 0) &= 0, &0 < t \\\\\n",
    "    u(t, 1) &= 0. &0 < t    \n",
    "\\end{cases}\n",
    "$$\n",
    "Továbbá legyen például\n",
    "$$\n",
    "u_0(x) = x^2(1-x)^5.\n",
    "$$\n",
    "Az utolsó feladatsor nyomán hasonlítsuk össze az utolsó két feladatsorban szereplő időintegrátorok (EE, IE, implicit kp.szabály) és térbeli diszkretizációs megközelítések (a háromféle $\\nabla_h$) hatását a feladaton. Tehát készítsünk mindenféle összehasonlító ábrát. Van olyan kombináció, ami a legjobbnak mondható ezek közül?"
   ]
  },
  {
   "cell_type": "code",
   "execution_count": null,
   "id": "2e1abc14-0393-4001-9445-d437e5da76a7",
   "metadata": {},
   "outputs": [],
   "source": []
  }
 ],
 "metadata": {
  "kernelspec": {
   "display_name": "Julia 1.9.2",
   "language": "julia",
   "name": "julia-1.9"
  },
  "language_info": {
   "file_extension": ".jl",
   "mimetype": "application/julia",
   "name": "julia",
   "version": "1.9.4"
  }
 },
 "nbformat": 4,
 "nbformat_minor": 5
}
